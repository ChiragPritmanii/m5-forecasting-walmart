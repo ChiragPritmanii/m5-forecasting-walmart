{
 "cells": [
  {
   "cell_type": "markdown",
   "metadata": {
    "id": "UCTLiqbLrLyy"
   },
   "source": [
    "<h1><b>M5 Forecasting: First Cut</b></h1>\n",
    "\n"
   ]
  },
  {
   "cell_type": "markdown",
   "metadata": {
    "id": "1carq3UorLve"
   },
   "source": [
    "# **Contents**\n",
    "\n",
    "<h3> 1. Load and Extract Data </h3> \n",
    "\n",
    "<h3> 2. Reading the Data </h3> \n",
    "\n",
    "<h3> 3. Data Wrangling</h3>  \n",
    "\n",
    "<h3> 4. Define functions to compute weights and metrics</h3> \n",
    "\n",
    "<h3> 5. Simple Models</h3> \n",
    "\n",
    "<h3> 6. Summary</h3> \n",
    "\n",
    "<h3> 7. References</h3> "
   ]
  },
  {
   "cell_type": "code",
   "execution_count": null,
   "metadata": {
    "id": "UZ4Yo6ypiX4f"
   },
   "outputs": [],
   "source": [
    "import pandas as pd\n",
    "from zipfile import ZipFile\n",
    "import numpy as np\n",
    "import seaborn as sns\n",
    "from tqdm import tqdm\n",
    "import random \n",
    "import datetime\n",
    "from sklearn.ensemble import RandomForestRegressor, ExtraTreesRegressor\n",
    "from sklearn.tree import DecisionTreeRegressor"
   ]
  },
  {
   "cell_type": "markdown",
   "metadata": {
    "id": "xJX1XFJU3xMQ"
   },
   "source": [
    "# 1. Load and Extract Data "
   ]
  },
  {
   "cell_type": "markdown",
   "metadata": {
    "id": "uaWM5P2XDmQB"
   },
   "source": [
    "## 1.1 Loading Data from Kaggle"
   ]
  },
  {
   "cell_type": "code",
   "execution_count": null,
   "metadata": {
    "colab": {
     "base_uri": "https://localhost:8080/"
    },
    "id": "X2hD3TaAyWKU",
    "outputId": "fc75d09e-2903-4827-8ae1-ae56631f6a13"
   },
   "outputs": [
    {
     "name": "stdout",
     "output_type": "stream",
     "text": [
      "--2022-10-02 12:57:05--  https://storage.googleapis.com/kaggle-competitions-data/kaggle-v2/18599/1236839/bundle/archive.zip?GoogleAccessId=web-data@kaggle-161607.iam.gserviceaccount.com&Expires=1664974595&Signature=LOGBjPsrRoXOCJPNBYXooVsLidYPTmAYClAvftoysnvphQq%2B39DtWKZCxAQm2ThWzCR7jFjxwtp23lCxb9nhE7s5mckbr6AJRsymVZFBVSSgh1D%2BiDa8JqQs%2BaCHDHP6Ne8aTit50VxfmDwOyr1N5%2BfThjdzBjXGuRAgpawK9Gi8HNkoZI6DnVcMF9grIQN4ETRtXSkouZ%2FsKjy35tODy1gpewEYTpPq62HUFrIK80aik%2FlEqVUGol4KQATmxfGsA71RpirRrYsc8GNiQxHZQUJ9zCMHDdPTTxWJPC4bRNkQpVGmVqdhOiYssr9eqxaFWGQeb5H%2BxUT2zpxkJZ%2B9Jw%3D%3D&response-content-disposition=attachment%3B+filename%3Dm5-forecasting-accuracy.zip\n",
      "Resolving storage.googleapis.com (storage.googleapis.com)... 142.251.2.128, 2607:f8b0:4023:c0d::80\n",
      "Connecting to storage.googleapis.com (storage.googleapis.com)|142.251.2.128|:443... connected.\n",
      "HTTP request sent, awaiting response... 200 OK\n",
      "Length: 48009163 (46M) [application/zip]\n",
      "Saving to: ‘m5-forecasting-accuracy.zip’\n",
      "\n",
      "m5-forecasting-accu 100%[===================>]  45.78M  64.6MB/s    in 0.7s    \n",
      "\n",
      "2022-10-02 12:57:06 (64.6 MB/s) - ‘m5-forecasting-accuracy.zip’ saved [48009163/48009163]\n",
      "\n"
     ]
    }
   ],
   "source": [
    "!wget --header=\"Host: storage.googleapis.com\" --header=\"User-Agent: Mozilla/5.0 (Windows NT 10.0; Win64; x64) AppleWebKit/537.36 (KHTML, like Gecko) Chrome/105.0.0.0 Safari/537.36\" --header=\"Accept: text/html,application/xhtml+xml,application/xml;q=0.9,image/avif,image/webp,image/apng,*/*;q=0.8,application/signed-exchange;v=b3;q=0.9\" --header=\"Accept-Language: en-US,en;q=0.9\" --header=\"Referer: https://www.kaggle.com/\" \"https://storage.googleapis.com/kaggle-competitions-data/kaggle-v2/18599/1236839/bundle/archive.zip?GoogleAccessId=web-data@kaggle-161607.iam.gserviceaccount.com&Expires=1664974595&Signature=LOGBjPsrRoXOCJPNBYXooVsLidYPTmAYClAvftoysnvphQq%2B39DtWKZCxAQm2ThWzCR7jFjxwtp23lCxb9nhE7s5mckbr6AJRsymVZFBVSSgh1D%2BiDa8JqQs%2BaCHDHP6Ne8aTit50VxfmDwOyr1N5%2BfThjdzBjXGuRAgpawK9Gi8HNkoZI6DnVcMF9grIQN4ETRtXSkouZ%2FsKjy35tODy1gpewEYTpPq62HUFrIK80aik%2FlEqVUGol4KQATmxfGsA71RpirRrYsc8GNiQxHZQUJ9zCMHDdPTTxWJPC4bRNkQpVGmVqdhOiYssr9eqxaFWGQeb5H%2BxUT2zpxkJZ%2B9Jw%3D%3D&response-content-disposition=attachment%3B+filename%3Dm5-forecasting-accuracy.zip\" -c -O 'm5-forecasting-accuracy.zip'"
   ]
  },
  {
   "cell_type": "markdown",
   "metadata": {
    "id": "pDcAAba1DvMA"
   },
   "source": [
    "## 1.2 Extracting Data from Zip"
   ]
  },
  {
   "cell_type": "code",
   "execution_count": null,
   "metadata": {
    "id": "YBCGbTUiyWHF"
   },
   "outputs": [],
   "source": [
    "with ZipFile('/content/m5-forecasting-accuracy.zip') as z: \n",
    "    z.extractall()"
   ]
  },
  {
   "cell_type": "markdown",
   "metadata": {
    "id": "XMxZRK7L3-Yq"
   },
   "source": [
    "# 2. Reading the Data"
   ]
  },
  {
   "cell_type": "code",
   "execution_count": null,
   "metadata": {
    "id": "SEvC-AssyWEx"
   },
   "outputs": [],
   "source": [
    "df_sales = pd.read_csv('/content/sales_train_evaluation.csv')\n",
    "df_price = pd.read_csv('/content/sell_prices.csv')\n",
    "df_cal = pd.read_csv('/content/calendar.csv', parse_dates=['date'])"
   ]
  },
  {
   "cell_type": "code",
   "execution_count": null,
   "metadata": {
    "id": "O-VBxWyWs30j"
   },
   "outputs": [],
   "source": [
    "sales = df_sales.copy() "
   ]
  },
  {
   "cell_type": "markdown",
   "metadata": {
    "id": "ZC2d97zm7dW9"
   },
   "source": [
    "# 3. Data Wrangling"
   ]
  },
  {
   "cell_type": "code",
   "execution_count": null,
   "metadata": {
    "id": "gjRipSXJ1q-1"
   },
   "outputs": [],
   "source": [
    "df_cal[\"d_\"]=df_cal[\"d\"].apply(lambda x: int(x.split(\"_\")[1]))\n",
    "df_price[\"id\"] = df_price[\"item_id\"] + \"_\" + df_price[\"store_id\"] + \"_evaluation\""
   ]
  },
  {
   "cell_type": "markdown",
   "metadata": {
    "id": "7ibRTa4dbWkr"
   },
   "source": [
    "# 4. Define function to calculate weights and metrics\n"
   ]
  },
  {
   "cell_type": "markdown",
   "metadata": {
    "id": "AQmvmF4JbYOq"
   },
   "source": [
    "## 4.1 Compute Weights"
   ]
  },
  {
   "cell_type": "code",
   "execution_count": null,
   "metadata": {
    "id": "-vo8QRDd4V3W"
   },
   "outputs": [],
   "source": [
    "level_groupings = {2: [\"state_id\"], 3: [\"store_id\"], 4: [\"cat_id\"], 5: [\"dept_id\"], 6: [\"state_id\", \"cat_id\"], 7: [\"state_id\", \"dept_id\"],\n",
    "                   8: [\"store_id\", \"cat_id\"], 9: [\"store_id\", \"dept_id\"], 10: [\"item_id\"], 11: [\"item_id\", \"state_id\"]}\n",
    "\n",
    "def calculate_weightsL12(sales, cal, price, last28):\n",
    "    ''' Calculate weights for level 12 (Product-Store) series' using the last 28 days sales data '''\n",
    "\n",
    "    #calculating weights for level 12 : 'item_id, store_id' using last 28 days of train data\n",
    "    #this loop is repeated 28 times to get the sales revenue of all ids for each of last 28 days \n",
    "    #flow of execution : day-> week id-> sell price of ids on the day-> sales revenue of ids for the day\n",
    "    for day in tqdm(range(last28[0], last28[1])):\n",
    "        #get the week id corresponding to the day \n",
    "        week_id = int(cal[cal[\"d_\"]==day][\"wm_yr_wk\"]) \n",
    "\n",
    "        #get the week price for each of the items corresponding to the week id   \n",
    "        week_price = price[price[\"wm_yr_wk\"]==week_id]\n",
    "\n",
    "        #merge sales with week price on 'id'\n",
    "        #note: we merge the dataframes using inner join so the id which are present in both dataframes will be retained after merging\n",
    "        sales = sales.merge(week_price[[\"sell_price\", \"id\"]], on=[\"id\"], how='inner')\n",
    "\n",
    "        #create a column which shows the sales revenue for the day\n",
    "        #sales revenue = sell_price * units_sold \n",
    "        sales[\"sales_revenue_d_\" + str(day)] = sales[\"sell_price\"] * sales[\"d_\" + str(day)]\n",
    "\n",
    "        #drop the sell_price column\n",
    "        sales.drop(columns=[\"sell_price\"], inplace=True)\n",
    "\n",
    "    #Sum of sales revenue of each id for last 28 days   1`\n",
    "    sales_revenue_cols = [x for x in sales.columns if x.find(\"sales_revenue\")==0]\n",
    "    sales['sales_revenue_alldays'] = sales[sales_revenue_cols].sum(axis=1)\n",
    "\n",
    "    #Compute weights for each Level 12 Time Series\n",
    "    sales['weight'] = (1/12)*(sales['sales_revenue_alldays']/sales['sales_revenue_alldays'].sum())\n",
    "\n",
    "    #Drop the unnecessary columns \n",
    "    sales.drop(columns = sales_revenue_cols+['sales_revenue_alldays'], inplace=True)\n",
    "\n",
    "    return sales\n",
    "\n",
    "def calculate_weightsALL(sales, levels):\n",
    "    ''' Calculate weights for series' in rest of the aggregation levels '''\n",
    "    #weights for level 1 : 'all'\n",
    "    agg = pd.DataFrame(sales[[x for x in sales.columns if x.find(\"d_\") == 0 or x.find(\"F_\") == 0]].sum()).transpose() \n",
    "    id_cols = [\"item_id\", \"dept_id\", \"cat_id\", \"store_id\", \"state_id\"]\n",
    "    for col in id_cols:\n",
    "        agg[col] = 'all'\n",
    "    agg[\"level\"] = 1\n",
    "    agg[\"weight\"] = 1/12\n",
    "    column_order = agg.columns\n",
    "\n",
    "    #weights for the rest of the levels (levels 2-11)\n",
    "    for level in tqdm(level_groupings):\n",
    "        temp_df = sales.groupby(by=level_groupings[level]).sum().reset_index()\n",
    "        temp_df[\"level\"] = level\n",
    "        \n",
    "        for c in column_order:\n",
    "            if c not in temp_df.columns:\n",
    "                temp_df[c] = 'all'\n",
    "                \n",
    "        agg = agg.append(temp_df[column_order])\n",
    "\n",
    "    return agg"
   ]
  },
  {
   "cell_type": "markdown",
   "metadata": {
    "id": "GVEwEwrRbe--"
   },
   "source": [
    "## 4.2 Compute WRMSSE"
   ]
  },
  {
   "cell_type": "code",
   "execution_count": null,
   "metadata": {
    "id": "grmjH3xBVXIi"
   },
   "outputs": [],
   "source": [
    "def get_day_splits(sales, train_start, train_end, val_start, val_end):\n",
    "    '''Create lists of days/columns to be selected for train, val and forecast when calculating RMSSE'''\n",
    "    train_days =  [x for x in sales.columns if x.find(\"d_\") == 0 and int(x.split(\"_\")[1]) in range(train_start, train_end+1)] \n",
    "    val_days =  [x for x in sales.columns if x.find(\"d_\") == 0 and int(x.split(\"_\")[1]) in range(val_start, val_end+1)]\n",
    "    forecast_days = [x for x in sales.columns if x.find(\"F_\") == 0]\n",
    "    return train_days, val_days, forecast_days\n",
    "\n",
    "def RMSSE(ground_truth, forecast, train, n, h):\n",
    "    ''' Calculates the RMSSE score for all series in the dataframe. '''\n",
    "\n",
    "    num = ((ground_truth - forecast)**2).sum(axis=1)\n",
    "    den = 1/(n-1) * ((train[:, 1:] - train[:, :-1]) ** 2).sum(axis=1)  \n",
    "    rmsse = (1/h * num/den) ** 0.5\n",
    "\n",
    "    return rmsse"
   ]
  },
  {
   "cell_type": "code",
   "execution_count": null,
   "metadata": {
    "id": "sIxEafpHVXLs"
   },
   "outputs": [],
   "source": [
    "def WRMSSE(sales, agg, train_days, val_days, forecast_days, n, h):\n",
    "    ''' Calculates the WRMSSE score for the model prediction '''\n",
    "    \n",
    "    ground_truth_df = np.array(sales[val_days])\n",
    "    forecast_df = np.array(sales[forecast_days])\n",
    "    train_df = np.array(sales[train_days])\n",
    "\n",
    "    ground_truth_agg_df = np.array(agg[val_days])\n",
    "    forecast_agg_df = np.array(agg[forecast_days])\n",
    "    train_agg_df = np.array(agg[train_days])\n",
    "            \n",
    "    sales[\"rmsse\"] = RMSSE(ground_truth_df, forecast_df, train_df, n, h)\n",
    "    agg[\"rmsse\"] = RMSSE(ground_truth_agg_df, forecast_agg_df, train_agg_df, n, h)\n",
    "\n",
    "    sales[\"wrmsse\"] = sales[\"weight\"] * sales[\"rmsse\"]\n",
    "    agg[\"wrmsse\"] = agg[\"weight\"] * agg[\"rmsse\"]\n",
    "\n",
    "    wrmsse = sales[\"wrmsse\"].sum() + agg[\"wrmsse\"].sum()\n",
    "    \n",
    "    return wrmsse"
   ]
  },
  {
   "cell_type": "code",
   "execution_count": null,
   "metadata": {
    "id": "Pq4p7vBqdZ6B"
   },
   "outputs": [],
   "source": [
    "#create list of encoded columns \n",
    "encoded_cols = pd.get_dummies(df_sales[[\"dept_id\", \"cat_id\", \"store_id\", \"state_id\"]]).columns.tolist()"
   ]
  },
  {
   "cell_type": "code",
   "execution_count": null,
   "metadata": {
    "colab": {
     "base_uri": "https://localhost:8080/",
     "height": 174
    },
    "id": "5gZ2ilKk7lng",
    "outputId": "9811455d-a91a-442f-d8f2-bb9b0880c016"
   },
   "outputs": [
    {
     "data": {
      "text/html": [
       "\n",
       "  <div id=\"df-7bc766fe-9e28-4926-89ee-e4363271faaf\">\n",
       "    <div class=\"colab-df-container\">\n",
       "      <div>\n",
       "<style scoped>\n",
       "    .dataframe tbody tr th:only-of-type {\n",
       "        vertical-align: middle;\n",
       "    }\n",
       "\n",
       "    .dataframe tbody tr th {\n",
       "        vertical-align: top;\n",
       "    }\n",
       "\n",
       "    .dataframe thead th {\n",
       "        text-align: right;\n",
       "    }\n",
       "</style>\n",
       "<table border=\"1\" class=\"dataframe\">\n",
       "  <thead>\n",
       "    <tr style=\"text-align: right;\">\n",
       "      <th></th>\n",
       "      <th>id</th>\n",
       "      <th>item_id</th>\n",
       "      <th>dept_id</th>\n",
       "      <th>cat_id</th>\n",
       "      <th>store_id</th>\n",
       "      <th>state_id</th>\n",
       "      <th>d_1</th>\n",
       "      <th>d_2</th>\n",
       "      <th>d_3</th>\n",
       "      <th>d_4</th>\n",
       "      <th>...</th>\n",
       "      <th>store_id_CA_4</th>\n",
       "      <th>store_id_TX_1</th>\n",
       "      <th>store_id_TX_2</th>\n",
       "      <th>store_id_TX_3</th>\n",
       "      <th>store_id_WI_1</th>\n",
       "      <th>store_id_WI_2</th>\n",
       "      <th>store_id_WI_3</th>\n",
       "      <th>state_id_CA</th>\n",
       "      <th>state_id_TX</th>\n",
       "      <th>state_id_WI</th>\n",
       "    </tr>\n",
       "  </thead>\n",
       "  <tbody>\n",
       "    <tr>\n",
       "      <th>0</th>\n",
       "      <td>HOBBIES_1_001_CA_1_evaluation</td>\n",
       "      <td>HOBBIES_1_001</td>\n",
       "      <td>HOBBIES_1</td>\n",
       "      <td>HOBBIES</td>\n",
       "      <td>CA_1</td>\n",
       "      <td>CA</td>\n",
       "      <td>0</td>\n",
       "      <td>0</td>\n",
       "      <td>0</td>\n",
       "      <td>0</td>\n",
       "      <td>...</td>\n",
       "      <td>0</td>\n",
       "      <td>0</td>\n",
       "      <td>0</td>\n",
       "      <td>0</td>\n",
       "      <td>0</td>\n",
       "      <td>0</td>\n",
       "      <td>0</td>\n",
       "      <td>1</td>\n",
       "      <td>0</td>\n",
       "      <td>0</td>\n",
       "    </tr>\n",
       "  </tbody>\n",
       "</table>\n",
       "<p>1 rows × 1970 columns</p>\n",
       "</div>\n",
       "      <button class=\"colab-df-convert\" onclick=\"convertToInteractive('df-7bc766fe-9e28-4926-89ee-e4363271faaf')\"\n",
       "              title=\"Convert this dataframe to an interactive table.\"\n",
       "              style=\"display:none;\">\n",
       "        \n",
       "  <svg xmlns=\"http://www.w3.org/2000/svg\" height=\"24px\"viewBox=\"0 0 24 24\"\n",
       "       width=\"24px\">\n",
       "    <path d=\"M0 0h24v24H0V0z\" fill=\"none\"/>\n",
       "    <path d=\"M18.56 5.44l.94 2.06.94-2.06 2.06-.94-2.06-.94-.94-2.06-.94 2.06-2.06.94zm-11 1L8.5 8.5l.94-2.06 2.06-.94-2.06-.94L8.5 2.5l-.94 2.06-2.06.94zm10 10l.94 2.06.94-2.06 2.06-.94-2.06-.94-.94-2.06-.94 2.06-2.06.94z\"/><path d=\"M17.41 7.96l-1.37-1.37c-.4-.4-.92-.59-1.43-.59-.52 0-1.04.2-1.43.59L10.3 9.45l-7.72 7.72c-.78.78-.78 2.05 0 2.83L4 21.41c.39.39.9.59 1.41.59.51 0 1.02-.2 1.41-.59l7.78-7.78 2.81-2.81c.8-.78.8-2.07 0-2.86zM5.41 20L4 18.59l7.72-7.72 1.47 1.35L5.41 20z\"/>\n",
       "  </svg>\n",
       "      </button>\n",
       "      \n",
       "  <style>\n",
       "    .colab-df-container {\n",
       "      display:flex;\n",
       "      flex-wrap:wrap;\n",
       "      gap: 12px;\n",
       "    }\n",
       "\n",
       "    .colab-df-convert {\n",
       "      background-color: #E8F0FE;\n",
       "      border: none;\n",
       "      border-radius: 50%;\n",
       "      cursor: pointer;\n",
       "      display: none;\n",
       "      fill: #1967D2;\n",
       "      height: 32px;\n",
       "      padding: 0 0 0 0;\n",
       "      width: 32px;\n",
       "    }\n",
       "\n",
       "    .colab-df-convert:hover {\n",
       "      background-color: #E2EBFA;\n",
       "      box-shadow: 0px 1px 2px rgba(60, 64, 67, 0.3), 0px 1px 3px 1px rgba(60, 64, 67, 0.15);\n",
       "      fill: #174EA6;\n",
       "    }\n",
       "\n",
       "    [theme=dark] .colab-df-convert {\n",
       "      background-color: #3B4455;\n",
       "      fill: #D2E3FC;\n",
       "    }\n",
       "\n",
       "    [theme=dark] .colab-df-convert:hover {\n",
       "      background-color: #434B5C;\n",
       "      box-shadow: 0px 1px 3px 1px rgba(0, 0, 0, 0.15);\n",
       "      filter: drop-shadow(0px 1px 2px rgba(0, 0, 0, 0.3));\n",
       "      fill: #FFFFFF;\n",
       "    }\n",
       "  </style>\n",
       "\n",
       "      <script>\n",
       "        const buttonEl =\n",
       "          document.querySelector('#df-7bc766fe-9e28-4926-89ee-e4363271faaf button.colab-df-convert');\n",
       "        buttonEl.style.display =\n",
       "          google.colab.kernel.accessAllowed ? 'block' : 'none';\n",
       "\n",
       "        async function convertToInteractive(key) {\n",
       "          const element = document.querySelector('#df-7bc766fe-9e28-4926-89ee-e4363271faaf');\n",
       "          const dataTable =\n",
       "            await google.colab.kernel.invokeFunction('convertToInteractive',\n",
       "                                                     [key], {});\n",
       "          if (!dataTable) return;\n",
       "\n",
       "          const docLinkHtml = 'Like what you see? Visit the ' +\n",
       "            '<a target=\"_blank\" href=https://colab.research.google.com/notebooks/data_table.ipynb>data table notebook</a>'\n",
       "            + ' to learn more about interactive tables.';\n",
       "          element.innerHTML = '';\n",
       "          dataTable['output_type'] = 'display_data';\n",
       "          await google.colab.output.renderOutput(dataTable, element);\n",
       "          const docLink = document.createElement('div');\n",
       "          docLink.innerHTML = docLinkHtml;\n",
       "          element.appendChild(docLink);\n",
       "        }\n",
       "      </script>\n",
       "    </div>\n",
       "  </div>\n",
       "  "
      ],
      "text/plain": [
       "                              id        item_id    dept_id   cat_id store_id  \\\n",
       "0  HOBBIES_1_001_CA_1_evaluation  HOBBIES_1_001  HOBBIES_1  HOBBIES     CA_1   \n",
       "\n",
       "  state_id  d_1  d_2  d_3  d_4  ...  store_id_CA_4  store_id_TX_1  \\\n",
       "0       CA    0    0    0    0  ...              0              0   \n",
       "\n",
       "   store_id_TX_2  store_id_TX_3  store_id_WI_1  store_id_WI_2  store_id_WI_3  \\\n",
       "0              0              0              0              0              0   \n",
       "\n",
       "   state_id_CA  state_id_TX  state_id_WI  \n",
       "0            1            0            0  \n",
       "\n",
       "[1 rows x 1970 columns]"
      ]
     },
     "execution_count": 12,
     "metadata": {},
     "output_type": "execute_result"
    }
   ],
   "source": [
    "#perform categorical encoding on some columns using pandas and join the resulting dataframe with original \n",
    "df_sales = df_sales[[\"id\", \"item_id\", \"dept_id\", \"cat_id\", \"store_id\", \"state_id\"]].join(pd.get_dummies(df_sales.drop(columns=[\"id\", \"item_id\"])))\n",
    "df_sales.head(1)"
   ]
  },
  {
   "cell_type": "markdown",
   "metadata": {
    "id": "IzlulKZzcY0V"
   },
   "source": [
    "# 5. Simple Models\n",
    "\n",
    "1. ExtraTrees Regressor\n",
    "2. DecisionTrees Regressor\n",
    "3. RandomForest Regressor"
   ]
  },
  {
   "cell_type": "markdown",
   "metadata": {
    "id": "7Pzd1FtifgKB"
   },
   "source": [
    "- **Function to evaluate a model instance**"
   ]
  },
  {
   "cell_type": "code",
   "execution_count": null,
   "metadata": {
    "id": "o4YlZAIc_kyi"
   },
   "outputs": [],
   "source": [
    "def evaluate_model_instance(model, train_start, train_end, df, df_c, df_p, levels, return_dfs=False):\n",
    "    ''' Computes the WRMSSE score of the model instance to understand if the model needs to be tuned further or not. '''\n",
    "    \n",
    "    #e.g. train_start = 1200, train_end = 1857 and we are training a regressor which returns a multi-labelled output \n",
    "    #X_train contains data from days/columns (1200, 1857), y_train contains data from next 28 days/columns (1858, 1885)\n",
    "    #X_val contains data from days/columns (1228, 1885), y_pred contains data from next 28 days/columns (1886, 1913)\n",
    "    #we calculate the WRMSSE score from the prediction on the validation data\n",
    "    #based on the score returned from this function we tune the hyperparameters of the model\n",
    "\n",
    "    #select days/columns to create X_train and y_train \n",
    "    trainDays_x = [c for c in df.columns if c.find(\"d_\")==0 and int(c.split(\"_\")[1]) in range(train_start, train_end + 1)]\n",
    "    trainDays_y = [c for c in df.columns if c.find(\"d_\")==0 and int(c.split(\"_\")[1]) in range(train_end + 1, train_end + 28 + 1)] \n",
    "    X_train = df[trainDays_x + encoded_cols].values\n",
    "    y_train = df[trainDays_y].values\n",
    "    \n",
    "    #fit the model on train data\n",
    "    model.fit(X_train, y_train)\n",
    "    \n",
    "    #select days/columns to create X_val\n",
    "    valDays_x = [c for c in df.columns if c.find(\"d_\")==0 and int(c.split(\"_\")[1]) in range(train_start + 28, train_end + 28 + 1)] \n",
    "    X_val = df[valDays_x + encoded_cols].values\n",
    "\n",
    "    #input the validation set to the model and generate predictions dataframe \n",
    "    #rename the columns of the predications dataframe to\n",
    "    y_pred = pd.DataFrame(model.predict(X_val))\n",
    "    y_pred.columns = [f\"F_{d}\" for d in range(train_end + 28 + 1, train_end + 28 + 28 + 1)] \n",
    "\n",
    "    #concatenate the predicted data with original dataframe \n",
    "    df = pd.concat([df, y_pred], axis=1)\n",
    "\n",
    "    #calculate weights for all levels\n",
    "    print('calculating weights')\n",
    "    df = calculate_weightsL12(df, df_c, df_p, (train_end+1, train_end + 28 + 1))\n",
    "    agg_df = calculate_weightsALL(df, levels)\n",
    "\n",
    "    #compute WRMSSE score \n",
    "    train_days, val_days, forecast_days = get_day_splits(df, train_start, train_end + 28, train_end + 28 + 1, train_end + 28 + 28)\n",
    "    wrmsse = WRMSSE(df, agg_df, train_days, val_days, forecast_days,  n = ((train_end + 28 + 1) - train_start), h = 28)\n",
    "\n",
    "    #if True below condition returns the concatenated dataframe, predictions dataframe and WRMSSE score \n",
    "    #otherwise only WRMSSE score is returned\n",
    "    if return_dfs:\n",
    "        return df, y_pred, wrmsse\n",
    "    \n",
    "    return wrmsse"
   ]
  },
  {
   "cell_type": "markdown",
   "metadata": {
    "id": "Hdgyfwriwomy"
   },
   "source": [
    "## 5.1 ExtraTrees Regressor"
   ]
  },
  {
   "cell_type": "code",
   "execution_count": null,
   "metadata": {
    "colab": {
     "base_uri": "https://localhost:8080/"
    },
    "id": "qX8GmAtkM7oL",
    "outputId": "bbeae50e-956f-4736-a974-f21defcf72e1"
   },
   "outputs": [
    {
     "name": "stderr",
     "output_type": "stream",
     "text": [
      "\r",
      "  0%|          | 0/3 [00:00<?, ?it/s]"
     ]
    },
    {
     "name": "stdout",
     "output_type": "stream",
     "text": [
      "calculating weights\n"
     ]
    },
    {
     "name": "stderr",
     "output_type": "stream",
     "text": [
      "\n",
      "  0%|          | 0/28 [00:00<?, ?it/s]\u001b[A\n",
      "  4%|▎         | 1/28 [00:00<00:23,  1.17it/s]\u001b[A\n",
      "  7%|▋         | 2/28 [00:01<00:13,  1.96it/s]\u001b[A\n",
      " 11%|█         | 3/28 [00:01<00:09,  2.52it/s]\u001b[A\n",
      " 14%|█▍        | 4/28 [00:01<00:08,  2.89it/s]\u001b[A\n",
      " 18%|█▊        | 5/28 [00:01<00:07,  3.11it/s]\u001b[A\n",
      " 21%|██▏       | 6/28 [00:02<00:06,  3.27it/s]\u001b[A\n",
      " 25%|██▌       | 7/28 [00:02<00:06,  3.40it/s]\u001b[A\n",
      " 29%|██▊       | 8/28 [00:02<00:05,  3.49it/s]\u001b[A\n",
      " 32%|███▏      | 9/28 [00:03<00:05,  3.55it/s]\u001b[A\n",
      " 36%|███▌      | 10/28 [00:03<00:04,  3.65it/s]\u001b[A\n",
      " 39%|███▉      | 11/28 [00:03<00:04,  3.68it/s]\u001b[A\n",
      " 43%|████▎     | 12/28 [00:03<00:04,  3.69it/s]\u001b[A\n",
      " 46%|████▋     | 13/28 [00:04<00:04,  3.72it/s]\u001b[A\n",
      " 50%|█████     | 14/28 [00:04<00:03,  3.75it/s]\u001b[A\n",
      " 54%|█████▎    | 15/28 [00:04<00:03,  3.79it/s]\u001b[A\n",
      " 57%|█████▋    | 16/28 [00:04<00:03,  3.74it/s]\u001b[A\n",
      " 61%|██████    | 17/28 [00:05<00:02,  3.74it/s]\u001b[A\n",
      " 64%|██████▍   | 18/28 [00:05<00:02,  3.79it/s]\u001b[A\n",
      " 68%|██████▊   | 19/28 [00:05<00:02,  3.80it/s]\u001b[A\n",
      " 71%|███████▏  | 20/28 [00:05<00:02,  3.74it/s]\u001b[A\n",
      " 75%|███████▌  | 21/28 [00:06<00:01,  3.72it/s]\u001b[A\n",
      " 79%|███████▊  | 22/28 [00:06<00:01,  3.74it/s]\u001b[A\n",
      " 82%|████████▏ | 23/28 [00:06<00:01,  3.74it/s]\u001b[A\n",
      " 86%|████████▌ | 24/28 [00:07<00:01,  3.69it/s]\u001b[A\n",
      " 89%|████████▉ | 25/28 [00:07<00:00,  3.70it/s]\u001b[A\n",
      " 93%|█████████▎| 26/28 [00:07<00:00,  3.71it/s]\u001b[A\n",
      " 96%|█████████▋| 27/28 [00:07<00:00,  3.70it/s]\u001b[A\n",
      "100%|██████████| 28/28 [00:08<00:00,  3.45it/s]\n",
      "\n",
      "  0%|          | 0/10 [00:00<?, ?it/s]\u001b[A\n",
      " 10%|█         | 1/10 [00:00<00:05,  1.63it/s]\u001b[A\n",
      " 20%|██        | 2/10 [00:01<00:04,  1.67it/s]\u001b[A\n",
      " 30%|███       | 3/10 [00:01<00:04,  1.67it/s]\u001b[A\n",
      " 40%|████      | 4/10 [00:02<00:03,  1.68it/s]\u001b[A\n",
      " 50%|█████     | 5/10 [00:03<00:03,  1.63it/s]\u001b[A\n",
      " 60%|██████    | 6/10 [00:04<00:03,  1.24it/s]\u001b[A\n",
      " 70%|███████   | 7/10 [00:05<00:02,  1.14it/s]\u001b[A\n",
      " 80%|████████  | 8/10 [00:05<00:01,  1.26it/s]\u001b[A\n",
      " 90%|█████████ | 9/10 [00:06<00:00,  1.15it/s]\u001b[A\n",
      "100%|██████████| 10/10 [00:08<00:00,  1.20it/s]\n",
      "/usr/local/lib/python3.7/dist-packages/ipykernel_launcher.py:13: RuntimeWarning: divide by zero encountered in true_divide\n",
      "  del sys.path[0]\n",
      " 33%|███▎      | 1/3 [01:47<03:34, 107.33s/it]"
     ]
    },
    {
     "name": "stdout",
     "output_type": "stream",
     "text": [
      "calculating weights\n"
     ]
    },
    {
     "name": "stderr",
     "output_type": "stream",
     "text": [
      "\n",
      "  0%|          | 0/28 [00:00<?, ?it/s]\u001b[A\n",
      "  4%|▎         | 1/28 [00:00<00:06,  3.91it/s]\u001b[A\n",
      "  7%|▋         | 2/28 [00:00<00:06,  3.74it/s]\u001b[A\n",
      " 11%|█         | 3/28 [00:00<00:06,  3.76it/s]\u001b[A\n",
      " 14%|█▍        | 4/28 [00:01<00:06,  3.74it/s]\u001b[A\n",
      " 18%|█▊        | 5/28 [00:01<00:06,  3.79it/s]\u001b[A\n",
      " 21%|██▏       | 6/28 [00:01<00:05,  3.80it/s]\u001b[A\n",
      " 25%|██▌       | 7/28 [00:01<00:05,  3.83it/s]\u001b[A\n",
      " 29%|██▊       | 8/28 [00:02<00:05,  3.75it/s]\u001b[A\n",
      " 32%|███▏      | 9/28 [00:02<00:05,  3.77it/s]\u001b[A\n",
      " 36%|███▌      | 10/28 [00:02<00:04,  3.76it/s]\u001b[A\n",
      " 39%|███▉      | 11/28 [00:02<00:04,  3.73it/s]\u001b[A\n",
      " 43%|████▎     | 12/28 [00:03<00:04,  3.73it/s]\u001b[A\n",
      " 46%|████▋     | 13/28 [00:03<00:04,  3.73it/s]\u001b[A\n",
      " 50%|█████     | 14/28 [00:03<00:03,  3.72it/s]\u001b[A\n",
      " 54%|█████▎    | 15/28 [00:03<00:03,  3.74it/s]\u001b[A\n",
      " 57%|█████▋    | 16/28 [00:04<00:03,  3.70it/s]\u001b[A\n",
      " 61%|██████    | 17/28 [00:04<00:02,  3.70it/s]\u001b[A\n",
      " 64%|██████▍   | 18/28 [00:04<00:02,  3.74it/s]\u001b[A\n",
      " 68%|██████▊   | 19/28 [00:05<00:02,  3.72it/s]\u001b[A\n",
      " 71%|███████▏  | 20/28 [00:05<00:02,  3.72it/s]\u001b[A\n",
      " 75%|███████▌  | 21/28 [00:05<00:01,  3.71it/s]\u001b[A\n",
      " 79%|███████▊  | 22/28 [00:05<00:01,  3.71it/s]\u001b[A\n",
      " 82%|████████▏ | 23/28 [00:06<00:01,  3.69it/s]\u001b[A\n",
      " 86%|████████▌ | 24/28 [00:06<00:01,  3.70it/s]\u001b[A\n",
      " 89%|████████▉ | 25/28 [00:06<00:00,  3.71it/s]\u001b[A\n",
      " 93%|█████████▎| 26/28 [00:06<00:00,  3.71it/s]\u001b[A\n",
      " 96%|█████████▋| 27/28 [00:07<00:00,  3.67it/s]\u001b[A\n",
      "100%|██████████| 28/28 [00:07<00:00,  3.72it/s]\n",
      "\n",
      "  0%|          | 0/10 [00:00<?, ?it/s]\u001b[A\n",
      " 10%|█         | 1/10 [00:00<00:05,  1.68it/s]\u001b[A\n",
      " 20%|██        | 2/10 [00:01<00:04,  1.69it/s]\u001b[A\n",
      " 30%|███       | 3/10 [00:01<00:04,  1.68it/s]\u001b[A\n",
      " 40%|████      | 4/10 [00:02<00:03,  1.67it/s]\u001b[A\n",
      " 50%|█████     | 5/10 [00:03<00:03,  1.66it/s]\u001b[A\n",
      " 60%|██████    | 6/10 [00:03<00:02,  1.66it/s]\u001b[A\n",
      " 70%|███████   | 7/10 [00:04<00:01,  1.67it/s]\u001b[A\n",
      " 80%|████████  | 8/10 [00:04<00:01,  1.67it/s]\u001b[A\n",
      " 90%|█████████ | 9/10 [00:05<00:00,  1.40it/s]\u001b[A\n",
      "100%|██████████| 10/10 [00:07<00:00,  1.40it/s]\n",
      "/usr/local/lib/python3.7/dist-packages/ipykernel_launcher.py:13: RuntimeWarning: divide by zero encountered in true_divide\n",
      "  del sys.path[0]\n",
      " 67%|██████▋   | 2/3 [04:30<02:20, 140.24s/it]"
     ]
    },
    {
     "name": "stdout",
     "output_type": "stream",
     "text": [
      "calculating weights\n"
     ]
    },
    {
     "name": "stderr",
     "output_type": "stream",
     "text": [
      "\n",
      "  0%|          | 0/28 [00:00<?, ?it/s]\u001b[A\n",
      "  4%|▎         | 1/28 [00:00<00:06,  3.87it/s]\u001b[A\n",
      "  7%|▋         | 2/28 [00:00<00:06,  3.85it/s]\u001b[A\n",
      " 11%|█         | 3/28 [00:00<00:06,  3.89it/s]\u001b[A\n",
      " 14%|█▍        | 4/28 [00:01<00:06,  3.87it/s]\u001b[A\n",
      " 18%|█▊        | 5/28 [00:01<00:06,  3.81it/s]\u001b[A\n",
      " 21%|██▏       | 6/28 [00:01<00:05,  3.78it/s]\u001b[A\n",
      " 25%|██▌       | 7/28 [00:01<00:05,  3.80it/s]\u001b[A\n",
      " 29%|██▊       | 8/28 [00:02<00:05,  3.82it/s]\u001b[A\n",
      " 32%|███▏      | 9/28 [00:02<00:05,  3.78it/s]\u001b[A\n",
      " 36%|███▌      | 10/28 [00:02<00:04,  3.79it/s]\u001b[A\n",
      " 39%|███▉      | 11/28 [00:02<00:04,  3.81it/s]\u001b[A\n",
      " 43%|████▎     | 12/28 [00:03<00:04,  3.81it/s]\u001b[A\n",
      " 46%|████▋     | 13/28 [00:03<00:03,  3.78it/s]\u001b[A\n",
      " 50%|█████     | 14/28 [00:03<00:03,  3.77it/s]\u001b[A\n",
      " 54%|█████▎    | 15/28 [00:03<00:03,  3.78it/s]\u001b[A\n",
      " 57%|█████▋    | 16/28 [00:04<00:03,  3.76it/s]\u001b[A\n",
      " 61%|██████    | 17/28 [00:04<00:02,  3.75it/s]\u001b[A\n",
      " 64%|██████▍   | 18/28 [00:04<00:02,  3.74it/s]\u001b[A\n",
      " 68%|██████▊   | 19/28 [00:05<00:02,  3.75it/s]\u001b[A\n",
      " 71%|███████▏  | 20/28 [00:05<00:02,  3.72it/s]\u001b[A\n",
      " 75%|███████▌  | 21/28 [00:05<00:01,  3.72it/s]\u001b[A\n",
      " 79%|███████▊  | 22/28 [00:05<00:01,  3.75it/s]\u001b[A\n",
      " 82%|████████▏ | 23/28 [00:06<00:01,  3.75it/s]\u001b[A\n",
      " 86%|████████▌ | 24/28 [00:06<00:01,  3.71it/s]\u001b[A\n",
      " 89%|████████▉ | 25/28 [00:06<00:00,  3.68it/s]\u001b[A\n",
      " 93%|█████████▎| 26/28 [00:06<00:00,  3.67it/s]\u001b[A\n",
      " 96%|█████████▋| 27/28 [00:07<00:00,  3.61it/s]\u001b[A\n",
      "100%|██████████| 28/28 [00:07<00:00,  3.74it/s]\n",
      "\n",
      "  0%|          | 0/10 [00:00<?, ?it/s]\u001b[A\n",
      " 10%|█         | 1/10 [00:00<00:05,  1.67it/s]\u001b[A\n",
      " 20%|██        | 2/10 [00:01<00:04,  1.68it/s]\u001b[A\n",
      " 30%|███       | 3/10 [00:01<00:04,  1.68it/s]\u001b[A\n",
      " 40%|████      | 4/10 [00:02<00:03,  1.69it/s]\u001b[A\n",
      " 50%|█████     | 5/10 [00:02<00:02,  1.68it/s]\u001b[A\n",
      " 60%|██████    | 6/10 [00:03<00:02,  1.67it/s]\u001b[A\n",
      " 70%|███████   | 7/10 [00:04<00:01,  1.67it/s]\u001b[A\n",
      " 80%|████████  | 8/10 [00:04<00:01,  1.66it/s]\u001b[A\n",
      " 90%|█████████ | 9/10 [00:05<00:00,  1.43it/s]\u001b[A\n",
      "100%|██████████| 10/10 [00:07<00:00,  1.39it/s]\n",
      "/usr/local/lib/python3.7/dist-packages/ipykernel_launcher.py:13: RuntimeWarning: divide by zero encountered in true_divide\n",
      "  del sys.path[0]\n",
      "100%|██████████| 3/3 [05:58<00:00, 119.39s/it]\n"
     ]
    }
   ],
   "source": [
    "train_start = 1200\n",
    "train_end = 1857\n",
    "\n",
    "n_est_list = []\n",
    "max_depth_list = []\n",
    "wrmsse_scores = []\n",
    "\n",
    "for _ in tqdm(range(3)):\n",
    "    rand_n_est = random.randint(20, 50)\n",
    "    rand_max_depth = random.randint(10, 30)\n",
    "\n",
    "    regressor = ExtraTreesRegressor(n_estimators=rand_n_est, max_depth=rand_max_depth, random_state=42)\n",
    "\n",
    "    wrmsse = evaluate_model_instance(regressor, train_start, train_end, df_sales, df_cal, df_price, level_groupings)\n",
    "    \n",
    "    n_est_list.append(rand_n_est)\n",
    "    max_depth_list.append(rand_max_depth)\n",
    "    wrmsse_scores.append(wrmsse)"
   ]
  },
  {
   "cell_type": "code",
   "execution_count": null,
   "metadata": {
    "colab": {
     "base_uri": "https://localhost:8080/"
    },
    "id": "RCX55p3amHrV",
    "outputId": "841e6dca-2d7e-443f-f351-f37f5b1ad54e"
   },
   "outputs": [
    {
     "name": "stdout",
     "output_type": "stream",
     "text": [
      "Lowest WRMSSE= 0.7018430102743918\n",
      "Lowest WRMSSE achieved on max_depth= 28\n",
      "Lowest WRMSSE achieved on n_estimators= 26\n"
     ]
    }
   ],
   "source": [
    "best_n_est = n_est_list[np.argmin(wrmsse_scores)]\n",
    "best_max_depth = max_depth_list[np.argmin(wrmsse_scores)]\n",
    "lowest_wrmsse = wrmsse_scores[np.argmin(wrmsse_scores)]\n",
    "print('Lowest WRMSSE=', lowest_wrmsse)\n",
    "print('Lowest WRMSSE achieved on max_depth=',best_max_depth)\n",
    "print('Lowest WRMSSE achieved on n_estimators=',best_n_est)"
   ]
  },
  {
   "cell_type": "code",
   "execution_count": null,
   "metadata": {
    "colab": {
     "base_uri": "https://localhost:8080/"
    },
    "id": "-7IZeCbAjDhR",
    "outputId": "44aff6de-8032-4f5f-84b6-04287e41d701"
   },
   "outputs": [
    {
     "name": "stdout",
     "output_type": "stream",
     "text": [
      "calculating weights\n"
     ]
    },
    {
     "name": "stderr",
     "output_type": "stream",
     "text": [
      "100%|██████████| 28/28 [00:07<00:00,  3.78it/s]\n",
      "100%|██████████| 10/10 [00:07<00:00,  1.35it/s]\n"
     ]
    },
    {
     "name": "stdout",
     "output_type": "stream",
     "text": [
      "WRMSSE Score (ExtraTrees): 0.78616539276217\n"
     ]
    },
    {
     "name": "stderr",
     "output_type": "stream",
     "text": [
      "/usr/local/lib/python3.7/dist-packages/ipykernel_launcher.py:13: RuntimeWarning: divide by zero encountered in true_divide\n",
      "  del sys.path[0]\n"
     ]
    }
   ],
   "source": [
    "train_start = 1200\n",
    "train_end = 1885\n",
    "\n",
    "best_ETregressor = ExtraTreesRegressor(n_estimators=best_n_est, max_depth=best_max_depth)\n",
    "concat_ETdf, preds_ETdf, wrmsse_ET = evaluate_model_instance(regressor, train_start, train_end, df_sales, df_cal, df_price, level_groupings, return_dfs=True)\n",
    "\n",
    "print(\"WRMSSE Score (ExtraTrees):\", wrmsse_ET)"
   ]
  },
  {
   "cell_type": "markdown",
   "metadata": {
    "id": "61utCggywsTV"
   },
   "source": [
    "## 5.2 DecisionTrees Regressor"
   ]
  },
  {
   "cell_type": "code",
   "execution_count": null,
   "metadata": {
    "colab": {
     "base_uri": "https://localhost:8080/"
    },
    "id": "vJyL9-0qbF1r",
    "outputId": "40ce86cb-b0a8-4244-d920-4411d059357d"
   },
   "outputs": [
    {
     "name": "stderr",
     "output_type": "stream",
     "text": [
      "\r",
      "  0%|          | 0/3 [00:00<?, ?it/s]"
     ]
    },
    {
     "name": "stdout",
     "output_type": "stream",
     "text": [
      "calculating weights\n"
     ]
    },
    {
     "name": "stderr",
     "output_type": "stream",
     "text": [
      "\n",
      "  0%|          | 0/28 [00:00<?, ?it/s]\u001b[A\n",
      "  4%|▎         | 1/28 [00:00<00:07,  3.62it/s]\u001b[A\n",
      "  7%|▋         | 2/28 [00:00<00:07,  3.68it/s]\u001b[A\n",
      " 11%|█         | 3/28 [00:00<00:06,  3.64it/s]\u001b[A\n",
      " 14%|█▍        | 4/28 [00:01<00:06,  3.66it/s]\u001b[A\n",
      " 18%|█▊        | 5/28 [00:01<00:06,  3.67it/s]\u001b[A\n",
      " 21%|██▏       | 6/28 [00:01<00:05,  3.69it/s]\u001b[A\n",
      " 25%|██▌       | 7/28 [00:01<00:05,  3.65it/s]\u001b[A\n",
      " 29%|██▊       | 8/28 [00:02<00:05,  3.60it/s]\u001b[A\n",
      " 32%|███▏      | 9/28 [00:02<00:05,  3.64it/s]\u001b[A\n",
      " 36%|███▌      | 10/28 [00:02<00:04,  3.63it/s]\u001b[A\n",
      " 39%|███▉      | 11/28 [00:03<00:04,  3.65it/s]\u001b[A\n",
      " 43%|████▎     | 12/28 [00:03<00:04,  3.64it/s]\u001b[A\n",
      " 46%|████▋     | 13/28 [00:03<00:04,  3.65it/s]\u001b[A\n",
      " 50%|█████     | 14/28 [00:03<00:03,  3.63it/s]\u001b[A\n",
      " 54%|█████▎    | 15/28 [00:04<00:03,  3.60it/s]\u001b[A\n",
      " 57%|█████▋    | 16/28 [00:04<00:03,  3.63it/s]\u001b[A\n",
      " 61%|██████    | 17/28 [00:04<00:03,  3.65it/s]\u001b[A\n",
      " 64%|██████▍   | 18/28 [00:04<00:02,  3.55it/s]\u001b[A\n",
      " 68%|██████▊   | 19/28 [00:05<00:02,  3.55it/s]\u001b[A\n",
      " 71%|███████▏  | 20/28 [00:05<00:02,  3.58it/s]\u001b[A\n",
      " 75%|███████▌  | 21/28 [00:05<00:01,  3.57it/s]\u001b[A\n",
      " 79%|███████▊  | 22/28 [00:06<00:01,  3.58it/s]\u001b[A\n",
      " 82%|████████▏ | 23/28 [00:06<00:01,  3.61it/s]\u001b[A\n",
      " 86%|████████▌ | 24/28 [00:06<00:01,  3.63it/s]\u001b[A\n",
      " 89%|████████▉ | 25/28 [00:06<00:00,  3.60it/s]\u001b[A\n",
      " 93%|█████████▎| 26/28 [00:07<00:00,  3.57it/s]\u001b[A\n",
      " 96%|█████████▋| 27/28 [00:07<00:00,  3.57it/s]\u001b[A\n",
      "100%|██████████| 28/28 [00:07<00:00,  3.60it/s]\n",
      "\n",
      "  0%|          | 0/10 [00:00<?, ?it/s]\u001b[A\n",
      " 10%|█         | 1/10 [00:00<00:05,  1.66it/s]\u001b[A\n",
      " 20%|██        | 2/10 [00:01<00:04,  1.62it/s]\u001b[A\n",
      " 30%|███       | 3/10 [00:01<00:04,  1.62it/s]\u001b[A\n",
      " 40%|████      | 4/10 [00:02<00:03,  1.62it/s]\u001b[A\n",
      " 50%|█████     | 5/10 [00:03<00:03,  1.61it/s]\u001b[A\n",
      " 60%|██████    | 6/10 [00:03<00:02,  1.63it/s]\u001b[A\n",
      " 70%|███████   | 7/10 [00:04<00:01,  1.61it/s]\u001b[A\n",
      " 80%|████████  | 8/10 [00:04<00:01,  1.60it/s]\u001b[A\n",
      " 90%|█████████ | 9/10 [00:05<00:00,  1.34it/s]\u001b[A\n",
      "100%|██████████| 10/10 [00:07<00:00,  1.32it/s]\n",
      "/usr/local/lib/python3.7/dist-packages/ipykernel_launcher.py:13: RuntimeWarning: divide by zero encountered in true_divide\n",
      "  del sys.path[0]\n",
      " 33%|███▎      | 1/3 [00:28<00:56, 28.33s/it]"
     ]
    },
    {
     "name": "stdout",
     "output_type": "stream",
     "text": [
      "calculating weights\n"
     ]
    },
    {
     "name": "stderr",
     "output_type": "stream",
     "text": [
      "\n",
      "  0%|          | 0/28 [00:00<?, ?it/s]\u001b[A\n",
      "  4%|▎         | 1/28 [00:00<00:06,  3.90it/s]\u001b[A\n",
      "  7%|▋         | 2/28 [00:00<00:06,  3.79it/s]\u001b[A\n",
      " 11%|█         | 3/28 [00:00<00:06,  3.66it/s]\u001b[A\n",
      " 14%|█▍        | 4/28 [00:01<00:06,  3.63it/s]\u001b[A\n",
      " 18%|█▊        | 5/28 [00:01<00:06,  3.64it/s]\u001b[A\n",
      " 21%|██▏       | 6/28 [00:01<00:06,  3.60it/s]\u001b[A\n",
      " 25%|██▌       | 7/28 [00:01<00:05,  3.59it/s]\u001b[A\n",
      " 29%|██▊       | 8/28 [00:02<00:05,  3.63it/s]\u001b[A\n",
      " 32%|███▏      | 9/28 [00:02<00:05,  3.62it/s]\u001b[A\n",
      " 36%|███▌      | 10/28 [00:02<00:04,  3.62it/s]\u001b[A\n",
      " 39%|███▉      | 11/28 [00:03<00:04,  3.59it/s]\u001b[A\n",
      " 43%|████▎     | 12/28 [00:03<00:04,  3.61it/s]\u001b[A\n",
      " 46%|████▋     | 13/28 [00:03<00:04,  3.61it/s]\u001b[A\n",
      " 50%|█████     | 14/28 [00:03<00:03,  3.60it/s]\u001b[A\n",
      " 54%|█████▎    | 15/28 [00:04<00:03,  3.60it/s]\u001b[A\n",
      " 57%|█████▋    | 16/28 [00:04<00:03,  3.61it/s]\u001b[A\n",
      " 61%|██████    | 17/28 [00:04<00:03,  3.60it/s]\u001b[A\n",
      " 64%|██████▍   | 18/28 [00:04<00:02,  3.59it/s]\u001b[A\n",
      " 68%|██████▊   | 19/28 [00:05<00:02,  3.57it/s]\u001b[A\n",
      " 71%|███████▏  | 20/28 [00:05<00:02,  3.56it/s]\u001b[A\n",
      " 75%|███████▌  | 21/28 [00:05<00:01,  3.54it/s]\u001b[A\n",
      " 79%|███████▊  | 22/28 [00:06<00:01,  3.53it/s]\u001b[A\n",
      " 82%|████████▏ | 23/28 [00:06<00:01,  3.54it/s]\u001b[A\n",
      " 86%|████████▌ | 24/28 [00:06<00:01,  3.52it/s]\u001b[A\n",
      " 89%|████████▉ | 25/28 [00:06<00:00,  3.53it/s]\u001b[A\n",
      " 93%|█████████▎| 26/28 [00:07<00:00,  3.49it/s]\u001b[A\n",
      " 96%|█████████▋| 27/28 [00:07<00:00,  3.50it/s]\u001b[A\n",
      "100%|██████████| 28/28 [00:07<00:00,  3.57it/s]\n",
      "\n",
      "  0%|          | 0/10 [00:00<?, ?it/s]\u001b[A\n",
      " 10%|█         | 1/10 [00:00<00:05,  1.63it/s]\u001b[A\n",
      " 20%|██        | 2/10 [00:01<00:04,  1.60it/s]\u001b[A\n",
      " 30%|███       | 3/10 [00:01<00:04,  1.60it/s]\u001b[A\n",
      " 40%|████      | 4/10 [00:02<00:03,  1.61it/s]\u001b[A\n",
      " 50%|█████     | 5/10 [00:03<00:03,  1.61it/s]\u001b[A\n",
      " 60%|██████    | 6/10 [00:03<00:02,  1.60it/s]\u001b[A\n",
      " 70%|███████   | 7/10 [00:04<00:01,  1.60it/s]\u001b[A\n",
      " 80%|████████  | 8/10 [00:04<00:01,  1.60it/s]\u001b[A\n",
      " 90%|█████████ | 9/10 [00:06<00:00,  1.34it/s]\u001b[A\n",
      "100%|██████████| 10/10 [00:07<00:00,  1.35it/s]\n",
      "/usr/local/lib/python3.7/dist-packages/ipykernel_launcher.py:13: RuntimeWarning: divide by zero encountered in true_divide\n",
      "  del sys.path[0]\n",
      " 67%|██████▋   | 2/3 [00:57<00:28, 28.88s/it]"
     ]
    },
    {
     "name": "stdout",
     "output_type": "stream",
     "text": [
      "calculating weights\n"
     ]
    },
    {
     "name": "stderr",
     "output_type": "stream",
     "text": [
      "\n",
      "  0%|          | 0/28 [00:00<?, ?it/s]\u001b[A\n",
      "  4%|▎         | 1/28 [00:00<00:06,  3.89it/s]\u001b[A\n",
      "  7%|▋         | 2/28 [00:00<00:06,  3.78it/s]\u001b[A\n",
      " 11%|█         | 3/28 [00:00<00:06,  3.71it/s]\u001b[A\n",
      " 14%|█▍        | 4/28 [00:01<00:06,  3.69it/s]\u001b[A\n",
      " 18%|█▊        | 5/28 [00:01<00:06,  3.68it/s]\u001b[A\n",
      " 21%|██▏       | 6/28 [00:01<00:05,  3.69it/s]\u001b[A\n",
      " 25%|██▌       | 7/28 [00:01<00:05,  3.66it/s]\u001b[A\n",
      " 29%|██▊       | 8/28 [00:02<00:05,  3.63it/s]\u001b[A\n",
      " 32%|███▏      | 9/28 [00:02<00:05,  3.61it/s]\u001b[A\n",
      " 36%|███▌      | 10/28 [00:02<00:05,  3.59it/s]\u001b[A\n",
      " 39%|███▉      | 11/28 [00:03<00:04,  3.56it/s]\u001b[A\n",
      " 43%|████▎     | 12/28 [00:03<00:04,  3.58it/s]\u001b[A\n",
      " 46%|████▋     | 13/28 [00:03<00:04,  3.58it/s]\u001b[A\n",
      " 50%|█████     | 14/28 [00:03<00:03,  3.60it/s]\u001b[A\n",
      " 54%|█████▎    | 15/28 [00:04<00:03,  3.56it/s]\u001b[A\n",
      " 57%|█████▋    | 16/28 [00:04<00:03,  3.55it/s]\u001b[A\n",
      " 61%|██████    | 17/28 [00:04<00:03,  3.58it/s]\u001b[A\n",
      " 64%|██████▍   | 18/28 [00:04<00:02,  3.57it/s]\u001b[A\n",
      " 68%|██████▊   | 19/28 [00:05<00:02,  3.58it/s]\u001b[A\n",
      " 71%|███████▏  | 20/28 [00:05<00:02,  3.60it/s]\u001b[A\n",
      " 75%|███████▌  | 21/28 [00:05<00:01,  3.58it/s]\u001b[A\n",
      " 79%|███████▊  | 22/28 [00:06<00:01,  3.56it/s]\u001b[A\n",
      " 82%|████████▏ | 23/28 [00:06<00:01,  3.57it/s]\u001b[A\n",
      " 86%|████████▌ | 24/28 [00:06<00:01,  3.58it/s]\u001b[A\n",
      " 89%|████████▉ | 25/28 [00:06<00:00,  3.53it/s]\u001b[A\n",
      " 93%|█████████▎| 26/28 [00:07<00:00,  3.54it/s]\u001b[A\n",
      " 96%|█████████▋| 27/28 [00:07<00:00,  3.53it/s]\u001b[A\n",
      "100%|██████████| 28/28 [00:07<00:00,  3.58it/s]\n",
      "\n",
      "  0%|          | 0/10 [00:00<?, ?it/s]\u001b[A\n",
      " 10%|█         | 1/10 [00:00<00:05,  1.65it/s]\u001b[A\n",
      " 20%|██        | 2/10 [00:01<00:04,  1.61it/s]\u001b[A\n",
      " 30%|███       | 3/10 [00:01<00:04,  1.60it/s]\u001b[A\n",
      " 40%|████      | 4/10 [00:02<00:03,  1.61it/s]\u001b[A\n",
      " 50%|█████     | 5/10 [00:03<00:03,  1.60it/s]\u001b[A\n",
      " 60%|██████    | 6/10 [00:03<00:02,  1.59it/s]\u001b[A\n",
      " 70%|███████   | 7/10 [00:04<00:01,  1.60it/s]\u001b[A\n",
      " 80%|████████  | 8/10 [00:05<00:01,  1.57it/s]\u001b[A\n",
      " 90%|█████████ | 9/10 [00:06<00:00,  1.32it/s]\u001b[A\n",
      "100%|██████████| 10/10 [00:07<00:00,  1.34it/s]\n",
      "/usr/local/lib/python3.7/dist-packages/ipykernel_launcher.py:13: RuntimeWarning: divide by zero encountered in true_divide\n",
      "  del sys.path[0]\n",
      "100%|██████████| 3/3 [01:23<00:00, 27.76s/it]\n"
     ]
    }
   ],
   "source": [
    "train_start = 1200\n",
    "train_end = 1857\n",
    "\n",
    "n_est_list = []\n",
    "max_depth_list = []\n",
    "wrmsse_scores = []\n",
    "\n",
    "for _ in tqdm(range(3)):\n",
    "    rand_max_depth = random.randint(10, 30)\n",
    "\n",
    "    regressor = DecisionTreeRegressor(max_depth=rand_max_depth, random_state=42)\n",
    "\n",
    "    wrmsse = evaluate_model_instance(regressor, train_start, train_end, df_sales, df_cal, df_price, level_groupings)\n",
    "    \n",
    "    n_est_list.append(rand_n_est)\n",
    "    max_depth_list.append(rand_max_depth)\n",
    "    wrmsse_scores.append(wrmsse)"
   ]
  },
  {
   "cell_type": "code",
   "execution_count": null,
   "metadata": {
    "colab": {
     "base_uri": "https://localhost:8080/"
    },
    "id": "SpyciDz3bF1s",
    "outputId": "534337aa-ce1c-4a6f-9be1-df44c6b72299"
   },
   "outputs": [
    {
     "name": "stdout",
     "output_type": "stream",
     "text": [
      "Lowest WRMSSE= 0.7705162271756554\n",
      "Lowest WRMSSE achieved on max_depth= 14\n"
     ]
    }
   ],
   "source": [
    "best_max_depth = max_depth_list[np.argmin(wrmsse_scores)]\n",
    "lowest_wrmsse = wrmsse_scores[np.argmin(wrmsse_scores)]\n",
    "print('Lowest WRMSSE=', lowest_wrmsse)\n",
    "print('Lowest WRMSSE achieved on max_depth=',best_max_depth)"
   ]
  },
  {
   "cell_type": "code",
   "execution_count": null,
   "metadata": {
    "colab": {
     "base_uri": "https://localhost:8080/"
    },
    "id": "Z1WI7s06bF1s",
    "outputId": "efc4e73e-2610-4446-df74-3fcc5ce64946"
   },
   "outputs": [
    {
     "name": "stdout",
     "output_type": "stream",
     "text": [
      "calculating weights\n"
     ]
    },
    {
     "name": "stderr",
     "output_type": "stream",
     "text": [
      "100%|██████████| 28/28 [00:07<00:00,  3.51it/s]\n",
      "100%|██████████| 10/10 [00:08<00:00,  1.21it/s]\n"
     ]
    },
    {
     "name": "stdout",
     "output_type": "stream",
     "text": [
      "WRMSSE Score (DecisionTrees): 0.8541675327917617\n"
     ]
    },
    {
     "name": "stderr",
     "output_type": "stream",
     "text": [
      "/usr/local/lib/python3.7/dist-packages/ipykernel_launcher.py:13: RuntimeWarning: divide by zero encountered in true_divide\n",
      "  del sys.path[0]\n"
     ]
    }
   ],
   "source": [
    "train_start = 1200\n",
    "train_end = 1885\n",
    "\n",
    "best_DTregressor = DecisionTreeRegressor(max_depth=best_max_depth)\n",
    "concat_DTdf, preds_DTdf, wrmsse_DT = evaluate_model_instance(regressor, train_start, train_end, df_sales, df_cal, df_price, level_groupings, return_dfs=True)\n",
    "\n",
    "print(\"WRMSSE Score (DecisionTrees):\", wrmsse_DT)"
   ]
  },
  {
   "cell_type": "markdown",
   "metadata": {
    "id": "PlZpL2oMwxSZ"
   },
   "source": [
    "## 5.3 RandomForest Regressor "
   ]
  },
  {
   "cell_type": "code",
   "execution_count": null,
   "metadata": {
    "colab": {
     "base_uri": "https://localhost:8080/"
    },
    "id": "at9ejUcGwGHL",
    "outputId": "e3446039-ca3c-4ace-9ca2-c19f134e49de"
   },
   "outputs": [
    {
     "name": "stderr",
     "output_type": "stream",
     "text": [
      "\r",
      "  0%|          | 0/3 [00:00<?, ?it/s]"
     ]
    },
    {
     "name": "stdout",
     "output_type": "stream",
     "text": [
      "calculating weights\n"
     ]
    },
    {
     "name": "stderr",
     "output_type": "stream",
     "text": [
      "\n",
      "  0%|          | 0/28 [00:00<?, ?it/s]\u001b[A\n",
      "  4%|▎         | 1/28 [00:00<00:16,  1.67it/s]\u001b[A\n",
      "  7%|▋         | 2/28 [00:00<00:10,  2.36it/s]\u001b[A\n",
      " 11%|█         | 3/28 [00:01<00:09,  2.73it/s]\u001b[A\n",
      " 14%|█▍        | 4/28 [00:01<00:08,  2.94it/s]\u001b[A\n",
      " 18%|█▊        | 5/28 [00:01<00:07,  3.09it/s]\u001b[A\n",
      " 21%|██▏       | 6/28 [00:02<00:06,  3.17it/s]\u001b[A\n",
      " 25%|██▌       | 7/28 [00:02<00:06,  3.19it/s]\u001b[A\n",
      " 29%|██▊       | 8/28 [00:02<00:06,  3.23it/s]\u001b[A\n",
      " 32%|███▏      | 9/28 [00:03<00:05,  3.25it/s]\u001b[A\n",
      " 36%|███▌      | 10/28 [00:03<00:05,  3.25it/s]\u001b[A\n",
      " 39%|███▉      | 11/28 [00:03<00:05,  3.25it/s]\u001b[A\n",
      " 43%|████▎     | 12/28 [00:03<00:04,  3.26it/s]\u001b[A\n",
      " 46%|████▋     | 13/28 [00:04<00:04,  3.28it/s]\u001b[A\n",
      " 50%|█████     | 14/28 [00:04<00:04,  3.30it/s]\u001b[A\n",
      " 54%|█████▎    | 15/28 [00:04<00:03,  3.34it/s]\u001b[A\n",
      " 57%|█████▋    | 16/28 [00:05<00:03,  3.35it/s]\u001b[A\n",
      " 61%|██████    | 17/28 [00:05<00:03,  3.33it/s]\u001b[A\n",
      " 64%|██████▍   | 18/28 [00:05<00:03,  3.32it/s]\u001b[A\n",
      " 68%|██████▊   | 19/28 [00:06<00:02,  3.33it/s]\u001b[A\n",
      " 71%|███████▏  | 20/28 [00:06<00:02,  3.35it/s]\u001b[A\n",
      " 75%|███████▌  | 21/28 [00:06<00:02,  3.34it/s]\u001b[A\n",
      " 79%|███████▊  | 22/28 [00:06<00:01,  3.35it/s]\u001b[A\n",
      " 82%|████████▏ | 23/28 [00:07<00:01,  3.35it/s]\u001b[A\n",
      " 86%|████████▌ | 24/28 [00:07<00:01,  3.33it/s]\u001b[A\n",
      " 89%|████████▉ | 25/28 [00:07<00:00,  3.27it/s]\u001b[A\n",
      " 93%|█████████▎| 26/28 [00:08<00:00,  3.23it/s]\u001b[A\n",
      " 96%|█████████▋| 27/28 [00:08<00:00,  3.24it/s]\u001b[A\n",
      "100%|██████████| 28/28 [00:08<00:00,  3.19it/s]\n",
      "\n",
      "  0%|          | 0/10 [00:00<?, ?it/s]\u001b[A\n",
      " 10%|█         | 1/10 [00:00<00:05,  1.57it/s]\u001b[A\n",
      " 20%|██        | 2/10 [00:01<00:05,  1.57it/s]\u001b[A\n",
      " 30%|███       | 3/10 [00:01<00:04,  1.57it/s]\u001b[A\n",
      " 40%|████      | 4/10 [00:02<00:03,  1.58it/s]\u001b[A\n",
      " 50%|█████     | 5/10 [00:03<00:03,  1.57it/s]\u001b[A\n",
      " 60%|██████    | 6/10 [00:03<00:02,  1.57it/s]\u001b[A\n",
      " 70%|███████   | 7/10 [00:04<00:01,  1.57it/s]\u001b[A\n",
      " 80%|████████  | 8/10 [00:05<00:01,  1.57it/s]\u001b[A\n",
      " 90%|█████████ | 9/10 [00:06<00:00,  1.27it/s]\u001b[A\n",
      "100%|██████████| 10/10 [00:08<00:00,  1.22it/s]\n",
      "/usr/local/lib/python3.7/dist-packages/ipykernel_launcher.py:13: RuntimeWarning: divide by zero encountered in true_divide\n",
      "  del sys.path[0]\n",
      " 33%|███▎      | 1/3 [08:31<17:03, 511.84s/it]"
     ]
    },
    {
     "name": "stdout",
     "output_type": "stream",
     "text": [
      "calculating weights\n"
     ]
    },
    {
     "name": "stderr",
     "output_type": "stream",
     "text": [
      "\n",
      "  0%|          | 0/28 [00:00<?, ?it/s]\u001b[A\n",
      "  4%|▎         | 1/28 [00:01<00:40,  1.51s/it]\u001b[A\n",
      "  7%|▋         | 2/28 [00:01<00:22,  1.17it/s]\u001b[A\n",
      " 11%|█         | 3/28 [00:02<00:15,  1.61it/s]\u001b[A\n",
      " 14%|█▍        | 4/28 [00:02<00:12,  1.95it/s]\u001b[A\n",
      " 18%|█▊        | 5/28 [00:02<00:10,  2.21it/s]\u001b[A\n",
      " 21%|██▏       | 6/28 [00:03<00:09,  2.40it/s]\u001b[A\n",
      " 25%|██▌       | 7/28 [00:03<00:08,  2.55it/s]\u001b[A\n",
      " 29%|██▊       | 8/28 [00:03<00:07,  2.67it/s]\u001b[A\n",
      " 32%|███▏      | 9/28 [00:04<00:06,  2.73it/s]\u001b[A\n",
      " 36%|███▌      | 10/28 [00:04<00:06,  2.79it/s]\u001b[A\n",
      " 39%|███▉      | 11/28 [00:04<00:05,  2.86it/s]\u001b[A\n",
      " 43%|████▎     | 12/28 [00:05<00:05,  2.88it/s]\u001b[A\n",
      " 46%|████▋     | 13/28 [00:05<00:05,  2.90it/s]\u001b[A\n",
      " 50%|█████     | 14/28 [00:06<00:04,  2.92it/s]\u001b[A\n",
      " 54%|█████▎    | 15/28 [00:06<00:04,  2.89it/s]\u001b[A\n",
      " 57%|█████▋    | 16/28 [00:06<00:04,  2.88it/s]\u001b[A\n",
      " 61%|██████    | 17/28 [00:07<00:03,  2.89it/s]\u001b[A\n",
      " 64%|██████▍   | 18/28 [00:07<00:03,  2.90it/s]\u001b[A\n",
      " 68%|██████▊   | 19/28 [00:07<00:03,  2.90it/s]\u001b[A\n",
      " 71%|███████▏  | 20/28 [00:08<00:02,  2.91it/s]\u001b[A\n",
      " 75%|███████▌  | 21/28 [00:08<00:02,  2.93it/s]\u001b[A\n",
      " 79%|███████▊  | 22/28 [00:08<00:02,  2.92it/s]\u001b[A\n",
      " 82%|████████▏ | 23/28 [00:09<00:01,  2.93it/s]\u001b[A\n",
      " 86%|████████▌ | 24/28 [00:09<00:01,  2.88it/s]\u001b[A\n",
      " 89%|████████▉ | 25/28 [00:09<00:01,  2.89it/s]\u001b[A\n",
      " 93%|█████████▎| 26/28 [00:10<00:00,  2.87it/s]\u001b[A\n",
      " 96%|█████████▋| 27/28 [00:10<00:00,  2.89it/s]\u001b[A\n",
      "100%|██████████| 28/28 [00:10<00:00,  2.58it/s]\n",
      "\n",
      "  0%|          | 0/10 [00:00<?, ?it/s]\u001b[A\n",
      " 10%|█         | 1/10 [00:01<00:10,  1.16s/it]\u001b[A\n",
      " 20%|██        | 2/10 [00:02<00:09,  1.16s/it]\u001b[A\n",
      " 30%|███       | 3/10 [00:03<00:08,  1.17s/it]\u001b[A\n",
      " 40%|████      | 4/10 [00:04<00:07,  1.17s/it]\u001b[A\n",
      " 50%|█████     | 5/10 [00:05<00:05,  1.18s/it]\u001b[A\n",
      " 60%|██████    | 6/10 [00:07<00:04,  1.17s/it]\u001b[A\n",
      " 70%|███████   | 7/10 [00:08<00:03,  1.17s/it]\u001b[A\n",
      " 80%|████████  | 8/10 [00:09<00:02,  1.17s/it]\u001b[A\n",
      " 90%|█████████ | 9/10 [00:10<00:01,  1.28s/it]\u001b[A\n",
      "100%|██████████| 10/10 [00:14<00:00,  1.42s/it]\n",
      "/usr/local/lib/python3.7/dist-packages/ipykernel_launcher.py:13: RuntimeWarning: divide by zero encountered in true_divide\n",
      "  del sys.path[0]\n",
      " 67%|██████▋   | 2/3 [15:18<07:29, 449.95s/it]"
     ]
    },
    {
     "name": "stdout",
     "output_type": "stream",
     "text": [
      "calculating weights\n"
     ]
    },
    {
     "name": "stderr",
     "output_type": "stream",
     "text": [
      "\n",
      "  0%|          | 0/28 [00:00<?, ?it/s]\u001b[A\n",
      "  4%|▎         | 1/28 [00:00<00:09,  2.86it/s]\u001b[A\n",
      "  7%|▋         | 2/28 [00:00<00:08,  2.93it/s]\u001b[A\n",
      " 11%|█         | 3/28 [00:01<00:08,  2.98it/s]\u001b[A\n",
      " 14%|█▍        | 4/28 [00:01<00:08,  2.93it/s]\u001b[A\n",
      " 18%|█▊        | 5/28 [00:01<00:07,  2.93it/s]\u001b[A\n",
      " 21%|██▏       | 6/28 [00:02<00:07,  2.96it/s]\u001b[A\n",
      " 25%|██▌       | 7/28 [00:02<00:07,  2.95it/s]\u001b[A\n",
      " 29%|██▊       | 8/28 [00:02<00:06,  2.90it/s]\u001b[A\n",
      " 32%|███▏      | 9/28 [00:03<00:06,  2.92it/s]\u001b[A\n",
      " 36%|███▌      | 10/28 [00:03<00:06,  2.91it/s]\u001b[A\n",
      " 39%|███▉      | 11/28 [00:03<00:05,  2.93it/s]\u001b[A\n",
      " 43%|████▎     | 12/28 [00:04<00:05,  2.90it/s]\u001b[A\n",
      " 46%|████▋     | 13/28 [00:04<00:05,  2.90it/s]\u001b[A\n",
      " 50%|█████     | 14/28 [00:04<00:04,  2.88it/s]\u001b[A\n",
      " 54%|█████▎    | 15/28 [00:05<00:04,  2.88it/s]\u001b[A\n",
      " 57%|█████▋    | 16/28 [00:05<00:04,  2.89it/s]\u001b[A\n",
      " 61%|██████    | 17/28 [00:05<00:03,  2.87it/s]\u001b[A\n",
      " 64%|██████▍   | 18/28 [00:06<00:03,  2.88it/s]\u001b[A\n",
      " 68%|██████▊   | 19/28 [00:06<00:03,  2.85it/s]\u001b[A\n",
      " 71%|███████▏  | 20/28 [00:06<00:02,  2.84it/s]\u001b[A\n",
      " 75%|███████▌  | 21/28 [00:07<00:02,  2.84it/s]\u001b[A\n",
      " 79%|███████▊  | 22/28 [00:07<00:02,  2.85it/s]\u001b[A\n",
      " 82%|████████▏ | 23/28 [00:07<00:01,  2.86it/s]\u001b[A\n",
      " 86%|████████▌ | 24/28 [00:08<00:01,  2.88it/s]\u001b[A\n",
      " 89%|████████▉ | 25/28 [00:08<00:01,  2.87it/s]\u001b[A\n",
      " 93%|█████████▎| 26/28 [00:09<00:00,  2.86it/s]\u001b[A\n",
      " 96%|█████████▋| 27/28 [00:09<00:00,  2.86it/s]\u001b[A\n",
      "100%|██████████| 28/28 [00:09<00:00,  2.89it/s]\n",
      "\n",
      "  0%|          | 0/10 [00:00<?, ?it/s]\u001b[A\n",
      " 10%|█         | 1/10 [00:01<00:10,  1.14s/it]\u001b[A\n",
      " 20%|██        | 2/10 [00:02<00:09,  1.15s/it]\u001b[A\n",
      " 30%|███       | 3/10 [00:03<00:08,  1.17s/it]\u001b[A\n",
      " 40%|████      | 4/10 [00:04<00:07,  1.17s/it]\u001b[A\n",
      " 50%|█████     | 5/10 [00:05<00:05,  1.16s/it]\u001b[A\n",
      " 60%|██████    | 6/10 [00:06<00:04,  1.16s/it]\u001b[A\n",
      " 70%|███████   | 7/10 [00:08<00:03,  1.17s/it]\u001b[A\n",
      " 80%|████████  | 8/10 [00:09<00:02,  1.16s/it]\u001b[A\n",
      " 90%|█████████ | 9/10 [00:10<00:01,  1.26s/it]\u001b[A\n",
      "100%|██████████| 10/10 [00:13<00:00,  1.31s/it]\n",
      "/usr/local/lib/python3.7/dist-packages/ipykernel_launcher.py:13: RuntimeWarning: divide by zero encountered in true_divide\n",
      "  del sys.path[0]\n",
      "100%|██████████| 3/3 [19:14<00:00, 384.78s/it]\n"
     ]
    }
   ],
   "source": [
    "train_start = 1200\n",
    "train_end = 1857\n",
    "\n",
    "n_est_list = []\n",
    "max_depth_list = []\n",
    "wrmsse_scores = []\n",
    "\n",
    "for _ in tqdm(range(3)):\n",
    "    rand_n_est = random.randint(20, 50)\n",
    "    rand_max_depth = random.randint(10, 30)\n",
    "\n",
    "    regressor = RandomForestRegressor(n_estimators=rand_n_est, max_depth=rand_max_depth, random_state=42)\n",
    "\n",
    "    wrmsse = evaluate_model_instance(regressor, train_start, train_end, df_sales, df_cal, df_price, level_groupings)\n",
    "    \n",
    "    n_est_list.append(rand_n_est)\n",
    "    max_depth_list.append(rand_max_depth)\n",
    "    wrmsse_scores.append(wrmsse)"
   ]
  },
  {
   "cell_type": "code",
   "execution_count": null,
   "metadata": {
    "colab": {
     "base_uri": "https://localhost:8080/"
    },
    "id": "nc7-wf9jwGHM",
    "outputId": "574b33a1-8a6e-4eac-931e-6b7e4af2f96f"
   },
   "outputs": [
    {
     "name": "stdout",
     "output_type": "stream",
     "text": [
      "Lowest WRMSSE= 0.7107109606288111\n",
      "Lowest WRMSSE achieved on max_depth= 29\n",
      "Lowest WRMSSE achieved on n_estimators= 46\n"
     ]
    }
   ],
   "source": [
    "best_n_est = n_est_list[np.argmin(wrmsse_scores)]\n",
    "best_max_depth = max_depth_list[np.argmin(wrmsse_scores)]\n",
    "lowest_wrmsse = wrmsse_scores[np.argmin(wrmsse_scores)]\n",
    "print('Lowest WRMSSE=', lowest_wrmsse)\n",
    "print('Lowest WRMSSE achieved on max_depth=',best_max_depth)\n",
    "print('Lowest WRMSSE achieved on n_estimators=',best_n_est)"
   ]
  },
  {
   "cell_type": "code",
   "execution_count": null,
   "metadata": {
    "colab": {
     "base_uri": "https://localhost:8080/"
    },
    "id": "9fEHhQN1wGHN",
    "outputId": "5301b84b-53e1-4120-dd5f-d08ebe738959"
   },
   "outputs": [
    {
     "name": "stdout",
     "output_type": "stream",
     "text": [
      "calculating weights\n"
     ]
    },
    {
     "name": "stderr",
     "output_type": "stream",
     "text": [
      "100%|██████████| 28/28 [00:09<00:00,  2.95it/s]\n",
      "100%|██████████| 10/10 [00:13<00:00,  1.32s/it]\n"
     ]
    },
    {
     "name": "stdout",
     "output_type": "stream",
     "text": [
      "WRMSSE Score (RandomForest): 0.8438456480026252\n"
     ]
    },
    {
     "name": "stderr",
     "output_type": "stream",
     "text": [
      "/usr/local/lib/python3.7/dist-packages/ipykernel_launcher.py:13: RuntimeWarning: divide by zero encountered in true_divide\n",
      "  del sys.path[0]\n"
     ]
    }
   ],
   "source": [
    "train_start = 1200\n",
    "train_end = 1885\n",
    "\n",
    "best_RFregressor = RandomForestRegressor(n_estimators=best_n_est, max_depth=best_max_depth)\n",
    "concat_RFdf, preds_RFdf, wrmsse_RF = evaluate_model_instance(regressor, train_start, train_end, df_sales, df_cal, df_price, level_groupings, return_dfs=True)\n",
    "\n",
    "print(\"WRMSSE Score (RandomForest):\", wrmsse_RF)"
   ]
  },
  {
   "cell_type": "markdown",
   "metadata": {
    "id": "68IhKXLZZhRY"
   },
   "source": [
    "# 6. Summary"
   ]
  },
  {
   "cell_type": "code",
   "execution_count": null,
   "metadata": {
    "colab": {
     "base_uri": "https://localhost:8080/"
    },
    "id": "7ZVot6oDZo_c",
    "outputId": "699ad158-4d99-4529-fdd9-54b5c161a15c"
   },
   "outputs": [
    {
     "name": "stdout",
     "output_type": "stream",
     "text": [
      "+---------------+--------+\n",
      "|     Model     | WRMSSE |\n",
      "+---------------+--------+\n",
      "|   ExtraTrees  |  0.78  |\n",
      "| DecisionTrees |  0.85  |\n",
      "|  RandomForest |  0.84  |\n",
      "+---------------+--------+\n"
     ]
    }
   ],
   "source": [
    "from prettytable import PrettyTable\n",
    "x = PrettyTable()\n",
    "\n",
    "x.field_names = [\"Model\", \"WRMSSE\"]\n",
    "x.add_rows(\n",
    "    [\n",
    "        [\"ExtraTrees\", 0.78],\n",
    "        [\"DecisionTrees\", 0.85],\n",
    "        [\"RandomForest\", 0.84],\n",
    "    ]\n",
    ")\n",
    "\n",
    "print(x)"
   ]
  },
  {
   "cell_type": "markdown",
   "metadata": {
    "id": "u5OgK9cD9m8V"
   },
   "source": [
    "Clearly, ExtraTrees Model outperforms the other two. "
   ]
  },
  {
   "cell_type": "markdown",
   "metadata": {
    "id": "wl3L3AwH8EtV"
   },
   "source": [
    "# 7. References\n",
    "\n",
    "- code reference - https://youtu.be/tMtqHZk6zUE"
   ]
  }
 ],
 "metadata": {
  "colab": {
   "collapsed_sections": [],
   "provenance": []
  },
  "kernelspec": {
   "display_name": "Python 3 (ipykernel)",
   "language": "python",
   "name": "python3"
  },
  "language_info": {
   "codemirror_mode": {
    "name": "ipython",
    "version": 3
   },
   "file_extension": ".py",
   "mimetype": "text/x-python",
   "name": "python",
   "nbconvert_exporter": "python",
   "pygments_lexer": "ipython3",
   "version": "3.9.6"
  }
 },
 "nbformat": 4,
 "nbformat_minor": 1
}
