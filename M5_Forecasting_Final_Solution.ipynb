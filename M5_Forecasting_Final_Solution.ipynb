{
 "cells": [
  {
   "cell_type": "markdown",
   "metadata": {
    "id": "g8kHrvh_PClz"
   },
   "source": [
    "<h1><b>M5 Forecasting: Final Solution</b></h1>"
   ]
  },
  {
   "cell_type": "markdown",
   "metadata": {},
   "source": [
    "# **Contents**\n",
    "\n",
    "<h3> 1. Reading the Data </h3> \n",
    "\n",
    "<h3> 2. Define helper functions </h3> \n",
    "\n",
    "<h3> 3. Simple Model </h3>\n",
    "\n",
    "<h3> 4. Hyperparameter Tuning </h3> \n",
    "\n",
    "<h3> 5. Building the Final Model </h3> \n",
    "\n",
    "<h3> 6. Kaggle Submission Score </h3>\n",
    "\n",
    "<h3> 7. References </h3>"
   ]
  },
  {
   "cell_type": "code",
   "execution_count": 1,
   "metadata": {
    "id": "x05-P_Ohnp-Q"
   },
   "outputs": [],
   "source": [
    "#import dependencies\n",
    "import pandas as pd\n",
    "import numpy as np\n",
    "import seaborn as sns\n",
    "from tqdm import tqdm\n",
    "import random \n",
    "import datetime\n",
    "import pickle\n",
    "import warnings\n",
    "warnings.filterwarnings('ignore')"
   ]
  },
  {
   "cell_type": "markdown",
   "metadata": {},
   "source": [
    "# 1. Reading the data"
   ]
  },
  {
   "cell_type": "code",
   "execution_count": 2,
   "metadata": {
    "id": "67eIZcxGm-VQ"
   },
   "outputs": [
    {
     "name": "stdout",
     "output_type": "stream",
     "text": [
      "(27471490, 45)\n"
     ]
    },
    {
     "data": {
      "text/html": [
       "<div>\n",
       "<style scoped>\n",
       "    .dataframe tbody tr th:only-of-type {\n",
       "        vertical-align: middle;\n",
       "    }\n",
       "\n",
       "    .dataframe tbody tr th {\n",
       "        vertical-align: top;\n",
       "    }\n",
       "\n",
       "    .dataframe thead th {\n",
       "        text-align: right;\n",
       "    }\n",
       "</style>\n",
       "<table border=\"1\" class=\"dataframe\">\n",
       "  <thead>\n",
       "    <tr style=\"text-align: right;\">\n",
       "      <th></th>\n",
       "      <th>id</th>\n",
       "      <th>item_id</th>\n",
       "      <th>dept_id</th>\n",
       "      <th>cat_id</th>\n",
       "      <th>store_id</th>\n",
       "      <th>state_id</th>\n",
       "      <th>d</th>\n",
       "      <th>sales</th>\n",
       "      <th>lag_28</th>\n",
       "      <th>lag_30</th>\n",
       "      <th>...</th>\n",
       "      <th>snap_CA</th>\n",
       "      <th>snap_TX</th>\n",
       "      <th>snap_WI</th>\n",
       "      <th>quarter</th>\n",
       "      <th>week</th>\n",
       "      <th>day_of_month</th>\n",
       "      <th>is_weekend</th>\n",
       "      <th>sell_price</th>\n",
       "      <th>price_shift_t1</th>\n",
       "      <th>price_change_t1</th>\n",
       "    </tr>\n",
       "  </thead>\n",
       "  <tbody>\n",
       "    <tr>\n",
       "      <th>0</th>\n",
       "      <td>14370</td>\n",
       "      <td>1437</td>\n",
       "      <td>3</td>\n",
       "      <td>1</td>\n",
       "      <td>0</td>\n",
       "      <td>0</td>\n",
       "      <td>1069</td>\n",
       "      <td>1</td>\n",
       "      <td>1</td>\n",
       "      <td>1</td>\n",
       "      <td>...</td>\n",
       "      <td>1</td>\n",
       "      <td>1</td>\n",
       "      <td>0</td>\n",
       "      <td>1</td>\n",
       "      <td>1</td>\n",
       "      <td>1</td>\n",
       "      <td>0</td>\n",
       "      <td>8.257812</td>\n",
       "      <td>8.257812</td>\n",
       "      <td>0.0</td>\n",
       "    </tr>\n",
       "    <tr>\n",
       "      <th>1</th>\n",
       "      <td>14380</td>\n",
       "      <td>1438</td>\n",
       "      <td>3</td>\n",
       "      <td>1</td>\n",
       "      <td>0</td>\n",
       "      <td>0</td>\n",
       "      <td>1069</td>\n",
       "      <td>0</td>\n",
       "      <td>0</td>\n",
       "      <td>0</td>\n",
       "      <td>...</td>\n",
       "      <td>1</td>\n",
       "      <td>1</td>\n",
       "      <td>0</td>\n",
       "      <td>1</td>\n",
       "      <td>1</td>\n",
       "      <td>1</td>\n",
       "      <td>0</td>\n",
       "      <td>3.970703</td>\n",
       "      <td>3.970703</td>\n",
       "      <td>0.0</td>\n",
       "    </tr>\n",
       "    <tr>\n",
       "      <th>2</th>\n",
       "      <td>14390</td>\n",
       "      <td>1439</td>\n",
       "      <td>3</td>\n",
       "      <td>1</td>\n",
       "      <td>0</td>\n",
       "      <td>0</td>\n",
       "      <td>1069</td>\n",
       "      <td>0</td>\n",
       "      <td>0</td>\n",
       "      <td>0</td>\n",
       "      <td>...</td>\n",
       "      <td>1</td>\n",
       "      <td>1</td>\n",
       "      <td>0</td>\n",
       "      <td>1</td>\n",
       "      <td>1</td>\n",
       "      <td>1</td>\n",
       "      <td>0</td>\n",
       "      <td>0.000000</td>\n",
       "      <td>0.000000</td>\n",
       "      <td>0.0</td>\n",
       "    </tr>\n",
       "    <tr>\n",
       "      <th>3</th>\n",
       "      <td>14400</td>\n",
       "      <td>1440</td>\n",
       "      <td>3</td>\n",
       "      <td>1</td>\n",
       "      <td>0</td>\n",
       "      <td>0</td>\n",
       "      <td>1069</td>\n",
       "      <td>2</td>\n",
       "      <td>1</td>\n",
       "      <td>3</td>\n",
       "      <td>...</td>\n",
       "      <td>1</td>\n",
       "      <td>1</td>\n",
       "      <td>0</td>\n",
       "      <td>1</td>\n",
       "      <td>1</td>\n",
       "      <td>1</td>\n",
       "      <td>0</td>\n",
       "      <td>4.640625</td>\n",
       "      <td>4.640625</td>\n",
       "      <td>0.0</td>\n",
       "    </tr>\n",
       "    <tr>\n",
       "      <th>4</th>\n",
       "      <td>14410</td>\n",
       "      <td>1441</td>\n",
       "      <td>3</td>\n",
       "      <td>1</td>\n",
       "      <td>0</td>\n",
       "      <td>0</td>\n",
       "      <td>1069</td>\n",
       "      <td>1</td>\n",
       "      <td>1</td>\n",
       "      <td>1</td>\n",
       "      <td>...</td>\n",
       "      <td>1</td>\n",
       "      <td>1</td>\n",
       "      <td>0</td>\n",
       "      <td>1</td>\n",
       "      <td>1</td>\n",
       "      <td>1</td>\n",
       "      <td>0</td>\n",
       "      <td>3.080078</td>\n",
       "      <td>3.080078</td>\n",
       "      <td>0.0</td>\n",
       "    </tr>\n",
       "  </tbody>\n",
       "</table>\n",
       "<p>5 rows × 45 columns</p>\n",
       "</div>"
      ],
      "text/plain": [
       "      id  item_id  dept_id  cat_id  store_id  state_id     d  sales  lag_28  \\\n",
       "0  14370     1437        3       1         0         0  1069      1       1   \n",
       "1  14380     1438        3       1         0         0  1069      0       0   \n",
       "2  14390     1439        3       1         0         0  1069      0       0   \n",
       "3  14400     1440        3       1         0         0  1069      2       1   \n",
       "4  14410     1441        3       1         0         0  1069      1       1   \n",
       "\n",
       "   lag_30  ...  snap_CA  snap_TX  snap_WI  quarter  week  day_of_month  \\\n",
       "0       1  ...        1        1        0        1     1             1   \n",
       "1       0  ...        1        1        0        1     1             1   \n",
       "2       0  ...        1        1        0        1     1             1   \n",
       "3       3  ...        1        1        0        1     1             1   \n",
       "4       1  ...        1        1        0        1     1             1   \n",
       "\n",
       "   is_weekend  sell_price  price_shift_t1  price_change_t1  \n",
       "0           0    8.257812        8.257812              0.0  \n",
       "1           0    3.970703        3.970703              0.0  \n",
       "2           0    0.000000        0.000000              0.0  \n",
       "3           0    4.640625        4.640625              0.0  \n",
       "4           0    3.080078        3.080078              0.0  \n",
       "\n",
       "[5 rows x 45 columns]"
      ]
     },
     "execution_count": 2,
     "metadata": {},
     "output_type": "execute_result"
    }
   ],
   "source": [
    "df_long = pd.read_pickle('preprocessed_data.pkl')\n",
    "print(df_long.shape)\n",
    "df_long.head()"
   ]
  },
  {
   "cell_type": "code",
   "execution_count": 5,
   "metadata": {
    "id": "SEvC-AssyWEx"
   },
   "outputs": [],
   "source": [
    "df_sales = pd.read_csv('sales_train_evaluation.csv')\n",
    "df_price = pd.read_csv('sell_prices.csv')\n",
    "df_cal = pd.read_csv('calendar.csv', parse_dates=['date'])"
   ]
  },
  {
   "cell_type": "code",
   "execution_count": 6,
   "metadata": {
    "id": "Zj1Ose-O1DCq"
   },
   "outputs": [],
   "source": [
    "#basic data manipulation on df_cal and df_price\n",
    "df_cal[\"d_\"]=df_cal[\"d\"].apply(lambda x: int(x.split(\"_\")[1]))\n",
    "df_price[\"id\"] = df_price[\"item_id\"] + \"_\" + df_price[\"store_id\"] + \"_evaluation\""
   ]
  },
  {
   "cell_type": "markdown",
   "metadata": {},
   "source": [
    "# 2. Define helper functions\n"
   ]
  },
  {
   "cell_type": "markdown",
   "metadata": {},
   "source": [
    "## 2.1 Compute Weights"
   ]
  },
  {
   "cell_type": "code",
   "execution_count": 7,
   "metadata": {
    "id": "l3BIPgyAJosc"
   },
   "outputs": [],
   "source": [
    "level_groupings = {2: [\"state_id\"], 3: [\"store_id\"], 4: [\"cat_id\"], 5: [\"dept_id\"], 6: [\"state_id\", \"cat_id\"], 7: [\"state_id\", \"dept_id\"],\n",
    "                   8: [\"store_id\", \"cat_id\"], 9: [\"store_id\", \"dept_id\"], 10: [\"item_id\"], 11: [\"item_id\", \"state_id\"]}\n",
    "\n",
    "def calculate_weightsL12(sales, cal, price, last28):\n",
    "    ''' Calculate weights for level 12 (Product-Store) series' using the last 28 days sales data '''\n",
    "\n",
    "    #calculating weights for level 12 : 'item_id, store_id' using last 28 days of train data\n",
    "    #this loop is repeated 28 times to get the sales revenue of all ids for each of last 28 days \n",
    "    #flow of execution : day-> week id-> sell price of ids on the day-> sales revenue of ids for the day\n",
    "    for day in range(last28[0], last28[1]):\n",
    "        #get the week id corresponding to the day \n",
    "        week_id = int(cal[cal[\"d_\"]==day][\"wm_yr_wk\"]) \n",
    "\n",
    "        #get the week price for each of the items corresponding to the week id   \n",
    "        week_price = price[price[\"wm_yr_wk\"]==week_id]\n",
    "\n",
    "        #merge sales with week price on 'id'\n",
    "        #note: we merge the dataframes using inner join so the id which are present in both dataframes will be retained after merging\n",
    "        sales = sales.merge(week_price[[\"sell_price\", \"id\"]], on=[\"id\"], how='inner')\n",
    "\n",
    "        #create a column which shows the sales revenue for the day\n",
    "        #sales revenue = sell_price * units_sold \n",
    "        sales[\"sales_revenue_d_\" + str(day)] = sales[\"sell_price\"] * sales[\"d_\" + str(day)]\n",
    "\n",
    "        #drop the sell_price column\n",
    "        sales.drop(columns=[\"sell_price\"], inplace=True)\n",
    "\n",
    "    #Sum of sales revenue of each id for last 28 days   1`\n",
    "    sales_revenue_cols = [x for x in sales.columns if x.find(\"sales_revenue\")==0]\n",
    "    sales['sales_revenue_alldays'] = sales[sales_revenue_cols].sum(axis=1)\n",
    "\n",
    "    #Compute weights for each Level 12 Time Series\n",
    "    sales['weight'] = (1/12)*(sales['sales_revenue_alldays']/sales['sales_revenue_alldays'].sum())\n",
    "\n",
    "    #Drop the unnecessary columns \n",
    "    sales.drop(columns = sales_revenue_cols+['sales_revenue_alldays'], inplace=True)\n",
    "\n",
    "    return sales\n",
    "\n",
    "def calculate_weightsALL(sales, levels):\n",
    "    ''' Calculate weights for series' in rest of the aggregation levels '''\n",
    "    \n",
    "    #weights for level 1 : 'all'\n",
    "    agg = pd.DataFrame(sales[[x for x in sales.columns if x.find(\"d_\") == 0 or x.find(\"F\") == 0]].sum()).transpose() \n",
    "    id_cols = [\"item_id\", \"dept_id\", \"cat_id\", \"store_id\", \"state_id\"]\n",
    "    for col in id_cols:\n",
    "        agg[col] = 'all'\n",
    "    agg[\"level\"] = 1\n",
    "    agg[\"weight\"] = 1/12\n",
    "    column_order = agg.columns\n",
    "\n",
    "    #weights for the rest of the levels (levels 2-11)\n",
    "    for level in level_groupings:\n",
    "        temp_df = sales.groupby(by=level_groupings[level]).sum().reset_index()\n",
    "        temp_df[\"level\"] = level\n",
    "        \n",
    "        for c in column_order:\n",
    "            if c not in temp_df.columns:\n",
    "                temp_df[c] = 'all'\n",
    "                \n",
    "        agg = agg.append(temp_df[column_order])\n",
    "\n",
    "    return agg"
   ]
  },
  {
   "cell_type": "markdown",
   "metadata": {},
   "source": [
    "## 2.2 Compute WRMSSE"
   ]
  },
  {
   "cell_type": "code",
   "execution_count": 8,
   "metadata": {
    "id": "o1maHzL3JrVV"
   },
   "outputs": [],
   "source": [
    "def get_day_splits(sales, train_start, train_end, val_start, val_end):\n",
    "    '''Create lists of days/columns to be selected for train, val and forecast when calculating RMSSE'''\n",
    "    \n",
    "    train_days =  [x for x in sales.columns if x.find(\"d_\") == 0 and int(x.split(\"_\")[1]) in range(train_start, train_end+1)] \n",
    "    val_days =  [x for x in sales.columns if x.find(\"d_\") == 0 and int(x.split(\"_\")[1]) in range(val_start, val_end+1)]\n",
    "    forecast_days = [x for x in sales.columns if x.find(\"F\") == 0]\n",
    "    return train_days, val_days, forecast_days\n",
    "\n",
    "def RMSSE(ground_truth, forecast, train, n, h):\n",
    "    ''' Calculates the RMSSE score for all series in the dataframe. '''\n",
    "\n",
    "    num = ((ground_truth - forecast)**2).sum(axis=1)\n",
    "    den = 1/(n-1) * ((train[:, 1:] - train[:, :-1]) ** 2).sum(axis=1)  \n",
    "    rmsse = (1/h * num/den) ** 0.5\n",
    "\n",
    "    return rmsse\n",
    "\n",
    "def WRMSSE(sales, agg, train_days, val_days, forecast_days, n, h):\n",
    "    ''' Calculates the WRMSSE score for the model prediction '''\n",
    "    \n",
    "    ground_truth_df = np.array(sales[val_days])\n",
    "    forecast_df = np.array(sales[forecast_days])\n",
    "    train_df = np.array(sales[train_days])\n",
    "\n",
    "    ground_truth_agg_df = np.array(agg[val_days])\n",
    "    forecast_agg_df = np.array(agg[forecast_days])\n",
    "    train_agg_df = np.array(agg[train_days])\n",
    "            \n",
    "    # calculate rmsse for each series using df[val-days] - df[forecast-days] ->numerator   \n",
    "    sales[\"rmsse\"] = RMSSE(ground_truth_df, forecast_df, train_df, n, h)\n",
    "    agg[\"rmsse\"] = RMSSE(ground_truth_agg_df, forecast_agg_df, train_agg_df, n, h)\n",
    "\n",
    "    sales[\"wrmsse\"] = sales[\"weight\"] * sales[\"rmsse\"]\n",
    "    agg[\"wrmsse\"] = agg[\"weight\"] * agg[\"rmsse\"]\n",
    "\n",
    "    wrmsse = sales[\"wrmsse\"].sum() + agg[\"wrmsse\"].sum()\n",
    "    \n",
    "    return wrmsse"
   ]
  },
  {
   "cell_type": "markdown",
   "metadata": {},
   "source": [
    "## 2.3 Evaluate Model Instance"
   ]
  },
  {
   "cell_type": "code",
   "execution_count": 9,
   "metadata": {
    "id": "GtiLM9YLJ2wu"
   },
   "outputs": [],
   "source": [
    "def evaluate_model_instance(model, train_x, train_y, val_x, features, train_start, train_end, df, df_c, df_p, levels, return_df=False):\n",
    "    ''' Computes the WRMSSE score of the model instance to understand if the model needs to be tuned further or not. '''\n",
    "    \n",
    "    print('<<<Training the Model>>>')\n",
    "    model.fit(train_x[features], train_y)\n",
    "\n",
    "    catCols = [\"id\", \"item_id\", \"dept_id\", \"cat_id\", \"store_id\", \"state_id\"]\n",
    "    trainDays = [c for c in df.columns if c.find(\"d_\")==0 and int(c.split(\"_\")[1]) in range(train_start, train_end + 1)] \n",
    "    valDays = [c for c in df.columns if c.find(\"d_\")==0 and int(c.split(\"_\")[1]) in range(train_end + 1, train_end + 28 + 1)] \n",
    "    df = df[catCols+trainDays+valDays]\n",
    "    \n",
    "    print('<<<Generating Forecasts>>>')\n",
    "    for day in range(1,29):       \n",
    "        df[f\"F{day}\"] = model.predict(val_x.loc[val_x[\"d\"]==(train_end+day), features]) \n",
    "    \n",
    "    print('<<<Calculating Weights>>>')\n",
    "    df = calculate_weightsL12(df, df_c, df_p, (train_end - (28 - 1), train_end+1)) \n",
    "    agg_df = calculate_weightsALL(df, levels)\n",
    "\n",
    "    print('<<<Calculating WRMSSE Score>>>')\n",
    "    train_days, val_days, forecast_days = get_day_splits(df, train_start, train_end, val_start = train_end + 1, val_end = train_end + 28)\n",
    "    wrmsse = WRMSSE(df, agg_df, train_days, val_days, forecast_days,  n = ((train_end - train_start)+1) , h = 28)\n",
    "    print('<<<Model Instance Evaluated>>>')\n",
    "\n",
    "    #if True, below condition returns the forecast dataframe and WRMSSE score \n",
    "    if return_df:\n",
    "        return df[['id']+forecast_days], wrmsse   \n",
    "    return wrmsse"
   ]
  },
  {
   "cell_type": "markdown",
   "metadata": {},
   "source": [
    "## 2.4 Create Data Splits"
   ]
  },
  {
   "cell_type": "code",
   "execution_count": 10,
   "metadata": {},
   "outputs": [],
   "source": [
    "def get_splits(data, train_start, train_end, return_y_val = False):\n",
    "    ''' Performs time based split on data and return train and validation sets '''\n",
    "    \n",
    "    val_start = train_end + 1\n",
    "    val_end = train_end + 28\n",
    "    \n",
    "    print('Train Period:', train_start, \"-\", train_end)\n",
    "    print('Validation Period:', val_start, \"-\", val_end)\n",
    "    \n",
    "    X_train = data[(data['d'] >= train_start) & (data['d'] <= train_end)].drop(columns=['sales']) \n",
    "    y_train = data[(data['d'] >= train_start) & (data['d'] <= train_end)]['sales']\n",
    "    \n",
    "    X_val = data[(data['d'] >= val_start) & (data['d'] <= val_end)].drop(columns=['sales'])\n",
    "    \n",
    "    #if True, returns y_val else not (this option is provided because y_val isn't needed as per the approach we take)\n",
    "    if return_y_val:\n",
    "        y_val = data[(data['d'] >= val_start) & (data['d'] <= val_end)]['sales']\n",
    "        return X_train, y_train, X_val, y_val\n",
    "    \n",
    "    return X_train, y_train, X_val"
   ]
  },
  {
   "cell_type": "markdown",
   "metadata": {},
   "source": [
    "## 2.5 Create Submission File"
   ]
  },
  {
   "cell_type": "code",
   "execution_count": 11,
   "metadata": {},
   "outputs": [],
   "source": [
    "def get_sub_df(data, train_start, train_end, best_params, features, df_s, df_c, df_p, levels):\n",
    "    ''' Returns the best model and dataframe containing forecast values '''\n",
    "    \n",
    "    #get the train and val set for performing forecast on validation phase days (i.e. 1914 - 1941)\n",
    "    X_train, y_train, X_val = get_splits(data, train_start, train_end[0], False)\n",
    "    \n",
    "    #build a model using best parameter values\n",
    "    lgb_val = lgb.LGBMRegressor(boosting_type= best_params['boosting_type'], \n",
    "                                 objective=best_params['objective'], \n",
    "                                 n_jobs= best_params['n_jobs'], \n",
    "                                 seed= best_params['seed'], \n",
    "                                 n_estimators= best_params['n_estimators'], \n",
    "                                 learning_rate= best_params['learning_rate'],\n",
    "                                 num_leaves = best_params['num_leaves'],\n",
    "                                 min_child_samples = best_params['min_child_samples'])\n",
    "    \n",
    "    #get the forecast dataframe and wrmsse score \n",
    "    df_val, wrmsse_val = evaluate_model_instance(lgb_val, X_train, y_train, X_val, features, train_start, train_end[0], df_s, df_c, df_p, levels, return_df=True)\n",
    "    df_val['id'] = df_val['id'].apply(lambda x: x.replace('_evaluation', '_validation'))\n",
    "    print('Local WRMSSE on Validation Data:',wrmsse_val)\n",
    "    print('\\n')\n",
    "    \n",
    "    #get the train and val set for performing forecast on evaluation phase days (i.e. 1942 - 1969)\n",
    "    X_train, y_train, X_eval = get_splits(data, train_start, train_end[1], False)\n",
    "    \n",
    "    #build another model using best parameter values\n",
    "    lgb_eval = lgb.LGBMRegressor(boosting_type= best_params['boosting_type'], \n",
    "                                 objective=best_params['objective'], \n",
    "                                 n_jobs= best_params['n_jobs'], \n",
    "                                 seed= best_params['seed'], \n",
    "                                 n_estimators= best_params['n_estimators'], \n",
    "                                 learning_rate= best_params['learning_rate'],\n",
    "                                 num_leaves = best_params['num_leaves'],\n",
    "                                 min_child_samples = best_params['min_child_samples'])\n",
    "    \n",
    "    print('<<<Training the Model>>>')\n",
    "    lgb_eval.fit(X_train[features], y_train)\n",
    "    \n",
    "    df_eval = df_s[[\"id\"]]\n",
    "\n",
    "    print('<<<Generating Forecasts>>>')\n",
    "    for day in range(1,29):       \n",
    "        df_eval[f\"F{day}\"] = lgb_eval.predict(X_eval.loc[X_eval[\"d\"]==(train_end[1]+day), features])\n",
    "        \n",
    "    #concat both the forecast dataframes\n",
    "    submit = pd.concat([df_val, df_eval], axis=0).reset_index(drop=True) \n",
    "    print('<<<Submission Dataframe Created>>>')\n",
    "    \n",
    "    return lgb_val, lgb_eval, submit"
   ]
  },
  {
   "cell_type": "markdown",
   "metadata": {},
   "source": [
    "# 3. Simple Model\n",
    "\n",
    "- Build simple LightGBM Regressor model on data and check the score before heading into hyperparameter tuning."
   ]
  },
  {
   "cell_type": "code",
   "execution_count": 12,
   "metadata": {},
   "outputs": [],
   "source": [
    "import lightgbm as lgb\n",
    "from lightgbm import plot_importance"
   ]
  },
  {
   "cell_type": "code",
   "execution_count": 11,
   "metadata": {},
   "outputs": [
    {
     "name": "stdout",
     "output_type": "stream",
     "text": [
      "Train Period: 1069 - 1913\n",
      "Validation Period: 1914 - 1941\n"
     ]
    }
   ],
   "source": [
    "train_start = 1069\n",
    "train_end = 1913\n",
    "X_train, y_train, X_val = get_splits(df_long, train_start, train_end, False)"
   ]
  },
  {
   "cell_type": "markdown",
   "metadata": {},
   "source": [
    "## 3.1 Using base features only"
   ]
  },
  {
   "cell_type": "code",
   "execution_count": 12,
   "metadata": {},
   "outputs": [],
   "source": [
    "removeFeat = ['d', 'sales', 'date', 'wm_yr_wk']\n",
    "derivedFeat = ['lag_28', 'lag_30', 'lag_31', 'lag_35', 'lag_42', 'lag_49','lag_56', 'lag_63', 'lag_70', 'lag_77', \n",
    "               'rmean_28_7', 'rmean_28_14','rmean_28_28', 'rmean_28_30', 'rmean_28_45', 'rmean_28_60', 'rmean_28_90',\n",
    "               'rmean_28_120', 'quarter', 'week', 'day_of_month', 'is_weekend', 'price_shift_t1', 'price_change_t1']\n",
    "features = [c for c in df_long.columns if c not in removeFeat+derivedFeat]"
   ]
  },
  {
   "cell_type": "code",
   "execution_count": 14,
   "metadata": {},
   "outputs": [
    {
     "name": "stdout",
     "output_type": "stream",
     "text": [
      "<<<Training the Model>>>\n",
      "<<<Generating Forecasts>>>\n",
      "<<<Calculating Weights>>>\n",
      "<<<Calculating WRMSSE Score>>>\n",
      "<<<Model Instance Evaluated>>>\n",
      "Local WRMSSE on Validation Data: 0.9480061768091461\n"
     ]
    }
   ],
   "source": [
    "lgb_reg = lgb.LGBMRegressor(importance_type='gain')\n",
    "wrmsse_reg = evaluate_model_instance(lgb_reg, X_train, y_train, X_val, features, train_start, train_end, df_sales, df_cal, df_price, level_groupings, False)\n",
    "print('Local WRMSSE on Validation Data:',wrmsse_reg)"
   ]
  },
  {
   "cell_type": "code",
   "execution_count": 16,
   "metadata": {},
   "outputs": [
    {
     "data": {
      "image/png": "[encoded data removed]",
      "text/plain": [
       "<Figure size 800x800 with 1 Axes>"
      ]
     },
     "metadata": {},
     "output_type": "display_data"
    }
   ],
   "source": [
    "import matplotlib.pyplot as plt\n",
    "#visualize the feature importance\n",
    "plot_importance(lgb_reg, figsize=(8,8))\n",
    "plt.show()"
   ]
  },
  {
   "cell_type": "markdown",
   "metadata": {},
   "source": [
    "## 3.2 Using base and derived features"
   ]
  },
  {
   "cell_type": "code",
   "execution_count": 17,
   "metadata": {},
   "outputs": [],
   "source": [
    "removeFeat = ['d', 'sales', 'date', 'wm_yr_wk']\n",
    "features = [c for c in df_long.columns if c not in removeFeat]"
   ]
  },
  {
   "cell_type": "code",
   "execution_count": 20,
   "metadata": {},
   "outputs": [
    {
     "name": "stdout",
     "output_type": "stream",
     "text": [
      "<<<Training the Model>>>\n",
      "<<<Generating Forecasts>>>\n",
      "<<<Calculating Weights>>>\n",
      "<<<Calculating WRMSSE Score>>>\n",
      "<<<Model Instance Evaluated>>>\n",
      "Local WRMSSE on Validation Data: 0.6482224550366866\n"
     ]
    }
   ],
   "source": [
    "lgb_reg = lgb.LGBMRegressor(importance_type='gain')\n",
    "wrmsse_reg = evaluate_model_instance(lgb_reg, X_train, y_train, X_val, features, train_start, train_end, df_sales, df_cal, df_price, level_groupings, False)\n",
    "print('Local WRMSSE on Validation Data:',wrmsse_reg)"
   ]
  },
  {
   "cell_type": "code",
   "execution_count": 21,
   "metadata": {},
   "outputs": [
    {
     "data": {
      "image/png": "[encoded data removed]",
      "text/plain": [
       "<Figure size 800x800 with 1 Axes>"
      ]
     },
     "metadata": {},
     "output_type": "display_data"
    }
   ],
   "source": [
    "#visualize the feature importance\n",
    "plot_importance(lgb_reg, figsize=(8,8))\n",
    "plt.show()"
   ]
  },
  {
   "cell_type": "markdown",
   "metadata": {
    "id": "DXe-zGqlxWXq"
   },
   "source": [
    "# 4. Hyperparameter Tuning\n",
    "- Start with a range of values for hyperparameters and check the results\n",
    "- Tune the range as per the wrmsse score and check the results again\n",
    "- Repeat the process to get the best set of hyperparameter values"
   ]
  },
  {
   "cell_type": "code",
   "execution_count": 11,
   "metadata": {},
   "outputs": [
    {
     "name": "stdout",
     "output_type": "stream",
     "text": [
      "Train Period: 1069 - 1913\n",
      "Validation Period: 1914 - 1941\n"
     ]
    }
   ],
   "source": [
    "train_start = 1069\n",
    "train_end = 1913\n",
    "X_train, y_train, X_val = get_splits(df_long, train_start, train_end, False)"
   ]
  },
  {
   "cell_type": "code",
   "execution_count": 13,
   "metadata": {},
   "outputs": [],
   "source": [
    "removeFeat = ['d', 'sales', 'date', 'wm_yr_wk']\n",
    "features = [c for c in df_long.columns if c not in removeFeat]"
   ]
  },
  {
   "cell_type": "markdown",
   "metadata": {},
   "source": [
    "## 4.1 Parameter Tuning Part - 1"
   ]
  },
  {
   "cell_type": "code",
   "execution_count": 25,
   "metadata": {},
   "outputs": [
    {
     "name": "stderr",
     "output_type": "stream",
     "text": [
      "\r",
      "  0%|                                                                                   | 0/10 [00:00<?, ?it/s]"
     ]
    },
    {
     "name": "stdout",
     "output_type": "stream",
     "text": [
      "<<<Training the Model>>>\n",
      "<<<Generating Forecasts>>>\n",
      "<<<Calculating Weights>>>\n",
      "<<<Calculating WRMSSE Score>>>\n"
     ]
    },
    {
     "name": "stderr",
     "output_type": "stream",
     "text": [
      "\r",
      " 10%|███████▌                                                                   | 1/10 [01:15<11:19, 75.49s/it]"
     ]
    },
    {
     "name": "stdout",
     "output_type": "stream",
     "text": [
      "<<<Model Instance Evaluated>>>\n",
      "Epoch 1 Summary:\n",
      "Selected Params: {'boosting_type': 'gbdt', 'objective': 'poisson', 'n_jobs': -1, 'seed': 123, 'n_estimators': 100, 'max_depth': -1, 'learning_rate': 0.13, 'num_leaves': 56, 'min_child_samples': 479}\n",
      "Local WRMSSE Score on Validation Data: 0.6188166096532246\n",
      "\n",
      "\n",
      "<<<Training the Model>>>\n",
      "<<<Generating Forecasts>>>\n",
      "<<<Calculating Weights>>>\n",
      "<<<Calculating WRMSSE Score>>>\n"
     ]
    },
    {
     "name": "stderr",
     "output_type": "stream",
     "text": [
      "\r",
      " 20%|███████████████                                                            | 2/10 [02:41<10:54, 81.84s/it]"
     ]
    },
    {
     "name": "stdout",
     "output_type": "stream",
     "text": [
      "<<<Model Instance Evaluated>>>\n",
      "Epoch 2 Summary:\n",
      "Selected Params: {'boosting_type': 'gbdt', 'objective': 'poisson', 'n_jobs': -1, 'seed': 123, 'n_estimators': 100, 'max_depth': -1, 'learning_rate': 0.06, 'num_leaves': 107, 'min_child_samples': 171}\n",
      "Local WRMSSE Score on Validation Data: 0.7133416582988494\n",
      "\n",
      "\n",
      "<<<Training the Model>>>\n",
      "<<<Generating Forecasts>>>\n",
      "<<<Calculating Weights>>>\n",
      "<<<Calculating WRMSSE Score>>>\n"
     ]
    },
    {
     "name": "stderr",
     "output_type": "stream",
     "text": [
      "\r",
      " 30%|██████████████████████▌                                                    | 3/10 [04:06<09:42, 83.21s/it]"
     ]
    },
    {
     "name": "stdout",
     "output_type": "stream",
     "text": [
      "<<<Model Instance Evaluated>>>\n",
      "Epoch 3 Summary:\n",
      "Selected Params: {'boosting_type': 'gbdt', 'objective': 'poisson', 'n_jobs': -1, 'seed': 123, 'n_estimators': 100, 'max_depth': -1, 'learning_rate': 0.15, 'num_leaves': 189, 'min_child_samples': 144}\n",
      "Local WRMSSE Score on Validation Data: 0.5914544482244508\n",
      "\n",
      "\n",
      "<<<Training the Model>>>\n",
      "<<<Generating Forecasts>>>\n",
      "<<<Calculating Weights>>>\n",
      "<<<Calculating WRMSSE Score>>>\n"
     ]
    },
    {
     "name": "stderr",
     "output_type": "stream",
     "text": [
      "\r",
      " 40%|██████████████████████████████                                             | 4/10 [05:21<07:59, 79.98s/it]"
     ]
    },
    {
     "name": "stdout",
     "output_type": "stream",
     "text": [
      "<<<Model Instance Evaluated>>>\n",
      "Epoch 4 Summary:\n",
      "Selected Params: {'boosting_type': 'gbdt', 'objective': 'poisson', 'n_jobs': -1, 'seed': 123, 'n_estimators': 100, 'max_depth': -1, 'learning_rate': 0.12, 'num_leaves': 58, 'min_child_samples': 115}\n",
      "Local WRMSSE Score on Validation Data: 0.6371158056367844\n",
      "\n",
      "\n",
      "<<<Training the Model>>>\n",
      "<<<Generating Forecasts>>>\n",
      "<<<Calculating Weights>>>\n",
      "<<<Calculating WRMSSE Score>>>\n"
     ]
    },
    {
     "name": "stderr",
     "output_type": "stream",
     "text": [
      "\r",
      " 50%|█████████████████████████████████████▌                                     | 5/10 [06:49<06:54, 82.97s/it]"
     ]
    },
    {
     "name": "stdout",
     "output_type": "stream",
     "text": [
      "<<<Model Instance Evaluated>>>\n",
      "Epoch 5 Summary:\n",
      "Selected Params: {'boosting_type': 'gbdt', 'objective': 'poisson', 'n_jobs': -1, 'seed': 123, 'n_estimators': 100, 'max_depth': -1, 'learning_rate': 0.03, 'num_leaves': 109, 'min_child_samples': 358}\n",
      "Local WRMSSE Score on Validation Data: 0.9585551120313607\n",
      "\n",
      "\n",
      "<<<Training the Model>>>\n",
      "<<<Generating Forecasts>>>\n",
      "<<<Calculating Weights>>>\n",
      "<<<Calculating WRMSSE Score>>>\n"
     ]
    },
    {
     "name": "stderr",
     "output_type": "stream",
     "text": [
      "\r",
      " 60%|█████████████████████████████████████████████                              | 6/10 [08:16<05:37, 84.33s/it]"
     ]
    },
    {
     "name": "stdout",
     "output_type": "stream",
     "text": [
      "<<<Model Instance Evaluated>>>\n",
      "Epoch 6 Summary:\n",
      "Selected Params: {'boosting_type': 'gbdt', 'objective': 'poisson', 'n_jobs': -1, 'seed': 123, 'n_estimators': 100, 'max_depth': -1, 'learning_rate': 0.12, 'num_leaves': 193, 'min_child_samples': 201}\n",
      "Local WRMSSE Score on Validation Data: 0.615304781279985\n",
      "\n",
      "\n",
      "<<<Training the Model>>>\n",
      "<<<Generating Forecasts>>>\n",
      "<<<Calculating Weights>>>\n",
      "<<<Calculating WRMSSE Score>>>\n"
     ]
    },
    {
     "name": "stderr",
     "output_type": "stream",
     "text": [
      "\r",
      " 70%|████████████████████████████████████████████████████▌                      | 7/10 [09:41<04:12, 84.28s/it]"
     ]
    },
    {
     "name": "stdout",
     "output_type": "stream",
     "text": [
      "<<<Model Instance Evaluated>>>\n",
      "Epoch 7 Summary:\n",
      "Selected Params: {'boosting_type': 'gbdt', 'objective': 'poisson', 'n_jobs': -1, 'seed': 123, 'n_estimators': 100, 'max_depth': -1, 'learning_rate': 0.15, 'num_leaves': 189, 'min_child_samples': 314}\n",
      "Local WRMSSE Score on Validation Data: 0.6003757110055955\n",
      "\n",
      "\n",
      "<<<Training the Model>>>\n",
      "<<<Generating Forecasts>>>\n",
      "<<<Calculating Weights>>>\n",
      "<<<Calculating WRMSSE Score>>>\n"
     ]
    },
    {
     "name": "stderr",
     "output_type": "stream",
     "text": [
      "\r",
      " 80%|████████████████████████████████████████████████████████████               | 8/10 [11:18<02:56, 88.33s/it]"
     ]
    },
    {
     "name": "stdout",
     "output_type": "stream",
     "text": [
      "<<<Model Instance Evaluated>>>\n",
      "Epoch 8 Summary:\n",
      "Selected Params: {'boosting_type': 'gbdt', 'objective': 'poisson', 'n_jobs': -1, 'seed': 123, 'n_estimators': 100, 'max_depth': -1, 'learning_rate': 0.05, 'num_leaves': 200, 'min_child_samples': 242}\n",
      "Local WRMSSE Score on Validation Data: 0.7460157354828882\n",
      "\n",
      "\n",
      "<<<Training the Model>>>\n",
      "<<<Generating Forecasts>>>\n",
      "<<<Calculating Weights>>>\n",
      "<<<Calculating WRMSSE Score>>>\n"
     ]
    },
    {
     "name": "stderr",
     "output_type": "stream",
     "text": [
      "\r",
      " 90%|███████████████████████████████████████████████████████████████████▌       | 9/10 [12:29<01:23, 83.06s/it]"
     ]
    },
    {
     "name": "stdout",
     "output_type": "stream",
     "text": [
      "<<<Model Instance Evaluated>>>\n",
      "Epoch 9 Summary:\n",
      "Selected Params: {'boosting_type': 'gbdt', 'objective': 'poisson', 'n_jobs': -1, 'seed': 123, 'n_estimators': 100, 'max_depth': -1, 'learning_rate': 0.16, 'num_leaves': 51, 'min_child_samples': 488}\n",
      "Local WRMSSE Score on Validation Data: 0.6192072260424811\n",
      "\n",
      "\n",
      "<<<Training the Model>>>\n",
      "<<<Generating Forecasts>>>\n",
      "<<<Calculating Weights>>>\n",
      "<<<Calculating WRMSSE Score>>>\n"
     ]
    },
    {
     "name": "stderr",
     "output_type": "stream",
     "text": [
      "100%|██████████████████████████████████████████████████████████████████████████| 10/10 [13:52<00:00, 83.21s/it]"
     ]
    },
    {
     "name": "stdout",
     "output_type": "stream",
     "text": [
      "<<<Model Instance Evaluated>>>\n",
      "Epoch 10 Summary:\n",
      "Selected Params: {'boosting_type': 'gbdt', 'objective': 'poisson', 'n_jobs': -1, 'seed': 123, 'n_estimators': 100, 'max_depth': -1, 'learning_rate': 0.16, 'num_leaves': 158, 'min_child_samples': 274}\n",
      "Local WRMSSE Score on Validation Data: 0.6013044704596279\n",
      "\n",
      "\n"
     ]
    },
    {
     "name": "stderr",
     "output_type": "stream",
     "text": [
      "\n"
     ]
    }
   ],
   "source": [
    "#set seed for reproducibility\n",
    "random.seed(42)\n",
    "\n",
    "epochs = 10\n",
    "\n",
    "params = {'learning_rate': (0.01, 0.2),\n",
    "          'num_leaves': (50, 200),\n",
    "          'min_child_samples':(100,500)}\n",
    "\n",
    "selected_params = {'boosting_type':'gbdt',\n",
    "                   'objective':'poisson', \n",
    "                   'n_jobs':-1,\n",
    "                   'seed':123,\n",
    "                   'n_estimators':100,\n",
    "                   'max_depth':-1,\n",
    "                   'learning_rate':0, \n",
    "                   'num_leaves': 0,\n",
    "                   'min_child_samples': 0}\n",
    "\n",
    "\n",
    "params_each_epoch = []\n",
    "wrmsse_each_epoch = []\n",
    "\n",
    "for i in tqdm(range(1, epochs+1)):\n",
    "    \n",
    "    for k,v in list(params.items()):\n",
    "        if type(v[0])==float:\n",
    "            selected_params[k] = round(random.uniform(v[0], v[1]),2)\n",
    "        else:\n",
    "            selected_params[k] = random.randint(v[0], v[1])\n",
    "        \n",
    "    lgb_rand = lgb.LGBMRegressor(boosting_type = selected_params['boosting_type'], \n",
    "                                 objective = selected_params['objective'], \n",
    "                                 n_jobs = selected_params['n_jobs'], \n",
    "                                 seed = selected_params['seed'], \n",
    "                                 n_estimators = selected_params['n_estimators'], \n",
    "                                 max_depth = selected_params['max_depth'],\n",
    "                                 learning_rate = selected_params['learning_rate'], \n",
    "                                 num_leaves = selected_params['num_leaves'],\n",
    "                                 min_child_samples = selected_params['min_child_samples'])\n",
    "        \n",
    "    wrmsse_rand = evaluate_model_instance(lgb_rand, X_train, y_train, X_val, features, train_start, train_end, \n",
    "                                          df_sales, df_cal, df_price, level_groupings, return_df=False)\n",
    "    \n",
    "    \n",
    "    print(f'Epoch {i} Summary:')\n",
    "    print('Selected Params:', selected_params)\n",
    "    print('Local WRMSSE Score on Validation Data:', wrmsse_rand)\n",
    "    print('\\n')\n",
    "    params_each_epoch.append(list(selected_params.items()))\n",
    "    wrmsse_each_epoch.append(wrmsse_rand)\n",
    "    \n",
    "params_each_epoch = list(map(dict, params_each_epoch))"
   ]
  },
  {
   "cell_type": "code",
   "execution_count": 30,
   "metadata": {},
   "outputs": [
    {
     "data": {
      "text/html": [
       "<div>\n",
       "<style scoped>\n",
       "    .dataframe tbody tr th:only-of-type {\n",
       "        vertical-align: middle;\n",
       "    }\n",
       "\n",
       "    .dataframe tbody tr th {\n",
       "        vertical-align: top;\n",
       "    }\n",
       "\n",
       "    .dataframe thead th {\n",
       "        text-align: right;\n",
       "    }\n",
       "</style>\n",
       "<table border=\"1\" class=\"dataframe\">\n",
       "  <thead>\n",
       "    <tr style=\"text-align: right;\">\n",
       "      <th></th>\n",
       "      <th>boosting_type</th>\n",
       "      <th>objective</th>\n",
       "      <th>n_jobs</th>\n",
       "      <th>seed</th>\n",
       "      <th>n_estimators</th>\n",
       "      <th>max_depth</th>\n",
       "      <th>learning_rate</th>\n",
       "      <th>num_leaves</th>\n",
       "      <th>min_child_samples</th>\n",
       "      <th>wrmsse</th>\n",
       "    </tr>\n",
       "  </thead>\n",
       "  <tbody>\n",
       "    <tr>\n",
       "      <th>2</th>\n",
       "      <td>gbdt</td>\n",
       "      <td>poisson</td>\n",
       "      <td>-1</td>\n",
       "      <td>123</td>\n",
       "      <td>100</td>\n",
       "      <td>-1</td>\n",
       "      <td>0.15</td>\n",
       "      <td>189</td>\n",
       "      <td>144</td>\n",
       "      <td>0.591454</td>\n",
       "    </tr>\n",
       "    <tr>\n",
       "      <th>6</th>\n",
       "      <td>gbdt</td>\n",
       "      <td>poisson</td>\n",
       "      <td>-1</td>\n",
       "      <td>123</td>\n",
       "      <td>100</td>\n",
       "      <td>-1</td>\n",
       "      <td>0.15</td>\n",
       "      <td>189</td>\n",
       "      <td>314</td>\n",
       "      <td>0.600376</td>\n",
       "    </tr>\n",
       "    <tr>\n",
       "      <th>9</th>\n",
       "      <td>gbdt</td>\n",
       "      <td>poisson</td>\n",
       "      <td>-1</td>\n",
       "      <td>123</td>\n",
       "      <td>100</td>\n",
       "      <td>-1</td>\n",
       "      <td>0.16</td>\n",
       "      <td>158</td>\n",
       "      <td>274</td>\n",
       "      <td>0.601304</td>\n",
       "    </tr>\n",
       "    <tr>\n",
       "      <th>5</th>\n",
       "      <td>gbdt</td>\n",
       "      <td>poisson</td>\n",
       "      <td>-1</td>\n",
       "      <td>123</td>\n",
       "      <td>100</td>\n",
       "      <td>-1</td>\n",
       "      <td>0.12</td>\n",
       "      <td>193</td>\n",
       "      <td>201</td>\n",
       "      <td>0.615305</td>\n",
       "    </tr>\n",
       "    <tr>\n",
       "      <th>0</th>\n",
       "      <td>gbdt</td>\n",
       "      <td>poisson</td>\n",
       "      <td>-1</td>\n",
       "      <td>123</td>\n",
       "      <td>100</td>\n",
       "      <td>-1</td>\n",
       "      <td>0.13</td>\n",
       "      <td>56</td>\n",
       "      <td>479</td>\n",
       "      <td>0.618817</td>\n",
       "    </tr>\n",
       "    <tr>\n",
       "      <th>8</th>\n",
       "      <td>gbdt</td>\n",
       "      <td>poisson</td>\n",
       "      <td>-1</td>\n",
       "      <td>123</td>\n",
       "      <td>100</td>\n",
       "      <td>-1</td>\n",
       "      <td>0.16</td>\n",
       "      <td>51</td>\n",
       "      <td>488</td>\n",
       "      <td>0.619207</td>\n",
       "    </tr>\n",
       "    <tr>\n",
       "      <th>3</th>\n",
       "      <td>gbdt</td>\n",
       "      <td>poisson</td>\n",
       "      <td>-1</td>\n",
       "      <td>123</td>\n",
       "      <td>100</td>\n",
       "      <td>-1</td>\n",
       "      <td>0.12</td>\n",
       "      <td>58</td>\n",
       "      <td>115</td>\n",
       "      <td>0.637116</td>\n",
       "    </tr>\n",
       "    <tr>\n",
       "      <th>1</th>\n",
       "      <td>gbdt</td>\n",
       "      <td>poisson</td>\n",
       "      <td>-1</td>\n",
       "      <td>123</td>\n",
       "      <td>100</td>\n",
       "      <td>-1</td>\n",
       "      <td>0.06</td>\n",
       "      <td>107</td>\n",
       "      <td>171</td>\n",
       "      <td>0.713342</td>\n",
       "    </tr>\n",
       "    <tr>\n",
       "      <th>7</th>\n",
       "      <td>gbdt</td>\n",
       "      <td>poisson</td>\n",
       "      <td>-1</td>\n",
       "      <td>123</td>\n",
       "      <td>100</td>\n",
       "      <td>-1</td>\n",
       "      <td>0.05</td>\n",
       "      <td>200</td>\n",
       "      <td>242</td>\n",
       "      <td>0.746016</td>\n",
       "    </tr>\n",
       "    <tr>\n",
       "      <th>4</th>\n",
       "      <td>gbdt</td>\n",
       "      <td>poisson</td>\n",
       "      <td>-1</td>\n",
       "      <td>123</td>\n",
       "      <td>100</td>\n",
       "      <td>-1</td>\n",
       "      <td>0.03</td>\n",
       "      <td>109</td>\n",
       "      <td>358</td>\n",
       "      <td>0.958555</td>\n",
       "    </tr>\n",
       "  </tbody>\n",
       "</table>\n",
       "</div>"
      ],
      "text/plain": [
       "  boosting_type objective  n_jobs  seed  n_estimators  max_depth  \\\n",
       "2          gbdt   poisson      -1   123           100         -1   \n",
       "6          gbdt   poisson      -1   123           100         -1   \n",
       "9          gbdt   poisson      -1   123           100         -1   \n",
       "5          gbdt   poisson      -1   123           100         -1   \n",
       "0          gbdt   poisson      -1   123           100         -1   \n",
       "8          gbdt   poisson      -1   123           100         -1   \n",
       "3          gbdt   poisson      -1   123           100         -1   \n",
       "1          gbdt   poisson      -1   123           100         -1   \n",
       "7          gbdt   poisson      -1   123           100         -1   \n",
       "4          gbdt   poisson      -1   123           100         -1   \n",
       "\n",
       "   learning_rate  num_leaves  min_child_samples    wrmsse  \n",
       "2           0.15         189                144  0.591454  \n",
       "6           0.15         189                314  0.600376  \n",
       "9           0.16         158                274  0.601304  \n",
       "5           0.12         193                201  0.615305  \n",
       "0           0.13          56                479  0.618817  \n",
       "8           0.16          51                488  0.619207  \n",
       "3           0.12          58                115  0.637116  \n",
       "1           0.06         107                171  0.713342  \n",
       "7           0.05         200                242  0.746016  \n",
       "4           0.03         109                358  0.958555  "
      ]
     },
     "execution_count": 30,
     "metadata": {},
     "output_type": "execute_result"
    }
   ],
   "source": [
    "results = pd.DataFrame(params_each_epoch)\n",
    "results['wrmsse'] = wrmsse_each_epoch\n",
    "results.sort_values('wrmsse',ascending=True, inplace=True)\n",
    "results"
   ]
  },
  {
   "cell_type": "markdown",
   "metadata": {},
   "source": [
    "## 4.2 Parameter Tuning Part - 2"
   ]
  },
  {
   "cell_type": "code",
   "execution_count": 14,
   "metadata": {},
   "outputs": [
    {
     "name": "stderr",
     "output_type": "stream",
     "text": [
      "\r",
      "  0%|                                                                                   | 0/10 [00:00<?, ?it/s]"
     ]
    },
    {
     "name": "stdout",
     "output_type": "stream",
     "text": [
      "<<<Training the Model>>>\n",
      "<<<Generating Forecasts>>>\n",
      "<<<Calculating Weights>>>\n",
      "<<<Calculating WRMSSE Score>>>\n"
     ]
    },
    {
     "name": "stderr",
     "output_type": "stream",
     "text": [
      "\r",
      " 10%|███████▌                                                                   | 1/10 [01:25<12:51, 85.74s/it]"
     ]
    },
    {
     "name": "stdout",
     "output_type": "stream",
     "text": [
      "<<<Model Instance Evaluated>>>\n",
      "Epoch 1 Summary:\n",
      "Selected Params: {'boosting_type': 'gbdt', 'objective': 'poisson', 'n_jobs': -1, 'seed': 123, 'n_estimators': 100, 'max_depth': -1, 'learning_rate': 0.23, 'num_leaves': 225, 'min_child_samples': 479}\n",
      "Local WRMSSE Score on Validation Data: 0.5900924638094514\n",
      "\n",
      "\n",
      "<<<Training the Model>>>\n",
      "<<<Generating Forecasts>>>\n",
      "<<<Calculating Weights>>>\n",
      "<<<Calculating WRMSSE Score>>>\n"
     ]
    },
    {
     "name": "stderr",
     "output_type": "stream",
     "text": [
      "\r",
      " 20%|███████████████                                                            | 2/10 [02:58<12:00, 90.01s/it]"
     ]
    },
    {
     "name": "stdout",
     "output_type": "stream",
     "text": [
      "<<<Model Instance Evaluated>>>\n",
      "Epoch 2 Summary:\n",
      "Selected Params: {'boosting_type': 'gbdt', 'objective': 'poisson', 'n_jobs': -1, 'seed': 123, 'n_estimators': 100, 'max_depth': -1, 'learning_rate': 0.16, 'num_leaves': 428, 'min_child_samples': 171}\n",
      "Local WRMSSE Score on Validation Data: 0.5846528666129969\n",
      "\n",
      "\n",
      "<<<Training the Model>>>\n",
      "<<<Generating Forecasts>>>\n",
      "<<<Calculating Weights>>>\n",
      "<<<Calculating WRMSSE Score>>>\n"
     ]
    },
    {
     "name": "stderr",
     "output_type": "stream",
     "text": [
      "\r",
      " 30%|██████████████████████▏                                                   | 3/10 [04:51<11:41, 100.19s/it]"
     ]
    },
    {
     "name": "stdout",
     "output_type": "stream",
     "text": [
      "<<<Model Instance Evaluated>>>\n",
      "Epoch 3 Summary:\n",
      "Selected Params: {'boosting_type': 'gbdt', 'objective': 'poisson', 'n_jobs': -1, 'seed': 123, 'n_estimators': 100, 'max_depth': -1, 'learning_rate': 0.25, 'num_leaves': 892, 'min_child_samples': 479}\n",
      "Local WRMSSE Score on Validation Data: 0.6018531664992217\n",
      "\n",
      "\n",
      "<<<Training the Model>>>\n",
      "<<<Generating Forecasts>>>\n",
      "<<<Calculating Weights>>>\n",
      "<<<Calculating WRMSSE Score>>>\n"
     ]
    },
    {
     "name": "stderr",
     "output_type": "stream",
     "text": [
      "\r",
      " 40%|██████████████████████████████                                             | 4/10 [06:19<09:33, 95.66s/it]"
     ]
    },
    {
     "name": "stdout",
     "output_type": "stream",
     "text": [
      "<<<Model Instance Evaluated>>>\n",
      "Epoch 4 Summary:\n",
      "Selected Params: {'boosting_type': 'gbdt', 'objective': 'poisson', 'n_jobs': -1, 'seed': 123, 'n_estimators': 100, 'max_depth': -1, 'learning_rate': 0.28, 'num_leaves': 289, 'min_child_samples': 402}\n",
      "Local WRMSSE Score on Validation Data: 0.5736728826667026\n",
      "\n",
      "\n",
      "<<<Training the Model>>>\n",
      "<<<Generating Forecasts>>>\n",
      "<<<Calculating Weights>>>\n",
      "<<<Calculating WRMSSE Score>>>\n"
     ]
    },
    {
     "name": "stderr",
     "output_type": "stream",
     "text": [
      "\r",
      " 50%|█████████████████████████████████████▌                                     | 5/10 [07:44<07:38, 91.74s/it]"
     ]
    },
    {
     "name": "stdout",
     "output_type": "stream",
     "text": [
      "<<<Model Instance Evaluated>>>\n",
      "Epoch 5 Summary:\n",
      "Selected Params: {'boosting_type': 'gbdt', 'objective': 'poisson', 'n_jobs': -1, 'seed': 123, 'n_estimators': 100, 'max_depth': -1, 'learning_rate': 0.18, 'num_leaves': 230, 'min_child_samples': 147}\n",
      "Local WRMSSE Score on Validation Data: 0.5866829426910679\n",
      "\n",
      "\n",
      "<<<Training the Model>>>\n",
      "<<<Generating Forecasts>>>\n",
      "<<<Calculating Weights>>>\n",
      "<<<Calculating WRMSSE Score>>>\n"
     ]
    },
    {
     "name": "stderr",
     "output_type": "stream",
     "text": [
      "\r",
      " 60%|█████████████████████████████████████████████                              | 6/10 [09:27<06:21, 95.45s/it]"
     ]
    },
    {
     "name": "stdout",
     "output_type": "stream",
     "text": [
      "<<<Model Instance Evaluated>>>\n",
      "Epoch 6 Summary:\n",
      "Selected Params: {'boosting_type': 'gbdt', 'objective': 'poisson', 'n_jobs': -1, 'seed': 123, 'n_estimators': 100, 'max_depth': -1, 'learning_rate': 0.14, 'num_leaves': 717, 'min_child_samples': 408}\n",
      "Local WRMSSE Score on Validation Data: 0.5798958866904244\n",
      "\n",
      "\n",
      "<<<Training the Model>>>\n",
      "<<<Generating Forecasts>>>\n",
      "<<<Calculating Weights>>>\n",
      "<<<Calculating WRMSSE Score>>>\n"
     ]
    },
    {
     "name": "stderr",
     "output_type": "stream",
     "text": [
      "\r",
      " 70%|████████████████████████████████████████████████████▌                      | 7/10 [11:02<04:45, 95.31s/it]"
     ]
    },
    {
     "name": "stdout",
     "output_type": "stream",
     "text": [
      "<<<Model Instance Evaluated>>>\n",
      "Epoch 7 Summary:\n",
      "Selected Params: {'boosting_type': 'gbdt', 'objective': 'poisson', 'n_jobs': -1, 'seed': 123, 'n_estimators': 100, 'max_depth': -1, 'learning_rate': 0.11, 'num_leaves': 403, 'min_child_samples': 466}\n",
      "Local WRMSSE Score on Validation Data: 0.6216291410871244\n",
      "\n",
      "\n",
      "<<<Training the Model>>>\n",
      "<<<Generating Forecasts>>>\n",
      "<<<Calculating Weights>>>\n",
      "<<<Calculating WRMSSE Score>>>\n"
     ]
    },
    {
     "name": "stderr",
     "output_type": "stream",
     "text": [
      "\r",
      " 80%|████████████████████████████████████████████████████████████               | 8/10 [12:46<03:16, 98.23s/it]"
     ]
    },
    {
     "name": "stdout",
     "output_type": "stream",
     "text": [
      "<<<Model Instance Evaluated>>>\n",
      "Epoch 8 Summary:\n",
      "Selected Params: {'boosting_type': 'gbdt', 'objective': 'poisson', 'n_jobs': -1, 'seed': 123, 'n_estimators': 100, 'max_depth': -1, 'learning_rate': 0.23, 'num_leaves': 758, 'min_child_samples': 314}\n",
      "Local WRMSSE Score on Validation Data: 0.5960998202195598\n",
      "\n",
      "\n",
      "<<<Training the Model>>>\n",
      "<<<Generating Forecasts>>>\n",
      "<<<Calculating Weights>>>\n",
      "<<<Calculating WRMSSE Score>>>\n"
     ]
    },
    {
     "name": "stderr",
     "output_type": "stream",
     "text": [
      "\r",
      " 90%|██████████████████████████████████████████████████████████████████▌       | 9/10 [14:30<01:40, 100.05s/it]"
     ]
    },
    {
     "name": "stdout",
     "output_type": "stream",
     "text": [
      "<<<Model Instance Evaluated>>>\n",
      "Epoch 9 Summary:\n",
      "Selected Params: {'boosting_type': 'gbdt', 'objective': 'poisson', 'n_jobs': -1, 'seed': 123, 'n_estimators': 100, 'max_depth': -1, 'learning_rate': 0.14, 'num_leaves': 803, 'min_child_samples': 242}\n",
      "Local WRMSSE Score on Validation Data: 0.5907610437791956\n",
      "\n",
      "\n",
      "<<<Training the Model>>>\n",
      "<<<Generating Forecasts>>>\n",
      "<<<Calculating Weights>>>\n",
      "<<<Calculating WRMSSE Score>>>\n"
     ]
    },
    {
     "name": "stderr",
     "output_type": "stream",
     "text": [
      "100%|██████████████████████████████████████████████████████████████████████████| 10/10 [15:53<00:00, 95.39s/it]"
     ]
    },
    {
     "name": "stdout",
     "output_type": "stream",
     "text": [
      "<<<Model Instance Evaluated>>>\n",
      "Epoch 10 Summary:\n",
      "Selected Params: {'boosting_type': 'gbdt', 'objective': 'poisson', 'n_jobs': -1, 'seed': 123, 'n_estimators': 100, 'max_depth': -1, 'learning_rate': 0.26, 'num_leaves': 206, 'min_child_samples': 488}\n",
      "Local WRMSSE Score on Validation Data: 0.5866768994099802\n",
      "\n",
      "\n"
     ]
    },
    {
     "name": "stderr",
     "output_type": "stream",
     "text": [
      "\n"
     ]
    }
   ],
   "source": [
    "#set seed for reproducibility\n",
    "random.seed(42)\n",
    "\n",
    "epochs = 10\n",
    "\n",
    "params = {'learning_rate': (0.1, 0.3),\n",
    "          'num_leaves': (200, 1000),\n",
    "          'min_child_samples':(100,500)}\n",
    "\n",
    "selected_params = {'boosting_type':'gbdt',\n",
    "                   'objective':'poisson', \n",
    "                   'n_jobs':-1,\n",
    "                   'seed':123,\n",
    "                   'n_estimators':100,\n",
    "                   'max_depth':-1,\n",
    "                   'learning_rate':0, \n",
    "                   'num_leaves': 0,\n",
    "                   'min_child_samples': 0}\n",
    "\n",
    "\n",
    "params_each_epoch = []\n",
    "wrmsse_each_epoch = []\n",
    "\n",
    "for i in tqdm(range(1, epochs+1)):\n",
    "    \n",
    "    for k,v in list(params.items()):\n",
    "        if type(v[0])==float:\n",
    "            selected_params[k] = round(random.uniform(v[0], v[1]),2)\n",
    "        else:\n",
    "            selected_params[k] = random.randint(v[0], v[1])\n",
    "        \n",
    "    lgb_rand = lgb.LGBMRegressor(boosting_type = selected_params['boosting_type'], \n",
    "                                 objective = selected_params['objective'], \n",
    "                                 n_jobs = selected_params['n_jobs'], \n",
    "                                 seed = selected_params['seed'], \n",
    "                                 n_estimators = selected_params['n_estimators'], \n",
    "                                 max_depth = selected_params['max_depth'],\n",
    "                                 learning_rate = selected_params['learning_rate'], \n",
    "                                 num_leaves = selected_params['num_leaves'],\n",
    "                                 min_child_samples = selected_params['min_child_samples'])\n",
    "        \n",
    "    wrmsse_rand = evaluate_model_instance(lgb_rand, X_train, y_train, X_val, features, train_start, train_end, \n",
    "                                          df_sales, df_cal, df_price, level_groupings, return_df=False)\n",
    "    \n",
    "    \n",
    "    print(f'Epoch {i} Summary:')\n",
    "    print('Selected Params:', selected_params)\n",
    "    print('Local WRMSSE Score on Validation Data:', wrmsse_rand)\n",
    "    print('\\n')\n",
    "    params_each_epoch.append(list(selected_params.items()))\n",
    "    wrmsse_each_epoch.append(wrmsse_rand)\n",
    "    \n",
    "params_each_epoch = list(map(dict, params_each_epoch))"
   ]
  },
  {
   "cell_type": "code",
   "execution_count": 15,
   "metadata": {},
   "outputs": [
    {
     "data": {
      "text/html": [
       "<div>\n",
       "<style scoped>\n",
       "    .dataframe tbody tr th:only-of-type {\n",
       "        vertical-align: middle;\n",
       "    }\n",
       "\n",
       "    .dataframe tbody tr th {\n",
       "        vertical-align: top;\n",
       "    }\n",
       "\n",
       "    .dataframe thead th {\n",
       "        text-align: right;\n",
       "    }\n",
       "</style>\n",
       "<table border=\"1\" class=\"dataframe\">\n",
       "  <thead>\n",
       "    <tr style=\"text-align: right;\">\n",
       "      <th></th>\n",
       "      <th>boosting_type</th>\n",
       "      <th>objective</th>\n",
       "      <th>n_jobs</th>\n",
       "      <th>seed</th>\n",
       "      <th>n_estimators</th>\n",
       "      <th>max_depth</th>\n",
       "      <th>learning_rate</th>\n",
       "      <th>num_leaves</th>\n",
       "      <th>min_child_samples</th>\n",
       "      <th>wrmsse</th>\n",
       "    </tr>\n",
       "  </thead>\n",
       "  <tbody>\n",
       "    <tr>\n",
       "      <th>3</th>\n",
       "      <td>gbdt</td>\n",
       "      <td>poisson</td>\n",
       "      <td>-1</td>\n",
       "      <td>123</td>\n",
       "      <td>100</td>\n",
       "      <td>-1</td>\n",
       "      <td>0.28</td>\n",
       "      <td>289</td>\n",
       "      <td>402</td>\n",
       "      <td>0.573673</td>\n",
       "    </tr>\n",
       "    <tr>\n",
       "      <th>5</th>\n",
       "      <td>gbdt</td>\n",
       "      <td>poisson</td>\n",
       "      <td>-1</td>\n",
       "      <td>123</td>\n",
       "      <td>100</td>\n",
       "      <td>-1</td>\n",
       "      <td>0.14</td>\n",
       "      <td>717</td>\n",
       "      <td>408</td>\n",
       "      <td>0.579896</td>\n",
       "    </tr>\n",
       "    <tr>\n",
       "      <th>1</th>\n",
       "      <td>gbdt</td>\n",
       "      <td>poisson</td>\n",
       "      <td>-1</td>\n",
       "      <td>123</td>\n",
       "      <td>100</td>\n",
       "      <td>-1</td>\n",
       "      <td>0.16</td>\n",
       "      <td>428</td>\n",
       "      <td>171</td>\n",
       "      <td>0.584653</td>\n",
       "    </tr>\n",
       "    <tr>\n",
       "      <th>9</th>\n",
       "      <td>gbdt</td>\n",
       "      <td>poisson</td>\n",
       "      <td>-1</td>\n",
       "      <td>123</td>\n",
       "      <td>100</td>\n",
       "      <td>-1</td>\n",
       "      <td>0.26</td>\n",
       "      <td>206</td>\n",
       "      <td>488</td>\n",
       "      <td>0.586677</td>\n",
       "    </tr>\n",
       "    <tr>\n",
       "      <th>4</th>\n",
       "      <td>gbdt</td>\n",
       "      <td>poisson</td>\n",
       "      <td>-1</td>\n",
       "      <td>123</td>\n",
       "      <td>100</td>\n",
       "      <td>-1</td>\n",
       "      <td>0.18</td>\n",
       "      <td>230</td>\n",
       "      <td>147</td>\n",
       "      <td>0.586683</td>\n",
       "    </tr>\n",
       "    <tr>\n",
       "      <th>0</th>\n",
       "      <td>gbdt</td>\n",
       "      <td>poisson</td>\n",
       "      <td>-1</td>\n",
       "      <td>123</td>\n",
       "      <td>100</td>\n",
       "      <td>-1</td>\n",
       "      <td>0.23</td>\n",
       "      <td>225</td>\n",
       "      <td>479</td>\n",
       "      <td>0.590092</td>\n",
       "    </tr>\n",
       "    <tr>\n",
       "      <th>8</th>\n",
       "      <td>gbdt</td>\n",
       "      <td>poisson</td>\n",
       "      <td>-1</td>\n",
       "      <td>123</td>\n",
       "      <td>100</td>\n",
       "      <td>-1</td>\n",
       "      <td>0.14</td>\n",
       "      <td>803</td>\n",
       "      <td>242</td>\n",
       "      <td>0.590761</td>\n",
       "    </tr>\n",
       "    <tr>\n",
       "      <th>7</th>\n",
       "      <td>gbdt</td>\n",
       "      <td>poisson</td>\n",
       "      <td>-1</td>\n",
       "      <td>123</td>\n",
       "      <td>100</td>\n",
       "      <td>-1</td>\n",
       "      <td>0.23</td>\n",
       "      <td>758</td>\n",
       "      <td>314</td>\n",
       "      <td>0.596100</td>\n",
       "    </tr>\n",
       "    <tr>\n",
       "      <th>2</th>\n",
       "      <td>gbdt</td>\n",
       "      <td>poisson</td>\n",
       "      <td>-1</td>\n",
       "      <td>123</td>\n",
       "      <td>100</td>\n",
       "      <td>-1</td>\n",
       "      <td>0.25</td>\n",
       "      <td>892</td>\n",
       "      <td>479</td>\n",
       "      <td>0.601853</td>\n",
       "    </tr>\n",
       "    <tr>\n",
       "      <th>6</th>\n",
       "      <td>gbdt</td>\n",
       "      <td>poisson</td>\n",
       "      <td>-1</td>\n",
       "      <td>123</td>\n",
       "      <td>100</td>\n",
       "      <td>-1</td>\n",
       "      <td>0.11</td>\n",
       "      <td>403</td>\n",
       "      <td>466</td>\n",
       "      <td>0.621629</td>\n",
       "    </tr>\n",
       "  </tbody>\n",
       "</table>\n",
       "</div>"
      ],
      "text/plain": [
       "  boosting_type objective  n_jobs  seed  n_estimators  max_depth  \\\n",
       "3          gbdt   poisson      -1   123           100         -1   \n",
       "5          gbdt   poisson      -1   123           100         -1   \n",
       "1          gbdt   poisson      -1   123           100         -1   \n",
       "9          gbdt   poisson      -1   123           100         -1   \n",
       "4          gbdt   poisson      -1   123           100         -1   \n",
       "0          gbdt   poisson      -1   123           100         -1   \n",
       "8          gbdt   poisson      -1   123           100         -1   \n",
       "7          gbdt   poisson      -1   123           100         -1   \n",
       "2          gbdt   poisson      -1   123           100         -1   \n",
       "6          gbdt   poisson      -1   123           100         -1   \n",
       "\n",
       "   learning_rate  num_leaves  min_child_samples    wrmsse  \n",
       "3           0.28         289                402  0.573673  \n",
       "5           0.14         717                408  0.579896  \n",
       "1           0.16         428                171  0.584653  \n",
       "9           0.26         206                488  0.586677  \n",
       "4           0.18         230                147  0.586683  \n",
       "0           0.23         225                479  0.590092  \n",
       "8           0.14         803                242  0.590761  \n",
       "7           0.23         758                314  0.596100  \n",
       "2           0.25         892                479  0.601853  \n",
       "6           0.11         403                466  0.621629  "
      ]
     },
     "execution_count": 15,
     "metadata": {},
     "output_type": "execute_result"
    }
   ],
   "source": [
    "results = pd.DataFrame(params_each_epoch)\n",
    "results['wrmsse'] = wrmsse_each_epoch\n",
    "results.sort_values('wrmsse',ascending=True, inplace=True)\n",
    "results"
   ]
  },
  {
   "cell_type": "markdown",
   "metadata": {},
   "source": [
    "## 4.3 Parameter Tuning Part - 3"
   ]
  },
  {
   "cell_type": "code",
   "execution_count": 31,
   "metadata": {},
   "outputs": [
    {
     "data": {
      "text/plain": [
       "{'boosting_type': 'gbdt',\n",
       " 'objective': 'poisson',\n",
       " 'n_jobs': -1,\n",
       " 'seed': 123,\n",
       " 'n_estimators': 100,\n",
       " 'max_depth': -1,\n",
       " 'learning_rate': 0.28,\n",
       " 'num_leaves': 289,\n",
       " 'min_child_samples': 402}"
      ]
     },
     "execution_count": 31,
     "metadata": {},
     "output_type": "execute_result"
    }
   ],
   "source": [
    "best_params = results.iloc[0,:-1].to_dict()\n",
    "best_params"
   ]
  },
  {
   "cell_type": "code",
   "execution_count": 25,
   "metadata": {
    "scrolled": true
   },
   "outputs": [
    {
     "name": "stderr",
     "output_type": "stream",
     "text": [
      "\r",
      "  0%|                                                                                    | 0/8 [00:00<?, ?it/s]"
     ]
    },
    {
     "name": "stdout",
     "output_type": "stream",
     "text": [
      "<<<Training the Model>>>\n",
      "<<<Generating Forecasts>>>\n",
      "<<<Calculating Weights>>>\n",
      "<<<Calculating WRMSSE Score>>>\n"
     ]
    },
    {
     "name": "stderr",
     "output_type": "stream",
     "text": [
      "\r",
      " 12%|█████████▌                                                                  | 1/8 [00:57<06:44, 57.79s/it]"
     ]
    },
    {
     "name": "stdout",
     "output_type": "stream",
     "text": [
      "<<<Model Instance Evaluated>>>\n",
      "Epoch 1 Summary:\n",
      "Selected Number of Estimators: 50\n",
      "Local WRMSSE Score on Validation Data: 0.599588256173172\n",
      "\n",
      "\n",
      "<<<Training the Model>>>\n",
      "<<<Generating Forecasts>>>\n",
      "<<<Calculating Weights>>>\n",
      "<<<Calculating WRMSSE Score>>>\n"
     ]
    },
    {
     "name": "stderr",
     "output_type": "stream",
     "text": [
      "\r",
      " 25%|███████████████████                                                         | 2/8 [02:10<06:38, 66.43s/it]"
     ]
    },
    {
     "name": "stdout",
     "output_type": "stream",
     "text": [
      "<<<Model Instance Evaluated>>>\n",
      "Epoch 2 Summary:\n",
      "Selected Number of Estimators: 75\n",
      "Local WRMSSE Score on Validation Data: 0.5801404041048497\n",
      "\n",
      "\n",
      "<<<Training the Model>>>\n",
      "<<<Generating Forecasts>>>\n",
      "<<<Calculating Weights>>>\n",
      "<<<Calculating WRMSSE Score>>>\n"
     ]
    },
    {
     "name": "stderr",
     "output_type": "stream",
     "text": [
      "\r",
      " 38%|████████████████████████████▌                                               | 3/8 [03:23<05:48, 69.71s/it]"
     ]
    },
    {
     "name": "stdout",
     "output_type": "stream",
     "text": [
      "<<<Model Instance Evaluated>>>\n",
      "Epoch 3 Summary:\n",
      "Selected Number of Estimators: 80\n",
      "Local WRMSSE Score on Validation Data: 0.5730982630380483\n",
      "\n",
      "\n",
      "<<<Training the Model>>>\n",
      "<<<Generating Forecasts>>>\n",
      "<<<Calculating Weights>>>\n",
      "<<<Calculating WRMSSE Score>>>\n"
     ]
    },
    {
     "name": "stderr",
     "output_type": "stream",
     "text": [
      "\r",
      " 50%|██████████████████████████████████████                                      | 4/8 [04:45<04:57, 74.27s/it]"
     ]
    },
    {
     "name": "stdout",
     "output_type": "stream",
     "text": [
      "<<<Model Instance Evaluated>>>\n",
      "Epoch 4 Summary:\n",
      "Selected Number of Estimators: 90\n",
      "Local WRMSSE Score on Validation Data: 0.5717035288102512\n",
      "\n",
      "\n",
      "<<<Training the Model>>>\n",
      "<<<Generating Forecasts>>>\n",
      "<<<Calculating Weights>>>\n",
      "<<<Calculating WRMSSE Score>>>\n"
     ]
    },
    {
     "name": "stderr",
     "output_type": "stream",
     "text": [
      "\r",
      " 62%|███████████████████████████████████████████████▌                            | 5/8 [06:09<03:53, 77.87s/it]"
     ]
    },
    {
     "name": "stdout",
     "output_type": "stream",
     "text": [
      "<<<Model Instance Evaluated>>>\n",
      "Epoch 5 Summary:\n",
      "Selected Number of Estimators: 95\n",
      "Local WRMSSE Score on Validation Data: 0.572646321203648\n",
      "\n",
      "\n",
      "<<<Training the Model>>>\n",
      "<<<Generating Forecasts>>>\n",
      "<<<Calculating Weights>>>\n",
      "<<<Calculating WRMSSE Score>>>\n"
     ]
    },
    {
     "name": "stderr",
     "output_type": "stream",
     "text": [
      "\r",
      " 75%|█████████████████████████████████████████████████████████                   | 6/8 [07:40<02:44, 82.32s/it]"
     ]
    },
    {
     "name": "stdout",
     "output_type": "stream",
     "text": [
      "<<<Model Instance Evaluated>>>\n",
      "Epoch 6 Summary:\n",
      "Selected Number of Estimators: 105\n",
      "Local WRMSSE Score on Validation Data: 0.5735717998035524\n",
      "\n",
      "\n",
      "<<<Training the Model>>>\n",
      "<<<Generating Forecasts>>>\n",
      "<<<Calculating Weights>>>\n",
      "<<<Calculating WRMSSE Score>>>\n"
     ]
    },
    {
     "name": "stderr",
     "output_type": "stream",
     "text": [
      "\r",
      " 88%|██████████████████████████████████████████████████████████████████▌         | 7/8 [09:13<01:25, 85.84s/it]"
     ]
    },
    {
     "name": "stdout",
     "output_type": "stream",
     "text": [
      "<<<Model Instance Evaluated>>>\n",
      "Epoch 7 Summary:\n",
      "Selected Number of Estimators: 110\n",
      "Local WRMSSE Score on Validation Data: 0.5754420361046892\n",
      "\n",
      "\n",
      "<<<Training the Model>>>\n",
      "<<<Generating Forecasts>>>\n",
      "<<<Calculating Weights>>>\n",
      "<<<Calculating WRMSSE Score>>>\n"
     ]
    },
    {
     "name": "stderr",
     "output_type": "stream",
     "text": [
      "100%|████████████████████████████████████████████████████████████████████████████| 8/8 [10:53<00:00, 81.75s/it]"
     ]
    },
    {
     "name": "stdout",
     "output_type": "stream",
     "text": [
      "<<<Model Instance Evaluated>>>\n",
      "Epoch 8 Summary:\n",
      "Selected Number of Estimators: 125\n",
      "Local WRMSSE Score on Validation Data: 0.5730078309258472\n",
      "\n",
      "\n"
     ]
    },
    {
     "name": "stderr",
     "output_type": "stream",
     "text": [
      "\n"
     ]
    }
   ],
   "source": [
    "n_est = [50, 75, 80, 90, 95, 105, 110, 125]\n",
    "\n",
    "for i in tqdm(range(1,len(n_est)+1)):\n",
    "    best_params['n_estimators'] = n_est[i-1]\n",
    "    \n",
    "    lgb_rand = lgb.LGBMRegressor(boosting_type = best_params['boosting_type'], \n",
    "                                 objective = best_params['objective'], \n",
    "                                 n_jobs = best_params['n_jobs'], \n",
    "                                 seed = best_params['seed'], \n",
    "                                 n_estimators = best_params['n_estimators'], \n",
    "                                 max_depth = best_params['max_depth'],\n",
    "                                 learning_rate = best_params['learning_rate'], \n",
    "                                 num_leaves = best_params['num_leaves'],\n",
    "                                 min_child_samples = best_params['min_child_samples'])\n",
    "        \n",
    "    wrmsse_rand = evaluate_model_instance(lgb_rand, X_train, y_train, X_val, features, train_start, train_end, \n",
    "                                          df_sales, df_cal, df_price, level_groupings, return_df=False)\n",
    "    \n",
    "    print(f'Epoch {i} Summary:')\n",
    "    print('Selected Number of Estimators:', best_params['n_estimators'])\n",
    "    print('Local WRMSSE Score on Validation Data:', wrmsse_rand)\n",
    "    print('\\n')"
   ]
  },
  {
   "cell_type": "markdown",
   "metadata": {},
   "source": [
    "## 5. Building Final Model"
   ]
  },
  {
   "cell_type": "code",
   "execution_count": 33,
   "metadata": {},
   "outputs": [
    {
     "data": {
      "text/plain": [
       "{'boosting_type': 'gbdt',\n",
       " 'objective': 'poisson',\n",
       " 'n_jobs': -1,\n",
       " 'seed': 123,\n",
       " 'n_estimators': 90,\n",
       " 'max_depth': -1,\n",
       " 'learning_rate': 0.28,\n",
       " 'num_leaves': 289,\n",
       " 'min_child_samples': 402}"
      ]
     },
     "execution_count": 33,
     "metadata": {},
     "output_type": "execute_result"
    }
   ],
   "source": [
    "best_params['n_estimators'] = 90\n",
    "best_params"
   ]
  },
  {
   "cell_type": "code",
   "execution_count": 15,
   "metadata": {},
   "outputs": [],
   "source": [
    "removeFeat = ['d', 'sales', 'date', 'wm_yr_wk']\n",
    "features = [c for c in df_long.columns if c not in removeFeat]"
   ]
  },
  {
   "cell_type": "code",
   "execution_count": 16,
   "metadata": {},
   "outputs": [
    {
     "name": "stdout",
     "output_type": "stream",
     "text": [
      "Train Period: 1069 - 1913\n",
      "Validation Period: 1914 - 1941\n",
      "<<<Training the Model>>>\n",
      "<<<Generating Forecasts>>>\n",
      "<<<Calculating Weights>>>\n",
      "<<<Calculating WRMSSE Score>>>\n",
      "<<<Model Instance Evaluated>>>\n",
      "Local WRMSSE on Validation Data: 0.5717035288102503\n",
      "\n",
      "\n",
      "Train Period: 1069 - 1941\n",
      "Validation Period: 1942 - 1969\n",
      "<<<Training the Model>>>\n",
      "<<<Generating Forecasts>>>\n",
      "<<<Submission Dataframe Created>>>\n"
     ]
    }
   ],
   "source": [
    "train_start = 1069\n",
    "train_end = (1913, 1941)\n",
    "model_val, model_eval, submit = get_sub_df(df_long, train_start, train_end, best_params, features, df_sales, df_cal, df_price, level_groupings)"
   ]
  },
  {
   "cell_type": "code",
   "execution_count": 22,
   "metadata": {},
   "outputs": [
    {
     "data": {
      "text/plain": [
       "(LGBMRegressor(learning_rate=0.28, min_child_samples=402, n_estimators=90,\n",
       "               num_leaves=289, objective='poisson', seed=123),\n",
       " LGBMRegressor(learning_rate=0.28, min_child_samples=402, n_estimators=90,\n",
       "               num_leaves=289, objective='poisson', seed=123))"
      ]
     },
     "execution_count": 22,
     "metadata": {},
     "output_type": "execute_result"
    }
   ],
   "source": [
    "model_val, model_eval"
   ]
  },
  {
   "cell_type": "code",
   "execution_count": null,
   "metadata": {},
   "outputs": [],
   "source": [
    "pickle.dump(model_val, open(\"model_val.pkl\", \"wb\")) \n",
    "pickle.dump(model_eval, open(\"model_eval.pkl\", \"wb\")) "
   ]
  },
  {
   "cell_type": "code",
   "execution_count": 41,
   "metadata": {},
   "outputs": [
    {
     "data": {
      "text/html": [
       "<div>\n",
       "<style scoped>\n",
       "    .dataframe tbody tr th:only-of-type {\n",
       "        vertical-align: middle;\n",
       "    }\n",
       "\n",
       "    .dataframe tbody tr th {\n",
       "        vertical-align: top;\n",
       "    }\n",
       "\n",
       "    .dataframe thead th {\n",
       "        text-align: right;\n",
       "    }\n",
       "</style>\n",
       "<table border=\"1\" class=\"dataframe\">\n",
       "  <thead>\n",
       "    <tr style=\"text-align: right;\">\n",
       "      <th></th>\n",
       "      <th>id</th>\n",
       "      <th>F1</th>\n",
       "      <th>F2</th>\n",
       "      <th>F3</th>\n",
       "      <th>F4</th>\n",
       "      <th>F5</th>\n",
       "      <th>F6</th>\n",
       "      <th>F7</th>\n",
       "      <th>F8</th>\n",
       "      <th>F9</th>\n",
       "      <th>...</th>\n",
       "      <th>F19</th>\n",
       "      <th>F20</th>\n",
       "      <th>F21</th>\n",
       "      <th>F22</th>\n",
       "      <th>F23</th>\n",
       "      <th>F24</th>\n",
       "      <th>F25</th>\n",
       "      <th>F26</th>\n",
       "      <th>F27</th>\n",
       "      <th>F28</th>\n",
       "    </tr>\n",
       "  </thead>\n",
       "  <tbody>\n",
       "    <tr>\n",
       "      <th>0</th>\n",
       "      <td>HOBBIES_1_001_CA_1_validation</td>\n",
       "      <td>0.995624</td>\n",
       "      <td>0.788201</td>\n",
       "      <td>0.738455</td>\n",
       "      <td>0.704260</td>\n",
       "      <td>0.799978</td>\n",
       "      <td>1.024613</td>\n",
       "      <td>1.107099</td>\n",
       "      <td>0.785542</td>\n",
       "      <td>0.822707</td>\n",
       "      <td>...</td>\n",
       "      <td>0.866449</td>\n",
       "      <td>1.271255</td>\n",
       "      <td>1.165837</td>\n",
       "      <td>0.907779</td>\n",
       "      <td>0.835369</td>\n",
       "      <td>0.802204</td>\n",
       "      <td>0.873191</td>\n",
       "      <td>0.918685</td>\n",
       "      <td>1.239383</td>\n",
       "      <td>1.256659</td>\n",
       "    </tr>\n",
       "    <tr>\n",
       "      <th>1</th>\n",
       "      <td>HOBBIES_1_002_CA_1_validation</td>\n",
       "      <td>0.424184</td>\n",
       "      <td>0.362029</td>\n",
       "      <td>0.358571</td>\n",
       "      <td>0.332996</td>\n",
       "      <td>0.370462</td>\n",
       "      <td>0.488325</td>\n",
       "      <td>0.448928</td>\n",
       "      <td>0.317507</td>\n",
       "      <td>0.292728</td>\n",
       "      <td>...</td>\n",
       "      <td>0.245980</td>\n",
       "      <td>0.305024</td>\n",
       "      <td>0.287455</td>\n",
       "      <td>0.200119</td>\n",
       "      <td>0.193856</td>\n",
       "      <td>0.201883</td>\n",
       "      <td>0.181976</td>\n",
       "      <td>0.200542</td>\n",
       "      <td>0.238245</td>\n",
       "      <td>0.216938</td>\n",
       "    </tr>\n",
       "    <tr>\n",
       "      <th>2</th>\n",
       "      <td>HOBBIES_1_003_CA_1_validation</td>\n",
       "      <td>0.544155</td>\n",
       "      <td>0.485894</td>\n",
       "      <td>0.478982</td>\n",
       "      <td>0.479146</td>\n",
       "      <td>0.577916</td>\n",
       "      <td>0.746256</td>\n",
       "      <td>0.783448</td>\n",
       "      <td>0.525440</td>\n",
       "      <td>0.488071</td>\n",
       "      <td>...</td>\n",
       "      <td>0.488957</td>\n",
       "      <td>0.658628</td>\n",
       "      <td>0.730954</td>\n",
       "      <td>0.610179</td>\n",
       "      <td>0.537741</td>\n",
       "      <td>0.536026</td>\n",
       "      <td>0.469846</td>\n",
       "      <td>0.584326</td>\n",
       "      <td>0.745750</td>\n",
       "      <td>0.745196</td>\n",
       "    </tr>\n",
       "    <tr>\n",
       "      <th>3</th>\n",
       "      <td>HOBBIES_1_004_CA_1_validation</td>\n",
       "      <td>2.060919</td>\n",
       "      <td>1.594390</td>\n",
       "      <td>1.533142</td>\n",
       "      <td>1.502108</td>\n",
       "      <td>1.893367</td>\n",
       "      <td>2.070375</td>\n",
       "      <td>2.422500</td>\n",
       "      <td>1.741638</td>\n",
       "      <td>1.660692</td>\n",
       "      <td>...</td>\n",
       "      <td>1.829608</td>\n",
       "      <td>2.116257</td>\n",
       "      <td>2.526139</td>\n",
       "      <td>1.898293</td>\n",
       "      <td>1.588445</td>\n",
       "      <td>1.496463</td>\n",
       "      <td>1.555302</td>\n",
       "      <td>1.947845</td>\n",
       "      <td>2.660915</td>\n",
       "      <td>2.667951</td>\n",
       "    </tr>\n",
       "    <tr>\n",
       "      <th>4</th>\n",
       "      <td>HOBBIES_1_005_CA_1_validation</td>\n",
       "      <td>1.004134</td>\n",
       "      <td>0.823457</td>\n",
       "      <td>0.888685</td>\n",
       "      <td>1.048426</td>\n",
       "      <td>1.091341</td>\n",
       "      <td>1.383952</td>\n",
       "      <td>1.694218</td>\n",
       "      <td>1.197476</td>\n",
       "      <td>1.157467</td>\n",
       "      <td>...</td>\n",
       "      <td>1.101868</td>\n",
       "      <td>1.314824</td>\n",
       "      <td>1.454438</td>\n",
       "      <td>1.017177</td>\n",
       "      <td>0.892443</td>\n",
       "      <td>0.900822</td>\n",
       "      <td>0.931148</td>\n",
       "      <td>1.076327</td>\n",
       "      <td>1.372470</td>\n",
       "      <td>1.570811</td>\n",
       "    </tr>\n",
       "  </tbody>\n",
       "</table>\n",
       "<p>5 rows × 29 columns</p>\n",
       "</div>"
      ],
      "text/plain": [
       "                              id        F1        F2        F3        F4  \\\n",
       "0  HOBBIES_1_001_CA_1_validation  0.995624  0.788201  0.738455  0.704260   \n",
       "1  HOBBIES_1_002_CA_1_validation  0.424184  0.362029  0.358571  0.332996   \n",
       "2  HOBBIES_1_003_CA_1_validation  0.544155  0.485894  0.478982  0.479146   \n",
       "3  HOBBIES_1_004_CA_1_validation  2.060919  1.594390  1.533142  1.502108   \n",
       "4  HOBBIES_1_005_CA_1_validation  1.004134  0.823457  0.888685  1.048426   \n",
       "\n",
       "         F5        F6        F7        F8        F9  ...       F19       F20  \\\n",
       "0  0.799978  1.024613  1.107099  0.785542  0.822707  ...  0.866449  1.271255   \n",
       "1  0.370462  0.488325  0.448928  0.317507  0.292728  ...  0.245980  0.305024   \n",
       "2  0.577916  0.746256  0.783448  0.525440  0.488071  ...  0.488957  0.658628   \n",
       "3  1.893367  2.070375  2.422500  1.741638  1.660692  ...  1.829608  2.116257   \n",
       "4  1.091341  1.383952  1.694218  1.197476  1.157467  ...  1.101868  1.314824   \n",
       "\n",
       "        F21       F22       F23       F24       F25       F26       F27  \\\n",
       "0  1.165837  0.907779  0.835369  0.802204  0.873191  0.918685  1.239383   \n",
       "1  0.287455  0.200119  0.193856  0.201883  0.181976  0.200542  0.238245   \n",
       "2  0.730954  0.610179  0.537741  0.536026  0.469846  0.584326  0.745750   \n",
       "3  2.526139  1.898293  1.588445  1.496463  1.555302  1.947845  2.660915   \n",
       "4  1.454438  1.017177  0.892443  0.900822  0.931148  1.076327  1.372470   \n",
       "\n",
       "        F28  \n",
       "0  1.256659  \n",
       "1  0.216938  \n",
       "2  0.745196  \n",
       "3  2.667951  \n",
       "4  1.570811  \n",
       "\n",
       "[5 rows x 29 columns]"
      ]
     },
     "execution_count": 41,
     "metadata": {},
     "output_type": "execute_result"
    }
   ],
   "source": [
    "submit.head()"
   ]
  },
  {
   "cell_type": "code",
   "execution_count": 39,
   "metadata": {},
   "outputs": [],
   "source": [
    "submit.to_csv('final_submission.csv', index=False)"
   ]
  },
  {
   "cell_type": "markdown",
   "metadata": {},
   "source": [
    "# 6. Kaggle Submission Score"
   ]
  },
  {
   "attachments": {
    "Screenshot%202022-10-21%20221350.png": {
     "image/png": "[encoded data removed]"
    }
   },
   "cell_type": "markdown",
   "metadata": {},
   "source": [
    "![Screenshot%202022-10-21%20221350.png](attachment:Screenshot%202022-10-21%20221350.png)"
   ]
  },
  {
   "attachments": {
    "Screenshot%202022-10-21%20221746.png": {
     "image/png": "[encoded data removed]"
    }
   },
   "cell_type": "markdown",
   "metadata": {},
   "source": [
    "![Screenshot%202022-10-21%20221746.png](attachment:Screenshot%202022-10-21%20221746.png)"
   ]
  },
  {
   "cell_type": "markdown",
   "metadata": {},
   "source": [
    "- The submission score on Private Leaderboard ranks us 83rd on the list out of 5582 contestants which is under ~1.5% of submissions.\n",
    "- There's a difference of ~0.02 in Public Score and our Local WRMSSE Score, which means our custom made WRMSSE calculation is pretty accurate."
   ]
  },
  {
   "cell_type": "markdown",
   "metadata": {},
   "source": [
    "# 7. References\n",
    "- https://towardsdatascience.com/kagglers-guide-to-lightgbm-hyperparameter-tuning-with-optuna-in-2021-ed048d9838b5"
   ]
  }
 ],
 "metadata": {
  "colab": {
   "collapsed_sections": [],
   "provenance": []
  },
  "kernelspec": {
   "display_name": "Python 3 (ipykernel)",
   "language": "python",
   "name": "python3"
  },
  "language_info": {
   "codemirror_mode": {
    "name": "ipython",
    "version": 3
   },
   "file_extension": ".py",
   "mimetype": "text/x-python",
   "name": "python",
   "nbconvert_exporter": "python",
   "pygments_lexer": "ipython3",
   "version": "3.9.6"
  }
 },
 "nbformat": 4,
 "nbformat_minor": 1
}
