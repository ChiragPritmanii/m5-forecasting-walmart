{
 "cells": [
  {
   "cell_type": "markdown",
   "metadata": {
    "id": "UWY1vImWCSUP"
   },
   "source": [
    "\n",
    "<h1><b>M5 Forecasting: Naive Approaches</b></h1>\n",
    "\n",
    "\n"
   ]
  },
  {
   "cell_type": "markdown",
   "metadata": {
    "id": "TcefCQpuCKFp"
   },
   "source": [
    "# **Contents**\n",
    "\n",
    "<h3> 1. Load and Extract Data </h3> \n",
    "\n",
    "<h3> 2. Reading the Data </h3> \n",
    "\n",
    "<h3> 3. Data Wrangling</h3> \n",
    "\n",
    "<h3> 4. Split the data</h3> \n",
    "\n",
    "<h3> 5. Define functions to compute weights and metrics</h3> \n",
    "\n",
    "<h3> 6. Naive Approaches</h3> \n",
    "\n",
    "<h3> 7. Summary</h3> \n",
    "\n",
    "<h3> 8. References</h3> \n",
    "\n"
   ]
  },
  {
   "cell_type": "code",
   "execution_count": null,
   "metadata": {
    "id": "UZ4Yo6ypiX4f"
   },
   "outputs": [],
   "source": [
    "import pandas as pd\n",
    "from zipfile import ZipFile\n",
    "import numpy as np\n",
    "import seaborn as sns\n",
    "from tqdm import tqdm\n",
    "import random \n",
    "import datetime"
   ]
  },
  {
   "cell_type": "markdown",
   "metadata": {
    "id": "xJX1XFJU3xMQ"
   },
   "source": [
    "# 1. Load and Extract Data "
   ]
  },
  {
   "cell_type": "markdown",
   "metadata": {
    "id": "uaWM5P2XDmQB"
   },
   "source": [
    "## 1.1 Loading Data from Kaggle"
   ]
  },
  {
   "cell_type": "code",
   "execution_count": null,
   "metadata": {
    "colab": {
     "base_uri": "https://localhost:8080/"
    },
    "id": "X2hD3TaAyWKU",
    "outputId": "6b011be3-4c06-4f27-d715-6e3b24199d7a"
   },
   "outputs": [
    {
     "name": "stdout",
     "output_type": "stream",
     "text": [
      "--2022-09-29 07:08:50--  https://storage.googleapis.com/kaggle-competitions-data/kaggle-v2/18599/1236839/bundle/archive.zip?GoogleAccessId=web-data@kaggle-161607.iam.gserviceaccount.com&Expires=1664694492&Signature=L88PXp6ATJK53ZPmUmNBzarZiaj4GPOArtp%2BERA8mUBst1g3JVYmYJOirBvkZMXxWpMWi8aizu99BqcP2SA8QCy4apJsWcEvUK8EoTMaJxZ4C340l9B6yt%2FrC3t8ZCmcSX%2FdEXfhn7iGrb%2FZGeUHY1scWJG3uwzPnYRxOqPuoLgxYMC89t%2Bt%2FVjEnOdlsE7vuPOIlY6W7df2Vy9C2elIQsXcvHrF%2F26HcshEWGXr4tgb8d4C8gkCko3NXDGZh973d9H2FoFkaU7Vl4CpNzBpwj8ov9ZH5ZBLPRtahjJ%2FTarIZQhDhWCe9wr2oa9zOJileVO039oagouAWtjwbp%2F0MA%3D%3D&response-content-disposition=attachment%3B+filename%3Dm5-forecasting-accuracy.zip\n",
      "Resolving storage.googleapis.com (storage.googleapis.com)... 142.251.107.128, 74.125.31.128, 74.125.141.128, ...\n",
      "Connecting to storage.googleapis.com (storage.googleapis.com)|142.251.107.128|:443... connected.\n",
      "HTTP request sent, awaiting response... 200 OK\n",
      "Length: 48009163 (46M) [application/zip]\n",
      "Saving to: ‘m5-forecasting-accuracy.zip’\n",
      "\n",
      "m5-forecasting-accu 100%[===================>]  45.78M   131MB/s    in 0.3s    \n",
      "\n",
      "2022-09-29 07:08:51 (131 MB/s) - ‘m5-forecasting-accuracy.zip’ saved [48009163/48009163]\n",
      "\n"
     ]
    }
   ],
   "source": [
    "!wget --header=\"Host: storage.googleapis.com\" --header=\"User-Agent: Mozilla/5.0 (Windows NT 10.0; Win64; x64) AppleWebKit/537.36 (KHTML, like Gecko) Chrome/105.0.0.0 Safari/537.36\" --header=\"Accept: text/html,application/xhtml+xml,application/xml;q=0.9,image/avif,image/webp,image/apng,*/*;q=0.8,application/signed-exchange;v=b3;q=0.9\" --header=\"Accept-Language: en-US,en;q=0.9\" --header=\"Referer: https://www.kaggle.com/\" \"https://storage.googleapis.com/kaggle-competitions-data/kaggle-v2/18599/1236839/bundle/archive.zip?GoogleAccessId=web-data@kaggle-161607.iam.gserviceaccount.com&Expires=1664694492&Signature=L88PXp6ATJK53ZPmUmNBzarZiaj4GPOArtp%2BERA8mUBst1g3JVYmYJOirBvkZMXxWpMWi8aizu99BqcP2SA8QCy4apJsWcEvUK8EoTMaJxZ4C340l9B6yt%2FrC3t8ZCmcSX%2FdEXfhn7iGrb%2FZGeUHY1scWJG3uwzPnYRxOqPuoLgxYMC89t%2Bt%2FVjEnOdlsE7vuPOIlY6W7df2Vy9C2elIQsXcvHrF%2F26HcshEWGXr4tgb8d4C8gkCko3NXDGZh973d9H2FoFkaU7Vl4CpNzBpwj8ov9ZH5ZBLPRtahjJ%2FTarIZQhDhWCe9wr2oa9zOJileVO039oagouAWtjwbp%2F0MA%3D%3D&response-content-disposition=attachment%3B+filename%3Dm5-forecasting-accuracy.zip\" -c -O 'm5-forecasting-accuracy.zip'"
   ]
  },
  {
   "cell_type": "markdown",
   "metadata": {
    "id": "pDcAAba1DvMA"
   },
   "source": [
    "## 1.2 Extracting Data from Zip"
   ]
  },
  {
   "cell_type": "code",
   "execution_count": null,
   "metadata": {
    "id": "YBCGbTUiyWHF"
   },
   "outputs": [],
   "source": [
    "with ZipFile('/content/m5-forecasting-accuracy.zip') as z: \n",
    "    z.extractall()"
   ]
  },
  {
   "cell_type": "markdown",
   "metadata": {
    "id": "XMxZRK7L3-Yq"
   },
   "source": [
    "# 2. Reading the Data"
   ]
  },
  {
   "cell_type": "code",
   "execution_count": null,
   "metadata": {
    "id": "SEvC-AssyWEx"
   },
   "outputs": [],
   "source": [
    "df_sales = pd.read_csv('/content/sales_train_evaluation.csv')\n",
    "df_price = pd.read_csv('/content/sell_prices.csv')\n",
    "df_cal = pd.read_csv('/content/calendar.csv')"
   ]
  },
  {
   "cell_type": "markdown",
   "metadata": {
    "id": "USbvryfm4Ig8"
   },
   "source": [
    "# 3. Data Wrangling"
   ]
  },
  {
   "cell_type": "code",
   "execution_count": null,
   "metadata": {
    "colab": {
     "base_uri": "https://localhost:8080/",
     "height": 143
    },
    "id": "N-8NhRWkqXAt",
    "outputId": "e1e1a3c5-8ee1-46c1-f65a-290a6c6db7ea"
   },
   "outputs": [
    {
     "data": {
      "text/html": [
       "\n",
       "  <div id=\"df-9b26c335-a72c-4f24-b7c1-d06f28d5b631\">\n",
       "    <div class=\"colab-df-container\">\n",
       "      <div>\n",
       "<style scoped>\n",
       "    .dataframe tbody tr th:only-of-type {\n",
       "        vertical-align: middle;\n",
       "    }\n",
       "\n",
       "    .dataframe tbody tr th {\n",
       "        vertical-align: top;\n",
       "    }\n",
       "\n",
       "    .dataframe thead th {\n",
       "        text-align: right;\n",
       "    }\n",
       "</style>\n",
       "<table border=\"1\" class=\"dataframe\">\n",
       "  <thead>\n",
       "    <tr style=\"text-align: right;\">\n",
       "      <th></th>\n",
       "      <th>store_id</th>\n",
       "      <th>item_id</th>\n",
       "      <th>wm_yr_wk</th>\n",
       "      <th>sell_price</th>\n",
       "      <th>id</th>\n",
       "    </tr>\n",
       "  </thead>\n",
       "  <tbody>\n",
       "    <tr>\n",
       "      <th>0</th>\n",
       "      <td>CA_1</td>\n",
       "      <td>HOBBIES_1_001</td>\n",
       "      <td>11325</td>\n",
       "      <td>9.58</td>\n",
       "      <td>HOBBIES_1_001_CA_1_evaluation</td>\n",
       "    </tr>\n",
       "    <tr>\n",
       "      <th>1</th>\n",
       "      <td>CA_1</td>\n",
       "      <td>HOBBIES_1_001</td>\n",
       "      <td>11326</td>\n",
       "      <td>9.58</td>\n",
       "      <td>HOBBIES_1_001_CA_1_evaluation</td>\n",
       "    </tr>\n",
       "    <tr>\n",
       "      <th>2</th>\n",
       "      <td>CA_1</td>\n",
       "      <td>HOBBIES_1_001</td>\n",
       "      <td>11327</td>\n",
       "      <td>8.26</td>\n",
       "      <td>HOBBIES_1_001_CA_1_evaluation</td>\n",
       "    </tr>\n",
       "  </tbody>\n",
       "</table>\n",
       "</div>\n",
       "      <button class=\"colab-df-convert\" onclick=\"convertToInteractive('df-9b26c335-a72c-4f24-b7c1-d06f28d5b631')\"\n",
       "              title=\"Convert this dataframe to an interactive table.\"\n",
       "              style=\"display:none;\">\n",
       "        \n",
       "  <svg xmlns=\"http://www.w3.org/2000/svg\" height=\"24px\"viewBox=\"0 0 24 24\"\n",
       "       width=\"24px\">\n",
       "    <path d=\"M0 0h24v24H0V0z\" fill=\"none\"/>\n",
       "    <path d=\"M18.56 5.44l.94 2.06.94-2.06 2.06-.94-2.06-.94-.94-2.06-.94 2.06-2.06.94zm-11 1L8.5 8.5l.94-2.06 2.06-.94-2.06-.94L8.5 2.5l-.94 2.06-2.06.94zm10 10l.94 2.06.94-2.06 2.06-.94-2.06-.94-.94-2.06-.94 2.06-2.06.94z\"/><path d=\"M17.41 7.96l-1.37-1.37c-.4-.4-.92-.59-1.43-.59-.52 0-1.04.2-1.43.59L10.3 9.45l-7.72 7.72c-.78.78-.78 2.05 0 2.83L4 21.41c.39.39.9.59 1.41.59.51 0 1.02-.2 1.41-.59l7.78-7.78 2.81-2.81c.8-.78.8-2.07 0-2.86zM5.41 20L4 18.59l7.72-7.72 1.47 1.35L5.41 20z\"/>\n",
       "  </svg>\n",
       "      </button>\n",
       "      \n",
       "  <style>\n",
       "    .colab-df-container {\n",
       "      display:flex;\n",
       "      flex-wrap:wrap;\n",
       "      gap: 12px;\n",
       "    }\n",
       "\n",
       "    .colab-df-convert {\n",
       "      background-color: #E8F0FE;\n",
       "      border: none;\n",
       "      border-radius: 50%;\n",
       "      cursor: pointer;\n",
       "      display: none;\n",
       "      fill: #1967D2;\n",
       "      height: 32px;\n",
       "      padding: 0 0 0 0;\n",
       "      width: 32px;\n",
       "    }\n",
       "\n",
       "    .colab-df-convert:hover {\n",
       "      background-color: #E2EBFA;\n",
       "      box-shadow: 0px 1px 2px rgba(60, 64, 67, 0.3), 0px 1px 3px 1px rgba(60, 64, 67, 0.15);\n",
       "      fill: #174EA6;\n",
       "    }\n",
       "\n",
       "    [theme=dark] .colab-df-convert {\n",
       "      background-color: #3B4455;\n",
       "      fill: #D2E3FC;\n",
       "    }\n",
       "\n",
       "    [theme=dark] .colab-df-convert:hover {\n",
       "      background-color: #434B5C;\n",
       "      box-shadow: 0px 1px 3px 1px rgba(0, 0, 0, 0.15);\n",
       "      filter: drop-shadow(0px 1px 2px rgba(0, 0, 0, 0.3));\n",
       "      fill: #FFFFFF;\n",
       "    }\n",
       "  </style>\n",
       "\n",
       "      <script>\n",
       "        const buttonEl =\n",
       "          document.querySelector('#df-9b26c335-a72c-4f24-b7c1-d06f28d5b631 button.colab-df-convert');\n",
       "        buttonEl.style.display =\n",
       "          google.colab.kernel.accessAllowed ? 'block' : 'none';\n",
       "\n",
       "        async function convertToInteractive(key) {\n",
       "          const element = document.querySelector('#df-9b26c335-a72c-4f24-b7c1-d06f28d5b631');\n",
       "          const dataTable =\n",
       "            await google.colab.kernel.invokeFunction('convertToInteractive',\n",
       "                                                     [key], {});\n",
       "          if (!dataTable) return;\n",
       "\n",
       "          const docLinkHtml = 'Like what you see? Visit the ' +\n",
       "            '<a target=\"_blank\" href=https://colab.research.google.com/notebooks/data_table.ipynb>data table notebook</a>'\n",
       "            + ' to learn more about interactive tables.';\n",
       "          element.innerHTML = '';\n",
       "          dataTable['output_type'] = 'display_data';\n",
       "          await google.colab.output.renderOutput(dataTable, element);\n",
       "          const docLink = document.createElement('div');\n",
       "          docLink.innerHTML = docLinkHtml;\n",
       "          element.appendChild(docLink);\n",
       "        }\n",
       "      </script>\n",
       "    </div>\n",
       "  </div>\n",
       "  "
      ],
      "text/plain": [
       "  store_id        item_id  wm_yr_wk  sell_price                             id\n",
       "0     CA_1  HOBBIES_1_001     11325        9.58  HOBBIES_1_001_CA_1_evaluation\n",
       "1     CA_1  HOBBIES_1_001     11326        9.58  HOBBIES_1_001_CA_1_evaluation\n",
       "2     CA_1  HOBBIES_1_001     11327        8.26  HOBBIES_1_001_CA_1_evaluation"
      ]
     },
     "execution_count": 3,
     "metadata": {},
     "output_type": "execute_result"
    }
   ],
   "source": [
    "#add id column to df_price\n",
    "df_price[\"id\"] = df_price[[\"item_id\",\"store_id\"]].apply(lambda x: x[0]+'_'+x[1]+'_evaluation', axis=1) \n",
    "df_price.head(3)"
   ]
  },
  {
   "cell_type": "code",
   "execution_count": null,
   "metadata": {
    "colab": {
     "base_uri": "https://localhost:8080/",
     "height": 143
    },
    "id": "1dss2AdL6mAg",
    "outputId": "ca1d5336-68f1-4c81-b759-c4865f506d0c"
   },
   "outputs": [
    {
     "data": {
      "text/html": [
       "\n",
       "  <div id=\"df-68eb2628-b5db-4a19-843b-0c757eb9085e\">\n",
       "    <div class=\"colab-df-container\">\n",
       "      <div>\n",
       "<style scoped>\n",
       "    .dataframe tbody tr th:only-of-type {\n",
       "        vertical-align: middle;\n",
       "    }\n",
       "\n",
       "    .dataframe tbody tr th {\n",
       "        vertical-align: top;\n",
       "    }\n",
       "\n",
       "    .dataframe thead th {\n",
       "        text-align: right;\n",
       "    }\n",
       "</style>\n",
       "<table border=\"1\" class=\"dataframe\">\n",
       "  <thead>\n",
       "    <tr style=\"text-align: right;\">\n",
       "      <th></th>\n",
       "      <th>date</th>\n",
       "      <th>wm_yr_wk</th>\n",
       "      <th>weekday</th>\n",
       "      <th>wday</th>\n",
       "      <th>month</th>\n",
       "      <th>year</th>\n",
       "      <th>d</th>\n",
       "      <th>snap_CA</th>\n",
       "      <th>snap_TX</th>\n",
       "      <th>snap_WI</th>\n",
       "      <th>d_</th>\n",
       "      <th>event_name</th>\n",
       "      <th>event_type</th>\n",
       "    </tr>\n",
       "  </thead>\n",
       "  <tbody>\n",
       "    <tr>\n",
       "      <th>0</th>\n",
       "      <td>2011-01-29</td>\n",
       "      <td>11101</td>\n",
       "      <td>Saturday</td>\n",
       "      <td>1</td>\n",
       "      <td>1</td>\n",
       "      <td>2011</td>\n",
       "      <td>d_1</td>\n",
       "      <td>0</td>\n",
       "      <td>0</td>\n",
       "      <td>0</td>\n",
       "      <td>1</td>\n",
       "      <td>NaN</td>\n",
       "      <td>NaN</td>\n",
       "    </tr>\n",
       "    <tr>\n",
       "      <th>1</th>\n",
       "      <td>2011-01-30</td>\n",
       "      <td>11101</td>\n",
       "      <td>Sunday</td>\n",
       "      <td>2</td>\n",
       "      <td>1</td>\n",
       "      <td>2011</td>\n",
       "      <td>d_2</td>\n",
       "      <td>0</td>\n",
       "      <td>0</td>\n",
       "      <td>0</td>\n",
       "      <td>2</td>\n",
       "      <td>NaN</td>\n",
       "      <td>NaN</td>\n",
       "    </tr>\n",
       "    <tr>\n",
       "      <th>2</th>\n",
       "      <td>2011-01-31</td>\n",
       "      <td>11101</td>\n",
       "      <td>Monday</td>\n",
       "      <td>3</td>\n",
       "      <td>1</td>\n",
       "      <td>2011</td>\n",
       "      <td>d_3</td>\n",
       "      <td>0</td>\n",
       "      <td>0</td>\n",
       "      <td>0</td>\n",
       "      <td>3</td>\n",
       "      <td>NaN</td>\n",
       "      <td>NaN</td>\n",
       "    </tr>\n",
       "  </tbody>\n",
       "</table>\n",
       "</div>\n",
       "      <button class=\"colab-df-convert\" onclick=\"convertToInteractive('df-68eb2628-b5db-4a19-843b-0c757eb9085e')\"\n",
       "              title=\"Convert this dataframe to an interactive table.\"\n",
       "              style=\"display:none;\">\n",
       "        \n",
       "  <svg xmlns=\"http://www.w3.org/2000/svg\" height=\"24px\"viewBox=\"0 0 24 24\"\n",
       "       width=\"24px\">\n",
       "    <path d=\"M0 0h24v24H0V0z\" fill=\"none\"/>\n",
       "    <path d=\"M18.56 5.44l.94 2.06.94-2.06 2.06-.94-2.06-.94-.94-2.06-.94 2.06-2.06.94zm-11 1L8.5 8.5l.94-2.06 2.06-.94-2.06-.94L8.5 2.5l-.94 2.06-2.06.94zm10 10l.94 2.06.94-2.06 2.06-.94-2.06-.94-.94-2.06-.94 2.06-2.06.94z\"/><path d=\"M17.41 7.96l-1.37-1.37c-.4-.4-.92-.59-1.43-.59-.52 0-1.04.2-1.43.59L10.3 9.45l-7.72 7.72c-.78.78-.78 2.05 0 2.83L4 21.41c.39.39.9.59 1.41.59.51 0 1.02-.2 1.41-.59l7.78-7.78 2.81-2.81c.8-.78.8-2.07 0-2.86zM5.41 20L4 18.59l7.72-7.72 1.47 1.35L5.41 20z\"/>\n",
       "  </svg>\n",
       "      </button>\n",
       "      \n",
       "  <style>\n",
       "    .colab-df-container {\n",
       "      display:flex;\n",
       "      flex-wrap:wrap;\n",
       "      gap: 12px;\n",
       "    }\n",
       "\n",
       "    .colab-df-convert {\n",
       "      background-color: #E8F0FE;\n",
       "      border: none;\n",
       "      border-radius: 50%;\n",
       "      cursor: pointer;\n",
       "      display: none;\n",
       "      fill: #1967D2;\n",
       "      height: 32px;\n",
       "      padding: 0 0 0 0;\n",
       "      width: 32px;\n",
       "    }\n",
       "\n",
       "    .colab-df-convert:hover {\n",
       "      background-color: #E2EBFA;\n",
       "      box-shadow: 0px 1px 2px rgba(60, 64, 67, 0.3), 0px 1px 3px 1px rgba(60, 64, 67, 0.15);\n",
       "      fill: #174EA6;\n",
       "    }\n",
       "\n",
       "    [theme=dark] .colab-df-convert {\n",
       "      background-color: #3B4455;\n",
       "      fill: #D2E3FC;\n",
       "    }\n",
       "\n",
       "    [theme=dark] .colab-df-convert:hover {\n",
       "      background-color: #434B5C;\n",
       "      box-shadow: 0px 1px 3px 1px rgba(0, 0, 0, 0.15);\n",
       "      filter: drop-shadow(0px 1px 2px rgba(0, 0, 0, 0.3));\n",
       "      fill: #FFFFFF;\n",
       "    }\n",
       "  </style>\n",
       "\n",
       "      <script>\n",
       "        const buttonEl =\n",
       "          document.querySelector('#df-68eb2628-b5db-4a19-843b-0c757eb9085e button.colab-df-convert');\n",
       "        buttonEl.style.display =\n",
       "          google.colab.kernel.accessAllowed ? 'block' : 'none';\n",
       "\n",
       "        async function convertToInteractive(key) {\n",
       "          const element = document.querySelector('#df-68eb2628-b5db-4a19-843b-0c757eb9085e');\n",
       "          const dataTable =\n",
       "            await google.colab.kernel.invokeFunction('convertToInteractive',\n",
       "                                                     [key], {});\n",
       "          if (!dataTable) return;\n",
       "\n",
       "          const docLinkHtml = 'Like what you see? Visit the ' +\n",
       "            '<a target=\"_blank\" href=https://colab.research.google.com/notebooks/data_table.ipynb>data table notebook</a>'\n",
       "            + ' to learn more about interactive tables.';\n",
       "          element.innerHTML = '';\n",
       "          dataTable['output_type'] = 'display_data';\n",
       "          await google.colab.output.renderOutput(dataTable, element);\n",
       "          const docLink = document.createElement('div');\n",
       "          docLink.innerHTML = docLinkHtml;\n",
       "          element.appendChild(docLink);\n",
       "        }\n",
       "      </script>\n",
       "    </div>\n",
       "  </div>\n",
       "  "
      ],
      "text/plain": [
       "         date  wm_yr_wk   weekday  wday  month  year    d  snap_CA  snap_TX  \\\n",
       "0  2011-01-29     11101  Saturday     1      1  2011  d_1        0        0   \n",
       "1  2011-01-30     11101    Sunday     2      1  2011  d_2        0        0   \n",
       "2  2011-01-31     11101    Monday     3      1  2011  d_3        0        0   \n",
       "\n",
       "   snap_WI  d_ event_name event_type  \n",
       "0        0   1        NaN        NaN  \n",
       "1        0   2        NaN        NaN  \n",
       "2        0   3        NaN        NaN  "
      ]
     },
     "execution_count": 4,
     "metadata": {},
     "output_type": "execute_result"
    }
   ],
   "source": [
    "#add a feature which indicates the day number\n",
    "df_cal[\"d_\"] = df_cal[\"d\"].apply(lambda x: int(x.split(\"_\")[1]))\n",
    "\n",
    "#merge event_name_1, event_name_2 and event_type_1, event_type_2 together\n",
    "df_cal['event_name_1'] = df_cal['event_name_1'].apply(lambda x: \"\".join(x.split(\" \")) if type(x)==str else x)\n",
    "df_cal['event_name_2'] = df_cal['event_name_2'].apply(lambda x: \"\".join(x.split(\" \")) if type(x)==str else x)\n",
    "\n",
    "df_cal['event_name'] = df_cal[['event_name_1', 'event_name_2']].apply(lambda x: \"_\".join([x[0], x[1]]) if type(x[1])==str else x[0], axis=1)\n",
    "df_cal['event_type'] = df_cal[['event_type_1', 'event_type_2']].apply(lambda x: \"_\".join([x[0], x[1]]) if type(x[1])==str else x[0], axis=1)\n",
    "\n",
    "df_cal.drop(columns=['event_name_1', 'event_type_1', 'event_name_2', 'event_type_2'], inplace=True)\n",
    "df_cal.head(3)"
   ]
  },
  {
   "cell_type": "markdown",
   "metadata": {
    "id": "2iHQv2VOBT-r"
   },
   "source": [
    "#4. Split the data"
   ]
  },
  {
   "cell_type": "code",
   "execution_count": null,
   "metadata": {
    "id": "dOlqi-FVxaQs"
   },
   "outputs": [],
   "source": [
    "all_days = [x for x in df_sales.columns if 'd_' in x]\n",
    "\n",
    "train = df_sales[all_days[:1913]]\n",
    "val = df_sales[all_days[1913:]]"
   ]
  },
  {
   "cell_type": "markdown",
   "metadata": {
    "id": "X54ulRSfskfu"
   },
   "source": [
    "# 5. Define function to calculate weights and metrics\n",
    "\n"
   ]
  },
  {
   "cell_type": "markdown",
   "metadata": {
    "id": "7Y91FWhXQJXl"
   },
   "source": [
    "## 5.1 Compute Weights"
   ]
  },
  {
   "cell_type": "code",
   "execution_count": null,
   "metadata": {
    "id": "-vo8QRDd4V3W"
   },
   "outputs": [],
   "source": [
    "level_groupings = {2: [\"state_id\"], 3: [\"store_id\"], 4: [\"cat_id\"], 5: [\"dept_id\"], 6: [\"state_id\", \"cat_id\"], 7: [\"state_id\", \"dept_id\"],\n",
    "                   8: [\"store_id\", \"cat_id\"], 9: [\"store_id\", \"dept_id\"], 10: [\"item_id\"], 11: [\"item_id\", \"state_id\"]}\n",
    "\n",
    "def calculate_weightsL12(sales, cal, price):\n",
    "    ''' Calculate weights for level 12 (Product-Store) series' using the last 28 days sales data '''\n",
    "\n",
    "    #calculating weights for level 12 : 'item_id, store_id' # (d_1886 to d_1913)\n",
    "    #this loop is repeated 28 times to get the sales volume of all ids for each of last 28 days \n",
    "    #flow of execution : day-> week id-> sell price of ids on the day-> sales revenue of ids for the day\n",
    "    for day in tqdm(range(1886, 1914)):  \n",
    "        #get the week id corresponding to the day \n",
    "        week_id = int(cal[cal[\"d_\"]==day][\"wm_yr_wk\"]) \n",
    "\n",
    "        #get the week price for each of the items corresponding to the week id   \n",
    "        week_price = price[price[\"wm_yr_wk\"]==week_id]\n",
    "\n",
    "        #merge sales with week price on 'id'\n",
    "        #note: we merge the dataframes using inner join so the id which are present in both dataframes will be retained after merging\n",
    "        sales = sales.merge(week_price[[\"sell_price\", \"id\"]], on=[\"id\"], how='inner')\n",
    "\n",
    "        #create a column which shows the sales revenue for the day\n",
    "        #sales revenue = sell_price * units_sold \n",
    "        sales[\"sales_revenue_d_\" + str(day)] = sales[\"sell_price\"] * sales[\"d_\" + str(day)]\n",
    "\n",
    "        #drop the sell_price column\n",
    "        sales.drop(columns=[\"sell_price\"], inplace=True)\n",
    "\n",
    "    #Sum of sales revenue of each id for last 28 days   1`\n",
    "    sales_revenue_cols = [x for x in sales.columns if x.find(\"sales_revenue\")==0]\n",
    "    sales['sales_revenue_alldays'] = sales[sales_revenue_cols].sum(axis=1)\n",
    "    #Compute weights for each Level 12 Time Series\n",
    "    sales['weight'] = (1/12)*(sales['sales_revenue_alldays']/sales['sales_revenue_alldays'].sum())\n",
    "    #Drop the unnecessary columns \n",
    "    sales.drop(columns = sales_revenue_cols+['sales_revenue_alldays'], inplace=True)\n",
    "\n",
    "    return sales\n",
    "\n",
    "def calculate_weightsALL(sales, levels):\n",
    "    ''' Calculate weights for series' in rest of the aggregation levels '''\n",
    "    #weights for level 1 : 'all'\n",
    "    agg = pd.DataFrame(sales[[x for x in sales.columns if x.find(\"d_\") == 0 or x.find(\"F_\") == 0]].sum()).transpose() \n",
    "    id_cols = [\"item_id\", \"dept_id\", \"cat_id\", \"store_id\", \"state_id\"]\n",
    "    for col in id_cols:\n",
    "        agg[col] = 'all'\n",
    "    agg[\"level\"] = 1\n",
    "    agg[\"weight\"] = 1/12\n",
    "    column_order = agg.columns\n",
    "\n",
    "    #weights for the rest of the levels\n",
    "    for level in tqdm(level_groupings):\n",
    "        temp_df = sales.groupby(by=level_groupings[level]).sum().reset_index()\n",
    "        temp_df[\"level\"] = level\n",
    "        \n",
    "        for c in column_order:\n",
    "            if c not in temp_df.columns:\n",
    "                temp_df[c] = 'all'\n",
    "                \n",
    "        agg = agg.append(temp_df[column_order])\n",
    "\n",
    "    return agg"
   ]
  },
  {
   "cell_type": "markdown",
   "metadata": {
    "id": "KFqxfkleR1-c"
   },
   "source": [
    "## 5.2 Compute WRMSSE"
   ]
  },
  {
   "cell_type": "markdown",
   "metadata": {
    "id": "VAwzkNS7P3ae"
   },
   "source": [
    "Download pdf from here to understand the aim, data and metric - https://mofc.unic.ac.cy/m5-competition/"
   ]
  },
  {
   "cell_type": "markdown",
   "metadata": {
    "id": "Uxfr56p5L8PR"
   },
   "source": [
    "![RMSSE.png](data:image/png;base64,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)"
   ]
  },
  {
   "cell_type": "code",
   "execution_count": null,
   "metadata": {
    "id": "grmjH3xBVXIi"
   },
   "outputs": [],
   "source": [
    "def get_day_splits(sales):\n",
    "    train_days = [x for x in sales.columns if x.find(\"d_\") == 0][:1913]\n",
    "    val_days = [x for x in sales.columns if x.find(\"d_\") == 0][1913:]\n",
    "    forecast_days = [x for x in sales.columns if x.find(\"F_\") == 0]\n",
    "    return train_days, val_days, forecast_days\n",
    "\n",
    "def RMSSE(ground_truth, forecast, train):\n",
    "    ''' Calculates the RMSSE score for all series in the dataframe. '''\n",
    "    num = ((ground_truth - forecast)**2).sum(axis=1)\n",
    "    den = 1/(n-1) * ((train[:, 1:] - train[:, :-1]) ** 2).sum(axis=1)  \n",
    "    rmsse = (1/h * num/den) ** 0.5\n",
    "\n",
    "    return rmsse"
   ]
  },
  {
   "cell_type": "markdown",
   "metadata": {
    "id": "zcZ6nMheMQhE"
   },
   "source": [
    "![WRMSSE.png](data:image/png;base64,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)"
   ]
  },
  {
   "cell_type": "code",
   "execution_count": null,
   "metadata": {
    "id": "sIxEafpHVXLs"
   },
   "outputs": [],
   "source": [
    "h = 28\n",
    "n = 1913\n",
    "\n",
    "def WRMSSE(sales, agg, train_days, val_days, forecast_days):\n",
    "    ''' Calculates the WRMSSE score for the model prediction '''\n",
    "    ground_truth_df = np.array(sales[val_days])\n",
    "    forecast_df = np.array(sales[forecast_days])\n",
    "    train_df = np.array(sales[train_days])\n",
    "\n",
    "    ground_truth_agg_df = np.array(agg[val_days])\n",
    "    forecast_agg_df = np.array(agg[forecast_days])\n",
    "    train_agg_df = np.array(agg[train_days])\n",
    "            \n",
    "    sales[\"rmsse\"] = RMSSE(ground_truth_df, forecast_df, train_df)\n",
    "    agg[\"rmsse\"] = RMSSE(ground_truth_agg_df, forecast_agg_df, train_agg_df)\n",
    "\n",
    "    sales[\"wrmsse\"] = sales[\"weight\"] * sales[\"rmsse\"]\n",
    "    agg[\"wrmsse\"] = agg[\"weight\"] * agg[\"rmsse\"]\n",
    "\n",
    "    wrmsse = sales[\"wrmsse\"].sum() + agg[\"wrmsse\"].sum()\n",
    "    \n",
    "    return wrmsse"
   ]
  },
  {
   "cell_type": "markdown",
   "metadata": {
    "id": "8zgyhcwYGszD"
   },
   "source": [
    "# 6. Naive Approaches\n",
    "\n",
    "1. Simple Moving Average of last 30 days \n",
    "2. Exponentially Weighted Average of last 30 days\n",
    "3. Simple Average of last 28 days \n",
    "4. Simple Average of last 28 days grouped by weekday\n",
    "5. Average Sales on the given date since last few years\n",
    "6. Average Sales on the day since last few months\n",
    "7. Same as last 28 days\n",
    "8. Same as Last Year during this period"
   ]
  },
  {
   "cell_type": "markdown",
   "metadata": {
    "id": "M9PClOrv3nIY"
   },
   "source": [
    "## 6.1 Simple Moving Average of last 30 days\n"
   ]
  },
  {
   "cell_type": "code",
   "execution_count": null,
   "metadata": {
    "id": "YrKGhm5XZ3_U"
   },
   "outputs": [],
   "source": [
    "def SMA(train, horizon, window):\n",
    "    ''' Computes simple moving average for the horizon '''\n",
    "\n",
    "    train_arr = train.values\n",
    "\n",
    "    for i in range(horizon):\n",
    "        train_arr = np.hstack([train_arr, np.mean(train_arr[:, -window:], axis=1).reshape(-1,1)])\n",
    "\n",
    "    return train_arr[:,-horizon:]"
   ]
  },
  {
   "cell_type": "code",
   "execution_count": null,
   "metadata": {
    "colab": {
     "base_uri": "https://localhost:8080/",
     "height": 174
    },
    "id": "YWMNVwIUbp-A",
    "outputId": "f80596ff-9887-462e-880d-096f0f8cadbc"
   },
   "outputs": [
    {
     "data": {
      "text/html": [
       "\n",
       "  <div id=\"df-e29eda90-4e58-471b-a74f-ab54f5faed56\">\n",
       "    <div class=\"colab-df-container\">\n",
       "      <div>\n",
       "<style scoped>\n",
       "    .dataframe tbody tr th:only-of-type {\n",
       "        vertical-align: middle;\n",
       "    }\n",
       "\n",
       "    .dataframe tbody tr th {\n",
       "        vertical-align: top;\n",
       "    }\n",
       "\n",
       "    .dataframe thead th {\n",
       "        text-align: right;\n",
       "    }\n",
       "</style>\n",
       "<table border=\"1\" class=\"dataframe\">\n",
       "  <thead>\n",
       "    <tr style=\"text-align: right;\">\n",
       "      <th></th>\n",
       "      <th>id</th>\n",
       "      <th>item_id</th>\n",
       "      <th>dept_id</th>\n",
       "      <th>cat_id</th>\n",
       "      <th>store_id</th>\n",
       "      <th>state_id</th>\n",
       "      <th>d_1</th>\n",
       "      <th>d_2</th>\n",
       "      <th>d_3</th>\n",
       "      <th>d_4</th>\n",
       "      <th>...</th>\n",
       "      <th>F_1932</th>\n",
       "      <th>F_1933</th>\n",
       "      <th>F_1934</th>\n",
       "      <th>F_1935</th>\n",
       "      <th>F_1936</th>\n",
       "      <th>F_1937</th>\n",
       "      <th>F_1938</th>\n",
       "      <th>F_1939</th>\n",
       "      <th>F_1940</th>\n",
       "      <th>F_1941</th>\n",
       "    </tr>\n",
       "  </thead>\n",
       "  <tbody>\n",
       "    <tr>\n",
       "      <th>0</th>\n",
       "      <td>HOBBIES_1_001_CA_1_evaluation</td>\n",
       "      <td>HOBBIES_1_001</td>\n",
       "      <td>HOBBIES_1</td>\n",
       "      <td>HOBBIES</td>\n",
       "      <td>CA_1</td>\n",
       "      <td>CA</td>\n",
       "      <td>0</td>\n",
       "      <td>0</td>\n",
       "      <td>0</td>\n",
       "      <td>0</td>\n",
       "      <td>...</td>\n",
       "      <td>1.055737</td>\n",
       "      <td>1.090928</td>\n",
       "      <td>1.093959</td>\n",
       "      <td>1.097091</td>\n",
       "      <td>1.033661</td>\n",
       "      <td>1.068116</td>\n",
       "      <td>1.070387</td>\n",
       "      <td>1.072733</td>\n",
       "      <td>1.075158</td>\n",
       "      <td>1.010996</td>\n",
       "    </tr>\n",
       "  </tbody>\n",
       "</table>\n",
       "<p>1 rows × 1975 columns</p>\n",
       "</div>\n",
       "      <button class=\"colab-df-convert\" onclick=\"convertToInteractive('df-e29eda90-4e58-471b-a74f-ab54f5faed56')\"\n",
       "              title=\"Convert this dataframe to an interactive table.\"\n",
       "              style=\"display:none;\">\n",
       "        \n",
       "  <svg xmlns=\"http://www.w3.org/2000/svg\" height=\"24px\"viewBox=\"0 0 24 24\"\n",
       "       width=\"24px\">\n",
       "    <path d=\"M0 0h24v24H0V0z\" fill=\"none\"/>\n",
       "    <path d=\"M18.56 5.44l.94 2.06.94-2.06 2.06-.94-2.06-.94-.94-2.06-.94 2.06-2.06.94zm-11 1L8.5 8.5l.94-2.06 2.06-.94-2.06-.94L8.5 2.5l-.94 2.06-2.06.94zm10 10l.94 2.06.94-2.06 2.06-.94-2.06-.94-.94-2.06-.94 2.06-2.06.94z\"/><path d=\"M17.41 7.96l-1.37-1.37c-.4-.4-.92-.59-1.43-.59-.52 0-1.04.2-1.43.59L10.3 9.45l-7.72 7.72c-.78.78-.78 2.05 0 2.83L4 21.41c.39.39.9.59 1.41.59.51 0 1.02-.2 1.41-.59l7.78-7.78 2.81-2.81c.8-.78.8-2.07 0-2.86zM5.41 20L4 18.59l7.72-7.72 1.47 1.35L5.41 20z\"/>\n",
       "  </svg>\n",
       "      </button>\n",
       "      \n",
       "  <style>\n",
       "    .colab-df-container {\n",
       "      display:flex;\n",
       "      flex-wrap:wrap;\n",
       "      gap: 12px;\n",
       "    }\n",
       "\n",
       "    .colab-df-convert {\n",
       "      background-color: #E8F0FE;\n",
       "      border: none;\n",
       "      border-radius: 50%;\n",
       "      cursor: pointer;\n",
       "      display: none;\n",
       "      fill: #1967D2;\n",
       "      height: 32px;\n",
       "      padding: 0 0 0 0;\n",
       "      width: 32px;\n",
       "    }\n",
       "\n",
       "    .colab-df-convert:hover {\n",
       "      background-color: #E2EBFA;\n",
       "      box-shadow: 0px 1px 2px rgba(60, 64, 67, 0.3), 0px 1px 3px 1px rgba(60, 64, 67, 0.15);\n",
       "      fill: #174EA6;\n",
       "    }\n",
       "\n",
       "    [theme=dark] .colab-df-convert {\n",
       "      background-color: #3B4455;\n",
       "      fill: #D2E3FC;\n",
       "    }\n",
       "\n",
       "    [theme=dark] .colab-df-convert:hover {\n",
       "      background-color: #434B5C;\n",
       "      box-shadow: 0px 1px 3px 1px rgba(0, 0, 0, 0.15);\n",
       "      filter: drop-shadow(0px 1px 2px rgba(0, 0, 0, 0.3));\n",
       "      fill: #FFFFFF;\n",
       "    }\n",
       "  </style>\n",
       "\n",
       "      <script>\n",
       "        const buttonEl =\n",
       "          document.querySelector('#df-e29eda90-4e58-471b-a74f-ab54f5faed56 button.colab-df-convert');\n",
       "        buttonEl.style.display =\n",
       "          google.colab.kernel.accessAllowed ? 'block' : 'none';\n",
       "\n",
       "        async function convertToInteractive(key) {\n",
       "          const element = document.querySelector('#df-e29eda90-4e58-471b-a74f-ab54f5faed56');\n",
       "          const dataTable =\n",
       "            await google.colab.kernel.invokeFunction('convertToInteractive',\n",
       "                                                     [key], {});\n",
       "          if (!dataTable) return;\n",
       "\n",
       "          const docLinkHtml = 'Like what you see? Visit the ' +\n",
       "            '<a target=\"_blank\" href=https://colab.research.google.com/notebooks/data_table.ipynb>data table notebook</a>'\n",
       "            + ' to learn more about interactive tables.';\n",
       "          element.innerHTML = '';\n",
       "          dataTable['output_type'] = 'display_data';\n",
       "          await google.colab.output.renderOutput(dataTable, element);\n",
       "          const docLink = document.createElement('div');\n",
       "          docLink.innerHTML = docLinkHtml;\n",
       "          element.appendChild(docLink);\n",
       "        }\n",
       "      </script>\n",
       "    </div>\n",
       "  </div>\n",
       "  "
      ],
      "text/plain": [
       "                              id        item_id    dept_id   cat_id store_id  \\\n",
       "0  HOBBIES_1_001_CA_1_evaluation  HOBBIES_1_001  HOBBIES_1  HOBBIES     CA_1   \n",
       "\n",
       "  state_id  d_1  d_2  d_3  d_4  ...    F_1932    F_1933    F_1934    F_1935  \\\n",
       "0       CA    0    0    0    0  ...  1.055737  1.090928  1.093959  1.097091   \n",
       "\n",
       "     F_1936    F_1937    F_1938    F_1939    F_1940    F_1941  \n",
       "0  1.033661  1.068116  1.070387  1.072733  1.075158  1.010996  \n",
       "\n",
       "[1 rows x 1975 columns]"
      ]
     },
     "execution_count": 62,
     "metadata": {},
     "output_type": "execute_result"
    }
   ],
   "source": [
    "preds = SMA(train, 28, 30)\n",
    "preds_df = pd.DataFrame(preds, columns =  [f'F_{i}' for i in range(1914,1942)])\n",
    "df_sales_sma = pd.concat([df_sales, preds_df], axis=1)\n",
    "\n",
    "df_sales_sma.head(1)"
   ]
  },
  {
   "cell_type": "code",
   "execution_count": null,
   "metadata": {
    "colab": {
     "base_uri": "https://localhost:8080/"
    },
    "id": "l_mhDztJ3vjR",
    "outputId": "6eac43fe-fb31-4b82-d1ce-48d73e8350dc"
   },
   "outputs": [
    {
     "name": "stderr",
     "output_type": "stream",
     "text": [
      "100%|██████████| 28/28 [00:08<00:00,  3.17it/s]\n"
     ]
    }
   ],
   "source": [
    "df_sales_sma = calculate_weightsL12(df_sales_sma, df_cal, df_price)"
   ]
  },
  {
   "cell_type": "code",
   "execution_count": null,
   "metadata": {
    "colab": {
     "base_uri": "https://localhost:8080/"
    },
    "id": "PrWazISFRVrs",
    "outputId": "11625de6-45ad-4512-8a84-b4febc963694"
   },
   "outputs": [
    {
     "name": "stderr",
     "output_type": "stream",
     "text": [
      "100%|██████████| 10/10 [00:08<00:00,  1.20it/s]\n"
     ]
    }
   ],
   "source": [
    "agg_df_sma = calculate_weightsALL(df_sales_sma, level_groupings)"
   ]
  },
  {
   "cell_type": "code",
   "execution_count": null,
   "metadata": {
    "id": "f73x7hzjZsKU"
   },
   "outputs": [],
   "source": [
    "train_days, val_days, forecast_days = get_day_splits(df_sales_sma)"
   ]
  },
  {
   "cell_type": "code",
   "execution_count": null,
   "metadata": {
    "colab": {
     "base_uri": "https://localhost:8080/"
    },
    "id": "2J_JW9KObiDS",
    "outputId": "18b07955-6685-4505-a441-84cde6ebbd7e"
   },
   "outputs": [
    {
     "data": {
      "text/plain": [
       "1.0"
      ]
     },
     "execution_count": 66,
     "metadata": {},
     "output_type": "execute_result"
    }
   ],
   "source": [
    "df_sales_sma['weight'].sum() + agg_df_sma['weight'].sum()"
   ]
  },
  {
   "cell_type": "code",
   "execution_count": null,
   "metadata": {
    "colab": {
     "base_uri": "https://localhost:8080/"
    },
    "id": "qb9KvU-IcDVg",
    "outputId": "86a74686-490b-426f-8721-9b985c81c224"
   },
   "outputs": [
    {
     "name": "stdout",
     "output_type": "stream",
     "text": [
      "WRMSSE using SMA (Window=30 Days): 1.0867016409340657\n"
     ]
    }
   ],
   "source": [
    "wrmsse_sma = WRMSSE(df_sales_sma, agg_df_sma, train_days, val_days, forecast_days)\n",
    "print(\"WRMSSE using SMA (Window=30 Days):\", wrmsse_sma)"
   ]
  },
  {
   "cell_type": "markdown",
   "metadata": {
    "id": "SngChOR43-ch"
   },
   "source": [
    "## 6.2 Exponentially Weighted Average of last 30 days\n",
    "\n",
    "Formula:\n",
    "\n",
    "EMA(current) = ((Sales(current) - EMA(prev)) x Multiplier) + EMA(prev)"
   ]
  },
  {
   "cell_type": "code",
   "execution_count": null,
   "metadata": {
    "id": "piPZb7r2Q39_"
   },
   "outputs": [],
   "source": [
    "def EMA(train, horizon, window):\n",
    "    ''' Computes exponentially weighted average for one day in future, then use the same value for the horizon '''\n",
    "    train_arr = train.values\n",
    "    initial = np.mean(train_arr[:,-window:], axis=1)\n",
    "    mul = 2/float(window+1)\n",
    "\n",
    "    ema_curr = (train_arr[:, -1] - np.mean(train_arr[:, -window:], axis=1))*mul + np.mean(train_arr[:, -window:],axis=1)\n",
    "    \n",
    "    return np.hstack([ema_curr.reshape(-1,1)]*horizon)"
   ]
  },
  {
   "cell_type": "code",
   "execution_count": null,
   "metadata": {
    "colab": {
     "base_uri": "https://localhost:8080/",
     "height": 174
    },
    "id": "dkWMRGyUj4uY",
    "outputId": "874d3ba6-70ab-429f-b5d3-7f1bb78c7593"
   },
   "outputs": [
    {
     "data": {
      "text/html": [
       "\n",
       "  <div id=\"df-768a8d5b-a5b2-407a-b199-a07a3fd7b02d\">\n",
       "    <div class=\"colab-df-container\">\n",
       "      <div>\n",
       "<style scoped>\n",
       "    .dataframe tbody tr th:only-of-type {\n",
       "        vertical-align: middle;\n",
       "    }\n",
       "\n",
       "    .dataframe tbody tr th {\n",
       "        vertical-align: top;\n",
       "    }\n",
       "\n",
       "    .dataframe thead th {\n",
       "        text-align: right;\n",
       "    }\n",
       "</style>\n",
       "<table border=\"1\" class=\"dataframe\">\n",
       "  <thead>\n",
       "    <tr style=\"text-align: right;\">\n",
       "      <th></th>\n",
       "      <th>id</th>\n",
       "      <th>item_id</th>\n",
       "      <th>dept_id</th>\n",
       "      <th>cat_id</th>\n",
       "      <th>store_id</th>\n",
       "      <th>state_id</th>\n",
       "      <th>d_1</th>\n",
       "      <th>d_2</th>\n",
       "      <th>d_3</th>\n",
       "      <th>d_4</th>\n",
       "      <th>...</th>\n",
       "      <th>F_1932</th>\n",
       "      <th>F_1933</th>\n",
       "      <th>F_1934</th>\n",
       "      <th>F_1935</th>\n",
       "      <th>F_1936</th>\n",
       "      <th>F_1937</th>\n",
       "      <th>F_1938</th>\n",
       "      <th>F_1939</th>\n",
       "      <th>F_1940</th>\n",
       "      <th>F_1941</th>\n",
       "    </tr>\n",
       "  </thead>\n",
       "  <tbody>\n",
       "    <tr>\n",
       "      <th>0</th>\n",
       "      <td>HOBBIES_1_001_CA_1_evaluation</td>\n",
       "      <td>HOBBIES_1_001</td>\n",
       "      <td>HOBBIES_1</td>\n",
       "      <td>HOBBIES</td>\n",
       "      <td>CA_1</td>\n",
       "      <td>CA</td>\n",
       "      <td>0</td>\n",
       "      <td>0</td>\n",
       "      <td>0</td>\n",
       "      <td>0</td>\n",
       "      <td>...</td>\n",
       "      <td>0.968817</td>\n",
       "      <td>0.968817</td>\n",
       "      <td>0.968817</td>\n",
       "      <td>0.968817</td>\n",
       "      <td>0.968817</td>\n",
       "      <td>0.968817</td>\n",
       "      <td>0.968817</td>\n",
       "      <td>0.968817</td>\n",
       "      <td>0.968817</td>\n",
       "      <td>0.968817</td>\n",
       "    </tr>\n",
       "  </tbody>\n",
       "</table>\n",
       "<p>1 rows × 1975 columns</p>\n",
       "</div>\n",
       "      <button class=\"colab-df-convert\" onclick=\"convertToInteractive('df-768a8d5b-a5b2-407a-b199-a07a3fd7b02d')\"\n",
       "              title=\"Convert this dataframe to an interactive table.\"\n",
       "              style=\"display:none;\">\n",
       "        \n",
       "  <svg xmlns=\"http://www.w3.org/2000/svg\" height=\"24px\"viewBox=\"0 0 24 24\"\n",
       "       width=\"24px\">\n",
       "    <path d=\"M0 0h24v24H0V0z\" fill=\"none\"/>\n",
       "    <path d=\"M18.56 5.44l.94 2.06.94-2.06 2.06-.94-2.06-.94-.94-2.06-.94 2.06-2.06.94zm-11 1L8.5 8.5l.94-2.06 2.06-.94-2.06-.94L8.5 2.5l-.94 2.06-2.06.94zm10 10l.94 2.06.94-2.06 2.06-.94-2.06-.94-.94-2.06-.94 2.06-2.06.94z\"/><path d=\"M17.41 7.96l-1.37-1.37c-.4-.4-.92-.59-1.43-.59-.52 0-1.04.2-1.43.59L10.3 9.45l-7.72 7.72c-.78.78-.78 2.05 0 2.83L4 21.41c.39.39.9.59 1.41.59.51 0 1.02-.2 1.41-.59l7.78-7.78 2.81-2.81c.8-.78.8-2.07 0-2.86zM5.41 20L4 18.59l7.72-7.72 1.47 1.35L5.41 20z\"/>\n",
       "  </svg>\n",
       "      </button>\n",
       "      \n",
       "  <style>\n",
       "    .colab-df-container {\n",
       "      display:flex;\n",
       "      flex-wrap:wrap;\n",
       "      gap: 12px;\n",
       "    }\n",
       "\n",
       "    .colab-df-convert {\n",
       "      background-color: #E8F0FE;\n",
       "      border: none;\n",
       "      border-radius: 50%;\n",
       "      cursor: pointer;\n",
       "      display: none;\n",
       "      fill: #1967D2;\n",
       "      height: 32px;\n",
       "      padding: 0 0 0 0;\n",
       "      width: 32px;\n",
       "    }\n",
       "\n",
       "    .colab-df-convert:hover {\n",
       "      background-color: #E2EBFA;\n",
       "      box-shadow: 0px 1px 2px rgba(60, 64, 67, 0.3), 0px 1px 3px 1px rgba(60, 64, 67, 0.15);\n",
       "      fill: #174EA6;\n",
       "    }\n",
       "\n",
       "    [theme=dark] .colab-df-convert {\n",
       "      background-color: #3B4455;\n",
       "      fill: #D2E3FC;\n",
       "    }\n",
       "\n",
       "    [theme=dark] .colab-df-convert:hover {\n",
       "      background-color: #434B5C;\n",
       "      box-shadow: 0px 1px 3px 1px rgba(0, 0, 0, 0.15);\n",
       "      filter: drop-shadow(0px 1px 2px rgba(0, 0, 0, 0.3));\n",
       "      fill: #FFFFFF;\n",
       "    }\n",
       "  </style>\n",
       "\n",
       "      <script>\n",
       "        const buttonEl =\n",
       "          document.querySelector('#df-768a8d5b-a5b2-407a-b199-a07a3fd7b02d button.colab-df-convert');\n",
       "        buttonEl.style.display =\n",
       "          google.colab.kernel.accessAllowed ? 'block' : 'none';\n",
       "\n",
       "        async function convertToInteractive(key) {\n",
       "          const element = document.querySelector('#df-768a8d5b-a5b2-407a-b199-a07a3fd7b02d');\n",
       "          const dataTable =\n",
       "            await google.colab.kernel.invokeFunction('convertToInteractive',\n",
       "                                                     [key], {});\n",
       "          if (!dataTable) return;\n",
       "\n",
       "          const docLinkHtml = 'Like what you see? Visit the ' +\n",
       "            '<a target=\"_blank\" href=https://colab.research.google.com/notebooks/data_table.ipynb>data table notebook</a>'\n",
       "            + ' to learn more about interactive tables.';\n",
       "          element.innerHTML = '';\n",
       "          dataTable['output_type'] = 'display_data';\n",
       "          await google.colab.output.renderOutput(dataTable, element);\n",
       "          const docLink = document.createElement('div');\n",
       "          docLink.innerHTML = docLinkHtml;\n",
       "          element.appendChild(docLink);\n",
       "        }\n",
       "      </script>\n",
       "    </div>\n",
       "  </div>\n",
       "  "
      ],
      "text/plain": [
       "                              id        item_id    dept_id   cat_id store_id  \\\n",
       "0  HOBBIES_1_001_CA_1_evaluation  HOBBIES_1_001  HOBBIES_1  HOBBIES     CA_1   \n",
       "\n",
       "  state_id  d_1  d_2  d_3  d_4  ...    F_1932    F_1933    F_1934    F_1935  \\\n",
       "0       CA    0    0    0    0  ...  0.968817  0.968817  0.968817  0.968817   \n",
       "\n",
       "     F_1936    F_1937    F_1938    F_1939    F_1940    F_1941  \n",
       "0  0.968817  0.968817  0.968817  0.968817  0.968817  0.968817  \n",
       "\n",
       "[1 rows x 1975 columns]"
      ]
     },
     "execution_count": 69,
     "metadata": {},
     "output_type": "execute_result"
    }
   ],
   "source": [
    "preds = EMA(train, 28, 30)\n",
    "preds_df = pd.DataFrame(preds, columns =  [f'F_{i}' for i in range(1914,1942)])\n",
    "df_sales_ema = pd.concat([df_sales, preds_df], axis=1)\n",
    "\n",
    "df_sales_ema.head(1)"
   ]
  },
  {
   "cell_type": "code",
   "execution_count": null,
   "metadata": {
    "colab": {
     "base_uri": "https://localhost:8080/"
    },
    "id": "QVB3SsYFj4ua",
    "outputId": "e063f736-9579-441f-c71d-ea227e1eaf0e"
   },
   "outputs": [
    {
     "name": "stderr",
     "output_type": "stream",
     "text": [
      "100%|██████████| 28/28 [00:08<00:00,  3.36it/s]\n"
     ]
    }
   ],
   "source": [
    "df_sales_ema = calculate_weightsL12(df_sales_ema, df_cal, df_price)"
   ]
  },
  {
   "cell_type": "code",
   "execution_count": null,
   "metadata": {
    "colab": {
     "base_uri": "https://localhost:8080/"
    },
    "id": "rrtFV8Wmj4ub",
    "outputId": "347089fe-3f4b-40e0-a5fe-3d899764001b"
   },
   "outputs": [
    {
     "name": "stderr",
     "output_type": "stream",
     "text": [
      "100%|██████████| 10/10 [00:08<00:00,  1.20it/s]\n"
     ]
    }
   ],
   "source": [
    "agg_df_ema = calculate_weightsALL(df_sales_ema, level_groupings)"
   ]
  },
  {
   "cell_type": "code",
   "execution_count": null,
   "metadata": {
    "id": "crWBO9Ovj4ub"
   },
   "outputs": [],
   "source": [
    "train_days, val_days, forecast_days = get_day_splits(df_sales_ema)"
   ]
  },
  {
   "cell_type": "code",
   "execution_count": null,
   "metadata": {
    "colab": {
     "base_uri": "https://localhost:8080/"
    },
    "id": "ArvYG5J0j4ub",
    "outputId": "ca5d52e3-442b-438d-8895-9aa57e6aa55e"
   },
   "outputs": [
    {
     "data": {
      "text/plain": [
       "1.0"
      ]
     },
     "execution_count": 73,
     "metadata": {},
     "output_type": "execute_result"
    }
   ],
   "source": [
    "df_sales_ema['weight'].sum() + agg_df_ema['weight'].sum()"
   ]
  },
  {
   "cell_type": "code",
   "execution_count": null,
   "metadata": {
    "colab": {
     "base_uri": "https://localhost:8080/"
    },
    "id": "L0LFqGIDj4uc",
    "outputId": "a5064fa5-fa25-483f-9981-81a35c4f6de6"
   },
   "outputs": [
    {
     "name": "stdout",
     "output_type": "stream",
     "text": [
      "WRMSSE using EMA (Window=30 Days): 1.1038252806790645\n"
     ]
    }
   ],
   "source": [
    "wrmsse_ema = WRMSSE(df_sales_ema, agg_df_ema, train_days, val_days, forecast_days)\n",
    "print(\"WRMSSE using EMA (Window=30 Days):\", wrmsse_ema)"
   ]
  },
  {
   "cell_type": "markdown",
   "metadata": {
    "id": "6WCebiG34HlA"
   },
   "source": [
    "## 6.3 Simple Average of last 28 days"
   ]
  },
  {
   "cell_type": "code",
   "execution_count": null,
   "metadata": {
    "colab": {
     "base_uri": "https://localhost:8080/",
     "height": 110
    },
    "id": "3uj1Xsd54Tdk",
    "outputId": "1fd3df89-dd61-4f78-cf82-528e8b10776a"
   },
   "outputs": [
    {
     "data": {
      "text/html": [
       "\n",
       "  <div id=\"df-e289bb69-1c40-4fe3-a5a5-821bb0509310\">\n",
       "    <div class=\"colab-df-container\">\n",
       "      <div>\n",
       "<style scoped>\n",
       "    .dataframe tbody tr th:only-of-type {\n",
       "        vertical-align: middle;\n",
       "    }\n",
       "\n",
       "    .dataframe tbody tr th {\n",
       "        vertical-align: top;\n",
       "    }\n",
       "\n",
       "    .dataframe thead th {\n",
       "        text-align: right;\n",
       "    }\n",
       "</style>\n",
       "<table border=\"1\" class=\"dataframe\">\n",
       "  <thead>\n",
       "    <tr style=\"text-align: right;\">\n",
       "      <th></th>\n",
       "      <th>id</th>\n",
       "      <th>d_1886</th>\n",
       "      <th>d_1887</th>\n",
       "      <th>d_1888</th>\n",
       "      <th>d_1889</th>\n",
       "      <th>d_1890</th>\n",
       "      <th>d_1891</th>\n",
       "      <th>d_1892</th>\n",
       "      <th>d_1893</th>\n",
       "      <th>d_1894</th>\n",
       "      <th>...</th>\n",
       "      <th>d_1904</th>\n",
       "      <th>d_1905</th>\n",
       "      <th>d_1906</th>\n",
       "      <th>d_1907</th>\n",
       "      <th>d_1908</th>\n",
       "      <th>d_1909</th>\n",
       "      <th>d_1910</th>\n",
       "      <th>d_1911</th>\n",
       "      <th>d_1912</th>\n",
       "      <th>d_1913</th>\n",
       "    </tr>\n",
       "  </thead>\n",
       "  <tbody>\n",
       "    <tr>\n",
       "      <th>0</th>\n",
       "      <td>HOBBIES_1_001_CA_1_evaluation</td>\n",
       "      <td>1</td>\n",
       "      <td>0</td>\n",
       "      <td>0</td>\n",
       "      <td>0</td>\n",
       "      <td>0</td>\n",
       "      <td>0</td>\n",
       "      <td>1</td>\n",
       "      <td>0</td>\n",
       "      <td>4</td>\n",
       "      <td>...</td>\n",
       "      <td>1</td>\n",
       "      <td>3</td>\n",
       "      <td>0</td>\n",
       "      <td>1</td>\n",
       "      <td>1</td>\n",
       "      <td>1</td>\n",
       "      <td>3</td>\n",
       "      <td>0</td>\n",
       "      <td>1</td>\n",
       "      <td>1</td>\n",
       "    </tr>\n",
       "  </tbody>\n",
       "</table>\n",
       "<p>1 rows × 29 columns</p>\n",
       "</div>\n",
       "      <button class=\"colab-df-convert\" onclick=\"convertToInteractive('df-e289bb69-1c40-4fe3-a5a5-821bb0509310')\"\n",
       "              title=\"Convert this dataframe to an interactive table.\"\n",
       "              style=\"display:none;\">\n",
       "        \n",
       "  <svg xmlns=\"http://www.w3.org/2000/svg\" height=\"24px\"viewBox=\"0 0 24 24\"\n",
       "       width=\"24px\">\n",
       "    <path d=\"M0 0h24v24H0V0z\" fill=\"none\"/>\n",
       "    <path d=\"M18.56 5.44l.94 2.06.94-2.06 2.06-.94-2.06-.94-.94-2.06-.94 2.06-2.06.94zm-11 1L8.5 8.5l.94-2.06 2.06-.94-2.06-.94L8.5 2.5l-.94 2.06-2.06.94zm10 10l.94 2.06.94-2.06 2.06-.94-2.06-.94-.94-2.06-.94 2.06-2.06.94z\"/><path d=\"M17.41 7.96l-1.37-1.37c-.4-.4-.92-.59-1.43-.59-.52 0-1.04.2-1.43.59L10.3 9.45l-7.72 7.72c-.78.78-.78 2.05 0 2.83L4 21.41c.39.39.9.59 1.41.59.51 0 1.02-.2 1.41-.59l7.78-7.78 2.81-2.81c.8-.78.8-2.07 0-2.86zM5.41 20L4 18.59l7.72-7.72 1.47 1.35L5.41 20z\"/>\n",
       "  </svg>\n",
       "      </button>\n",
       "      \n",
       "  <style>\n",
       "    .colab-df-container {\n",
       "      display:flex;\n",
       "      flex-wrap:wrap;\n",
       "      gap: 12px;\n",
       "    }\n",
       "\n",
       "    .colab-df-convert {\n",
       "      background-color: #E8F0FE;\n",
       "      border: none;\n",
       "      border-radius: 50%;\n",
       "      cursor: pointer;\n",
       "      display: none;\n",
       "      fill: #1967D2;\n",
       "      height: 32px;\n",
       "      padding: 0 0 0 0;\n",
       "      width: 32px;\n",
       "    }\n",
       "\n",
       "    .colab-df-convert:hover {\n",
       "      background-color: #E2EBFA;\n",
       "      box-shadow: 0px 1px 2px rgba(60, 64, 67, 0.3), 0px 1px 3px 1px rgba(60, 64, 67, 0.15);\n",
       "      fill: #174EA6;\n",
       "    }\n",
       "\n",
       "    [theme=dark] .colab-df-convert {\n",
       "      background-color: #3B4455;\n",
       "      fill: #D2E3FC;\n",
       "    }\n",
       "\n",
       "    [theme=dark] .colab-df-convert:hover {\n",
       "      background-color: #434B5C;\n",
       "      box-shadow: 0px 1px 3px 1px rgba(0, 0, 0, 0.15);\n",
       "      filter: drop-shadow(0px 1px 2px rgba(0, 0, 0, 0.3));\n",
       "      fill: #FFFFFF;\n",
       "    }\n",
       "  </style>\n",
       "\n",
       "      <script>\n",
       "        const buttonEl =\n",
       "          document.querySelector('#df-e289bb69-1c40-4fe3-a5a5-821bb0509310 button.colab-df-convert');\n",
       "        buttonEl.style.display =\n",
       "          google.colab.kernel.accessAllowed ? 'block' : 'none';\n",
       "\n",
       "        async function convertToInteractive(key) {\n",
       "          const element = document.querySelector('#df-e289bb69-1c40-4fe3-a5a5-821bb0509310');\n",
       "          const dataTable =\n",
       "            await google.colab.kernel.invokeFunction('convertToInteractive',\n",
       "                                                     [key], {});\n",
       "          if (!dataTable) return;\n",
       "\n",
       "          const docLinkHtml = 'Like what you see? Visit the ' +\n",
       "            '<a target=\"_blank\" href=https://colab.research.google.com/notebooks/data_table.ipynb>data table notebook</a>'\n",
       "            + ' to learn more about interactive tables.';\n",
       "          element.innerHTML = '';\n",
       "          dataTable['output_type'] = 'display_data';\n",
       "          await google.colab.output.renderOutput(dataTable, element);\n",
       "          const docLink = document.createElement('div');\n",
       "          docLink.innerHTML = docLinkHtml;\n",
       "          element.appendChild(docLink);\n",
       "        }\n",
       "      </script>\n",
       "    </div>\n",
       "  </div>\n",
       "  "
      ],
      "text/plain": [
       "                              id  d_1886  d_1887  d_1888  d_1889  d_1890  \\\n",
       "0  HOBBIES_1_001_CA_1_evaluation       1       0       0       0       0   \n",
       "\n",
       "   d_1891  d_1892  d_1893  d_1894  ...  d_1904  d_1905  d_1906  d_1907  \\\n",
       "0       0       1       0       4  ...       1       3       0       1   \n",
       "\n",
       "   d_1908  d_1909  d_1910  d_1911  d_1912  d_1913  \n",
       "0       1       1       3       0       1       1  \n",
       "\n",
       "[1 rows x 29 columns]"
      ]
     },
     "execution_count": 75,
     "metadata": {},
     "output_type": "execute_result"
    }
   ],
   "source": [
    "df_sales_last28 = df_sales[['id']+[x for x in df_sales.columns if 'd_' in x and int(x.split('_')[1])>=1886 and int(x.split('_')[1])<=1913]]\n",
    "df_sales_last28.head(1)"
   ]
  },
  {
   "cell_type": "code",
   "execution_count": null,
   "metadata": {
    "colab": {
     "base_uri": "https://localhost:8080/",
     "height": 174
    },
    "id": "JSMVruj9myZT",
    "outputId": "f499a198-77b4-496a-ec9d-ed4f7c82040b"
   },
   "outputs": [
    {
     "data": {
      "text/html": [
       "\n",
       "  <div id=\"df-62466fb9-5dc9-4399-9808-f9f0ca424fd7\">\n",
       "    <div class=\"colab-df-container\">\n",
       "      <div>\n",
       "<style scoped>\n",
       "    .dataframe tbody tr th:only-of-type {\n",
       "        vertical-align: middle;\n",
       "    }\n",
       "\n",
       "    .dataframe tbody tr th {\n",
       "        vertical-align: top;\n",
       "    }\n",
       "\n",
       "    .dataframe thead th {\n",
       "        text-align: right;\n",
       "    }\n",
       "</style>\n",
       "<table border=\"1\" class=\"dataframe\">\n",
       "  <thead>\n",
       "    <tr style=\"text-align: right;\">\n",
       "      <th></th>\n",
       "      <th>id</th>\n",
       "      <th>item_id</th>\n",
       "      <th>dept_id</th>\n",
       "      <th>cat_id</th>\n",
       "      <th>store_id</th>\n",
       "      <th>state_id</th>\n",
       "      <th>d_1</th>\n",
       "      <th>d_2</th>\n",
       "      <th>d_3</th>\n",
       "      <th>d_4</th>\n",
       "      <th>...</th>\n",
       "      <th>F_1932</th>\n",
       "      <th>F_1933</th>\n",
       "      <th>F_1934</th>\n",
       "      <th>F_1935</th>\n",
       "      <th>F_1936</th>\n",
       "      <th>F_1937</th>\n",
       "      <th>F_1938</th>\n",
       "      <th>F_1939</th>\n",
       "      <th>F_1940</th>\n",
       "      <th>F_1941</th>\n",
       "    </tr>\n",
       "  </thead>\n",
       "  <tbody>\n",
       "    <tr>\n",
       "      <th>0</th>\n",
       "      <td>HOBBIES_1_001_CA_1_evaluation</td>\n",
       "      <td>HOBBIES_1_001</td>\n",
       "      <td>HOBBIES_1</td>\n",
       "      <td>HOBBIES</td>\n",
       "      <td>CA_1</td>\n",
       "      <td>CA</td>\n",
       "      <td>0</td>\n",
       "      <td>0</td>\n",
       "      <td>0</td>\n",
       "      <td>0</td>\n",
       "      <td>...</td>\n",
       "      <td>0.964286</td>\n",
       "      <td>0.964286</td>\n",
       "      <td>0.964286</td>\n",
       "      <td>0.964286</td>\n",
       "      <td>0.964286</td>\n",
       "      <td>0.964286</td>\n",
       "      <td>0.964286</td>\n",
       "      <td>0.964286</td>\n",
       "      <td>0.964286</td>\n",
       "      <td>0.964286</td>\n",
       "    </tr>\n",
       "  </tbody>\n",
       "</table>\n",
       "<p>1 rows × 1975 columns</p>\n",
       "</div>\n",
       "      <button class=\"colab-df-convert\" onclick=\"convertToInteractive('df-62466fb9-5dc9-4399-9808-f9f0ca424fd7')\"\n",
       "              title=\"Convert this dataframe to an interactive table.\"\n",
       "              style=\"display:none;\">\n",
       "        \n",
       "  <svg xmlns=\"http://www.w3.org/2000/svg\" height=\"24px\"viewBox=\"0 0 24 24\"\n",
       "       width=\"24px\">\n",
       "    <path d=\"M0 0h24v24H0V0z\" fill=\"none\"/>\n",
       "    <path d=\"M18.56 5.44l.94 2.06.94-2.06 2.06-.94-2.06-.94-.94-2.06-.94 2.06-2.06.94zm-11 1L8.5 8.5l.94-2.06 2.06-.94-2.06-.94L8.5 2.5l-.94 2.06-2.06.94zm10 10l.94 2.06.94-2.06 2.06-.94-2.06-.94-.94-2.06-.94 2.06-2.06.94z\"/><path d=\"M17.41 7.96l-1.37-1.37c-.4-.4-.92-.59-1.43-.59-.52 0-1.04.2-1.43.59L10.3 9.45l-7.72 7.72c-.78.78-.78 2.05 0 2.83L4 21.41c.39.39.9.59 1.41.59.51 0 1.02-.2 1.41-.59l7.78-7.78 2.81-2.81c.8-.78.8-2.07 0-2.86zM5.41 20L4 18.59l7.72-7.72 1.47 1.35L5.41 20z\"/>\n",
       "  </svg>\n",
       "      </button>\n",
       "      \n",
       "  <style>\n",
       "    .colab-df-container {\n",
       "      display:flex;\n",
       "      flex-wrap:wrap;\n",
       "      gap: 12px;\n",
       "    }\n",
       "\n",
       "    .colab-df-convert {\n",
       "      background-color: #E8F0FE;\n",
       "      border: none;\n",
       "      border-radius: 50%;\n",
       "      cursor: pointer;\n",
       "      display: none;\n",
       "      fill: #1967D2;\n",
       "      height: 32px;\n",
       "      padding: 0 0 0 0;\n",
       "      width: 32px;\n",
       "    }\n",
       "\n",
       "    .colab-df-convert:hover {\n",
       "      background-color: #E2EBFA;\n",
       "      box-shadow: 0px 1px 2px rgba(60, 64, 67, 0.3), 0px 1px 3px 1px rgba(60, 64, 67, 0.15);\n",
       "      fill: #174EA6;\n",
       "    }\n",
       "\n",
       "    [theme=dark] .colab-df-convert {\n",
       "      background-color: #3B4455;\n",
       "      fill: #D2E3FC;\n",
       "    }\n",
       "\n",
       "    [theme=dark] .colab-df-convert:hover {\n",
       "      background-color: #434B5C;\n",
       "      box-shadow: 0px 1px 3px 1px rgba(0, 0, 0, 0.15);\n",
       "      filter: drop-shadow(0px 1px 2px rgba(0, 0, 0, 0.3));\n",
       "      fill: #FFFFFF;\n",
       "    }\n",
       "  </style>\n",
       "\n",
       "      <script>\n",
       "        const buttonEl =\n",
       "          document.querySelector('#df-62466fb9-5dc9-4399-9808-f9f0ca424fd7 button.colab-df-convert');\n",
       "        buttonEl.style.display =\n",
       "          google.colab.kernel.accessAllowed ? 'block' : 'none';\n",
       "\n",
       "        async function convertToInteractive(key) {\n",
       "          const element = document.querySelector('#df-62466fb9-5dc9-4399-9808-f9f0ca424fd7');\n",
       "          const dataTable =\n",
       "            await google.colab.kernel.invokeFunction('convertToInteractive',\n",
       "                                                     [key], {});\n",
       "          if (!dataTable) return;\n",
       "\n",
       "          const docLinkHtml = 'Like what you see? Visit the ' +\n",
       "            '<a target=\"_blank\" href=https://colab.research.google.com/notebooks/data_table.ipynb>data table notebook</a>'\n",
       "            + ' to learn more about interactive tables.';\n",
       "          element.innerHTML = '';\n",
       "          dataTable['output_type'] = 'display_data';\n",
       "          await google.colab.output.renderOutput(dataTable, element);\n",
       "          const docLink = document.createElement('div');\n",
       "          docLink.innerHTML = docLinkHtml;\n",
       "          element.appendChild(docLink);\n",
       "        }\n",
       "      </script>\n",
       "    </div>\n",
       "  </div>\n",
       "  "
      ],
      "text/plain": [
       "                              id        item_id    dept_id   cat_id store_id  \\\n",
       "0  HOBBIES_1_001_CA_1_evaluation  HOBBIES_1_001  HOBBIES_1  HOBBIES     CA_1   \n",
       "\n",
       "  state_id  d_1  d_2  d_3  d_4  ...    F_1932    F_1933    F_1934    F_1935  \\\n",
       "0       CA    0    0    0    0  ...  0.964286  0.964286  0.964286  0.964286   \n",
       "\n",
       "     F_1936    F_1937    F_1938    F_1939    F_1940    F_1941  \n",
       "0  0.964286  0.964286  0.964286  0.964286  0.964286  0.964286  \n",
       "\n",
       "[1 rows x 1975 columns]"
      ]
     },
     "execution_count": 76,
     "metadata": {},
     "output_type": "execute_result"
    }
   ],
   "source": [
    "preds_df = pd.DataFrame([np.mean(df_sales_last28.iloc[:,1:], axis=1)]*28).T\n",
    "preds_df.columns = [f'F_{i}' for i in range(1914,1942)]\n",
    "df_sales_sa = pd.concat([df_sales, preds_df], axis=1)\n",
    "\n",
    "df_sales_sa.head(1)"
   ]
  },
  {
   "cell_type": "code",
   "execution_count": null,
   "metadata": {
    "colab": {
     "base_uri": "https://localhost:8080/"
    },
    "id": "KGgf7XQOps9F",
    "outputId": "cd2c4291-f921-489c-e34b-8301bb87574b"
   },
   "outputs": [
    {
     "name": "stderr",
     "output_type": "stream",
     "text": [
      "100%|██████████| 28/28 [00:09<00:00,  3.01it/s]\n"
     ]
    }
   ],
   "source": [
    "df_sales_sa = calculate_weightsL12(df_sales_sa, df_cal, df_price)"
   ]
  },
  {
   "cell_type": "code",
   "execution_count": null,
   "metadata": {
    "colab": {
     "base_uri": "https://localhost:8080/"
    },
    "id": "OASDLhdmps9G",
    "outputId": "c57c976e-6be1-4ff6-cfc2-f830a36c43b0"
   },
   "outputs": [
    {
     "name": "stderr",
     "output_type": "stream",
     "text": [
      "100%|██████████| 10/10 [00:09<00:00,  1.10it/s]\n"
     ]
    }
   ],
   "source": [
    "agg_df_sa = calculate_weightsALL(df_sales_sa, level_groupings)"
   ]
  },
  {
   "cell_type": "code",
   "execution_count": null,
   "metadata": {
    "id": "JaL-d8aeps9H"
   },
   "outputs": [],
   "source": [
    "train_days, val_days, forecast_days = get_day_splits(df_sales_sa)"
   ]
  },
  {
   "cell_type": "code",
   "execution_count": null,
   "metadata": {
    "colab": {
     "base_uri": "https://localhost:8080/"
    },
    "id": "d8_YcHX4ps9H",
    "outputId": "22e6036f-9764-4de4-e678-5eff10801f15"
   },
   "outputs": [
    {
     "data": {
      "text/plain": [
       "1.0"
      ]
     },
     "execution_count": 80,
     "metadata": {},
     "output_type": "execute_result"
    }
   ],
   "source": [
    "df_sales_sa['weight'].sum() + agg_df_sa['weight'].sum()"
   ]
  },
  {
   "cell_type": "code",
   "execution_count": null,
   "metadata": {
    "colab": {
     "base_uri": "https://localhost:8080/"
    },
    "id": "tU-axgIwps9H",
    "outputId": "c3a52ae3-bc4c-431e-fa6b-53fa34caaa80"
   },
   "outputs": [
    {
     "name": "stdout",
     "output_type": "stream",
     "text": [
      "WRMSSE using Simple Average (Window=28 Days): 1.1182948282668468\n"
     ]
    }
   ],
   "source": [
    "wrmsse_sa = WRMSSE(df_sales_sa, agg_df_sa, train_days, val_days, forecast_days)\n",
    "print(\"WRMSSE using Simple Average (Window=28 Days):\", wrmsse_sa)"
   ]
  },
  {
   "cell_type": "markdown",
   "metadata": {
    "id": "KwQcZynM4OQO"
   },
   "source": [
    "## 6.4 Simple Average of last 28 days grouped by weekday"
   ]
  },
  {
   "cell_type": "code",
   "execution_count": null,
   "metadata": {
    "colab": {
     "base_uri": "https://localhost:8080/",
     "height": 110
    },
    "id": "ebvo3f9VLydK",
    "outputId": "57c94e61-cdc0-46c8-ffdb-895fba8bc9d0"
   },
   "outputs": [
    {
     "data": {
      "text/html": [
       "\n",
       "  <div id=\"df-7b72934d-2ffb-4677-bcfa-30cc8452d9b1\">\n",
       "    <div class=\"colab-df-container\">\n",
       "      <div>\n",
       "<style scoped>\n",
       "    .dataframe tbody tr th:only-of-type {\n",
       "        vertical-align: middle;\n",
       "    }\n",
       "\n",
       "    .dataframe tbody tr th {\n",
       "        vertical-align: top;\n",
       "    }\n",
       "\n",
       "    .dataframe thead th {\n",
       "        text-align: right;\n",
       "    }\n",
       "</style>\n",
       "<table border=\"1\" class=\"dataframe\">\n",
       "  <thead>\n",
       "    <tr style=\"text-align: right;\">\n",
       "      <th></th>\n",
       "      <th>id</th>\n",
       "      <th>d_1886</th>\n",
       "      <th>d_1887</th>\n",
       "      <th>d_1888</th>\n",
       "      <th>d_1889</th>\n",
       "      <th>d_1890</th>\n",
       "      <th>d_1891</th>\n",
       "      <th>d_1892</th>\n",
       "      <th>d_1893</th>\n",
       "      <th>d_1894</th>\n",
       "      <th>...</th>\n",
       "      <th>d_1904</th>\n",
       "      <th>d_1905</th>\n",
       "      <th>d_1906</th>\n",
       "      <th>d_1907</th>\n",
       "      <th>d_1908</th>\n",
       "      <th>d_1909</th>\n",
       "      <th>d_1910</th>\n",
       "      <th>d_1911</th>\n",
       "      <th>d_1912</th>\n",
       "      <th>d_1913</th>\n",
       "    </tr>\n",
       "  </thead>\n",
       "  <tbody>\n",
       "    <tr>\n",
       "      <th>0</th>\n",
       "      <td>HOBBIES_1_001_CA_1_evaluation</td>\n",
       "      <td>1</td>\n",
       "      <td>0</td>\n",
       "      <td>0</td>\n",
       "      <td>0</td>\n",
       "      <td>0</td>\n",
       "      <td>0</td>\n",
       "      <td>1</td>\n",
       "      <td>0</td>\n",
       "      <td>4</td>\n",
       "      <td>...</td>\n",
       "      <td>1</td>\n",
       "      <td>3</td>\n",
       "      <td>0</td>\n",
       "      <td>1</td>\n",
       "      <td>1</td>\n",
       "      <td>1</td>\n",
       "      <td>3</td>\n",
       "      <td>0</td>\n",
       "      <td>1</td>\n",
       "      <td>1</td>\n",
       "    </tr>\n",
       "  </tbody>\n",
       "</table>\n",
       "<p>1 rows × 29 columns</p>\n",
       "</div>\n",
       "      <button class=\"colab-df-convert\" onclick=\"convertToInteractive('df-7b72934d-2ffb-4677-bcfa-30cc8452d9b1')\"\n",
       "              title=\"Convert this dataframe to an interactive table.\"\n",
       "              style=\"display:none;\">\n",
       "        \n",
       "  <svg xmlns=\"http://www.w3.org/2000/svg\" height=\"24px\"viewBox=\"0 0 24 24\"\n",
       "       width=\"24px\">\n",
       "    <path d=\"M0 0h24v24H0V0z\" fill=\"none\"/>\n",
       "    <path d=\"M18.56 5.44l.94 2.06.94-2.06 2.06-.94-2.06-.94-.94-2.06-.94 2.06-2.06.94zm-11 1L8.5 8.5l.94-2.06 2.06-.94-2.06-.94L8.5 2.5l-.94 2.06-2.06.94zm10 10l.94 2.06.94-2.06 2.06-.94-2.06-.94-.94-2.06-.94 2.06-2.06.94z\"/><path d=\"M17.41 7.96l-1.37-1.37c-.4-.4-.92-.59-1.43-.59-.52 0-1.04.2-1.43.59L10.3 9.45l-7.72 7.72c-.78.78-.78 2.05 0 2.83L4 21.41c.39.39.9.59 1.41.59.51 0 1.02-.2 1.41-.59l7.78-7.78 2.81-2.81c.8-.78.8-2.07 0-2.86zM5.41 20L4 18.59l7.72-7.72 1.47 1.35L5.41 20z\"/>\n",
       "  </svg>\n",
       "      </button>\n",
       "      \n",
       "  <style>\n",
       "    .colab-df-container {\n",
       "      display:flex;\n",
       "      flex-wrap:wrap;\n",
       "      gap: 12px;\n",
       "    }\n",
       "\n",
       "    .colab-df-convert {\n",
       "      background-color: #E8F0FE;\n",
       "      border: none;\n",
       "      border-radius: 50%;\n",
       "      cursor: pointer;\n",
       "      display: none;\n",
       "      fill: #1967D2;\n",
       "      height: 32px;\n",
       "      padding: 0 0 0 0;\n",
       "      width: 32px;\n",
       "    }\n",
       "\n",
       "    .colab-df-convert:hover {\n",
       "      background-color: #E2EBFA;\n",
       "      box-shadow: 0px 1px 2px rgba(60, 64, 67, 0.3), 0px 1px 3px 1px rgba(60, 64, 67, 0.15);\n",
       "      fill: #174EA6;\n",
       "    }\n",
       "\n",
       "    [theme=dark] .colab-df-convert {\n",
       "      background-color: #3B4455;\n",
       "      fill: #D2E3FC;\n",
       "    }\n",
       "\n",
       "    [theme=dark] .colab-df-convert:hover {\n",
       "      background-color: #434B5C;\n",
       "      box-shadow: 0px 1px 3px 1px rgba(0, 0, 0, 0.15);\n",
       "      filter: drop-shadow(0px 1px 2px rgba(0, 0, 0, 0.3));\n",
       "      fill: #FFFFFF;\n",
       "    }\n",
       "  </style>\n",
       "\n",
       "      <script>\n",
       "        const buttonEl =\n",
       "          document.querySelector('#df-7b72934d-2ffb-4677-bcfa-30cc8452d9b1 button.colab-df-convert');\n",
       "        buttonEl.style.display =\n",
       "          google.colab.kernel.accessAllowed ? 'block' : 'none';\n",
       "\n",
       "        async function convertToInteractive(key) {\n",
       "          const element = document.querySelector('#df-7b72934d-2ffb-4677-bcfa-30cc8452d9b1');\n",
       "          const dataTable =\n",
       "            await google.colab.kernel.invokeFunction('convertToInteractive',\n",
       "                                                     [key], {});\n",
       "          if (!dataTable) return;\n",
       "\n",
       "          const docLinkHtml = 'Like what you see? Visit the ' +\n",
       "            '<a target=\"_blank\" href=https://colab.research.google.com/notebooks/data_table.ipynb>data table notebook</a>'\n",
       "            + ' to learn more about interactive tables.';\n",
       "          element.innerHTML = '';\n",
       "          dataTable['output_type'] = 'display_data';\n",
       "          await google.colab.output.renderOutput(dataTable, element);\n",
       "          const docLink = document.createElement('div');\n",
       "          docLink.innerHTML = docLinkHtml;\n",
       "          element.appendChild(docLink);\n",
       "        }\n",
       "      </script>\n",
       "    </div>\n",
       "  </div>\n",
       "  "
      ],
      "text/plain": [
       "                              id  d_1886  d_1887  d_1888  d_1889  d_1890  \\\n",
       "0  HOBBIES_1_001_CA_1_evaluation       1       0       0       0       0   \n",
       "\n",
       "   d_1891  d_1892  d_1893  d_1894  ...  d_1904  d_1905  d_1906  d_1907  \\\n",
       "0       0       1       0       4  ...       1       3       0       1   \n",
       "\n",
       "   d_1908  d_1909  d_1910  d_1911  d_1912  d_1913  \n",
       "0       1       1       3       0       1       1  \n",
       "\n",
       "[1 rows x 29 columns]"
      ]
     },
     "execution_count": 82,
     "metadata": {},
     "output_type": "execute_result"
    }
   ],
   "source": [
    "df_sales_last28.head(1)"
   ]
  },
  {
   "cell_type": "code",
   "execution_count": null,
   "metadata": {
    "colab": {
     "base_uri": "https://localhost:8080/",
     "height": 206
    },
    "id": "NWH4tmUSKNMe",
    "outputId": "d781e6cd-fe6a-427f-eedc-6757ef14b2c6"
   },
   "outputs": [
    {
     "data": {
      "text/html": [
       "\n",
       "  <div id=\"df-87f7c569-93f1-4ed9-8a6b-dac7c0fe6d8f\">\n",
       "    <div class=\"colab-df-container\">\n",
       "      <div>\n",
       "<style scoped>\n",
       "    .dataframe tbody tr th:only-of-type {\n",
       "        vertical-align: middle;\n",
       "    }\n",
       "\n",
       "    .dataframe tbody tr th {\n",
       "        vertical-align: top;\n",
       "    }\n",
       "\n",
       "    .dataframe thead th {\n",
       "        text-align: right;\n",
       "    }\n",
       "</style>\n",
       "<table border=\"1\" class=\"dataframe\">\n",
       "  <thead>\n",
       "    <tr style=\"text-align: right;\">\n",
       "      <th></th>\n",
       "      <th>id</th>\n",
       "      <th>d</th>\n",
       "      <th>sales</th>\n",
       "    </tr>\n",
       "  </thead>\n",
       "  <tbody>\n",
       "    <tr>\n",
       "      <th>0</th>\n",
       "      <td>HOBBIES_1_001_CA_1_evaluation</td>\n",
       "      <td>d_1886</td>\n",
       "      <td>1</td>\n",
       "    </tr>\n",
       "    <tr>\n",
       "      <th>1</th>\n",
       "      <td>HOBBIES_1_002_CA_1_evaluation</td>\n",
       "      <td>d_1886</td>\n",
       "      <td>1</td>\n",
       "    </tr>\n",
       "    <tr>\n",
       "      <th>2</th>\n",
       "      <td>HOBBIES_1_003_CA_1_evaluation</td>\n",
       "      <td>d_1886</td>\n",
       "      <td>0</td>\n",
       "    </tr>\n",
       "    <tr>\n",
       "      <th>3</th>\n",
       "      <td>HOBBIES_1_004_CA_1_evaluation</td>\n",
       "      <td>d_1886</td>\n",
       "      <td>0</td>\n",
       "    </tr>\n",
       "    <tr>\n",
       "      <th>4</th>\n",
       "      <td>HOBBIES_1_005_CA_1_evaluation</td>\n",
       "      <td>d_1886</td>\n",
       "      <td>1</td>\n",
       "    </tr>\n",
       "  </tbody>\n",
       "</table>\n",
       "</div>\n",
       "      <button class=\"colab-df-convert\" onclick=\"convertToInteractive('df-87f7c569-93f1-4ed9-8a6b-dac7c0fe6d8f')\"\n",
       "              title=\"Convert this dataframe to an interactive table.\"\n",
       "              style=\"display:none;\">\n",
       "        \n",
       "  <svg xmlns=\"http://www.w3.org/2000/svg\" height=\"24px\"viewBox=\"0 0 24 24\"\n",
       "       width=\"24px\">\n",
       "    <path d=\"M0 0h24v24H0V0z\" fill=\"none\"/>\n",
       "    <path d=\"M18.56 5.44l.94 2.06.94-2.06 2.06-.94-2.06-.94-.94-2.06-.94 2.06-2.06.94zm-11 1L8.5 8.5l.94-2.06 2.06-.94-2.06-.94L8.5 2.5l-.94 2.06-2.06.94zm10 10l.94 2.06.94-2.06 2.06-.94-2.06-.94-.94-2.06-.94 2.06-2.06.94z\"/><path d=\"M17.41 7.96l-1.37-1.37c-.4-.4-.92-.59-1.43-.59-.52 0-1.04.2-1.43.59L10.3 9.45l-7.72 7.72c-.78.78-.78 2.05 0 2.83L4 21.41c.39.39.9.59 1.41.59.51 0 1.02-.2 1.41-.59l7.78-7.78 2.81-2.81c.8-.78.8-2.07 0-2.86zM5.41 20L4 18.59l7.72-7.72 1.47 1.35L5.41 20z\"/>\n",
       "  </svg>\n",
       "      </button>\n",
       "      \n",
       "  <style>\n",
       "    .colab-df-container {\n",
       "      display:flex;\n",
       "      flex-wrap:wrap;\n",
       "      gap: 12px;\n",
       "    }\n",
       "\n",
       "    .colab-df-convert {\n",
       "      background-color: #E8F0FE;\n",
       "      border: none;\n",
       "      border-radius: 50%;\n",
       "      cursor: pointer;\n",
       "      display: none;\n",
       "      fill: #1967D2;\n",
       "      height: 32px;\n",
       "      padding: 0 0 0 0;\n",
       "      width: 32px;\n",
       "    }\n",
       "\n",
       "    .colab-df-convert:hover {\n",
       "      background-color: #E2EBFA;\n",
       "      box-shadow: 0px 1px 2px rgba(60, 64, 67, 0.3), 0px 1px 3px 1px rgba(60, 64, 67, 0.15);\n",
       "      fill: #174EA6;\n",
       "    }\n",
       "\n",
       "    [theme=dark] .colab-df-convert {\n",
       "      background-color: #3B4455;\n",
       "      fill: #D2E3FC;\n",
       "    }\n",
       "\n",
       "    [theme=dark] .colab-df-convert:hover {\n",
       "      background-color: #434B5C;\n",
       "      box-shadow: 0px 1px 3px 1px rgba(0, 0, 0, 0.15);\n",
       "      filter: drop-shadow(0px 1px 2px rgba(0, 0, 0, 0.3));\n",
       "      fill: #FFFFFF;\n",
       "    }\n",
       "  </style>\n",
       "\n",
       "      <script>\n",
       "        const buttonEl =\n",
       "          document.querySelector('#df-87f7c569-93f1-4ed9-8a6b-dac7c0fe6d8f button.colab-df-convert');\n",
       "        buttonEl.style.display =\n",
       "          google.colab.kernel.accessAllowed ? 'block' : 'none';\n",
       "\n",
       "        async function convertToInteractive(key) {\n",
       "          const element = document.querySelector('#df-87f7c569-93f1-4ed9-8a6b-dac7c0fe6d8f');\n",
       "          const dataTable =\n",
       "            await google.colab.kernel.invokeFunction('convertToInteractive',\n",
       "                                                     [key], {});\n",
       "          if (!dataTable) return;\n",
       "\n",
       "          const docLinkHtml = 'Like what you see? Visit the ' +\n",
       "            '<a target=\"_blank\" href=https://colab.research.google.com/notebooks/data_table.ipynb>data table notebook</a>'\n",
       "            + ' to learn more about interactive tables.';\n",
       "          element.innerHTML = '';\n",
       "          dataTable['output_type'] = 'display_data';\n",
       "          await google.colab.output.renderOutput(dataTable, element);\n",
       "          const docLink = document.createElement('div');\n",
       "          docLink.innerHTML = docLinkHtml;\n",
       "          element.appendChild(docLink);\n",
       "        }\n",
       "      </script>\n",
       "    </div>\n",
       "  </div>\n",
       "  "
      ],
      "text/plain": [
       "                              id       d  sales\n",
       "0  HOBBIES_1_001_CA_1_evaluation  d_1886      1\n",
       "1  HOBBIES_1_002_CA_1_evaluation  d_1886      1\n",
       "2  HOBBIES_1_003_CA_1_evaluation  d_1886      0\n",
       "3  HOBBIES_1_004_CA_1_evaluation  d_1886      0\n",
       "4  HOBBIES_1_005_CA_1_evaluation  d_1886      1"
      ]
     },
     "execution_count": 83,
     "metadata": {},
     "output_type": "execute_result"
    }
   ],
   "source": [
    "df_sales_last28 = pd.melt(df_sales_last28, id_vars=['id'], var_name='d', value_name='sales')\n",
    "df_sales_last28.head()"
   ]
  },
  {
   "cell_type": "code",
   "execution_count": null,
   "metadata": {
    "colab": {
     "base_uri": "https://localhost:8080/",
     "height": 206
    },
    "id": "c5xx8VMANxcF",
    "outputId": "916f4fd4-2955-48ca-cb2f-61359eb02787"
   },
   "outputs": [
    {
     "data": {
      "text/html": [
       "\n",
       "  <div id=\"df-fb6e93f3-63b6-4487-b03c-67b186721b06\">\n",
       "    <div class=\"colab-df-container\">\n",
       "      <div>\n",
       "<style scoped>\n",
       "    .dataframe tbody tr th:only-of-type {\n",
       "        vertical-align: middle;\n",
       "    }\n",
       "\n",
       "    .dataframe tbody tr th {\n",
       "        vertical-align: top;\n",
       "    }\n",
       "\n",
       "    .dataframe thead th {\n",
       "        text-align: right;\n",
       "    }\n",
       "</style>\n",
       "<table border=\"1\" class=\"dataframe\">\n",
       "  <thead>\n",
       "    <tr style=\"text-align: right;\">\n",
       "      <th></th>\n",
       "      <th>id</th>\n",
       "      <th>d</th>\n",
       "      <th>sales</th>\n",
       "      <th>wday</th>\n",
       "    </tr>\n",
       "  </thead>\n",
       "  <tbody>\n",
       "    <tr>\n",
       "      <th>0</th>\n",
       "      <td>HOBBIES_1_001_CA_1_evaluation</td>\n",
       "      <td>d_1886</td>\n",
       "      <td>1</td>\n",
       "      <td>3</td>\n",
       "    </tr>\n",
       "    <tr>\n",
       "      <th>1</th>\n",
       "      <td>HOBBIES_1_002_CA_1_evaluation</td>\n",
       "      <td>d_1886</td>\n",
       "      <td>1</td>\n",
       "      <td>3</td>\n",
       "    </tr>\n",
       "    <tr>\n",
       "      <th>2</th>\n",
       "      <td>HOBBIES_1_003_CA_1_evaluation</td>\n",
       "      <td>d_1886</td>\n",
       "      <td>0</td>\n",
       "      <td>3</td>\n",
       "    </tr>\n",
       "    <tr>\n",
       "      <th>3</th>\n",
       "      <td>HOBBIES_1_004_CA_1_evaluation</td>\n",
       "      <td>d_1886</td>\n",
       "      <td>0</td>\n",
       "      <td>3</td>\n",
       "    </tr>\n",
       "    <tr>\n",
       "      <th>4</th>\n",
       "      <td>HOBBIES_1_005_CA_1_evaluation</td>\n",
       "      <td>d_1886</td>\n",
       "      <td>1</td>\n",
       "      <td>3</td>\n",
       "    </tr>\n",
       "  </tbody>\n",
       "</table>\n",
       "</div>\n",
       "      <button class=\"colab-df-convert\" onclick=\"convertToInteractive('df-fb6e93f3-63b6-4487-b03c-67b186721b06')\"\n",
       "              title=\"Convert this dataframe to an interactive table.\"\n",
       "              style=\"display:none;\">\n",
       "        \n",
       "  <svg xmlns=\"http://www.w3.org/2000/svg\" height=\"24px\"viewBox=\"0 0 24 24\"\n",
       "       width=\"24px\">\n",
       "    <path d=\"M0 0h24v24H0V0z\" fill=\"none\"/>\n",
       "    <path d=\"M18.56 5.44l.94 2.06.94-2.06 2.06-.94-2.06-.94-.94-2.06-.94 2.06-2.06.94zm-11 1L8.5 8.5l.94-2.06 2.06-.94-2.06-.94L8.5 2.5l-.94 2.06-2.06.94zm10 10l.94 2.06.94-2.06 2.06-.94-2.06-.94-.94-2.06-.94 2.06-2.06.94z\"/><path d=\"M17.41 7.96l-1.37-1.37c-.4-.4-.92-.59-1.43-.59-.52 0-1.04.2-1.43.59L10.3 9.45l-7.72 7.72c-.78.78-.78 2.05 0 2.83L4 21.41c.39.39.9.59 1.41.59.51 0 1.02-.2 1.41-.59l7.78-7.78 2.81-2.81c.8-.78.8-2.07 0-2.86zM5.41 20L4 18.59l7.72-7.72 1.47 1.35L5.41 20z\"/>\n",
       "  </svg>\n",
       "      </button>\n",
       "      \n",
       "  <style>\n",
       "    .colab-df-container {\n",
       "      display:flex;\n",
       "      flex-wrap:wrap;\n",
       "      gap: 12px;\n",
       "    }\n",
       "\n",
       "    .colab-df-convert {\n",
       "      background-color: #E8F0FE;\n",
       "      border: none;\n",
       "      border-radius: 50%;\n",
       "      cursor: pointer;\n",
       "      display: none;\n",
       "      fill: #1967D2;\n",
       "      height: 32px;\n",
       "      padding: 0 0 0 0;\n",
       "      width: 32px;\n",
       "    }\n",
       "\n",
       "    .colab-df-convert:hover {\n",
       "      background-color: #E2EBFA;\n",
       "      box-shadow: 0px 1px 2px rgba(60, 64, 67, 0.3), 0px 1px 3px 1px rgba(60, 64, 67, 0.15);\n",
       "      fill: #174EA6;\n",
       "    }\n",
       "\n",
       "    [theme=dark] .colab-df-convert {\n",
       "      background-color: #3B4455;\n",
       "      fill: #D2E3FC;\n",
       "    }\n",
       "\n",
       "    [theme=dark] .colab-df-convert:hover {\n",
       "      background-color: #434B5C;\n",
       "      box-shadow: 0px 1px 3px 1px rgba(0, 0, 0, 0.15);\n",
       "      filter: drop-shadow(0px 1px 2px rgba(0, 0, 0, 0.3));\n",
       "      fill: #FFFFFF;\n",
       "    }\n",
       "  </style>\n",
       "\n",
       "      <script>\n",
       "        const buttonEl =\n",
       "          document.querySelector('#df-fb6e93f3-63b6-4487-b03c-67b186721b06 button.colab-df-convert');\n",
       "        buttonEl.style.display =\n",
       "          google.colab.kernel.accessAllowed ? 'block' : 'none';\n",
       "\n",
       "        async function convertToInteractive(key) {\n",
       "          const element = document.querySelector('#df-fb6e93f3-63b6-4487-b03c-67b186721b06');\n",
       "          const dataTable =\n",
       "            await google.colab.kernel.invokeFunction('convertToInteractive',\n",
       "                                                     [key], {});\n",
       "          if (!dataTable) return;\n",
       "\n",
       "          const docLinkHtml = 'Like what you see? Visit the ' +\n",
       "            '<a target=\"_blank\" href=https://colab.research.google.com/notebooks/data_table.ipynb>data table notebook</a>'\n",
       "            + ' to learn more about interactive tables.';\n",
       "          element.innerHTML = '';\n",
       "          dataTable['output_type'] = 'display_data';\n",
       "          await google.colab.output.renderOutput(dataTable, element);\n",
       "          const docLink = document.createElement('div');\n",
       "          docLink.innerHTML = docLinkHtml;\n",
       "          element.appendChild(docLink);\n",
       "        }\n",
       "      </script>\n",
       "    </div>\n",
       "  </div>\n",
       "  "
      ],
      "text/plain": [
       "                              id       d  sales  wday\n",
       "0  HOBBIES_1_001_CA_1_evaluation  d_1886      1     3\n",
       "1  HOBBIES_1_002_CA_1_evaluation  d_1886      1     3\n",
       "2  HOBBIES_1_003_CA_1_evaluation  d_1886      0     3\n",
       "3  HOBBIES_1_004_CA_1_evaluation  d_1886      0     3\n",
       "4  HOBBIES_1_005_CA_1_evaluation  d_1886      1     3"
      ]
     },
     "execution_count": 84,
     "metadata": {},
     "output_type": "execute_result"
    }
   ],
   "source": [
    "df_sales_last28 = df_sales_last28.merge(df_cal[['d', 'wday']], on=['d'], how='inner')\n",
    "df_sales_last28.head()"
   ]
  },
  {
   "cell_type": "code",
   "execution_count": null,
   "metadata": {
    "colab": {
     "base_uri": "https://localhost:8080/",
     "height": 237
    },
    "id": "4hl0s5-AK2wn",
    "outputId": "a0dc26bf-743c-4c46-d9be-8386ac975beb"
   },
   "outputs": [
    {
     "data": {
      "text/html": [
       "\n",
       "  <div id=\"df-eaffd631-0694-4a05-a1f0-4bd958aeec39\">\n",
       "    <div class=\"colab-df-container\">\n",
       "      <div>\n",
       "<style scoped>\n",
       "    .dataframe tbody tr th:only-of-type {\n",
       "        vertical-align: middle;\n",
       "    }\n",
       "\n",
       "    .dataframe tbody tr th {\n",
       "        vertical-align: top;\n",
       "    }\n",
       "\n",
       "    .dataframe thead th {\n",
       "        text-align: right;\n",
       "    }\n",
       "</style>\n",
       "<table border=\"1\" class=\"dataframe\">\n",
       "  <thead>\n",
       "    <tr style=\"text-align: right;\">\n",
       "      <th></th>\n",
       "      <th></th>\n",
       "      <th>sales</th>\n",
       "    </tr>\n",
       "    <tr>\n",
       "      <th>id</th>\n",
       "      <th>wday</th>\n",
       "      <th></th>\n",
       "    </tr>\n",
       "  </thead>\n",
       "  <tbody>\n",
       "    <tr>\n",
       "      <th rowspan=\"5\" valign=\"top\">FOODS_1_001_CA_1_evaluation</th>\n",
       "      <th>1</th>\n",
       "      <td>0.75</td>\n",
       "    </tr>\n",
       "    <tr>\n",
       "      <th>2</th>\n",
       "      <td>0.50</td>\n",
       "    </tr>\n",
       "    <tr>\n",
       "      <th>3</th>\n",
       "      <td>3.00</td>\n",
       "    </tr>\n",
       "    <tr>\n",
       "      <th>4</th>\n",
       "      <td>0.75</td>\n",
       "    </tr>\n",
       "    <tr>\n",
       "      <th>5</th>\n",
       "      <td>1.50</td>\n",
       "    </tr>\n",
       "  </tbody>\n",
       "</table>\n",
       "</div>\n",
       "      <button class=\"colab-df-convert\" onclick=\"convertToInteractive('df-eaffd631-0694-4a05-a1f0-4bd958aeec39')\"\n",
       "              title=\"Convert this dataframe to an interactive table.\"\n",
       "              style=\"display:none;\">\n",
       "        \n",
       "  <svg xmlns=\"http://www.w3.org/2000/svg\" height=\"24px\"viewBox=\"0 0 24 24\"\n",
       "       width=\"24px\">\n",
       "    <path d=\"M0 0h24v24H0V0z\" fill=\"none\"/>\n",
       "    <path d=\"M18.56 5.44l.94 2.06.94-2.06 2.06-.94-2.06-.94-.94-2.06-.94 2.06-2.06.94zm-11 1L8.5 8.5l.94-2.06 2.06-.94-2.06-.94L8.5 2.5l-.94 2.06-2.06.94zm10 10l.94 2.06.94-2.06 2.06-.94-2.06-.94-.94-2.06-.94 2.06-2.06.94z\"/><path d=\"M17.41 7.96l-1.37-1.37c-.4-.4-.92-.59-1.43-.59-.52 0-1.04.2-1.43.59L10.3 9.45l-7.72 7.72c-.78.78-.78 2.05 0 2.83L4 21.41c.39.39.9.59 1.41.59.51 0 1.02-.2 1.41-.59l7.78-7.78 2.81-2.81c.8-.78.8-2.07 0-2.86zM5.41 20L4 18.59l7.72-7.72 1.47 1.35L5.41 20z\"/>\n",
       "  </svg>\n",
       "      </button>\n",
       "      \n",
       "  <style>\n",
       "    .colab-df-container {\n",
       "      display:flex;\n",
       "      flex-wrap:wrap;\n",
       "      gap: 12px;\n",
       "    }\n",
       "\n",
       "    .colab-df-convert {\n",
       "      background-color: #E8F0FE;\n",
       "      border: none;\n",
       "      border-radius: 50%;\n",
       "      cursor: pointer;\n",
       "      display: none;\n",
       "      fill: #1967D2;\n",
       "      height: 32px;\n",
       "      padding: 0 0 0 0;\n",
       "      width: 32px;\n",
       "    }\n",
       "\n",
       "    .colab-df-convert:hover {\n",
       "      background-color: #E2EBFA;\n",
       "      box-shadow: 0px 1px 2px rgba(60, 64, 67, 0.3), 0px 1px 3px 1px rgba(60, 64, 67, 0.15);\n",
       "      fill: #174EA6;\n",
       "    }\n",
       "\n",
       "    [theme=dark] .colab-df-convert {\n",
       "      background-color: #3B4455;\n",
       "      fill: #D2E3FC;\n",
       "    }\n",
       "\n",
       "    [theme=dark] .colab-df-convert:hover {\n",
       "      background-color: #434B5C;\n",
       "      box-shadow: 0px 1px 3px 1px rgba(0, 0, 0, 0.15);\n",
       "      filter: drop-shadow(0px 1px 2px rgba(0, 0, 0, 0.3));\n",
       "      fill: #FFFFFF;\n",
       "    }\n",
       "  </style>\n",
       "\n",
       "      <script>\n",
       "        const buttonEl =\n",
       "          document.querySelector('#df-eaffd631-0694-4a05-a1f0-4bd958aeec39 button.colab-df-convert');\n",
       "        buttonEl.style.display =\n",
       "          google.colab.kernel.accessAllowed ? 'block' : 'none';\n",
       "\n",
       "        async function convertToInteractive(key) {\n",
       "          const element = document.querySelector('#df-eaffd631-0694-4a05-a1f0-4bd958aeec39');\n",
       "          const dataTable =\n",
       "            await google.colab.kernel.invokeFunction('convertToInteractive',\n",
       "                                                     [key], {});\n",
       "          if (!dataTable) return;\n",
       "\n",
       "          const docLinkHtml = 'Like what you see? Visit the ' +\n",
       "            '<a target=\"_blank\" href=https://colab.research.google.com/notebooks/data_table.ipynb>data table notebook</a>'\n",
       "            + ' to learn more about interactive tables.';\n",
       "          element.innerHTML = '';\n",
       "          dataTable['output_type'] = 'display_data';\n",
       "          await google.colab.output.renderOutput(dataTable, element);\n",
       "          const docLink = document.createElement('div');\n",
       "          docLink.innerHTML = docLinkHtml;\n",
       "          element.appendChild(docLink);\n",
       "        }\n",
       "      </script>\n",
       "    </div>\n",
       "  </div>\n",
       "  "
      ],
      "text/plain": [
       "                                  sales\n",
       "id                          wday       \n",
       "FOODS_1_001_CA_1_evaluation 1      0.75\n",
       "                            2      0.50\n",
       "                            3      3.00\n",
       "                            4      0.75\n",
       "                            5      1.50"
      ]
     },
     "execution_count": 85,
     "metadata": {},
     "output_type": "execute_result"
    }
   ],
   "source": [
    "query_df = df_sales_last28.groupby(['id', 'wday']).mean()\n",
    "query_df.head()"
   ]
  },
  {
   "cell_type": "code",
   "execution_count": null,
   "metadata": {
    "id": "s1hKr4LYOdSJ"
   },
   "outputs": [],
   "source": [
    "wday_dict = df_cal.loc[1913:1940, ['d', 'wday']].set_index('d').to_dict()['wday']\n",
    "\n",
    "preds = []\n",
    "for id in df_sales['id']:\n",
    "    tmp = [] \n",
    "    for day in range(1914, 1942):\n",
    "        wday = wday_dict[f'd_{day}']\n",
    "        tmp.append(list(query_df.loc[(id, wday)])[0])\n",
    "    preds.append(tmp)\n",
    "\n",
    "preds_df = np.array(preds)"
   ]
  },
  {
   "cell_type": "code",
   "execution_count": null,
   "metadata": {
    "colab": {
     "base_uri": "https://localhost:8080/",
     "height": 110
    },
    "id": "y5YPmLlwU85p",
    "outputId": "0a59cd00-5a46-492a-e372-52fc6b729843"
   },
   "outputs": [
    {
     "data": {
      "text/html": [
       "\n",
       "  <div id=\"df-3f8ce970-5e56-4676-8fe3-7344fdc72604\">\n",
       "    <div class=\"colab-df-container\">\n",
       "      <div>\n",
       "<style scoped>\n",
       "    .dataframe tbody tr th:only-of-type {\n",
       "        vertical-align: middle;\n",
       "    }\n",
       "\n",
       "    .dataframe tbody tr th {\n",
       "        vertical-align: top;\n",
       "    }\n",
       "\n",
       "    .dataframe thead th {\n",
       "        text-align: right;\n",
       "    }\n",
       "</style>\n",
       "<table border=\"1\" class=\"dataframe\">\n",
       "  <thead>\n",
       "    <tr style=\"text-align: right;\">\n",
       "      <th></th>\n",
       "      <th>id</th>\n",
       "      <th>item_id</th>\n",
       "      <th>dept_id</th>\n",
       "      <th>cat_id</th>\n",
       "      <th>store_id</th>\n",
       "      <th>state_id</th>\n",
       "      <th>d_1</th>\n",
       "      <th>d_2</th>\n",
       "      <th>d_3</th>\n",
       "      <th>d_4</th>\n",
       "      <th>...</th>\n",
       "      <th>F_1932</th>\n",
       "      <th>F_1933</th>\n",
       "      <th>F_1934</th>\n",
       "      <th>F_1935</th>\n",
       "      <th>F_1936</th>\n",
       "      <th>F_1937</th>\n",
       "      <th>F_1938</th>\n",
       "      <th>F_1939</th>\n",
       "      <th>F_1940</th>\n",
       "      <th>F_1941</th>\n",
       "    </tr>\n",
       "  </thead>\n",
       "  <tbody>\n",
       "    <tr>\n",
       "      <th>0</th>\n",
       "      <td>HOBBIES_1_001_CA_1_evaluation</td>\n",
       "      <td>HOBBIES_1_001</td>\n",
       "      <td>HOBBIES_1</td>\n",
       "      <td>HOBBIES</td>\n",
       "      <td>CA_1</td>\n",
       "      <td>CA</td>\n",
       "      <td>0</td>\n",
       "      <td>0</td>\n",
       "      <td>0</td>\n",
       "      <td>0</td>\n",
       "      <td>...</td>\n",
       "      <td>0.25</td>\n",
       "      <td>1.25</td>\n",
       "      <td>1.0</td>\n",
       "      <td>0.5</td>\n",
       "      <td>1.25</td>\n",
       "      <td>0.75</td>\n",
       "      <td>1.75</td>\n",
       "      <td>0.25</td>\n",
       "      <td>1.25</td>\n",
       "      <td>1.0</td>\n",
       "    </tr>\n",
       "  </tbody>\n",
       "</table>\n",
       "<p>1 rows × 1975 columns</p>\n",
       "</div>\n",
       "      <button class=\"colab-df-convert\" onclick=\"convertToInteractive('df-3f8ce970-5e56-4676-8fe3-7344fdc72604')\"\n",
       "              title=\"Convert this dataframe to an interactive table.\"\n",
       "              style=\"display:none;\">\n",
       "        \n",
       "  <svg xmlns=\"http://www.w3.org/2000/svg\" height=\"24px\"viewBox=\"0 0 24 24\"\n",
       "       width=\"24px\">\n",
       "    <path d=\"M0 0h24v24H0V0z\" fill=\"none\"/>\n",
       "    <path d=\"M18.56 5.44l.94 2.06.94-2.06 2.06-.94-2.06-.94-.94-2.06-.94 2.06-2.06.94zm-11 1L8.5 8.5l.94-2.06 2.06-.94-2.06-.94L8.5 2.5l-.94 2.06-2.06.94zm10 10l.94 2.06.94-2.06 2.06-.94-2.06-.94-.94-2.06-.94 2.06-2.06.94z\"/><path d=\"M17.41 7.96l-1.37-1.37c-.4-.4-.92-.59-1.43-.59-.52 0-1.04.2-1.43.59L10.3 9.45l-7.72 7.72c-.78.78-.78 2.05 0 2.83L4 21.41c.39.39.9.59 1.41.59.51 0 1.02-.2 1.41-.59l7.78-7.78 2.81-2.81c.8-.78.8-2.07 0-2.86zM5.41 20L4 18.59l7.72-7.72 1.47 1.35L5.41 20z\"/>\n",
       "  </svg>\n",
       "      </button>\n",
       "      \n",
       "  <style>\n",
       "    .colab-df-container {\n",
       "      display:flex;\n",
       "      flex-wrap:wrap;\n",
       "      gap: 12px;\n",
       "    }\n",
       "\n",
       "    .colab-df-convert {\n",
       "      background-color: #E8F0FE;\n",
       "      border: none;\n",
       "      border-radius: 50%;\n",
       "      cursor: pointer;\n",
       "      display: none;\n",
       "      fill: #1967D2;\n",
       "      height: 32px;\n",
       "      padding: 0 0 0 0;\n",
       "      width: 32px;\n",
       "    }\n",
       "\n",
       "    .colab-df-convert:hover {\n",
       "      background-color: #E2EBFA;\n",
       "      box-shadow: 0px 1px 2px rgba(60, 64, 67, 0.3), 0px 1px 3px 1px rgba(60, 64, 67, 0.15);\n",
       "      fill: #174EA6;\n",
       "    }\n",
       "\n",
       "    [theme=dark] .colab-df-convert {\n",
       "      background-color: #3B4455;\n",
       "      fill: #D2E3FC;\n",
       "    }\n",
       "\n",
       "    [theme=dark] .colab-df-convert:hover {\n",
       "      background-color: #434B5C;\n",
       "      box-shadow: 0px 1px 3px 1px rgba(0, 0, 0, 0.15);\n",
       "      filter: drop-shadow(0px 1px 2px rgba(0, 0, 0, 0.3));\n",
       "      fill: #FFFFFF;\n",
       "    }\n",
       "  </style>\n",
       "\n",
       "      <script>\n",
       "        const buttonEl =\n",
       "          document.querySelector('#df-3f8ce970-5e56-4676-8fe3-7344fdc72604 button.colab-df-convert');\n",
       "        buttonEl.style.display =\n",
       "          google.colab.kernel.accessAllowed ? 'block' : 'none';\n",
       "\n",
       "        async function convertToInteractive(key) {\n",
       "          const element = document.querySelector('#df-3f8ce970-5e56-4676-8fe3-7344fdc72604');\n",
       "          const dataTable =\n",
       "            await google.colab.kernel.invokeFunction('convertToInteractive',\n",
       "                                                     [key], {});\n",
       "          if (!dataTable) return;\n",
       "\n",
       "          const docLinkHtml = 'Like what you see? Visit the ' +\n",
       "            '<a target=\"_blank\" href=https://colab.research.google.com/notebooks/data_table.ipynb>data table notebook</a>'\n",
       "            + ' to learn more about interactive tables.';\n",
       "          element.innerHTML = '';\n",
       "          dataTable['output_type'] = 'display_data';\n",
       "          await google.colab.output.renderOutput(dataTable, element);\n",
       "          const docLink = document.createElement('div');\n",
       "          docLink.innerHTML = docLinkHtml;\n",
       "          element.appendChild(docLink);\n",
       "        }\n",
       "      </script>\n",
       "    </div>\n",
       "  </div>\n",
       "  "
      ],
      "text/plain": [
       "                              id        item_id    dept_id   cat_id store_id  \\\n",
       "0  HOBBIES_1_001_CA_1_evaluation  HOBBIES_1_001  HOBBIES_1  HOBBIES     CA_1   \n",
       "\n",
       "  state_id  d_1  d_2  d_3  d_4  ...  F_1932  F_1933  F_1934  F_1935  F_1936  \\\n",
       "0       CA    0    0    0    0  ...    0.25    1.25     1.0     0.5    1.25   \n",
       "\n",
       "   F_1937  F_1938  F_1939  F_1940  F_1941  \n",
       "0    0.75    1.75    0.25    1.25     1.0  \n",
       "\n",
       "[1 rows x 1975 columns]"
      ]
     },
     "execution_count": 87,
     "metadata": {},
     "output_type": "execute_result"
    }
   ],
   "source": [
    "preds_df = pd.DataFrame(preds_df, columns = [f'F_{i}' for i in range(1914,1942)])\n",
    "df_sales_sa28 = pd.concat([df_sales, preds_df], axis=1)\n",
    "df_sales_sa28.head(1)"
   ]
  },
  {
   "cell_type": "code",
   "execution_count": null,
   "metadata": {
    "colab": {
     "base_uri": "https://localhost:8080/"
    },
    "id": "dtN6yRgQvm4g",
    "outputId": "3366cc13-2a96-4a88-f3d7-90f6cac63c19"
   },
   "outputs": [
    {
     "name": "stderr",
     "output_type": "stream",
     "text": [
      "100%|██████████| 28/28 [00:09<00:00,  2.96it/s]\n"
     ]
    }
   ],
   "source": [
    "df_sales_sa28 = calculate_weightsL12(df_sales_sa28, df_cal, df_price)"
   ]
  },
  {
   "cell_type": "code",
   "execution_count": null,
   "metadata": {
    "colab": {
     "base_uri": "https://localhost:8080/"
    },
    "id": "6TmXQxecvm4h",
    "outputId": "4fdca3fa-4ed5-40f4-bfbb-b0d8fcfd8c64"
   },
   "outputs": [
    {
     "name": "stderr",
     "output_type": "stream",
     "text": [
      "100%|██████████| 10/10 [00:09<00:00,  1.01it/s]\n"
     ]
    }
   ],
   "source": [
    "agg_df_sa28 = calculate_weightsALL(df_sales_sa28, level_groupings)"
   ]
  },
  {
   "cell_type": "code",
   "execution_count": null,
   "metadata": {
    "id": "G9C3gf53vm4h"
   },
   "outputs": [],
   "source": [
    "train_days, val_days, forecast_days = get_day_splits(df_sales_sa28)"
   ]
  },
  {
   "cell_type": "code",
   "execution_count": null,
   "metadata": {
    "colab": {
     "base_uri": "https://localhost:8080/"
    },
    "id": "Vm5BDmtwvm4i",
    "outputId": "dcee2d4e-fea6-403f-9313-622f19393b46"
   },
   "outputs": [
    {
     "data": {
      "text/plain": [
       "1.0"
      ]
     },
     "execution_count": 91,
     "metadata": {},
     "output_type": "execute_result"
    }
   ],
   "source": [
    "df_sales_sa28['weight'].sum() + agg_df_sa28['weight'].sum()"
   ]
  },
  {
   "cell_type": "code",
   "execution_count": null,
   "metadata": {
    "colab": {
     "base_uri": "https://localhost:8080/"
    },
    "id": "N9v7XQrFvm4i",
    "outputId": "88f0ff16-0579-4cdf-b384-24dcba689831"
   },
   "outputs": [
    {
     "name": "stdout",
     "output_type": "stream",
     "text": [
      "WRMSSE using Simple Average Grouped by Weekday (Window=28 Days): 0.7894542828501339\n"
     ]
    }
   ],
   "source": [
    "wrmsse_sa28 = WRMSSE(df_sales_sa28, agg_df_sa28, train_days, val_days, forecast_days)\n",
    "print(\"WRMSSE using Simple Average Grouped by Weekday (Window=28 Days):\", wrmsse_sa28)"
   ]
  },
  {
   "cell_type": "markdown",
   "metadata": {
    "id": "foYtAvDoRvqm"
   },
   "source": [
    "## 6.5 Average Sales on the given date for last 2 years"
   ]
  },
  {
   "cell_type": "code",
   "execution_count": null,
   "metadata": {
    "colab": {
     "base_uri": "https://localhost:8080/",
     "height": 81
    },
    "id": "o5LaUPRmSAtX",
    "outputId": "d3a7fc3b-f324-4ab5-a3ee-8dfac9ff89a9"
   },
   "outputs": [
    {
     "data": {
      "text/html": [
       "\n",
       "  <div id=\"df-81102096-7176-4c29-8fb8-7071ea925f2b\">\n",
       "    <div class=\"colab-df-container\">\n",
       "      <div>\n",
       "<style scoped>\n",
       "    .dataframe tbody tr th:only-of-type {\n",
       "        vertical-align: middle;\n",
       "    }\n",
       "\n",
       "    .dataframe tbody tr th {\n",
       "        vertical-align: top;\n",
       "    }\n",
       "\n",
       "    .dataframe thead th {\n",
       "        text-align: right;\n",
       "    }\n",
       "</style>\n",
       "<table border=\"1\" class=\"dataframe\">\n",
       "  <thead>\n",
       "    <tr style=\"text-align: right;\">\n",
       "      <th></th>\n",
       "      <th>date</th>\n",
       "      <th>wm_yr_wk</th>\n",
       "      <th>weekday</th>\n",
       "      <th>wday</th>\n",
       "      <th>month</th>\n",
       "      <th>year</th>\n",
       "      <th>d</th>\n",
       "      <th>snap_CA</th>\n",
       "      <th>snap_TX</th>\n",
       "      <th>snap_WI</th>\n",
       "      <th>d_</th>\n",
       "      <th>event_name</th>\n",
       "      <th>event_type</th>\n",
       "    </tr>\n",
       "  </thead>\n",
       "  <tbody>\n",
       "    <tr>\n",
       "      <th>0</th>\n",
       "      <td>2011-01-29</td>\n",
       "      <td>11101</td>\n",
       "      <td>Saturday</td>\n",
       "      <td>1</td>\n",
       "      <td>1</td>\n",
       "      <td>2011</td>\n",
       "      <td>d_1</td>\n",
       "      <td>0</td>\n",
       "      <td>0</td>\n",
       "      <td>0</td>\n",
       "      <td>1</td>\n",
       "      <td>NaN</td>\n",
       "      <td>NaN</td>\n",
       "    </tr>\n",
       "  </tbody>\n",
       "</table>\n",
       "</div>\n",
       "      <button class=\"colab-df-convert\" onclick=\"convertToInteractive('df-81102096-7176-4c29-8fb8-7071ea925f2b')\"\n",
       "              title=\"Convert this dataframe to an interactive table.\"\n",
       "              style=\"display:none;\">\n",
       "        \n",
       "  <svg xmlns=\"http://www.w3.org/2000/svg\" height=\"24px\"viewBox=\"0 0 24 24\"\n",
       "       width=\"24px\">\n",
       "    <path d=\"M0 0h24v24H0V0z\" fill=\"none\"/>\n",
       "    <path d=\"M18.56 5.44l.94 2.06.94-2.06 2.06-.94-2.06-.94-.94-2.06-.94 2.06-2.06.94zm-11 1L8.5 8.5l.94-2.06 2.06-.94-2.06-.94L8.5 2.5l-.94 2.06-2.06.94zm10 10l.94 2.06.94-2.06 2.06-.94-2.06-.94-.94-2.06-.94 2.06-2.06.94z\"/><path d=\"M17.41 7.96l-1.37-1.37c-.4-.4-.92-.59-1.43-.59-.52 0-1.04.2-1.43.59L10.3 9.45l-7.72 7.72c-.78.78-.78 2.05 0 2.83L4 21.41c.39.39.9.59 1.41.59.51 0 1.02-.2 1.41-.59l7.78-7.78 2.81-2.81c.8-.78.8-2.07 0-2.86zM5.41 20L4 18.59l7.72-7.72 1.47 1.35L5.41 20z\"/>\n",
       "  </svg>\n",
       "      </button>\n",
       "      \n",
       "  <style>\n",
       "    .colab-df-container {\n",
       "      display:flex;\n",
       "      flex-wrap:wrap;\n",
       "      gap: 12px;\n",
       "    }\n",
       "\n",
       "    .colab-df-convert {\n",
       "      background-color: #E8F0FE;\n",
       "      border: none;\n",
       "      border-radius: 50%;\n",
       "      cursor: pointer;\n",
       "      display: none;\n",
       "      fill: #1967D2;\n",
       "      height: 32px;\n",
       "      padding: 0 0 0 0;\n",
       "      width: 32px;\n",
       "    }\n",
       "\n",
       "    .colab-df-convert:hover {\n",
       "      background-color: #E2EBFA;\n",
       "      box-shadow: 0px 1px 2px rgba(60, 64, 67, 0.3), 0px 1px 3px 1px rgba(60, 64, 67, 0.15);\n",
       "      fill: #174EA6;\n",
       "    }\n",
       "\n",
       "    [theme=dark] .colab-df-convert {\n",
       "      background-color: #3B4455;\n",
       "      fill: #D2E3FC;\n",
       "    }\n",
       "\n",
       "    [theme=dark] .colab-df-convert:hover {\n",
       "      background-color: #434B5C;\n",
       "      box-shadow: 0px 1px 3px 1px rgba(0, 0, 0, 0.15);\n",
       "      filter: drop-shadow(0px 1px 2px rgba(0, 0, 0, 0.3));\n",
       "      fill: #FFFFFF;\n",
       "    }\n",
       "  </style>\n",
       "\n",
       "      <script>\n",
       "        const buttonEl =\n",
       "          document.querySelector('#df-81102096-7176-4c29-8fb8-7071ea925f2b button.colab-df-convert');\n",
       "        buttonEl.style.display =\n",
       "          google.colab.kernel.accessAllowed ? 'block' : 'none';\n",
       "\n",
       "        async function convertToInteractive(key) {\n",
       "          const element = document.querySelector('#df-81102096-7176-4c29-8fb8-7071ea925f2b');\n",
       "          const dataTable =\n",
       "            await google.colab.kernel.invokeFunction('convertToInteractive',\n",
       "                                                     [key], {});\n",
       "          if (!dataTable) return;\n",
       "\n",
       "          const docLinkHtml = 'Like what you see? Visit the ' +\n",
       "            '<a target=\"_blank\" href=https://colab.research.google.com/notebooks/data_table.ipynb>data table notebook</a>'\n",
       "            + ' to learn more about interactive tables.';\n",
       "          element.innerHTML = '';\n",
       "          dataTable['output_type'] = 'display_data';\n",
       "          await google.colab.output.renderOutput(dataTable, element);\n",
       "          const docLink = document.createElement('div');\n",
       "          docLink.innerHTML = docLinkHtml;\n",
       "          element.appendChild(docLink);\n",
       "        }\n",
       "      </script>\n",
       "    </div>\n",
       "  </div>\n",
       "  "
      ],
      "text/plain": [
       "        date  wm_yr_wk   weekday  wday  month  year    d  snap_CA  snap_TX  \\\n",
       "0 2011-01-29     11101  Saturday     1      1  2011  d_1        0        0   \n",
       "\n",
       "   snap_WI  d_ event_name event_type  \n",
       "0        0   1        NaN        NaN  "
      ]
     },
     "execution_count": 93,
     "metadata": {},
     "output_type": "execute_result"
    }
   ],
   "source": [
    "df_cal.head(1)"
   ]
  },
  {
   "cell_type": "code",
   "execution_count": null,
   "metadata": {
    "colab": {
     "base_uri": "https://localhost:8080/",
     "height": 81
    },
    "id": "Gd_vAAT1dInf",
    "outputId": "6ed77ce8-116f-47f6-80ed-49ff1284e214"
   },
   "outputs": [
    {
     "data": {
      "text/html": [
       "\n",
       "  <div id=\"df-90e4b0d0-e693-412d-9a34-4f8a2187a94e\">\n",
       "    <div class=\"colab-df-container\">\n",
       "      <div>\n",
       "<style scoped>\n",
       "    .dataframe tbody tr th:only-of-type {\n",
       "        vertical-align: middle;\n",
       "    }\n",
       "\n",
       "    .dataframe tbody tr th {\n",
       "        vertical-align: top;\n",
       "    }\n",
       "\n",
       "    .dataframe thead th {\n",
       "        text-align: right;\n",
       "    }\n",
       "</style>\n",
       "<table border=\"1\" class=\"dataframe\">\n",
       "  <thead>\n",
       "    <tr style=\"text-align: right;\">\n",
       "      <th></th>\n",
       "      <th>date</th>\n",
       "      <th>wm_yr_wk</th>\n",
       "      <th>weekday</th>\n",
       "      <th>wday</th>\n",
       "      <th>month</th>\n",
       "      <th>year</th>\n",
       "      <th>d</th>\n",
       "      <th>snap_CA</th>\n",
       "      <th>snap_TX</th>\n",
       "      <th>snap_WI</th>\n",
       "      <th>d_</th>\n",
       "      <th>event_name</th>\n",
       "      <th>event_type</th>\n",
       "      <th>MM-DD</th>\n",
       "    </tr>\n",
       "  </thead>\n",
       "  <tbody>\n",
       "    <tr>\n",
       "      <th>0</th>\n",
       "      <td>2011-01-29</td>\n",
       "      <td>11101</td>\n",
       "      <td>Saturday</td>\n",
       "      <td>1</td>\n",
       "      <td>1</td>\n",
       "      <td>2011</td>\n",
       "      <td>d_1</td>\n",
       "      <td>0</td>\n",
       "      <td>0</td>\n",
       "      <td>0</td>\n",
       "      <td>1</td>\n",
       "      <td>NaN</td>\n",
       "      <td>NaN</td>\n",
       "      <td>01-29</td>\n",
       "    </tr>\n",
       "  </tbody>\n",
       "</table>\n",
       "</div>\n",
       "      <button class=\"colab-df-convert\" onclick=\"convertToInteractive('df-90e4b0d0-e693-412d-9a34-4f8a2187a94e')\"\n",
       "              title=\"Convert this dataframe to an interactive table.\"\n",
       "              style=\"display:none;\">\n",
       "        \n",
       "  <svg xmlns=\"http://www.w3.org/2000/svg\" height=\"24px\"viewBox=\"0 0 24 24\"\n",
       "       width=\"24px\">\n",
       "    <path d=\"M0 0h24v24H0V0z\" fill=\"none\"/>\n",
       "    <path d=\"M18.56 5.44l.94 2.06.94-2.06 2.06-.94-2.06-.94-.94-2.06-.94 2.06-2.06.94zm-11 1L8.5 8.5l.94-2.06 2.06-.94-2.06-.94L8.5 2.5l-.94 2.06-2.06.94zm10 10l.94 2.06.94-2.06 2.06-.94-2.06-.94-.94-2.06-.94 2.06-2.06.94z\"/><path d=\"M17.41 7.96l-1.37-1.37c-.4-.4-.92-.59-1.43-.59-.52 0-1.04.2-1.43.59L10.3 9.45l-7.72 7.72c-.78.78-.78 2.05 0 2.83L4 21.41c.39.39.9.59 1.41.59.51 0 1.02-.2 1.41-.59l7.78-7.78 2.81-2.81c.8-.78.8-2.07 0-2.86zM5.41 20L4 18.59l7.72-7.72 1.47 1.35L5.41 20z\"/>\n",
       "  </svg>\n",
       "      </button>\n",
       "      \n",
       "  <style>\n",
       "    .colab-df-container {\n",
       "      display:flex;\n",
       "      flex-wrap:wrap;\n",
       "      gap: 12px;\n",
       "    }\n",
       "\n",
       "    .colab-df-convert {\n",
       "      background-color: #E8F0FE;\n",
       "      border: none;\n",
       "      border-radius: 50%;\n",
       "      cursor: pointer;\n",
       "      display: none;\n",
       "      fill: #1967D2;\n",
       "      height: 32px;\n",
       "      padding: 0 0 0 0;\n",
       "      width: 32px;\n",
       "    }\n",
       "\n",
       "    .colab-df-convert:hover {\n",
       "      background-color: #E2EBFA;\n",
       "      box-shadow: 0px 1px 2px rgba(60, 64, 67, 0.3), 0px 1px 3px 1px rgba(60, 64, 67, 0.15);\n",
       "      fill: #174EA6;\n",
       "    }\n",
       "\n",
       "    [theme=dark] .colab-df-convert {\n",
       "      background-color: #3B4455;\n",
       "      fill: #D2E3FC;\n",
       "    }\n",
       "\n",
       "    [theme=dark] .colab-df-convert:hover {\n",
       "      background-color: #434B5C;\n",
       "      box-shadow: 0px 1px 3px 1px rgba(0, 0, 0, 0.15);\n",
       "      filter: drop-shadow(0px 1px 2px rgba(0, 0, 0, 0.3));\n",
       "      fill: #FFFFFF;\n",
       "    }\n",
       "  </style>\n",
       "\n",
       "      <script>\n",
       "        const buttonEl =\n",
       "          document.querySelector('#df-90e4b0d0-e693-412d-9a34-4f8a2187a94e button.colab-df-convert');\n",
       "        buttonEl.style.display =\n",
       "          google.colab.kernel.accessAllowed ? 'block' : 'none';\n",
       "\n",
       "        async function convertToInteractive(key) {\n",
       "          const element = document.querySelector('#df-90e4b0d0-e693-412d-9a34-4f8a2187a94e');\n",
       "          const dataTable =\n",
       "            await google.colab.kernel.invokeFunction('convertToInteractive',\n",
       "                                                     [key], {});\n",
       "          if (!dataTable) return;\n",
       "\n",
       "          const docLinkHtml = 'Like what you see? Visit the ' +\n",
       "            '<a target=\"_blank\" href=https://colab.research.google.com/notebooks/data_table.ipynb>data table notebook</a>'\n",
       "            + ' to learn more about interactive tables.';\n",
       "          element.innerHTML = '';\n",
       "          dataTable['output_type'] = 'display_data';\n",
       "          await google.colab.output.renderOutput(dataTable, element);\n",
       "          const docLink = document.createElement('div');\n",
       "          docLink.innerHTML = docLinkHtml;\n",
       "          element.appendChild(docLink);\n",
       "        }\n",
       "      </script>\n",
       "    </div>\n",
       "  </div>\n",
       "  "
      ],
      "text/plain": [
       "        date  wm_yr_wk   weekday  wday  month  year    d  snap_CA  snap_TX  \\\n",
       "0 2011-01-29     11101  Saturday     1      1  2011  d_1        0        0   \n",
       "\n",
       "   snap_WI  d_ event_name event_type  MM-DD  \n",
       "0        0   1        NaN        NaN  01-29  "
      ]
     },
     "execution_count": 94,
     "metadata": {},
     "output_type": "execute_result"
    }
   ],
   "source": [
    "df_cal['date'] =  pd.to_datetime(df_cal['date'])\n",
    "df_cal['MM-DD'] = df_cal['date'].dt.strftime('%m-%d')\n",
    "df_cal.head(1)"
   ]
  },
  {
   "cell_type": "code",
   "execution_count": null,
   "metadata": {
    "colab": {
     "base_uri": "https://localhost:8080/"
    },
    "id": "pB2VqZcCeO_l",
    "outputId": "335ab481-1ac5-42c8-ba0b-b5c71dcb4749"
   },
   "outputs": [
    {
     "data": {
      "text/plain": [
       "['d_114', 'd_480', 'd_845', 'd_1210', 'd_1575']"
      ]
     },
     "execution_count": 95,
     "metadata": {},
     "output_type": "execute_result"
    }
   ],
   "source": [
    "tmp  = df_cal[df_cal['MM-DD']=='05-22']['d'].tolist()[:-1]  \n",
    "tmp"
   ]
  },
  {
   "cell_type": "code",
   "execution_count": null,
   "metadata": {
    "colab": {
     "base_uri": "https://localhost:8080/"
    },
    "id": "J4KydfECj6G-",
    "outputId": "7cd824a3-a045-40f3-b4df-d6717e75389d"
   },
   "outputs": [
    {
     "data": {
      "text/plain": [
       "(1575, 1210, 845, 480, 114)"
      ]
     },
     "execution_count": 96,
     "metadata": {},
     "output_type": "execute_result"
    }
   ],
   "source": [
    "1941-366, 1941-366-365, 1941-366-365-365, 1941-366-365-365-365, 1941-366-365-365-365-366"
   ]
  },
  {
   "cell_type": "code",
   "execution_count": null,
   "metadata": {
    "id": "kkD7BZkxlGZb"
   },
   "outputs": [],
   "source": [
    "df_sales_saDateLast2y = df_sales.copy()"
   ]
  },
  {
   "cell_type": "code",
   "execution_count": null,
   "metadata": {
    "id": "m8m1uMUOknPc"
   },
   "outputs": [],
   "source": [
    "for day in range(1914, 1942):\n",
    "    df_sales_saDateLast2y['F_'+str(day)] = df_sales_saDateLast2y.loc[:, ['d_'+str(day-366), 'd_'+str(day-366-365)]].mean(axis=1) \n",
    "    # if you need to calculate mean over all years use these terms as well 'd_'+str(day-366-365-365) 'd_'+str(day-366-365-365-365), 'd_'+str(day-366-365-365-366)"
   ]
  },
  {
   "cell_type": "code",
   "execution_count": null,
   "metadata": {
    "colab": {
     "base_uri": "https://localhost:8080/",
     "height": 110
    },
    "id": "vinglAARn8cR",
    "outputId": "544e6e1a-a529-4185-d53c-18a3cfd1801b"
   },
   "outputs": [
    {
     "data": {
      "text/html": [
       "\n",
       "  <div id=\"df-3cc69672-0162-4f74-9a6c-233fc6f1de8e\">\n",
       "    <div class=\"colab-df-container\">\n",
       "      <div>\n",
       "<style scoped>\n",
       "    .dataframe tbody tr th:only-of-type {\n",
       "        vertical-align: middle;\n",
       "    }\n",
       "\n",
       "    .dataframe tbody tr th {\n",
       "        vertical-align: top;\n",
       "    }\n",
       "\n",
       "    .dataframe thead th {\n",
       "        text-align: right;\n",
       "    }\n",
       "</style>\n",
       "<table border=\"1\" class=\"dataframe\">\n",
       "  <thead>\n",
       "    <tr style=\"text-align: right;\">\n",
       "      <th></th>\n",
       "      <th>id</th>\n",
       "      <th>item_id</th>\n",
       "      <th>dept_id</th>\n",
       "      <th>cat_id</th>\n",
       "      <th>store_id</th>\n",
       "      <th>state_id</th>\n",
       "      <th>d_1</th>\n",
       "      <th>d_2</th>\n",
       "      <th>d_3</th>\n",
       "      <th>d_4</th>\n",
       "      <th>...</th>\n",
       "      <th>F_1932</th>\n",
       "      <th>F_1933</th>\n",
       "      <th>F_1934</th>\n",
       "      <th>F_1935</th>\n",
       "      <th>F_1936</th>\n",
       "      <th>F_1937</th>\n",
       "      <th>F_1938</th>\n",
       "      <th>F_1939</th>\n",
       "      <th>F_1940</th>\n",
       "      <th>F_1941</th>\n",
       "    </tr>\n",
       "  </thead>\n",
       "  <tbody>\n",
       "    <tr>\n",
       "      <th>0</th>\n",
       "      <td>HOBBIES_1_001_CA_1_evaluation</td>\n",
       "      <td>HOBBIES_1_001</td>\n",
       "      <td>HOBBIES_1</td>\n",
       "      <td>HOBBIES</td>\n",
       "      <td>CA_1</td>\n",
       "      <td>CA</td>\n",
       "      <td>0</td>\n",
       "      <td>0</td>\n",
       "      <td>0</td>\n",
       "      <td>0</td>\n",
       "      <td>...</td>\n",
       "      <td>0.0</td>\n",
       "      <td>0.0</td>\n",
       "      <td>0.0</td>\n",
       "      <td>0.0</td>\n",
       "      <td>0.5</td>\n",
       "      <td>0.5</td>\n",
       "      <td>0.0</td>\n",
       "      <td>1.0</td>\n",
       "      <td>0.0</td>\n",
       "      <td>0.0</td>\n",
       "    </tr>\n",
       "  </tbody>\n",
       "</table>\n",
       "<p>1 rows × 1975 columns</p>\n",
       "</div>\n",
       "      <button class=\"colab-df-convert\" onclick=\"convertToInteractive('df-3cc69672-0162-4f74-9a6c-233fc6f1de8e')\"\n",
       "              title=\"Convert this dataframe to an interactive table.\"\n",
       "              style=\"display:none;\">\n",
       "        \n",
       "  <svg xmlns=\"http://www.w3.org/2000/svg\" height=\"24px\"viewBox=\"0 0 24 24\"\n",
       "       width=\"24px\">\n",
       "    <path d=\"M0 0h24v24H0V0z\" fill=\"none\"/>\n",
       "    <path d=\"M18.56 5.44l.94 2.06.94-2.06 2.06-.94-2.06-.94-.94-2.06-.94 2.06-2.06.94zm-11 1L8.5 8.5l.94-2.06 2.06-.94-2.06-.94L8.5 2.5l-.94 2.06-2.06.94zm10 10l.94 2.06.94-2.06 2.06-.94-2.06-.94-.94-2.06-.94 2.06-2.06.94z\"/><path d=\"M17.41 7.96l-1.37-1.37c-.4-.4-.92-.59-1.43-.59-.52 0-1.04.2-1.43.59L10.3 9.45l-7.72 7.72c-.78.78-.78 2.05 0 2.83L4 21.41c.39.39.9.59 1.41.59.51 0 1.02-.2 1.41-.59l7.78-7.78 2.81-2.81c.8-.78.8-2.07 0-2.86zM5.41 20L4 18.59l7.72-7.72 1.47 1.35L5.41 20z\"/>\n",
       "  </svg>\n",
       "      </button>\n",
       "      \n",
       "  <style>\n",
       "    .colab-df-container {\n",
       "      display:flex;\n",
       "      flex-wrap:wrap;\n",
       "      gap: 12px;\n",
       "    }\n",
       "\n",
       "    .colab-df-convert {\n",
       "      background-color: #E8F0FE;\n",
       "      border: none;\n",
       "      border-radius: 50%;\n",
       "      cursor: pointer;\n",
       "      display: none;\n",
       "      fill: #1967D2;\n",
       "      height: 32px;\n",
       "      padding: 0 0 0 0;\n",
       "      width: 32px;\n",
       "    }\n",
       "\n",
       "    .colab-df-convert:hover {\n",
       "      background-color: #E2EBFA;\n",
       "      box-shadow: 0px 1px 2px rgba(60, 64, 67, 0.3), 0px 1px 3px 1px rgba(60, 64, 67, 0.15);\n",
       "      fill: #174EA6;\n",
       "    }\n",
       "\n",
       "    [theme=dark] .colab-df-convert {\n",
       "      background-color: #3B4455;\n",
       "      fill: #D2E3FC;\n",
       "    }\n",
       "\n",
       "    [theme=dark] .colab-df-convert:hover {\n",
       "      background-color: #434B5C;\n",
       "      box-shadow: 0px 1px 3px 1px rgba(0, 0, 0, 0.15);\n",
       "      filter: drop-shadow(0px 1px 2px rgba(0, 0, 0, 0.3));\n",
       "      fill: #FFFFFF;\n",
       "    }\n",
       "  </style>\n",
       "\n",
       "      <script>\n",
       "        const buttonEl =\n",
       "          document.querySelector('#df-3cc69672-0162-4f74-9a6c-233fc6f1de8e button.colab-df-convert');\n",
       "        buttonEl.style.display =\n",
       "          google.colab.kernel.accessAllowed ? 'block' : 'none';\n",
       "\n",
       "        async function convertToInteractive(key) {\n",
       "          const element = document.querySelector('#df-3cc69672-0162-4f74-9a6c-233fc6f1de8e');\n",
       "          const dataTable =\n",
       "            await google.colab.kernel.invokeFunction('convertToInteractive',\n",
       "                                                     [key], {});\n",
       "          if (!dataTable) return;\n",
       "\n",
       "          const docLinkHtml = 'Like what you see? Visit the ' +\n",
       "            '<a target=\"_blank\" href=https://colab.research.google.com/notebooks/data_table.ipynb>data table notebook</a>'\n",
       "            + ' to learn more about interactive tables.';\n",
       "          element.innerHTML = '';\n",
       "          dataTable['output_type'] = 'display_data';\n",
       "          await google.colab.output.renderOutput(dataTable, element);\n",
       "          const docLink = document.createElement('div');\n",
       "          docLink.innerHTML = docLinkHtml;\n",
       "          element.appendChild(docLink);\n",
       "        }\n",
       "      </script>\n",
       "    </div>\n",
       "  </div>\n",
       "  "
      ],
      "text/plain": [
       "                              id        item_id    dept_id   cat_id store_id  \\\n",
       "0  HOBBIES_1_001_CA_1_evaluation  HOBBIES_1_001  HOBBIES_1  HOBBIES     CA_1   \n",
       "\n",
       "  state_id  d_1  d_2  d_3  d_4  ...  F_1932  F_1933  F_1934  F_1935  F_1936  \\\n",
       "0       CA    0    0    0    0  ...     0.0     0.0     0.0     0.0     0.5   \n",
       "\n",
       "   F_1937  F_1938  F_1939  F_1940  F_1941  \n",
       "0     0.5     0.0     1.0     0.0     0.0  \n",
       "\n",
       "[1 rows x 1975 columns]"
      ]
     },
     "execution_count": 104,
     "metadata": {},
     "output_type": "execute_result"
    }
   ],
   "source": [
    "df_sales_saDateLast2y.head(1)"
   ]
  },
  {
   "cell_type": "code",
   "execution_count": null,
   "metadata": {
    "colab": {
     "base_uri": "https://localhost:8080/"
    },
    "id": "Un2fyeqLnnUy",
    "outputId": "fd1c44b6-0a19-4888-90c0-c47dd1124b61"
   },
   "outputs": [
    {
     "name": "stderr",
     "output_type": "stream",
     "text": [
      "100%|██████████| 28/28 [00:09<00:00,  3.00it/s]\n"
     ]
    }
   ],
   "source": [
    "df_sales_saDateLast2y = calculate_weightsL12(df_sales_saDateLast2y, df_cal, df_price)"
   ]
  },
  {
   "cell_type": "code",
   "execution_count": null,
   "metadata": {
    "colab": {
     "base_uri": "https://localhost:8080/",
     "height": 110
    },
    "id": "8BfGLQAOoRyS",
    "outputId": "97997d3e-ca15-4a11-99f9-a15630ff1920"
   },
   "outputs": [
    {
     "data": {
      "text/html": [
       "\n",
       "  <div id=\"df-c232d140-4355-4002-8eb8-30115d19cf3d\">\n",
       "    <div class=\"colab-df-container\">\n",
       "      <div>\n",
       "<style scoped>\n",
       "    .dataframe tbody tr th:only-of-type {\n",
       "        vertical-align: middle;\n",
       "    }\n",
       "\n",
       "    .dataframe tbody tr th {\n",
       "        vertical-align: top;\n",
       "    }\n",
       "\n",
       "    .dataframe thead th {\n",
       "        text-align: right;\n",
       "    }\n",
       "</style>\n",
       "<table border=\"1\" class=\"dataframe\">\n",
       "  <thead>\n",
       "    <tr style=\"text-align: right;\">\n",
       "      <th></th>\n",
       "      <th>id</th>\n",
       "      <th>item_id</th>\n",
       "      <th>dept_id</th>\n",
       "      <th>cat_id</th>\n",
       "      <th>store_id</th>\n",
       "      <th>state_id</th>\n",
       "      <th>d_1</th>\n",
       "      <th>d_2</th>\n",
       "      <th>d_3</th>\n",
       "      <th>d_4</th>\n",
       "      <th>...</th>\n",
       "      <th>F_1933</th>\n",
       "      <th>F_1934</th>\n",
       "      <th>F_1935</th>\n",
       "      <th>F_1936</th>\n",
       "      <th>F_1937</th>\n",
       "      <th>F_1938</th>\n",
       "      <th>F_1939</th>\n",
       "      <th>F_1940</th>\n",
       "      <th>F_1941</th>\n",
       "      <th>weight</th>\n",
       "    </tr>\n",
       "  </thead>\n",
       "  <tbody>\n",
       "    <tr>\n",
       "      <th>0</th>\n",
       "      <td>HOBBIES_1_001_CA_1_evaluation</td>\n",
       "      <td>HOBBIES_1_001</td>\n",
       "      <td>HOBBIES_1</td>\n",
       "      <td>HOBBIES</td>\n",
       "      <td>CA_1</td>\n",
       "      <td>CA</td>\n",
       "      <td>0</td>\n",
       "      <td>0</td>\n",
       "      <td>0</td>\n",
       "      <td>0</td>\n",
       "      <td>...</td>\n",
       "      <td>0.0</td>\n",
       "      <td>0.0</td>\n",
       "      <td>0.0</td>\n",
       "      <td>0.5</td>\n",
       "      <td>0.5</td>\n",
       "      <td>0.0</td>\n",
       "      <td>1.0</td>\n",
       "      <td>0.0</td>\n",
       "      <td>0.0</td>\n",
       "      <td>0.000005</td>\n",
       "    </tr>\n",
       "  </tbody>\n",
       "</table>\n",
       "<p>1 rows × 1976 columns</p>\n",
       "</div>\n",
       "      <button class=\"colab-df-convert\" onclick=\"convertToInteractive('df-c232d140-4355-4002-8eb8-30115d19cf3d')\"\n",
       "              title=\"Convert this dataframe to an interactive table.\"\n",
       "              style=\"display:none;\">\n",
       "        \n",
       "  <svg xmlns=\"http://www.w3.org/2000/svg\" height=\"24px\"viewBox=\"0 0 24 24\"\n",
       "       width=\"24px\">\n",
       "    <path d=\"M0 0h24v24H0V0z\" fill=\"none\"/>\n",
       "    <path d=\"M18.56 5.44l.94 2.06.94-2.06 2.06-.94-2.06-.94-.94-2.06-.94 2.06-2.06.94zm-11 1L8.5 8.5l.94-2.06 2.06-.94-2.06-.94L8.5 2.5l-.94 2.06-2.06.94zm10 10l.94 2.06.94-2.06 2.06-.94-2.06-.94-.94-2.06-.94 2.06-2.06.94z\"/><path d=\"M17.41 7.96l-1.37-1.37c-.4-.4-.92-.59-1.43-.59-.52 0-1.04.2-1.43.59L10.3 9.45l-7.72 7.72c-.78.78-.78 2.05 0 2.83L4 21.41c.39.39.9.59 1.41.59.51 0 1.02-.2 1.41-.59l7.78-7.78 2.81-2.81c.8-.78.8-2.07 0-2.86zM5.41 20L4 18.59l7.72-7.72 1.47 1.35L5.41 20z\"/>\n",
       "  </svg>\n",
       "      </button>\n",
       "      \n",
       "  <style>\n",
       "    .colab-df-container {\n",
       "      display:flex;\n",
       "      flex-wrap:wrap;\n",
       "      gap: 12px;\n",
       "    }\n",
       "\n",
       "    .colab-df-convert {\n",
       "      background-color: #E8F0FE;\n",
       "      border: none;\n",
       "      border-radius: 50%;\n",
       "      cursor: pointer;\n",
       "      display: none;\n",
       "      fill: #1967D2;\n",
       "      height: 32px;\n",
       "      padding: 0 0 0 0;\n",
       "      width: 32px;\n",
       "    }\n",
       "\n",
       "    .colab-df-convert:hover {\n",
       "      background-color: #E2EBFA;\n",
       "      box-shadow: 0px 1px 2px rgba(60, 64, 67, 0.3), 0px 1px 3px 1px rgba(60, 64, 67, 0.15);\n",
       "      fill: #174EA6;\n",
       "    }\n",
       "\n",
       "    [theme=dark] .colab-df-convert {\n",
       "      background-color: #3B4455;\n",
       "      fill: #D2E3FC;\n",
       "    }\n",
       "\n",
       "    [theme=dark] .colab-df-convert:hover {\n",
       "      background-color: #434B5C;\n",
       "      box-shadow: 0px 1px 3px 1px rgba(0, 0, 0, 0.15);\n",
       "      filter: drop-shadow(0px 1px 2px rgba(0, 0, 0, 0.3));\n",
       "      fill: #FFFFFF;\n",
       "    }\n",
       "  </style>\n",
       "\n",
       "      <script>\n",
       "        const buttonEl =\n",
       "          document.querySelector('#df-c232d140-4355-4002-8eb8-30115d19cf3d button.colab-df-convert');\n",
       "        buttonEl.style.display =\n",
       "          google.colab.kernel.accessAllowed ? 'block' : 'none';\n",
       "\n",
       "        async function convertToInteractive(key) {\n",
       "          const element = document.querySelector('#df-c232d140-4355-4002-8eb8-30115d19cf3d');\n",
       "          const dataTable =\n",
       "            await google.colab.kernel.invokeFunction('convertToInteractive',\n",
       "                                                     [key], {});\n",
       "          if (!dataTable) return;\n",
       "\n",
       "          const docLinkHtml = 'Like what you see? Visit the ' +\n",
       "            '<a target=\"_blank\" href=https://colab.research.google.com/notebooks/data_table.ipynb>data table notebook</a>'\n",
       "            + ' to learn more about interactive tables.';\n",
       "          element.innerHTML = '';\n",
       "          dataTable['output_type'] = 'display_data';\n",
       "          await google.colab.output.renderOutput(dataTable, element);\n",
       "          const docLink = document.createElement('div');\n",
       "          docLink.innerHTML = docLinkHtml;\n",
       "          element.appendChild(docLink);\n",
       "        }\n",
       "      </script>\n",
       "    </div>\n",
       "  </div>\n",
       "  "
      ],
      "text/plain": [
       "                              id        item_id    dept_id   cat_id store_id  \\\n",
       "0  HOBBIES_1_001_CA_1_evaluation  HOBBIES_1_001  HOBBIES_1  HOBBIES     CA_1   \n",
       "\n",
       "  state_id  d_1  d_2  d_3  d_4  ...  F_1933  F_1934  F_1935  F_1936  F_1937  \\\n",
       "0       CA    0    0    0    0  ...     0.0     0.0     0.0     0.5     0.5   \n",
       "\n",
       "   F_1938  F_1939  F_1940  F_1941    weight  \n",
       "0     0.0     1.0     0.0     0.0  0.000005  \n",
       "\n",
       "[1 rows x 1976 columns]"
      ]
     },
     "execution_count": 100,
     "metadata": {},
     "output_type": "execute_result"
    }
   ],
   "source": [
    "df_sales_saDateLast2y.head(1)"
   ]
  },
  {
   "cell_type": "code",
   "execution_count": null,
   "metadata": {
    "colab": {
     "base_uri": "https://localhost:8080/"
    },
    "id": "lYOW7cVxnnUy",
    "outputId": "428ef19a-c5cc-44c6-feeb-eef282c3e5cb"
   },
   "outputs": [
    {
     "name": "stderr",
     "output_type": "stream",
     "text": [
      "100%|██████████| 10/10 [00:15<00:00,  1.53s/it]\n"
     ]
    }
   ],
   "source": [
    "agg_df_saDateLast2y = calculate_weightsALL(df_sales_saDateLast2y, level_groupings)"
   ]
  },
  {
   "cell_type": "code",
   "execution_count": null,
   "metadata": {
    "colab": {
     "base_uri": "https://localhost:8080/",
     "height": 110
    },
    "id": "aAJO9nQ5oUxC",
    "outputId": "dd920bc8-a32a-4c28-fcd4-5e7055a70a42"
   },
   "outputs": [
    {
     "data": {
      "text/html": [
       "\n",
       "  <div id=\"df-dee94bef-b526-4802-81c2-7de41d8474fb\">\n",
       "    <div class=\"colab-df-container\">\n",
       "      <div>\n",
       "<style scoped>\n",
       "    .dataframe tbody tr th:only-of-type {\n",
       "        vertical-align: middle;\n",
       "    }\n",
       "\n",
       "    .dataframe tbody tr th {\n",
       "        vertical-align: top;\n",
       "    }\n",
       "\n",
       "    .dataframe thead th {\n",
       "        text-align: right;\n",
       "    }\n",
       "</style>\n",
       "<table border=\"1\" class=\"dataframe\">\n",
       "  <thead>\n",
       "    <tr style=\"text-align: right;\">\n",
       "      <th></th>\n",
       "      <th>d_1</th>\n",
       "      <th>d_2</th>\n",
       "      <th>d_3</th>\n",
       "      <th>d_4</th>\n",
       "      <th>d_5</th>\n",
       "      <th>d_6</th>\n",
       "      <th>d_7</th>\n",
       "      <th>d_8</th>\n",
       "      <th>d_9</th>\n",
       "      <th>d_10</th>\n",
       "      <th>...</th>\n",
       "      <th>F_1939</th>\n",
       "      <th>F_1940</th>\n",
       "      <th>F_1941</th>\n",
       "      <th>item_id</th>\n",
       "      <th>dept_id</th>\n",
       "      <th>cat_id</th>\n",
       "      <th>store_id</th>\n",
       "      <th>state_id</th>\n",
       "      <th>level</th>\n",
       "      <th>weight</th>\n",
       "    </tr>\n",
       "  </thead>\n",
       "  <tbody>\n",
       "    <tr>\n",
       "      <th>0</th>\n",
       "      <td>32631.0</td>\n",
       "      <td>31749.0</td>\n",
       "      <td>23783.0</td>\n",
       "      <td>25412.0</td>\n",
       "      <td>19146.0</td>\n",
       "      <td>29211.0</td>\n",
       "      <td>28010.0</td>\n",
       "      <td>37932.0</td>\n",
       "      <td>32736.0</td>\n",
       "      <td>25572.0</td>\n",
       "      <td>...</td>\n",
       "      <td>30542.0</td>\n",
       "      <td>29842.0</td>\n",
       "      <td>33326.5</td>\n",
       "      <td>all</td>\n",
       "      <td>all</td>\n",
       "      <td>all</td>\n",
       "      <td>all</td>\n",
       "      <td>all</td>\n",
       "      <td>1</td>\n",
       "      <td>0.083333</td>\n",
       "    </tr>\n",
       "  </tbody>\n",
       "</table>\n",
       "<p>1 rows × 1976 columns</p>\n",
       "</div>\n",
       "      <button class=\"colab-df-convert\" onclick=\"convertToInteractive('df-dee94bef-b526-4802-81c2-7de41d8474fb')\"\n",
       "              title=\"Convert this dataframe to an interactive table.\"\n",
       "              style=\"display:none;\">\n",
       "        \n",
       "  <svg xmlns=\"http://www.w3.org/2000/svg\" height=\"24px\"viewBox=\"0 0 24 24\"\n",
       "       width=\"24px\">\n",
       "    <path d=\"M0 0h24v24H0V0z\" fill=\"none\"/>\n",
       "    <path d=\"M18.56 5.44l.94 2.06.94-2.06 2.06-.94-2.06-.94-.94-2.06-.94 2.06-2.06.94zm-11 1L8.5 8.5l.94-2.06 2.06-.94-2.06-.94L8.5 2.5l-.94 2.06-2.06.94zm10 10l.94 2.06.94-2.06 2.06-.94-2.06-.94-.94-2.06-.94 2.06-2.06.94z\"/><path d=\"M17.41 7.96l-1.37-1.37c-.4-.4-.92-.59-1.43-.59-.52 0-1.04.2-1.43.59L10.3 9.45l-7.72 7.72c-.78.78-.78 2.05 0 2.83L4 21.41c.39.39.9.59 1.41.59.51 0 1.02-.2 1.41-.59l7.78-7.78 2.81-2.81c.8-.78.8-2.07 0-2.86zM5.41 20L4 18.59l7.72-7.72 1.47 1.35L5.41 20z\"/>\n",
       "  </svg>\n",
       "      </button>\n",
       "      \n",
       "  <style>\n",
       "    .colab-df-container {\n",
       "      display:flex;\n",
       "      flex-wrap:wrap;\n",
       "      gap: 12px;\n",
       "    }\n",
       "\n",
       "    .colab-df-convert {\n",
       "      background-color: #E8F0FE;\n",
       "      border: none;\n",
       "      border-radius: 50%;\n",
       "      cursor: pointer;\n",
       "      display: none;\n",
       "      fill: #1967D2;\n",
       "      height: 32px;\n",
       "      padding: 0 0 0 0;\n",
       "      width: 32px;\n",
       "    }\n",
       "\n",
       "    .colab-df-convert:hover {\n",
       "      background-color: #E2EBFA;\n",
       "      box-shadow: 0px 1px 2px rgba(60, 64, 67, 0.3), 0px 1px 3px 1px rgba(60, 64, 67, 0.15);\n",
       "      fill: #174EA6;\n",
       "    }\n",
       "\n",
       "    [theme=dark] .colab-df-convert {\n",
       "      background-color: #3B4455;\n",
       "      fill: #D2E3FC;\n",
       "    }\n",
       "\n",
       "    [theme=dark] .colab-df-convert:hover {\n",
       "      background-color: #434B5C;\n",
       "      box-shadow: 0px 1px 3px 1px rgba(0, 0, 0, 0.15);\n",
       "      filter: drop-shadow(0px 1px 2px rgba(0, 0, 0, 0.3));\n",
       "      fill: #FFFFFF;\n",
       "    }\n",
       "  </style>\n",
       "\n",
       "      <script>\n",
       "        const buttonEl =\n",
       "          document.querySelector('#df-dee94bef-b526-4802-81c2-7de41d8474fb button.colab-df-convert');\n",
       "        buttonEl.style.display =\n",
       "          google.colab.kernel.accessAllowed ? 'block' : 'none';\n",
       "\n",
       "        async function convertToInteractive(key) {\n",
       "          const element = document.querySelector('#df-dee94bef-b526-4802-81c2-7de41d8474fb');\n",
       "          const dataTable =\n",
       "            await google.colab.kernel.invokeFunction('convertToInteractive',\n",
       "                                                     [key], {});\n",
       "          if (!dataTable) return;\n",
       "\n",
       "          const docLinkHtml = 'Like what you see? Visit the ' +\n",
       "            '<a target=\"_blank\" href=https://colab.research.google.com/notebooks/data_table.ipynb>data table notebook</a>'\n",
       "            + ' to learn more about interactive tables.';\n",
       "          element.innerHTML = '';\n",
       "          dataTable['output_type'] = 'display_data';\n",
       "          await google.colab.output.renderOutput(dataTable, element);\n",
       "          const docLink = document.createElement('div');\n",
       "          docLink.innerHTML = docLinkHtml;\n",
       "          element.appendChild(docLink);\n",
       "        }\n",
       "      </script>\n",
       "    </div>\n",
       "  </div>\n",
       "  "
      ],
      "text/plain": [
       "       d_1      d_2      d_3      d_4      d_5      d_6      d_7      d_8  \\\n",
       "0  32631.0  31749.0  23783.0  25412.0  19146.0  29211.0  28010.0  37932.0   \n",
       "\n",
       "       d_9     d_10  ...   F_1939   F_1940   F_1941  item_id  dept_id  cat_id  \\\n",
       "0  32736.0  25572.0  ...  30542.0  29842.0  33326.5      all      all     all   \n",
       "\n",
       "   store_id  state_id  level    weight  \n",
       "0       all       all      1  0.083333  \n",
       "\n",
       "[1 rows x 1976 columns]"
      ]
     },
     "execution_count": 102,
     "metadata": {},
     "output_type": "execute_result"
    }
   ],
   "source": [
    "agg_df_saDateLast2y.head(1)"
   ]
  },
  {
   "cell_type": "code",
   "execution_count": null,
   "metadata": {
    "colab": {
     "base_uri": "https://localhost:8080/"
    },
    "id": "TN-821MvnnU0",
    "outputId": "9e4075be-9dd7-47e7-f1c6-814f3c8d4125"
   },
   "outputs": [
    {
     "data": {
      "text/plain": [
       "1.0"
      ]
     },
     "execution_count": 103,
     "metadata": {},
     "output_type": "execute_result"
    }
   ],
   "source": [
    "df_sales_saDateLast2y['weight'].sum() + agg_df_saDateLast2y['weight'].sum()"
   ]
  },
  {
   "cell_type": "code",
   "execution_count": null,
   "metadata": {
    "id": "Vdbcz9KGnnU0"
   },
   "outputs": [],
   "source": [
    "train_days, val_days, forecast_days = get_day_splits(df_sales_saDateLast2y)"
   ]
  },
  {
   "cell_type": "code",
   "execution_count": null,
   "metadata": {
    "colab": {
     "base_uri": "https://localhost:8080/"
    },
    "id": "VEgdl3vxnnU0",
    "outputId": "ce61d7f3-7df9-43b9-fbf6-06f8a4ae6d3b"
   },
   "outputs": [
    {
     "name": "stdout",
     "output_type": "stream",
     "text": [
      "WRMSSE using Simple Average Sales on the given date last 2 years: 1.7959968027514586\n"
     ]
    }
   ],
   "source": [
    "wrmsse_saDateLast2y = WRMSSE(df_sales_saDateLast2y, agg_df_saDateLast2y, train_days, val_days, forecast_days)\n",
    "print(\"WRMSSE using Simple Average Sales on the given date last 2 years:\", wrmsse_saDateLast2y)"
   ]
  },
  {
   "cell_type": "markdown",
   "metadata": {
    "id": "xkzl1wsrtHrh"
   },
   "source": [
    "## 6.6 Average Sales on given date last few months"
   ]
  },
  {
   "cell_type": "code",
   "execution_count": null,
   "metadata": {
    "colab": {
     "base_uri": "https://localhost:8080/",
     "height": 81
    },
    "id": "dEkN0h4Qo6iq",
    "outputId": "ad370a73-bcc5-4395-9a4e-ac6b7e00cb71"
   },
   "outputs": [
    {
     "data": {
      "text/html": [
       "\n",
       "  <div id=\"df-f39c90d9-df5b-49e4-85d3-d05bc9cbf524\">\n",
       "    <div class=\"colab-df-container\">\n",
       "      <div>\n",
       "<style scoped>\n",
       "    .dataframe tbody tr th:only-of-type {\n",
       "        vertical-align: middle;\n",
       "    }\n",
       "\n",
       "    .dataframe tbody tr th {\n",
       "        vertical-align: top;\n",
       "    }\n",
       "\n",
       "    .dataframe thead th {\n",
       "        text-align: right;\n",
       "    }\n",
       "</style>\n",
       "<table border=\"1\" class=\"dataframe\">\n",
       "  <thead>\n",
       "    <tr style=\"text-align: right;\">\n",
       "      <th></th>\n",
       "      <th>date</th>\n",
       "      <th>wm_yr_wk</th>\n",
       "      <th>weekday</th>\n",
       "      <th>wday</th>\n",
       "      <th>month</th>\n",
       "      <th>year</th>\n",
       "      <th>d</th>\n",
       "      <th>snap_CA</th>\n",
       "      <th>snap_TX</th>\n",
       "      <th>snap_WI</th>\n",
       "      <th>d_</th>\n",
       "      <th>event_name</th>\n",
       "      <th>event_type</th>\n",
       "      <th>DD</th>\n",
       "    </tr>\n",
       "  </thead>\n",
       "  <tbody>\n",
       "    <tr>\n",
       "      <th>0</th>\n",
       "      <td>2011-01-29</td>\n",
       "      <td>11101</td>\n",
       "      <td>Saturday</td>\n",
       "      <td>1</td>\n",
       "      <td>1</td>\n",
       "      <td>2011</td>\n",
       "      <td>d_1</td>\n",
       "      <td>0</td>\n",
       "      <td>0</td>\n",
       "      <td>0</td>\n",
       "      <td>1</td>\n",
       "      <td>NaN</td>\n",
       "      <td>NaN</td>\n",
       "      <td>29</td>\n",
       "    </tr>\n",
       "  </tbody>\n",
       "</table>\n",
       "</div>\n",
       "      <button class=\"colab-df-convert\" onclick=\"convertToInteractive('df-f39c90d9-df5b-49e4-85d3-d05bc9cbf524')\"\n",
       "              title=\"Convert this dataframe to an interactive table.\"\n",
       "              style=\"display:none;\">\n",
       "        \n",
       "  <svg xmlns=\"http://www.w3.org/2000/svg\" height=\"24px\"viewBox=\"0 0 24 24\"\n",
       "       width=\"24px\">\n",
       "    <path d=\"M0 0h24v24H0V0z\" fill=\"none\"/>\n",
       "    <path d=\"M18.56 5.44l.94 2.06.94-2.06 2.06-.94-2.06-.94-.94-2.06-.94 2.06-2.06.94zm-11 1L8.5 8.5l.94-2.06 2.06-.94-2.06-.94L8.5 2.5l-.94 2.06-2.06.94zm10 10l.94 2.06.94-2.06 2.06-.94-2.06-.94-.94-2.06-.94 2.06-2.06.94z\"/><path d=\"M17.41 7.96l-1.37-1.37c-.4-.4-.92-.59-1.43-.59-.52 0-1.04.2-1.43.59L10.3 9.45l-7.72 7.72c-.78.78-.78 2.05 0 2.83L4 21.41c.39.39.9.59 1.41.59.51 0 1.02-.2 1.41-.59l7.78-7.78 2.81-2.81c.8-.78.8-2.07 0-2.86zM5.41 20L4 18.59l7.72-7.72 1.47 1.35L5.41 20z\"/>\n",
       "  </svg>\n",
       "      </button>\n",
       "      \n",
       "  <style>\n",
       "    .colab-df-container {\n",
       "      display:flex;\n",
       "      flex-wrap:wrap;\n",
       "      gap: 12px;\n",
       "    }\n",
       "\n",
       "    .colab-df-convert {\n",
       "      background-color: #E8F0FE;\n",
       "      border: none;\n",
       "      border-radius: 50%;\n",
       "      cursor: pointer;\n",
       "      display: none;\n",
       "      fill: #1967D2;\n",
       "      height: 32px;\n",
       "      padding: 0 0 0 0;\n",
       "      width: 32px;\n",
       "    }\n",
       "\n",
       "    .colab-df-convert:hover {\n",
       "      background-color: #E2EBFA;\n",
       "      box-shadow: 0px 1px 2px rgba(60, 64, 67, 0.3), 0px 1px 3px 1px rgba(60, 64, 67, 0.15);\n",
       "      fill: #174EA6;\n",
       "    }\n",
       "\n",
       "    [theme=dark] .colab-df-convert {\n",
       "      background-color: #3B4455;\n",
       "      fill: #D2E3FC;\n",
       "    }\n",
       "\n",
       "    [theme=dark] .colab-df-convert:hover {\n",
       "      background-color: #434B5C;\n",
       "      box-shadow: 0px 1px 3px 1px rgba(0, 0, 0, 0.15);\n",
       "      filter: drop-shadow(0px 1px 2px rgba(0, 0, 0, 0.3));\n",
       "      fill: #FFFFFF;\n",
       "    }\n",
       "  </style>\n",
       "\n",
       "      <script>\n",
       "        const buttonEl =\n",
       "          document.querySelector('#df-f39c90d9-df5b-49e4-85d3-d05bc9cbf524 button.colab-df-convert');\n",
       "        buttonEl.style.display =\n",
       "          google.colab.kernel.accessAllowed ? 'block' : 'none';\n",
       "\n",
       "        async function convertToInteractive(key) {\n",
       "          const element = document.querySelector('#df-f39c90d9-df5b-49e4-85d3-d05bc9cbf524');\n",
       "          const dataTable =\n",
       "            await google.colab.kernel.invokeFunction('convertToInteractive',\n",
       "                                                     [key], {});\n",
       "          if (!dataTable) return;\n",
       "\n",
       "          const docLinkHtml = 'Like what you see? Visit the ' +\n",
       "            '<a target=\"_blank\" href=https://colab.research.google.com/notebooks/data_table.ipynb>data table notebook</a>'\n",
       "            + ' to learn more about interactive tables.';\n",
       "          element.innerHTML = '';\n",
       "          dataTable['output_type'] = 'display_data';\n",
       "          await google.colab.output.renderOutput(dataTable, element);\n",
       "          const docLink = document.createElement('div');\n",
       "          docLink.innerHTML = docLinkHtml;\n",
       "          element.appendChild(docLink);\n",
       "        }\n",
       "      </script>\n",
       "    </div>\n",
       "  </div>\n",
       "  "
      ],
      "text/plain": [
       "        date  wm_yr_wk   weekday  wday  month  year    d  snap_CA  snap_TX  \\\n",
       "0 2011-01-29     11101  Saturday     1      1  2011  d_1        0        0   \n",
       "\n",
       "   snap_WI  d_ event_name event_type  DD  \n",
       "0        0   1        NaN        NaN  29  "
      ]
     },
     "execution_count": 9,
     "metadata": {},
     "output_type": "execute_result"
    }
   ],
   "source": [
    "df_cal['date'] =  pd.to_datetime(df_cal['date'])\n",
    "df_cal['DD'] = df_cal['date'].apply(lambda x: x.day)\n",
    "df_cal.head(1)"
   ]
  },
  {
   "cell_type": "code",
   "execution_count": null,
   "metadata": {
    "colab": {
     "base_uri": "https://localhost:8080/"
    },
    "id": "W1E-yTHT3BMC",
    "outputId": "ba37825e-7ba2-4c6d-a489-75261dd3323d"
   },
   "outputs": [
    {
     "data": {
      "text/plain": [
       "['d_1844', 'd_1873', 'd_1904']"
      ]
     },
     "execution_count": 10,
     "metadata": {},
     "output_type": "execute_result"
    }
   ],
   "source": [
    "#checking the code\n",
    "day = 1934\n",
    "day_of_month = int(df_cal[df_cal['d_']==day]['DD'])\n",
    "DaysLast3M = df_cal.loc[(df_cal['d_']<day) & (df_cal['DD']==day_of_month)]['d'].tolist()[-3:]\n",
    "DaysLast3M"
   ]
  },
  {
   "cell_type": "code",
   "execution_count": null,
   "metadata": {
    "id": "2P6B0yYdyIxW"
   },
   "outputs": [],
   "source": [
    "df_sales_saDayLast3M = df_sales.copy()"
   ]
  },
  {
   "cell_type": "code",
   "execution_count": null,
   "metadata": {
    "id": "VDGa8rgpyFYc"
   },
   "outputs": [],
   "source": [
    "for day in range(1914, 1942): \n",
    "    day_of_month = int(df_cal[df_cal['d_']==day]['DD'])\n",
    "    corr_DaysLast3M = df_cal.loc[(df_cal['d_']<day) & (df_cal['DD']==day_of_month)]['d'].tolist()[-3:]\n",
    "    df_sales_saDayLast3M['F_'+str(day)] = df_sales_saDayLast3M.loc[:, corr_DaysLast3M].mean(axis=1)"
   ]
  },
  {
   "cell_type": "code",
   "execution_count": null,
   "metadata": {
    "colab": {
     "base_uri": "https://localhost:8080/",
     "height": 154
    },
    "id": "T66DsbfB45ly",
    "outputId": "07f329c3-b702-4a00-9bfd-2becac54a2bf"
   },
   "outputs": [
    {
     "data": {
      "text/html": [
       "\n",
       "  <div id=\"df-865ceae5-9481-47fe-b06d-2dabcf7062c4\">\n",
       "    <div class=\"colab-df-container\">\n",
       "      <div>\n",
       "<style scoped>\n",
       "    .dataframe tbody tr th:only-of-type {\n",
       "        vertical-align: middle;\n",
       "    }\n",
       "\n",
       "    .dataframe tbody tr th {\n",
       "        vertical-align: top;\n",
       "    }\n",
       "\n",
       "    .dataframe thead th {\n",
       "        text-align: right;\n",
       "    }\n",
       "</style>\n",
       "<table border=\"1\" class=\"dataframe\">\n",
       "  <thead>\n",
       "    <tr style=\"text-align: right;\">\n",
       "      <th></th>\n",
       "      <th>id</th>\n",
       "      <th>item_id</th>\n",
       "      <th>dept_id</th>\n",
       "      <th>cat_id</th>\n",
       "      <th>store_id</th>\n",
       "      <th>state_id</th>\n",
       "      <th>d_1</th>\n",
       "      <th>d_2</th>\n",
       "      <th>d_3</th>\n",
       "      <th>d_4</th>\n",
       "      <th>...</th>\n",
       "      <th>F_1932</th>\n",
       "      <th>F_1933</th>\n",
       "      <th>F_1934</th>\n",
       "      <th>F_1935</th>\n",
       "      <th>F_1936</th>\n",
       "      <th>F_1937</th>\n",
       "      <th>F_1938</th>\n",
       "      <th>F_1939</th>\n",
       "      <th>F_1940</th>\n",
       "      <th>F_1941</th>\n",
       "    </tr>\n",
       "  </thead>\n",
       "  <tbody>\n",
       "    <tr>\n",
       "      <th>0</th>\n",
       "      <td>HOBBIES_1_001_CA_1_evaluation</td>\n",
       "      <td>HOBBIES_1_001</td>\n",
       "      <td>HOBBIES_1</td>\n",
       "      <td>HOBBIES</td>\n",
       "      <td>CA_1</td>\n",
       "      <td>CA</td>\n",
       "      <td>0</td>\n",
       "      <td>0</td>\n",
       "      <td>0</td>\n",
       "      <td>0</td>\n",
       "      <td>...</td>\n",
       "      <td>1.333333</td>\n",
       "      <td>0.333333</td>\n",
       "      <td>0.666667</td>\n",
       "      <td>1.333333</td>\n",
       "      <td>0.333333</td>\n",
       "      <td>1.666667</td>\n",
       "      <td>1.0</td>\n",
       "      <td>2.0</td>\n",
       "      <td>1.333333</td>\n",
       "      <td>2.0</td>\n",
       "    </tr>\n",
       "  </tbody>\n",
       "</table>\n",
       "<p>1 rows × 1975 columns</p>\n",
       "</div>\n",
       "      <button class=\"colab-df-convert\" onclick=\"convertToInteractive('df-865ceae5-9481-47fe-b06d-2dabcf7062c4')\"\n",
       "              title=\"Convert this dataframe to an interactive table.\"\n",
       "              style=\"display:none;\">\n",
       "        \n",
       "  <svg xmlns=\"http://www.w3.org/2000/svg\" height=\"24px\"viewBox=\"0 0 24 24\"\n",
       "       width=\"24px\">\n",
       "    <path d=\"M0 0h24v24H0V0z\" fill=\"none\"/>\n",
       "    <path d=\"M18.56 5.44l.94 2.06.94-2.06 2.06-.94-2.06-.94-.94-2.06-.94 2.06-2.06.94zm-11 1L8.5 8.5l.94-2.06 2.06-.94-2.06-.94L8.5 2.5l-.94 2.06-2.06.94zm10 10l.94 2.06.94-2.06 2.06-.94-2.06-.94-.94-2.06-.94 2.06-2.06.94z\"/><path d=\"M17.41 7.96l-1.37-1.37c-.4-.4-.92-.59-1.43-.59-.52 0-1.04.2-1.43.59L10.3 9.45l-7.72 7.72c-.78.78-.78 2.05 0 2.83L4 21.41c.39.39.9.59 1.41.59.51 0 1.02-.2 1.41-.59l7.78-7.78 2.81-2.81c.8-.78.8-2.07 0-2.86zM5.41 20L4 18.59l7.72-7.72 1.47 1.35L5.41 20z\"/>\n",
       "  </svg>\n",
       "      </button>\n",
       "      \n",
       "  <style>\n",
       "    .colab-df-container {\n",
       "      display:flex;\n",
       "      flex-wrap:wrap;\n",
       "      gap: 12px;\n",
       "    }\n",
       "\n",
       "    .colab-df-convert {\n",
       "      background-color: #E8F0FE;\n",
       "      border: none;\n",
       "      border-radius: 50%;\n",
       "      cursor: pointer;\n",
       "      display: none;\n",
       "      fill: #1967D2;\n",
       "      height: 32px;\n",
       "      padding: 0 0 0 0;\n",
       "      width: 32px;\n",
       "    }\n",
       "\n",
       "    .colab-df-convert:hover {\n",
       "      background-color: #E2EBFA;\n",
       "      box-shadow: 0px 1px 2px rgba(60, 64, 67, 0.3), 0px 1px 3px 1px rgba(60, 64, 67, 0.15);\n",
       "      fill: #174EA6;\n",
       "    }\n",
       "\n",
       "    [theme=dark] .colab-df-convert {\n",
       "      background-color: #3B4455;\n",
       "      fill: #D2E3FC;\n",
       "    }\n",
       "\n",
       "    [theme=dark] .colab-df-convert:hover {\n",
       "      background-color: #434B5C;\n",
       "      box-shadow: 0px 1px 3px 1px rgba(0, 0, 0, 0.15);\n",
       "      filter: drop-shadow(0px 1px 2px rgba(0, 0, 0, 0.3));\n",
       "      fill: #FFFFFF;\n",
       "    }\n",
       "  </style>\n",
       "\n",
       "      <script>\n",
       "        const buttonEl =\n",
       "          document.querySelector('#df-865ceae5-9481-47fe-b06d-2dabcf7062c4 button.colab-df-convert');\n",
       "        buttonEl.style.display =\n",
       "          google.colab.kernel.accessAllowed ? 'block' : 'none';\n",
       "\n",
       "        async function convertToInteractive(key) {\n",
       "          const element = document.querySelector('#df-865ceae5-9481-47fe-b06d-2dabcf7062c4');\n",
       "          const dataTable =\n",
       "            await google.colab.kernel.invokeFunction('convertToInteractive',\n",
       "                                                     [key], {});\n",
       "          if (!dataTable) return;\n",
       "\n",
       "          const docLinkHtml = 'Like what you see? Visit the ' +\n",
       "            '<a target=\"_blank\" href=https://colab.research.google.com/notebooks/data_table.ipynb>data table notebook</a>'\n",
       "            + ' to learn more about interactive tables.';\n",
       "          element.innerHTML = '';\n",
       "          dataTable['output_type'] = 'display_data';\n",
       "          await google.colab.output.renderOutput(dataTable, element);\n",
       "          const docLink = document.createElement('div');\n",
       "          docLink.innerHTML = docLinkHtml;\n",
       "          element.appendChild(docLink);\n",
       "        }\n",
       "      </script>\n",
       "    </div>\n",
       "  </div>\n",
       "  "
      ],
      "text/plain": [
       "                              id        item_id    dept_id   cat_id store_id  \\\n",
       "0  HOBBIES_1_001_CA_1_evaluation  HOBBIES_1_001  HOBBIES_1  HOBBIES     CA_1   \n",
       "\n",
       "  state_id  d_1  d_2  d_3  d_4  ...    F_1932    F_1933    F_1934    F_1935  \\\n",
       "0       CA    0    0    0    0  ...  1.333333  0.333333  0.666667  1.333333   \n",
       "\n",
       "     F_1936    F_1937  F_1938  F_1939    F_1940  F_1941  \n",
       "0  0.333333  1.666667     1.0     2.0  1.333333     2.0  \n",
       "\n",
       "[1 rows x 1975 columns]"
      ]
     },
     "execution_count": 13,
     "metadata": {},
     "output_type": "execute_result"
    }
   ],
   "source": [
    "df_sales_saDayLast3M.head(1)"
   ]
  },
  {
   "cell_type": "code",
   "execution_count": null,
   "metadata": {
    "colab": {
     "base_uri": "https://localhost:8080/"
    },
    "id": "HC5eh3hz5AKM",
    "outputId": "fe247377-e850-4e43-b860-866dd21e5321"
   },
   "outputs": [
    {
     "name": "stderr",
     "output_type": "stream",
     "text": [
      "100%|██████████| 28/28 [00:09<00:00,  3.06it/s]\n"
     ]
    }
   ],
   "source": [
    "df_sales_saDayLast3M = calculate_weightsL12(df_sales_saDayLast3M, df_cal, df_price)"
   ]
  },
  {
   "cell_type": "code",
   "execution_count": null,
   "metadata": {
    "colab": {
     "base_uri": "https://localhost:8080/",
     "height": 154
    },
    "id": "8MfHn4z15AKN",
    "outputId": "a652e0ce-4d1d-4962-a78b-ce233670ebdf"
   },
   "outputs": [
    {
     "data": {
      "text/html": [
       "\n",
       "  <div id=\"df-a51d1d7d-b842-4b45-ae32-82e0a9678559\">\n",
       "    <div class=\"colab-df-container\">\n",
       "      <div>\n",
       "<style scoped>\n",
       "    .dataframe tbody tr th:only-of-type {\n",
       "        vertical-align: middle;\n",
       "    }\n",
       "\n",
       "    .dataframe tbody tr th {\n",
       "        vertical-align: top;\n",
       "    }\n",
       "\n",
       "    .dataframe thead th {\n",
       "        text-align: right;\n",
       "    }\n",
       "</style>\n",
       "<table border=\"1\" class=\"dataframe\">\n",
       "  <thead>\n",
       "    <tr style=\"text-align: right;\">\n",
       "      <th></th>\n",
       "      <th>id</th>\n",
       "      <th>item_id</th>\n",
       "      <th>dept_id</th>\n",
       "      <th>cat_id</th>\n",
       "      <th>store_id</th>\n",
       "      <th>state_id</th>\n",
       "      <th>d_1</th>\n",
       "      <th>d_2</th>\n",
       "      <th>d_3</th>\n",
       "      <th>d_4</th>\n",
       "      <th>...</th>\n",
       "      <th>F_1933</th>\n",
       "      <th>F_1934</th>\n",
       "      <th>F_1935</th>\n",
       "      <th>F_1936</th>\n",
       "      <th>F_1937</th>\n",
       "      <th>F_1938</th>\n",
       "      <th>F_1939</th>\n",
       "      <th>F_1940</th>\n",
       "      <th>F_1941</th>\n",
       "      <th>weight</th>\n",
       "    </tr>\n",
       "  </thead>\n",
       "  <tbody>\n",
       "    <tr>\n",
       "      <th>0</th>\n",
       "      <td>HOBBIES_1_001_CA_1_evaluation</td>\n",
       "      <td>HOBBIES_1_001</td>\n",
       "      <td>HOBBIES_1</td>\n",
       "      <td>HOBBIES</td>\n",
       "      <td>CA_1</td>\n",
       "      <td>CA</td>\n",
       "      <td>0</td>\n",
       "      <td>0</td>\n",
       "      <td>0</td>\n",
       "      <td>0</td>\n",
       "      <td>...</td>\n",
       "      <td>0.333333</td>\n",
       "      <td>0.666667</td>\n",
       "      <td>1.333333</td>\n",
       "      <td>0.333333</td>\n",
       "      <td>1.666667</td>\n",
       "      <td>1.0</td>\n",
       "      <td>2.0</td>\n",
       "      <td>1.333333</td>\n",
       "      <td>2.0</td>\n",
       "      <td>0.000005</td>\n",
       "    </tr>\n",
       "  </tbody>\n",
       "</table>\n",
       "<p>1 rows × 1976 columns</p>\n",
       "</div>\n",
       "      <button class=\"colab-df-convert\" onclick=\"convertToInteractive('df-a51d1d7d-b842-4b45-ae32-82e0a9678559')\"\n",
       "              title=\"Convert this dataframe to an interactive table.\"\n",
       "              style=\"display:none;\">\n",
       "        \n",
       "  <svg xmlns=\"http://www.w3.org/2000/svg\" height=\"24px\"viewBox=\"0 0 24 24\"\n",
       "       width=\"24px\">\n",
       "    <path d=\"M0 0h24v24H0V0z\" fill=\"none\"/>\n",
       "    <path d=\"M18.56 5.44l.94 2.06.94-2.06 2.06-.94-2.06-.94-.94-2.06-.94 2.06-2.06.94zm-11 1L8.5 8.5l.94-2.06 2.06-.94-2.06-.94L8.5 2.5l-.94 2.06-2.06.94zm10 10l.94 2.06.94-2.06 2.06-.94-2.06-.94-.94-2.06-.94 2.06-2.06.94z\"/><path d=\"M17.41 7.96l-1.37-1.37c-.4-.4-.92-.59-1.43-.59-.52 0-1.04.2-1.43.59L10.3 9.45l-7.72 7.72c-.78.78-.78 2.05 0 2.83L4 21.41c.39.39.9.59 1.41.59.51 0 1.02-.2 1.41-.59l7.78-7.78 2.81-2.81c.8-.78.8-2.07 0-2.86zM5.41 20L4 18.59l7.72-7.72 1.47 1.35L5.41 20z\"/>\n",
       "  </svg>\n",
       "      </button>\n",
       "      \n",
       "  <style>\n",
       "    .colab-df-container {\n",
       "      display:flex;\n",
       "      flex-wrap:wrap;\n",
       "      gap: 12px;\n",
       "    }\n",
       "\n",
       "    .colab-df-convert {\n",
       "      background-color: #E8F0FE;\n",
       "      border: none;\n",
       "      border-radius: 50%;\n",
       "      cursor: pointer;\n",
       "      display: none;\n",
       "      fill: #1967D2;\n",
       "      height: 32px;\n",
       "      padding: 0 0 0 0;\n",
       "      width: 32px;\n",
       "    }\n",
       "\n",
       "    .colab-df-convert:hover {\n",
       "      background-color: #E2EBFA;\n",
       "      box-shadow: 0px 1px 2px rgba(60, 64, 67, 0.3), 0px 1px 3px 1px rgba(60, 64, 67, 0.15);\n",
       "      fill: #174EA6;\n",
       "    }\n",
       "\n",
       "    [theme=dark] .colab-df-convert {\n",
       "      background-color: #3B4455;\n",
       "      fill: #D2E3FC;\n",
       "    }\n",
       "\n",
       "    [theme=dark] .colab-df-convert:hover {\n",
       "      background-color: #434B5C;\n",
       "      box-shadow: 0px 1px 3px 1px rgba(0, 0, 0, 0.15);\n",
       "      filter: drop-shadow(0px 1px 2px rgba(0, 0, 0, 0.3));\n",
       "      fill: #FFFFFF;\n",
       "    }\n",
       "  </style>\n",
       "\n",
       "      <script>\n",
       "        const buttonEl =\n",
       "          document.querySelector('#df-a51d1d7d-b842-4b45-ae32-82e0a9678559 button.colab-df-convert');\n",
       "        buttonEl.style.display =\n",
       "          google.colab.kernel.accessAllowed ? 'block' : 'none';\n",
       "\n",
       "        async function convertToInteractive(key) {\n",
       "          const element = document.querySelector('#df-a51d1d7d-b842-4b45-ae32-82e0a9678559');\n",
       "          const dataTable =\n",
       "            await google.colab.kernel.invokeFunction('convertToInteractive',\n",
       "                                                     [key], {});\n",
       "          if (!dataTable) return;\n",
       "\n",
       "          const docLinkHtml = 'Like what you see? Visit the ' +\n",
       "            '<a target=\"_blank\" href=https://colab.research.google.com/notebooks/data_table.ipynb>data table notebook</a>'\n",
       "            + ' to learn more about interactive tables.';\n",
       "          element.innerHTML = '';\n",
       "          dataTable['output_type'] = 'display_data';\n",
       "          await google.colab.output.renderOutput(dataTable, element);\n",
       "          const docLink = document.createElement('div');\n",
       "          docLink.innerHTML = docLinkHtml;\n",
       "          element.appendChild(docLink);\n",
       "        }\n",
       "      </script>\n",
       "    </div>\n",
       "  </div>\n",
       "  "
      ],
      "text/plain": [
       "                              id        item_id    dept_id   cat_id store_id  \\\n",
       "0  HOBBIES_1_001_CA_1_evaluation  HOBBIES_1_001  HOBBIES_1  HOBBIES     CA_1   \n",
       "\n",
       "  state_id  d_1  d_2  d_3  d_4  ...    F_1933    F_1934    F_1935    F_1936  \\\n",
       "0       CA    0    0    0    0  ...  0.333333  0.666667  1.333333  0.333333   \n",
       "\n",
       "     F_1937  F_1938  F_1939    F_1940  F_1941    weight  \n",
       "0  1.666667     1.0     2.0  1.333333     2.0  0.000005  \n",
       "\n",
       "[1 rows x 1976 columns]"
      ]
     },
     "execution_count": 15,
     "metadata": {},
     "output_type": "execute_result"
    }
   ],
   "source": [
    "df_sales_saDayLast3M.head(1)"
   ]
  },
  {
   "cell_type": "code",
   "execution_count": null,
   "metadata": {
    "colab": {
     "base_uri": "https://localhost:8080/"
    },
    "id": "wf_2K8HC5AKN",
    "outputId": "893212ba-144e-484a-f159-0feebde78286"
   },
   "outputs": [
    {
     "name": "stderr",
     "output_type": "stream",
     "text": [
      "100%|██████████| 10/10 [00:08<00:00,  1.12it/s]\n"
     ]
    }
   ],
   "source": [
    "agg_df_saDayLast3M = calculate_weightsALL(df_sales_saDayLast3M, level_groupings)"
   ]
  },
  {
   "cell_type": "code",
   "execution_count": null,
   "metadata": {
    "colab": {
     "base_uri": "https://localhost:8080/",
     "height": 110
    },
    "id": "ywL4BRue5AKO",
    "outputId": "0aacba18-d860-45ba-8ae3-8aea608a1026"
   },
   "outputs": [
    {
     "data": {
      "text/html": [
       "\n",
       "  <div id=\"df-fafc3573-ff46-4dfb-8484-dd2a3e365fcf\">\n",
       "    <div class=\"colab-df-container\">\n",
       "      <div>\n",
       "<style scoped>\n",
       "    .dataframe tbody tr th:only-of-type {\n",
       "        vertical-align: middle;\n",
       "    }\n",
       "\n",
       "    .dataframe tbody tr th {\n",
       "        vertical-align: top;\n",
       "    }\n",
       "\n",
       "    .dataframe thead th {\n",
       "        text-align: right;\n",
       "    }\n",
       "</style>\n",
       "<table border=\"1\" class=\"dataframe\">\n",
       "  <thead>\n",
       "    <tr style=\"text-align: right;\">\n",
       "      <th></th>\n",
       "      <th>d_1</th>\n",
       "      <th>d_2</th>\n",
       "      <th>d_3</th>\n",
       "      <th>d_4</th>\n",
       "      <th>d_5</th>\n",
       "      <th>d_6</th>\n",
       "      <th>d_7</th>\n",
       "      <th>d_8</th>\n",
       "      <th>d_9</th>\n",
       "      <th>d_10</th>\n",
       "      <th>...</th>\n",
       "      <th>F_1939</th>\n",
       "      <th>F_1940</th>\n",
       "      <th>F_1941</th>\n",
       "      <th>item_id</th>\n",
       "      <th>dept_id</th>\n",
       "      <th>cat_id</th>\n",
       "      <th>store_id</th>\n",
       "      <th>state_id</th>\n",
       "      <th>level</th>\n",
       "      <th>weight</th>\n",
       "    </tr>\n",
       "  </thead>\n",
       "  <tbody>\n",
       "    <tr>\n",
       "      <th>0</th>\n",
       "      <td>32631.0</td>\n",
       "      <td>31749.0</td>\n",
       "      <td>23783.0</td>\n",
       "      <td>25412.0</td>\n",
       "      <td>19146.0</td>\n",
       "      <td>29211.0</td>\n",
       "      <td>28010.0</td>\n",
       "      <td>37932.0</td>\n",
       "      <td>32736.0</td>\n",
       "      <td>25572.0</td>\n",
       "      <td>...</td>\n",
       "      <td>44675.0</td>\n",
       "      <td>41491.333333</td>\n",
       "      <td>37773.333333</td>\n",
       "      <td>all</td>\n",
       "      <td>all</td>\n",
       "      <td>all</td>\n",
       "      <td>all</td>\n",
       "      <td>all</td>\n",
       "      <td>1</td>\n",
       "      <td>0.083333</td>\n",
       "    </tr>\n",
       "  </tbody>\n",
       "</table>\n",
       "<p>1 rows × 1976 columns</p>\n",
       "</div>\n",
       "      <button class=\"colab-df-convert\" onclick=\"convertToInteractive('df-fafc3573-ff46-4dfb-8484-dd2a3e365fcf')\"\n",
       "              title=\"Convert this dataframe to an interactive table.\"\n",
       "              style=\"display:none;\">\n",
       "        \n",
       "  <svg xmlns=\"http://www.w3.org/2000/svg\" height=\"24px\"viewBox=\"0 0 24 24\"\n",
       "       width=\"24px\">\n",
       "    <path d=\"M0 0h24v24H0V0z\" fill=\"none\"/>\n",
       "    <path d=\"M18.56 5.44l.94 2.06.94-2.06 2.06-.94-2.06-.94-.94-2.06-.94 2.06-2.06.94zm-11 1L8.5 8.5l.94-2.06 2.06-.94-2.06-.94L8.5 2.5l-.94 2.06-2.06.94zm10 10l.94 2.06.94-2.06 2.06-.94-2.06-.94-.94-2.06-.94 2.06-2.06.94z\"/><path d=\"M17.41 7.96l-1.37-1.37c-.4-.4-.92-.59-1.43-.59-.52 0-1.04.2-1.43.59L10.3 9.45l-7.72 7.72c-.78.78-.78 2.05 0 2.83L4 21.41c.39.39.9.59 1.41.59.51 0 1.02-.2 1.41-.59l7.78-7.78 2.81-2.81c.8-.78.8-2.07 0-2.86zM5.41 20L4 18.59l7.72-7.72 1.47 1.35L5.41 20z\"/>\n",
       "  </svg>\n",
       "      </button>\n",
       "      \n",
       "  <style>\n",
       "    .colab-df-container {\n",
       "      display:flex;\n",
       "      flex-wrap:wrap;\n",
       "      gap: 12px;\n",
       "    }\n",
       "\n",
       "    .colab-df-convert {\n",
       "      background-color: #E8F0FE;\n",
       "      border: none;\n",
       "      border-radius: 50%;\n",
       "      cursor: pointer;\n",
       "      display: none;\n",
       "      fill: #1967D2;\n",
       "      height: 32px;\n",
       "      padding: 0 0 0 0;\n",
       "      width: 32px;\n",
       "    }\n",
       "\n",
       "    .colab-df-convert:hover {\n",
       "      background-color: #E2EBFA;\n",
       "      box-shadow: 0px 1px 2px rgba(60, 64, 67, 0.3), 0px 1px 3px 1px rgba(60, 64, 67, 0.15);\n",
       "      fill: #174EA6;\n",
       "    }\n",
       "\n",
       "    [theme=dark] .colab-df-convert {\n",
       "      background-color: #3B4455;\n",
       "      fill: #D2E3FC;\n",
       "    }\n",
       "\n",
       "    [theme=dark] .colab-df-convert:hover {\n",
       "      background-color: #434B5C;\n",
       "      box-shadow: 0px 1px 3px 1px rgba(0, 0, 0, 0.15);\n",
       "      filter: drop-shadow(0px 1px 2px rgba(0, 0, 0, 0.3));\n",
       "      fill: #FFFFFF;\n",
       "    }\n",
       "  </style>\n",
       "\n",
       "      <script>\n",
       "        const buttonEl =\n",
       "          document.querySelector('#df-fafc3573-ff46-4dfb-8484-dd2a3e365fcf button.colab-df-convert');\n",
       "        buttonEl.style.display =\n",
       "          google.colab.kernel.accessAllowed ? 'block' : 'none';\n",
       "\n",
       "        async function convertToInteractive(key) {\n",
       "          const element = document.querySelector('#df-fafc3573-ff46-4dfb-8484-dd2a3e365fcf');\n",
       "          const dataTable =\n",
       "            await google.colab.kernel.invokeFunction('convertToInteractive',\n",
       "                                                     [key], {});\n",
       "          if (!dataTable) return;\n",
       "\n",
       "          const docLinkHtml = 'Like what you see? Visit the ' +\n",
       "            '<a target=\"_blank\" href=https://colab.research.google.com/notebooks/data_table.ipynb>data table notebook</a>'\n",
       "            + ' to learn more about interactive tables.';\n",
       "          element.innerHTML = '';\n",
       "          dataTable['output_type'] = 'display_data';\n",
       "          await google.colab.output.renderOutput(dataTable, element);\n",
       "          const docLink = document.createElement('div');\n",
       "          docLink.innerHTML = docLinkHtml;\n",
       "          element.appendChild(docLink);\n",
       "        }\n",
       "      </script>\n",
       "    </div>\n",
       "  </div>\n",
       "  "
      ],
      "text/plain": [
       "       d_1      d_2      d_3      d_4      d_5      d_6      d_7      d_8  \\\n",
       "0  32631.0  31749.0  23783.0  25412.0  19146.0  29211.0  28010.0  37932.0   \n",
       "\n",
       "       d_9     d_10  ...   F_1939        F_1940        F_1941  item_id  \\\n",
       "0  32736.0  25572.0  ...  44675.0  41491.333333  37773.333333      all   \n",
       "\n",
       "   dept_id  cat_id  store_id  state_id  level    weight  \n",
       "0      all     all       all       all      1  0.083333  \n",
       "\n",
       "[1 rows x 1976 columns]"
      ]
     },
     "execution_count": 17,
     "metadata": {},
     "output_type": "execute_result"
    }
   ],
   "source": [
    "agg_df_saDayLast3M.head(1)"
   ]
  },
  {
   "cell_type": "code",
   "execution_count": null,
   "metadata": {
    "colab": {
     "base_uri": "https://localhost:8080/"
    },
    "id": "iKraljpT5AKO",
    "outputId": "499bd55b-87b9-4e6a-a488-9e7ffdc462b9"
   },
   "outputs": [
    {
     "data": {
      "text/plain": [
       "1.0"
      ]
     },
     "execution_count": 18,
     "metadata": {},
     "output_type": "execute_result"
    }
   ],
   "source": [
    "df_sales_saDayLast3M['weight'].sum() + agg_df_saDayLast3M['weight'].sum()"
   ]
  },
  {
   "cell_type": "code",
   "execution_count": null,
   "metadata": {
    "id": "a3gulKjG5AKO"
   },
   "outputs": [],
   "source": [
    "train_days, val_days, forecast_days = get_day_splits(df_sales_saDayLast3M)"
   ]
  },
  {
   "cell_type": "code",
   "execution_count": null,
   "metadata": {
    "colab": {
     "base_uri": "https://localhost:8080/"
    },
    "id": "lHQFjrGv5AKO",
    "outputId": "f2db0f1a-c2a8-46fa-e19b-5eb5799359b4"
   },
   "outputs": [
    {
     "name": "stdout",
     "output_type": "stream",
     "text": [
      "WRMSSE using Simple Average Sales on a given day of the month last 3 months: 1.2169429906813274\n"
     ]
    }
   ],
   "source": [
    "wrmsse_saDayLast3M = WRMSSE(df_sales_saDayLast3M, agg_df_saDayLast3M, train_days, val_days, forecast_days)\n",
    "print(\"WRMSSE using Simple Average Sales on a given day of the month last 3 months:\", wrmsse_saDayLast3M)"
   ]
  },
  {
   "cell_type": "markdown",
   "metadata": {
    "id": "3F712dkt7o69"
   },
   "source": [
    "## 6.7 Same as last 28 Days"
   ]
  },
  {
   "cell_type": "code",
   "execution_count": null,
   "metadata": {
    "colab": {
     "base_uri": "https://localhost:8080/",
     "height": 110
    },
    "id": "qJM_Drhi45iK",
    "outputId": "e81c2f7e-7be3-43cd-f01c-f404d7d7818e"
   },
   "outputs": [
    {
     "data": {
      "text/html": [
       "\n",
       "  <div id=\"df-a16a4f43-0a3a-4e8b-a1ca-63bddc7c210e\">\n",
       "    <div class=\"colab-df-container\">\n",
       "      <div>\n",
       "<style scoped>\n",
       "    .dataframe tbody tr th:only-of-type {\n",
       "        vertical-align: middle;\n",
       "    }\n",
       "\n",
       "    .dataframe tbody tr th {\n",
       "        vertical-align: top;\n",
       "    }\n",
       "\n",
       "    .dataframe thead th {\n",
       "        text-align: right;\n",
       "    }\n",
       "</style>\n",
       "<table border=\"1\" class=\"dataframe\">\n",
       "  <thead>\n",
       "    <tr style=\"text-align: right;\">\n",
       "      <th></th>\n",
       "      <th>F_1914</th>\n",
       "      <th>F_1915</th>\n",
       "      <th>F_1916</th>\n",
       "      <th>F_1917</th>\n",
       "      <th>F_1918</th>\n",
       "      <th>F_1919</th>\n",
       "      <th>F_1920</th>\n",
       "      <th>F_1921</th>\n",
       "      <th>F_1922</th>\n",
       "      <th>F_1923</th>\n",
       "      <th>...</th>\n",
       "      <th>F_1932</th>\n",
       "      <th>F_1933</th>\n",
       "      <th>F_1934</th>\n",
       "      <th>F_1935</th>\n",
       "      <th>F_1936</th>\n",
       "      <th>F_1937</th>\n",
       "      <th>F_1938</th>\n",
       "      <th>F_1939</th>\n",
       "      <th>F_1940</th>\n",
       "      <th>F_1941</th>\n",
       "    </tr>\n",
       "  </thead>\n",
       "  <tbody>\n",
       "    <tr>\n",
       "      <th>0</th>\n",
       "      <td>1</td>\n",
       "      <td>0</td>\n",
       "      <td>0</td>\n",
       "      <td>0</td>\n",
       "      <td>0</td>\n",
       "      <td>0</td>\n",
       "      <td>1</td>\n",
       "      <td>0</td>\n",
       "      <td>4</td>\n",
       "      <td>2</td>\n",
       "      <td>...</td>\n",
       "      <td>1</td>\n",
       "      <td>3</td>\n",
       "      <td>0</td>\n",
       "      <td>1</td>\n",
       "      <td>1</td>\n",
       "      <td>1</td>\n",
       "      <td>3</td>\n",
       "      <td>0</td>\n",
       "      <td>1</td>\n",
       "      <td>1</td>\n",
       "    </tr>\n",
       "  </tbody>\n",
       "</table>\n",
       "<p>1 rows × 28 columns</p>\n",
       "</div>\n",
       "      <button class=\"colab-df-convert\" onclick=\"convertToInteractive('df-a16a4f43-0a3a-4e8b-a1ca-63bddc7c210e')\"\n",
       "              title=\"Convert this dataframe to an interactive table.\"\n",
       "              style=\"display:none;\">\n",
       "        \n",
       "  <svg xmlns=\"http://www.w3.org/2000/svg\" height=\"24px\"viewBox=\"0 0 24 24\"\n",
       "       width=\"24px\">\n",
       "    <path d=\"M0 0h24v24H0V0z\" fill=\"none\"/>\n",
       "    <path d=\"M18.56 5.44l.94 2.06.94-2.06 2.06-.94-2.06-.94-.94-2.06-.94 2.06-2.06.94zm-11 1L8.5 8.5l.94-2.06 2.06-.94-2.06-.94L8.5 2.5l-.94 2.06-2.06.94zm10 10l.94 2.06.94-2.06 2.06-.94-2.06-.94-.94-2.06-.94 2.06-2.06.94z\"/><path d=\"M17.41 7.96l-1.37-1.37c-.4-.4-.92-.59-1.43-.59-.52 0-1.04.2-1.43.59L10.3 9.45l-7.72 7.72c-.78.78-.78 2.05 0 2.83L4 21.41c.39.39.9.59 1.41.59.51 0 1.02-.2 1.41-.59l7.78-7.78 2.81-2.81c.8-.78.8-2.07 0-2.86zM5.41 20L4 18.59l7.72-7.72 1.47 1.35L5.41 20z\"/>\n",
       "  </svg>\n",
       "      </button>\n",
       "      \n",
       "  <style>\n",
       "    .colab-df-container {\n",
       "      display:flex;\n",
       "      flex-wrap:wrap;\n",
       "      gap: 12px;\n",
       "    }\n",
       "\n",
       "    .colab-df-convert {\n",
       "      background-color: #E8F0FE;\n",
       "      border: none;\n",
       "      border-radius: 50%;\n",
       "      cursor: pointer;\n",
       "      display: none;\n",
       "      fill: #1967D2;\n",
       "      height: 32px;\n",
       "      padding: 0 0 0 0;\n",
       "      width: 32px;\n",
       "    }\n",
       "\n",
       "    .colab-df-convert:hover {\n",
       "      background-color: #E2EBFA;\n",
       "      box-shadow: 0px 1px 2px rgba(60, 64, 67, 0.3), 0px 1px 3px 1px rgba(60, 64, 67, 0.15);\n",
       "      fill: #174EA6;\n",
       "    }\n",
       "\n",
       "    [theme=dark] .colab-df-convert {\n",
       "      background-color: #3B4455;\n",
       "      fill: #D2E3FC;\n",
       "    }\n",
       "\n",
       "    [theme=dark] .colab-df-convert:hover {\n",
       "      background-color: #434B5C;\n",
       "      box-shadow: 0px 1px 3px 1px rgba(0, 0, 0, 0.15);\n",
       "      filter: drop-shadow(0px 1px 2px rgba(0, 0, 0, 0.3));\n",
       "      fill: #FFFFFF;\n",
       "    }\n",
       "  </style>\n",
       "\n",
       "      <script>\n",
       "        const buttonEl =\n",
       "          document.querySelector('#df-a16a4f43-0a3a-4e8b-a1ca-63bddc7c210e button.colab-df-convert');\n",
       "        buttonEl.style.display =\n",
       "          google.colab.kernel.accessAllowed ? 'block' : 'none';\n",
       "\n",
       "        async function convertToInteractive(key) {\n",
       "          const element = document.querySelector('#df-a16a4f43-0a3a-4e8b-a1ca-63bddc7c210e');\n",
       "          const dataTable =\n",
       "            await google.colab.kernel.invokeFunction('convertToInteractive',\n",
       "                                                     [key], {});\n",
       "          if (!dataTable) return;\n",
       "\n",
       "          const docLinkHtml = 'Like what you see? Visit the ' +\n",
       "            '<a target=\"_blank\" href=https://colab.research.google.com/notebooks/data_table.ipynb>data table notebook</a>'\n",
       "            + ' to learn more about interactive tables.';\n",
       "          element.innerHTML = '';\n",
       "          dataTable['output_type'] = 'display_data';\n",
       "          await google.colab.output.renderOutput(dataTable, element);\n",
       "          const docLink = document.createElement('div');\n",
       "          docLink.innerHTML = docLinkHtml;\n",
       "          element.appendChild(docLink);\n",
       "        }\n",
       "      </script>\n",
       "    </div>\n",
       "  </div>\n",
       "  "
      ],
      "text/plain": [
       "   F_1914  F_1915  F_1916  F_1917  F_1918  F_1919  F_1920  F_1921  F_1922  \\\n",
       "0       1       0       0       0       0       0       1       0       4   \n",
       "\n",
       "   F_1923  ...  F_1932  F_1933  F_1934  F_1935  F_1936  F_1937  F_1938  \\\n",
       "0       2  ...       1       3       0       1       1       1       3   \n",
       "\n",
       "   F_1939  F_1940  F_1941  \n",
       "0       0       1       1  \n",
       "\n",
       "[1 rows x 28 columns]"
      ]
     },
     "execution_count": 21,
     "metadata": {},
     "output_type": "execute_result"
    }
   ],
   "source": [
    "preds_df = df_sales.loc[:, [f'd_{day}' for day in range(1886, 1914)]]\n",
    "preds_df.columns = [f'F_{day}' for day in range(1914,1942)]\n",
    "preds_df.head(1)"
   ]
  },
  {
   "cell_type": "code",
   "execution_count": null,
   "metadata": {
    "colab": {
     "base_uri": "https://localhost:8080/",
     "height": 110
    },
    "id": "CAgCu4uP8j00",
    "outputId": "377cd5f9-cd0f-4854-b355-9d057ddcfd44"
   },
   "outputs": [
    {
     "data": {
      "text/html": [
       "\n",
       "  <div id=\"df-98a3d443-3185-4cae-af78-643bf0433532\">\n",
       "    <div class=\"colab-df-container\">\n",
       "      <div>\n",
       "<style scoped>\n",
       "    .dataframe tbody tr th:only-of-type {\n",
       "        vertical-align: middle;\n",
       "    }\n",
       "\n",
       "    .dataframe tbody tr th {\n",
       "        vertical-align: top;\n",
       "    }\n",
       "\n",
       "    .dataframe thead th {\n",
       "        text-align: right;\n",
       "    }\n",
       "</style>\n",
       "<table border=\"1\" class=\"dataframe\">\n",
       "  <thead>\n",
       "    <tr style=\"text-align: right;\">\n",
       "      <th></th>\n",
       "      <th>id</th>\n",
       "      <th>item_id</th>\n",
       "      <th>dept_id</th>\n",
       "      <th>cat_id</th>\n",
       "      <th>store_id</th>\n",
       "      <th>state_id</th>\n",
       "      <th>d_1</th>\n",
       "      <th>d_2</th>\n",
       "      <th>d_3</th>\n",
       "      <th>d_4</th>\n",
       "      <th>...</th>\n",
       "      <th>F_1932</th>\n",
       "      <th>F_1933</th>\n",
       "      <th>F_1934</th>\n",
       "      <th>F_1935</th>\n",
       "      <th>F_1936</th>\n",
       "      <th>F_1937</th>\n",
       "      <th>F_1938</th>\n",
       "      <th>F_1939</th>\n",
       "      <th>F_1940</th>\n",
       "      <th>F_1941</th>\n",
       "    </tr>\n",
       "  </thead>\n",
       "  <tbody>\n",
       "    <tr>\n",
       "      <th>0</th>\n",
       "      <td>HOBBIES_1_001_CA_1_evaluation</td>\n",
       "      <td>HOBBIES_1_001</td>\n",
       "      <td>HOBBIES_1</td>\n",
       "      <td>HOBBIES</td>\n",
       "      <td>CA_1</td>\n",
       "      <td>CA</td>\n",
       "      <td>0</td>\n",
       "      <td>0</td>\n",
       "      <td>0</td>\n",
       "      <td>0</td>\n",
       "      <td>...</td>\n",
       "      <td>1</td>\n",
       "      <td>3</td>\n",
       "      <td>0</td>\n",
       "      <td>1</td>\n",
       "      <td>1</td>\n",
       "      <td>1</td>\n",
       "      <td>3</td>\n",
       "      <td>0</td>\n",
       "      <td>1</td>\n",
       "      <td>1</td>\n",
       "    </tr>\n",
       "  </tbody>\n",
       "</table>\n",
       "<p>1 rows × 1975 columns</p>\n",
       "</div>\n",
       "      <button class=\"colab-df-convert\" onclick=\"convertToInteractive('df-98a3d443-3185-4cae-af78-643bf0433532')\"\n",
       "              title=\"Convert this dataframe to an interactive table.\"\n",
       "              style=\"display:none;\">\n",
       "        \n",
       "  <svg xmlns=\"http://www.w3.org/2000/svg\" height=\"24px\"viewBox=\"0 0 24 24\"\n",
       "       width=\"24px\">\n",
       "    <path d=\"M0 0h24v24H0V0z\" fill=\"none\"/>\n",
       "    <path d=\"M18.56 5.44l.94 2.06.94-2.06 2.06-.94-2.06-.94-.94-2.06-.94 2.06-2.06.94zm-11 1L8.5 8.5l.94-2.06 2.06-.94-2.06-.94L8.5 2.5l-.94 2.06-2.06.94zm10 10l.94 2.06.94-2.06 2.06-.94-2.06-.94-.94-2.06-.94 2.06-2.06.94z\"/><path d=\"M17.41 7.96l-1.37-1.37c-.4-.4-.92-.59-1.43-.59-.52 0-1.04.2-1.43.59L10.3 9.45l-7.72 7.72c-.78.78-.78 2.05 0 2.83L4 21.41c.39.39.9.59 1.41.59.51 0 1.02-.2 1.41-.59l7.78-7.78 2.81-2.81c.8-.78.8-2.07 0-2.86zM5.41 20L4 18.59l7.72-7.72 1.47 1.35L5.41 20z\"/>\n",
       "  </svg>\n",
       "      </button>\n",
       "      \n",
       "  <style>\n",
       "    .colab-df-container {\n",
       "      display:flex;\n",
       "      flex-wrap:wrap;\n",
       "      gap: 12px;\n",
       "    }\n",
       "\n",
       "    .colab-df-convert {\n",
       "      background-color: #E8F0FE;\n",
       "      border: none;\n",
       "      border-radius: 50%;\n",
       "      cursor: pointer;\n",
       "      display: none;\n",
       "      fill: #1967D2;\n",
       "      height: 32px;\n",
       "      padding: 0 0 0 0;\n",
       "      width: 32px;\n",
       "    }\n",
       "\n",
       "    .colab-df-convert:hover {\n",
       "      background-color: #E2EBFA;\n",
       "      box-shadow: 0px 1px 2px rgba(60, 64, 67, 0.3), 0px 1px 3px 1px rgba(60, 64, 67, 0.15);\n",
       "      fill: #174EA6;\n",
       "    }\n",
       "\n",
       "    [theme=dark] .colab-df-convert {\n",
       "      background-color: #3B4455;\n",
       "      fill: #D2E3FC;\n",
       "    }\n",
       "\n",
       "    [theme=dark] .colab-df-convert:hover {\n",
       "      background-color: #434B5C;\n",
       "      box-shadow: 0px 1px 3px 1px rgba(0, 0, 0, 0.15);\n",
       "      filter: drop-shadow(0px 1px 2px rgba(0, 0, 0, 0.3));\n",
       "      fill: #FFFFFF;\n",
       "    }\n",
       "  </style>\n",
       "\n",
       "      <script>\n",
       "        const buttonEl =\n",
       "          document.querySelector('#df-98a3d443-3185-4cae-af78-643bf0433532 button.colab-df-convert');\n",
       "        buttonEl.style.display =\n",
       "          google.colab.kernel.accessAllowed ? 'block' : 'none';\n",
       "\n",
       "        async function convertToInteractive(key) {\n",
       "          const element = document.querySelector('#df-98a3d443-3185-4cae-af78-643bf0433532');\n",
       "          const dataTable =\n",
       "            await google.colab.kernel.invokeFunction('convertToInteractive',\n",
       "                                                     [key], {});\n",
       "          if (!dataTable) return;\n",
       "\n",
       "          const docLinkHtml = 'Like what you see? Visit the ' +\n",
       "            '<a target=\"_blank\" href=https://colab.research.google.com/notebooks/data_table.ipynb>data table notebook</a>'\n",
       "            + ' to learn more about interactive tables.';\n",
       "          element.innerHTML = '';\n",
       "          dataTable['output_type'] = 'display_data';\n",
       "          await google.colab.output.renderOutput(dataTable, element);\n",
       "          const docLink = document.createElement('div');\n",
       "          docLink.innerHTML = docLinkHtml;\n",
       "          element.appendChild(docLink);\n",
       "        }\n",
       "      </script>\n",
       "    </div>\n",
       "  </div>\n",
       "  "
      ],
      "text/plain": [
       "                              id        item_id    dept_id   cat_id store_id  \\\n",
       "0  HOBBIES_1_001_CA_1_evaluation  HOBBIES_1_001  HOBBIES_1  HOBBIES     CA_1   \n",
       "\n",
       "  state_id  d_1  d_2  d_3  d_4  ...  F_1932  F_1933  F_1934  F_1935  F_1936  \\\n",
       "0       CA    0    0    0    0  ...       1       3       0       1       1   \n",
       "\n",
       "   F_1937  F_1938  F_1939  F_1940  F_1941  \n",
       "0       1       3       0       1       1  \n",
       "\n",
       "[1 rows x 1975 columns]"
      ]
     },
     "execution_count": 22,
     "metadata": {},
     "output_type": "execute_result"
    }
   ],
   "source": [
    "df_sales_same28d = pd.concat([df_sales,preds_df], axis=1)\n",
    "df_sales_same28d.head(1)"
   ]
  },
  {
   "cell_type": "code",
   "execution_count": null,
   "metadata": {
    "colab": {
     "base_uri": "https://localhost:8080/"
    },
    "id": "C0UiXtW59Oub",
    "outputId": "1b3a7893-f97b-4e2b-d33e-c03e9242842d"
   },
   "outputs": [
    {
     "name": "stderr",
     "output_type": "stream",
     "text": [
      "100%|██████████| 28/28 [00:09<00:00,  2.86it/s]\n"
     ]
    }
   ],
   "source": [
    "df_sales_same28d = calculate_weightsL12(df_sales_same28d, df_cal, df_price)"
   ]
  },
  {
   "cell_type": "code",
   "execution_count": null,
   "metadata": {
    "colab": {
     "base_uri": "https://localhost:8080/"
    },
    "id": "DSjpjTxT9Ouc",
    "outputId": "c6640b42-e54c-4c19-b453-e5633cda4fdc"
   },
   "outputs": [
    {
     "name": "stderr",
     "output_type": "stream",
     "text": [
      "100%|██████████| 10/10 [00:08<00:00,  1.15it/s]\n"
     ]
    }
   ],
   "source": [
    "agg_df_same28d = calculate_weightsALL(df_sales_same28d, level_groupings)"
   ]
  },
  {
   "cell_type": "code",
   "execution_count": null,
   "metadata": {
    "colab": {
     "base_uri": "https://localhost:8080/"
    },
    "id": "-BHP0en59Ouc",
    "outputId": "a7869fd7-006a-4c9c-8744-22d9b450169b"
   },
   "outputs": [
    {
     "data": {
      "text/plain": [
       "1.0"
      ]
     },
     "execution_count": 25,
     "metadata": {},
     "output_type": "execute_result"
    }
   ],
   "source": [
    "df_sales_same28d['weight'].sum() + agg_df_same28d['weight'].sum()"
   ]
  },
  {
   "cell_type": "code",
   "execution_count": null,
   "metadata": {
    "id": "gQOUR3je9Oud"
   },
   "outputs": [],
   "source": [
    "train_days, val_days, forecast_days = get_day_splits(df_sales_same28d)"
   ]
  },
  {
   "cell_type": "code",
   "execution_count": null,
   "metadata": {
    "colab": {
     "base_uri": "https://localhost:8080/"
    },
    "id": "SiH8hXWB9Oud",
    "outputId": "6871bb96-902f-4d13-f10e-bf009eaae5e3"
   },
   "outputs": [
    {
     "name": "stdout",
     "output_type": "stream",
     "text": [
      "WRMSSE using Same Sales Data as last 28 Days: 0.8834854605107758\n"
     ]
    }
   ],
   "source": [
    "wrmsse_same28d = WRMSSE(df_sales_same28d, agg_df_same28d, train_days, val_days, forecast_days)\n",
    "print(\"WRMSSE using Same Sales Data as last 28 Days:\", wrmsse_same28d)"
   ]
  },
  {
   "cell_type": "markdown",
   "metadata": {
    "id": "grzl4DR-SeC8"
   },
   "source": [
    "## 6.8 Same as Last Year during this period\n",
    "\n"
   ]
  },
  {
   "cell_type": "code",
   "execution_count": null,
   "metadata": {
    "id": "rYsynxEFUC5B"
   },
   "outputs": [],
   "source": [
    "from datetime import datetime\n",
    "from dateutil.relativedelta import relativedelta"
   ]
  },
  {
   "cell_type": "code",
   "execution_count": null,
   "metadata": {
    "id": "kGmQKMXoTHQP"
   },
   "outputs": [],
   "source": [
    "df_cal['date'] = pd.to_datetime(df_cal['date'])"
   ]
  },
  {
   "cell_type": "code",
   "execution_count": null,
   "metadata": {
    "id": "rLldQl1gf5Gt"
   },
   "outputs": [],
   "source": [
    "start_date =  df_cal[df_cal['d_']==1914]['date'].tolist()[0] - relativedelta(years=1)\n",
    "start_day = df_cal[df_cal['date']==start_date]['d_'].tolist()[0]\n",
    "lastyear28days = [f'd_{x}' for x in range(start_day, start_day+28)]"
   ]
  },
  {
   "cell_type": "code",
   "execution_count": null,
   "metadata": {
    "colab": {
     "base_uri": "https://localhost:8080/",
     "height": 110
    },
    "id": "TLrKZ98jh_NM",
    "outputId": "2690b73b-cf46-4eba-dd63-f09fc3647b23"
   },
   "outputs": [
    {
     "data": {
      "text/html": [
       "\n",
       "  <div id=\"df-64625d2e-de4a-4c24-b6c9-d6b593a4b7e4\">\n",
       "    <div class=\"colab-df-container\">\n",
       "      <div>\n",
       "<style scoped>\n",
       "    .dataframe tbody tr th:only-of-type {\n",
       "        vertical-align: middle;\n",
       "    }\n",
       "\n",
       "    .dataframe tbody tr th {\n",
       "        vertical-align: top;\n",
       "    }\n",
       "\n",
       "    .dataframe thead th {\n",
       "        text-align: right;\n",
       "    }\n",
       "</style>\n",
       "<table border=\"1\" class=\"dataframe\">\n",
       "  <thead>\n",
       "    <tr style=\"text-align: right;\">\n",
       "      <th></th>\n",
       "      <th>id</th>\n",
       "      <th>item_id</th>\n",
       "      <th>dept_id</th>\n",
       "      <th>cat_id</th>\n",
       "      <th>store_id</th>\n",
       "      <th>state_id</th>\n",
       "      <th>d_1</th>\n",
       "      <th>d_2</th>\n",
       "      <th>d_3</th>\n",
       "      <th>d_4</th>\n",
       "      <th>...</th>\n",
       "      <th>F_1932</th>\n",
       "      <th>F_1933</th>\n",
       "      <th>F_1934</th>\n",
       "      <th>F_1935</th>\n",
       "      <th>F_1936</th>\n",
       "      <th>F_1937</th>\n",
       "      <th>F_1938</th>\n",
       "      <th>F_1939</th>\n",
       "      <th>F_1940</th>\n",
       "      <th>F_1941</th>\n",
       "    </tr>\n",
       "  </thead>\n",
       "  <tbody>\n",
       "    <tr>\n",
       "      <th>0</th>\n",
       "      <td>HOBBIES_1_001_CA_1_evaluation</td>\n",
       "      <td>HOBBIES_1_001</td>\n",
       "      <td>HOBBIES_1</td>\n",
       "      <td>HOBBIES</td>\n",
       "      <td>CA_1</td>\n",
       "      <td>CA</td>\n",
       "      <td>0</td>\n",
       "      <td>0</td>\n",
       "      <td>0</td>\n",
       "      <td>0</td>\n",
       "      <td>...</td>\n",
       "      <td>0</td>\n",
       "      <td>0</td>\n",
       "      <td>0</td>\n",
       "      <td>0</td>\n",
       "      <td>0</td>\n",
       "      <td>0</td>\n",
       "      <td>0</td>\n",
       "      <td>0</td>\n",
       "      <td>0</td>\n",
       "      <td>0</td>\n",
       "    </tr>\n",
       "  </tbody>\n",
       "</table>\n",
       "<p>1 rows × 1975 columns</p>\n",
       "</div>\n",
       "      <button class=\"colab-df-convert\" onclick=\"convertToInteractive('df-64625d2e-de4a-4c24-b6c9-d6b593a4b7e4')\"\n",
       "              title=\"Convert this dataframe to an interactive table.\"\n",
       "              style=\"display:none;\">\n",
       "        \n",
       "  <svg xmlns=\"http://www.w3.org/2000/svg\" height=\"24px\"viewBox=\"0 0 24 24\"\n",
       "       width=\"24px\">\n",
       "    <path d=\"M0 0h24v24H0V0z\" fill=\"none\"/>\n",
       "    <path d=\"M18.56 5.44l.94 2.06.94-2.06 2.06-.94-2.06-.94-.94-2.06-.94 2.06-2.06.94zm-11 1L8.5 8.5l.94-2.06 2.06-.94-2.06-.94L8.5 2.5l-.94 2.06-2.06.94zm10 10l.94 2.06.94-2.06 2.06-.94-2.06-.94-.94-2.06-.94 2.06-2.06.94z\"/><path d=\"M17.41 7.96l-1.37-1.37c-.4-.4-.92-.59-1.43-.59-.52 0-1.04.2-1.43.59L10.3 9.45l-7.72 7.72c-.78.78-.78 2.05 0 2.83L4 21.41c.39.39.9.59 1.41.59.51 0 1.02-.2 1.41-.59l7.78-7.78 2.81-2.81c.8-.78.8-2.07 0-2.86zM5.41 20L4 18.59l7.72-7.72 1.47 1.35L5.41 20z\"/>\n",
       "  </svg>\n",
       "      </button>\n",
       "      \n",
       "  <style>\n",
       "    .colab-df-container {\n",
       "      display:flex;\n",
       "      flex-wrap:wrap;\n",
       "      gap: 12px;\n",
       "    }\n",
       "\n",
       "    .colab-df-convert {\n",
       "      background-color: #E8F0FE;\n",
       "      border: none;\n",
       "      border-radius: 50%;\n",
       "      cursor: pointer;\n",
       "      display: none;\n",
       "      fill: #1967D2;\n",
       "      height: 32px;\n",
       "      padding: 0 0 0 0;\n",
       "      width: 32px;\n",
       "    }\n",
       "\n",
       "    .colab-df-convert:hover {\n",
       "      background-color: #E2EBFA;\n",
       "      box-shadow: 0px 1px 2px rgba(60, 64, 67, 0.3), 0px 1px 3px 1px rgba(60, 64, 67, 0.15);\n",
       "      fill: #174EA6;\n",
       "    }\n",
       "\n",
       "    [theme=dark] .colab-df-convert {\n",
       "      background-color: #3B4455;\n",
       "      fill: #D2E3FC;\n",
       "    }\n",
       "\n",
       "    [theme=dark] .colab-df-convert:hover {\n",
       "      background-color: #434B5C;\n",
       "      box-shadow: 0px 1px 3px 1px rgba(0, 0, 0, 0.15);\n",
       "      filter: drop-shadow(0px 1px 2px rgba(0, 0, 0, 0.3));\n",
       "      fill: #FFFFFF;\n",
       "    }\n",
       "  </style>\n",
       "\n",
       "      <script>\n",
       "        const buttonEl =\n",
       "          document.querySelector('#df-64625d2e-de4a-4c24-b6c9-d6b593a4b7e4 button.colab-df-convert');\n",
       "        buttonEl.style.display =\n",
       "          google.colab.kernel.accessAllowed ? 'block' : 'none';\n",
       "\n",
       "        async function convertToInteractive(key) {\n",
       "          const element = document.querySelector('#df-64625d2e-de4a-4c24-b6c9-d6b593a4b7e4');\n",
       "          const dataTable =\n",
       "            await google.colab.kernel.invokeFunction('convertToInteractive',\n",
       "                                                     [key], {});\n",
       "          if (!dataTable) return;\n",
       "\n",
       "          const docLinkHtml = 'Like what you see? Visit the ' +\n",
       "            '<a target=\"_blank\" href=https://colab.research.google.com/notebooks/data_table.ipynb>data table notebook</a>'\n",
       "            + ' to learn more about interactive tables.';\n",
       "          element.innerHTML = '';\n",
       "          dataTable['output_type'] = 'display_data';\n",
       "          await google.colab.output.renderOutput(dataTable, element);\n",
       "          const docLink = document.createElement('div');\n",
       "          docLink.innerHTML = docLinkHtml;\n",
       "          element.appendChild(docLink);\n",
       "        }\n",
       "      </script>\n",
       "    </div>\n",
       "  </div>\n",
       "  "
      ],
      "text/plain": [
       "                              id        item_id    dept_id   cat_id store_id  \\\n",
       "0  HOBBIES_1_001_CA_1_evaluation  HOBBIES_1_001  HOBBIES_1  HOBBIES     CA_1   \n",
       "\n",
       "  state_id  d_1  d_2  d_3  d_4  ...  F_1932  F_1933  F_1934  F_1935  F_1936  \\\n",
       "0       CA    0    0    0    0  ...       0       0       0       0       0   \n",
       "\n",
       "   F_1937  F_1938  F_1939  F_1940  F_1941  \n",
       "0       0       0       0       0       0  \n",
       "\n",
       "[1 rows x 1975 columns]"
      ]
     },
     "execution_count": 31,
     "metadata": {},
     "output_type": "execute_result"
    }
   ],
   "source": [
    "forecast28days = [f'F_{x}' for x in range(1914, 1942)]\n",
    "preds_df = df_sales.copy()[lastyear28days]\n",
    "preds_df.columns = forecast28days\n",
    "\n",
    "df_sales_lastyear28days = pd.concat([df_sales, preds_df], axis=1)\n",
    "df_sales_lastyear28days.head(1)"
   ]
  },
  {
   "cell_type": "code",
   "execution_count": null,
   "metadata": {
    "colab": {
     "base_uri": "https://localhost:8080/"
    },
    "id": "pV49s9TtkYxV",
    "outputId": "a78fd24a-16f5-467e-d238-eb93544fd915"
   },
   "outputs": [
    {
     "name": "stderr",
     "output_type": "stream",
     "text": [
      "100%|██████████| 28/28 [00:09<00:00,  2.98it/s]\n"
     ]
    }
   ],
   "source": [
    "df_sales_lastyear28days = calculate_weightsL12(df_sales_lastyear28days, df_cal, df_price)"
   ]
  },
  {
   "cell_type": "code",
   "execution_count": null,
   "metadata": {
    "colab": {
     "base_uri": "https://localhost:8080/"
    },
    "id": "CBA05br3kYxV",
    "outputId": "3de08283-137f-4f21-f6db-2648c224bb3c"
   },
   "outputs": [
    {
     "name": "stderr",
     "output_type": "stream",
     "text": [
      "100%|██████████| 10/10 [00:09<00:00,  1.07it/s]\n"
     ]
    }
   ],
   "source": [
    "agg_df_lastyear28days = calculate_weightsALL(df_sales_lastyear28days, level_groupings)"
   ]
  },
  {
   "cell_type": "code",
   "execution_count": null,
   "metadata": {
    "colab": {
     "base_uri": "https://localhost:8080/"
    },
    "id": "ZRdrqUlTkYxW",
    "outputId": "29f0ffbb-401c-44cb-b1ad-681b053de2c1"
   },
   "outputs": [
    {
     "data": {
      "text/plain": [
       "1.0"
      ]
     },
     "execution_count": 34,
     "metadata": {},
     "output_type": "execute_result"
    }
   ],
   "source": [
    "df_sales_lastyear28days['weight'].sum() + agg_df_lastyear28days['weight'].sum()"
   ]
  },
  {
   "cell_type": "code",
   "execution_count": null,
   "metadata": {
    "id": "lLeZOizckYxW"
   },
   "outputs": [],
   "source": [
    "train_days, val_days, forecast_days = get_day_splits(df_sales_lastyear28days)"
   ]
  },
  {
   "cell_type": "code",
   "execution_count": null,
   "metadata": {
    "colab": {
     "base_uri": "https://localhost:8080/"
    },
    "id": "xEYlj7-WkYxW",
    "outputId": "93ef93a7-db08-4e4f-c9fa-a6ad46b84725"
   },
   "outputs": [
    {
     "name": "stdout",
     "output_type": "stream",
     "text": [
      "WRMSSE using Same as last year during this period: 1.7581034031950258\n"
     ]
    }
   ],
   "source": [
    "wrmsse_lastyear28days = WRMSSE(df_sales_lastyear28days, agg_df_lastyear28days, train_days, val_days, forecast_days)\n",
    "print(\"WRMSSE using Same as last year during this period:\", wrmsse_lastyear28days)"
   ]
  },
  {
   "cell_type": "markdown",
   "metadata": {
    "id": "d1ijDaVyWNud"
   },
   "source": [
    "# 7. Summary"
   ]
  },
  {
   "cell_type": "code",
   "execution_count": null,
   "metadata": {
    "colab": {
     "base_uri": "https://localhost:8080/"
    },
    "id": "sxYoH62C--UJ",
    "outputId": "d5001e5d-3f52-45ff-bf6c-fc8e3dc7e3c3"
   },
   "outputs": [
    {
     "name": "stdout",
     "output_type": "stream",
     "text": [
      "+------------------------------------------------------+--------+\n",
      "|                       Approach                       | WRMSSE |\n",
      "+------------------------------------------------------+--------+\n",
      "|        Simple Moving Average of last 30 days         |  1.08  |\n",
      "|    Exponentially Weighted Average of last 30 days    |  1.1   |\n",
      "|            Simple Average of last 28 days            |  1.11  |\n",
      "|  Simple Average of last 28 days grouped by weekday   |  0.78  |\n",
      "| Average Sales on the given date since last few years |  1.79  |\n",
      "|    Average Sales on the day since last few months    |  1.21  |\n",
      "|                 Same as last 28 days                 |  0.88  |\n",
      "|         Same as Last Year during this period         |  1.75  |\n",
      "+------------------------------------------------------+--------+\n"
     ]
    }
   ],
   "source": [
    "from prettytable import PrettyTable\n",
    "x = PrettyTable()\n",
    "\n",
    "x.field_names = [\"Approach\", \"WRMSSE\"]\n",
    "x.add_rows(\n",
    "    [\n",
    "        [\"Simple Moving Average of last 30 days\", 1.08],\n",
    "        [\"Exponentially Weighted Average of last 30 days\", 1.10],\n",
    "        [\"Simple Average of last 28 days\", 1.11],\n",
    "        [\"Simple Average of last 28 days grouped by weekday\", 0.78],\n",
    "        [\"Average Sales on the given date since last few years\", 1.79],\n",
    "        [\"Average Sales on the day since last few months\", 1.21],\n",
    "        [\"Same as last 28 days\", 0.88],\n",
    "        [\"Same as Last Year during this period\", 1.75]\n",
    "         \n",
    "    ]\n",
    ")\n",
    "\n",
    "print(x)"
   ]
  },
  {
   "cell_type": "markdown",
   "metadata": {
    "id": "9cGfS2GIugB7"
   },
   "source": [
    "Clearly, these are the 2 approaches which trump over others: \n",
    "1.  Simple Average of last 28 days grouped by weekday  \n",
    "2.  Same as last 28 days  \n"
   ]
  },
  {
   "cell_type": "markdown",
   "metadata": {
    "id": "Rm8nzpQXXCrm"
   },
   "source": [
    "# 8. References \n",
    "\n",
    "- https://www.kaggle.com/code/qcw171717/other-naive-forecasts-submission-score"
   ]
  }
 ],
 "metadata": {
  "colab": {
   "collapsed_sections": [],
   "provenance": []
  },
  "kernelspec": {
   "display_name": "Python 3 (ipykernel)",
   "language": "python",
   "name": "python3"
  },
  "language_info": {
   "codemirror_mode": {
    "name": "ipython",
    "version": 3
   },
   "file_extension": ".py",
   "mimetype": "text/x-python",
   "name": "python",
   "nbconvert_exporter": "python",
   "pygments_lexer": "ipython3",
   "version": "3.9.6"
  }
 },
 "nbformat": 4,
 "nbformat_minor": 1
}
